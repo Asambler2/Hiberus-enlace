{
    "metadata": {
        "kernelspec": {
            "name": "SQL",
            "display_name": "SQL",
            "language": "sql"
        },
        "language_info": {
            "name": "sql",
            "version": ""
        }
    },
    "nbformat_minor": 2,
    "nbformat": 4,
    "cells": [
        {
            "cell_type": "markdown",
            "source": [
                "1) Contar cuantos productos hay de cada color."
            ],
            "metadata": {
                "azdata_cell_guid": "9167abfb-14ac-49cc-89f5-d7d5db4448ba"
            },
            "attachments": {}
        },
        {
            "cell_type": "code",
            "source": [
                "SELECT COLOR, COUNT(*) FROM PRODUCTION.PRODUCT GROUP BY COLOR"
            ],
            "metadata": {
                "azdata_cell_guid": "d85bbe88-3163-429d-bca4-3310ec4172a3",
                "language": "sql"
            },
            "outputs": [
                {
                    "output_type": "display_data",
                    "data": {
                        "text/html": "(10 rows affected)"
                    },
                    "metadata": {}
                },
                {
                    "output_type": "display_data",
                    "data": {
                        "text/html": "Total execution time: 00:00:00.008"
                    },
                    "metadata": {}
                },
                {
                    "output_type": "execute_result",
                    "execution_count": 2,
                    "data": {
                        "application/vnd.dataresource+json": {
                            "schema": {
                                "fields": [
                                    {
                                        "name": "COLOR"
                                    },
                                    {
                                        "name": "(No column name)"
                                    }
                                ]
                            },
                            "data": [
                                {
                                    "COLOR": "NULL",
                                    "(No column name)": "248"
                                },
                                {
                                    "COLOR": "Black",
                                    "(No column name)": "93"
                                },
                                {
                                    "COLOR": "Blue",
                                    "(No column name)": "26"
                                },
                                {
                                    "COLOR": "Grey",
                                    "(No column name)": "1"
                                },
                                {
                                    "COLOR": "Multi",
                                    "(No column name)": "8"
                                },
                                {
                                    "COLOR": "Red",
                                    "(No column name)": "38"
                                },
                                {
                                    "COLOR": "Silver",
                                    "(No column name)": "43"
                                },
                                {
                                    "COLOR": "Silver/Black",
                                    "(No column name)": "7"
                                },
                                {
                                    "COLOR": "White",
                                    "(No column name)": "4"
                                },
                                {
                                    "COLOR": "Yellow",
                                    "(No column name)": "36"
                                }
                            ]
                        },
                        "text/html": "<table><tr><th>COLOR</th><th>(No column name)</th></tr><tr><td>NULL</td><td>248</td></tr><tr><td>Black</td><td>93</td></tr><tr><td>Blue</td><td>26</td></tr><tr><td>Grey</td><td>1</td></tr><tr><td>Multi</td><td>8</td></tr><tr><td>Red</td><td>38</td></tr><tr><td>Silver</td><td>43</td></tr><tr><td>Silver/Black</td><td>7</td></tr><tr><td>White</td><td>4</td></tr><tr><td>Yellow</td><td>36</td></tr></table>"
                    },
                    "metadata": {}
                }
            ],
            "execution_count": 2
        },
        {
            "cell_type": "markdown",
            "source": [
                "2) Contar cuantos productos hay en la tabla de productos"
            ],
            "metadata": {
                "azdata_cell_guid": "7d6fe604-197a-414c-a38c-0f18c2370d85"
            },
            "attachments": {}
        },
        {
            "cell_type": "code",
            "source": [
                "SELECT COUNT(*) FROM PRODUCTION.PRODUCT"
            ],
            "metadata": {
                "azdata_cell_guid": "5b3c015d-1d60-482e-a0c9-d1b94c317931",
                "language": "sql"
            },
            "outputs": [
                {
                    "output_type": "display_data",
                    "data": {
                        "text/html": "(1 row affected)"
                    },
                    "metadata": {}
                },
                {
                    "output_type": "display_data",
                    "data": {
                        "text/html": "Total execution time: 00:00:00.004"
                    },
                    "metadata": {}
                },
                {
                    "output_type": "execute_result",
                    "execution_count": 3,
                    "data": {
                        "application/vnd.dataresource+json": {
                            "schema": {
                                "fields": [
                                    {
                                        "name": "(No column name)"
                                    }
                                ]
                            },
                            "data": [
                                {
                                    "(No column name)": "504"
                                }
                            ]
                        },
                        "text/html": "<table><tr><th>(No column name)</th></tr><tr><td>504</td></tr></table>"
                    },
                    "metadata": {}
                }
            ],
            "execution_count": 3
        },
        {
            "cell_type": "markdown",
            "source": [
                "3) Contar cuantos productos hay que sean de color rojo."
            ],
            "metadata": {
                "azdata_cell_guid": "21130ab1-5f05-48fe-9464-a990c3e87e41"
            },
            "attachments": {}
        },
        {
            "cell_type": "code",
            "source": [
                "SELECT COUNT(*) FROM PRODUCTION.PRODUCT WHERE COLOR = 'RED'"
            ],
            "metadata": {
                "azdata_cell_guid": "cc9247c9-849c-435f-8ff8-dfab2ac88bb2",
                "language": "sql"
            },
            "outputs": [
                {
                    "output_type": "display_data",
                    "data": {
                        "text/html": "(1 row affected)"
                    },
                    "metadata": {}
                },
                {
                    "output_type": "display_data",
                    "data": {
                        "text/html": "Total execution time: 00:00:00.004"
                    },
                    "metadata": {}
                },
                {
                    "output_type": "execute_result",
                    "execution_count": 7,
                    "data": {
                        "application/vnd.dataresource+json": {
                            "schema": {
                                "fields": [
                                    {
                                        "name": "(No column name)"
                                    }
                                ]
                            },
                            "data": [
                                {
                                    "(No column name)": "38"
                                }
                            ]
                        },
                        "text/html": "<table><tr><th>(No column name)</th></tr><tr><td>38</td></tr></table>"
                    },
                    "metadata": {}
                }
            ],
            "execution_count": 7
        },
        {
            "cell_type": "markdown",
            "source": [
                "4) Hallar el valor máximo de los productos de cada color."
            ],
            "metadata": {
                "azdata_cell_guid": "d6c4f288-f0aa-4175-b7de-fe0d98af46cb"
            },
            "attachments": {}
        },
        {
            "cell_type": "code",
            "source": [
                "SELECT COLOR, MAX(LISTPRICE) AS MAXPRECIO FROM Production.Product GROUP BY COLOR"
            ],
            "metadata": {
                "azdata_cell_guid": "fcd51c63-b88f-4179-9f18-37d19454d560",
                "language": "sql"
            },
            "outputs": [
                {
                    "output_type": "display_data",
                    "data": {
                        "text/html": "(10 rows affected)"
                    },
                    "metadata": {}
                },
                {
                    "output_type": "display_data",
                    "data": {
                        "text/html": "Total execution time: 00:00:00.006"
                    },
                    "metadata": {}
                },
                {
                    "output_type": "execute_result",
                    "execution_count": 9,
                    "data": {
                        "application/vnd.dataresource+json": {
                            "schema": {
                                "fields": [
                                    {
                                        "name": "COLOR"
                                    },
                                    {
                                        "name": "MAXPRECIO"
                                    }
                                ]
                            },
                            "data": [
                                {
                                    "COLOR": "NULL",
                                    "MAXPRECIO": "229,49"
                                },
                                {
                                    "COLOR": "Black",
                                    "MAXPRECIO": "3374,99"
                                },
                                {
                                    "COLOR": "Blue",
                                    "MAXPRECIO": "2384,07"
                                },
                                {
                                    "COLOR": "Grey",
                                    "MAXPRECIO": "125,00"
                                },
                                {
                                    "COLOR": "Multi",
                                    "MAXPRECIO": "89,99"
                                },
                                {
                                    "COLOR": "Red",
                                    "MAXPRECIO": "3578,27"
                                },
                                {
                                    "COLOR": "Silver",
                                    "MAXPRECIO": "3399,99"
                                },
                                {
                                    "COLOR": "Silver/Black",
                                    "MAXPRECIO": "80,99"
                                },
                                {
                                    "COLOR": "White",
                                    "MAXPRECIO": "9,50"
                                },
                                {
                                    "COLOR": "Yellow",
                                    "MAXPRECIO": "2384,07"
                                }
                            ]
                        },
                        "text/html": "<table><tr><th>COLOR</th><th>MAXPRECIO</th></tr><tr><td>NULL</td><td>229,49</td></tr><tr><td>Black</td><td>3374,99</td></tr><tr><td>Blue</td><td>2384,07</td></tr><tr><td>Grey</td><td>125,00</td></tr><tr><td>Multi</td><td>89,99</td></tr><tr><td>Red</td><td>3578,27</td></tr><tr><td>Silver</td><td>3399,99</td></tr><tr><td>Silver/Black</td><td>80,99</td></tr><tr><td>White</td><td>9,50</td></tr><tr><td>Yellow</td><td>2384,07</td></tr></table>"
                    },
                    "metadata": {}
                }
            ],
            "execution_count": 9
        },
        {
            "cell_type": "markdown",
            "source": [
                "5) Hallar cual son los cinco productos con menor listprice y que no sean cero."
            ],
            "metadata": {
                "azdata_cell_guid": "70364635-d413-4adc-bd2c-d4285bc93e0c"
            },
            "attachments": {}
        },
        {
            "cell_type": "code",
            "source": [
                "SELECT TOP(5) LISTPRICE AS MAXPRECIO FROM Production.Product WHERE ListPrice NOT IN (0) ORDER BY ListPrice"
            ],
            "metadata": {
                "azdata_cell_guid": "e14100d8-45f5-48f9-aef6-e374cc5bd35c",
                "language": "sql"
            },
            "outputs": [
                {
                    "output_type": "display_data",
                    "data": {
                        "text/html": "(5 rows affected)"
                    },
                    "metadata": {}
                },
                {
                    "output_type": "display_data",
                    "data": {
                        "text/html": "Total execution time: 00:00:00.007"
                    },
                    "metadata": {}
                },
                {
                    "output_type": "execute_result",
                    "execution_count": 10,
                    "data": {
                        "application/vnd.dataresource+json": {
                            "schema": {
                                "fields": [
                                    {
                                        "name": "MAXPRECIO"
                                    }
                                ]
                            },
                            "data": [
                                {
                                    "MAXPRECIO": "2,29"
                                },
                                {
                                    "MAXPRECIO": "3,99"
                                },
                                {
                                    "MAXPRECIO": "4,99"
                                },
                                {
                                    "MAXPRECIO": "4,99"
                                },
                                {
                                    "MAXPRECIO": "4,99"
                                }
                            ]
                        },
                        "text/html": "<table><tr><th>MAXPRECIO</th></tr><tr><td>2,29</td></tr><tr><td>3,99</td></tr><tr><td>4,99</td></tr><tr><td>4,99</td></tr><tr><td>4,99</td></tr></table>"
                    },
                    "metadata": {}
                }
            ],
            "execution_count": 10
        },
        {
            "cell_type": "markdown",
            "source": [
                "6) Calcular la media de tiempo de fabricación para los productos que no tienen color."
            ],
            "metadata": {
                "azdata_cell_guid": "63e3b8d2-aa75-4419-8f51-8c10222ea5e9"
            },
            "attachments": {}
        },
        {
            "cell_type": "code",
            "source": [
                "SELECT AVG(DaysToManufacture) as tiempomedio FROM Production.Product WHERE COLOR IS null"
            ],
            "metadata": {
                "azdata_cell_guid": "490f0dc9-838c-4ca7-8387-ccd928f7cc07",
                "language": "sql"
            },
            "outputs": [
                {
                    "output_type": "display_data",
                    "data": {
                        "text/html": "(1 row affected)"
                    },
                    "metadata": {}
                },
                {
                    "output_type": "display_data",
                    "data": {
                        "text/html": "Total execution time: 00:00:00.003"
                    },
                    "metadata": {}
                },
                {
                    "output_type": "execute_result",
                    "execution_count": 6,
                    "data": {
                        "application/vnd.dataresource+json": {
                            "schema": {
                                "fields": [
                                    {
                                        "name": "tiempomedio"
                                    }
                                ]
                            },
                            "data": [
                                {
                                    "tiempomedio": "0"
                                }
                            ]
                        },
                        "text/html": "<table><tr><th>tiempomedio</th></tr><tr><td>0</td></tr></table>"
                    },
                    "metadata": {}
                }
            ],
            "execution_count": 6
        },
        {
            "cell_type": "markdown",
            "source": [
                "EN CADA PRODUCTO QUIERO EL NOMBRE Y ENTRE PARENTESIS EL COLOR"
            ],
            "metadata": {
                "azdata_cell_guid": "5d9fa32d-7397-41f8-836e-98ec047a8802"
            },
            "attachments": {}
        },
        {
            "cell_type": "code",
            "source": [
                "SELECT NAME + '(' + COALESCE(COLOR, 'SIN COLOR') +  ')' AS NOMBRECOMPLETO FROM Production.Product\r\n",
                "\r\n",
                "SELECT NAME + CONCAT(NAME, '(', COLOR, ')') AS NOMBRECOMPLETO FROM Production.Product"
            ],
            "metadata": {
                "azdata_cell_guid": "77ae4e6e-0895-42f4-99d0-c28a8e369dcb",
                "language": "sql"
            },
            "outputs": [
                {
                    "output_type": "display_data",
                    "data": {
                        "text/html": "(504 rows affected)"
                    },
                    "metadata": {}
                },
                {
                    "output_type": "display_data",
                    "data": {
                        "text/html": "(504 rows affected)"
                    },
                    "metadata": {}
                },
                {
                    "output_type": "display_data",
                    "data": {
                        "text/html": "Total execution time: 00:00:00.207"
                    },
                    "metadata": {}
                },
                {
                    "output_type": "execute_result",
                    "execution_count": 9,
                    "data": {
                        "application/vnd.dataresource+json": {
                            "schema": {
                                "fields": [
                                    {
                                        "name": "NOMBRECOMPLETO"
                                    }
                                ]
                            },
                            "data": [
                                {
                                    "NOMBRECOMPLETO": "Adjustable Race(SIN COLOR)"
                                },
                                {
                                    "NOMBRECOMPLETO": "Bearing Ball(SIN COLOR)"
                                },
                                {
                                    "NOMBRECOMPLETO": "BB Ball Bearing(SIN COLOR)"
                                },
                                {
                                    "NOMBRECOMPLETO": "Headset Ball Bearings(SIN COLOR)"
                                },
                                {
                                    "NOMBRECOMPLETO": "Blade(SIN COLOR)"
                                },
                                {
                                    "NOMBRECOMPLETO": "LL Crankarm(Black)"
                                },
                                {
                                    "NOMBRECOMPLETO": "ML Crankarm(Black)"
                                },
                                {
                                    "NOMBRECOMPLETO": "HL Crankarm(Black)"
                                },
                                {
                                    "NOMBRECOMPLETO": "Chainring Bolts(Silver)"
                                },
                                {
                                    "NOMBRECOMPLETO": "Chainring Nut(Silver)"
                                },
                                {
                                    "NOMBRECOMPLETO": "Chainring(Black)"
                                },
                                {
                                    "NOMBRECOMPLETO": "Crown Race(SIN COLOR)"
                                },
                                {
                                    "NOMBRECOMPLETO": "Chain Stays(SIN COLOR)"
                                },
                                {
                                    "NOMBRECOMPLETO": "Decal 1(SIN COLOR)"
                                },
                                {
                                    "NOMBRECOMPLETO": "Decal 2(SIN COLOR)"
                                },
                                {
                                    "NOMBRECOMPLETO": "Down Tube(SIN COLOR)"
                                },
                                {
                                    "NOMBRECOMPLETO": "Mountain End Caps(SIN COLOR)"
                                },
                                {
                                    "NOMBRECOMPLETO": "Road End Caps(SIN COLOR)"
                                },
                                {
                                    "NOMBRECOMPLETO": "Touring End Caps(SIN COLOR)"
                                },
                                {
                                    "NOMBRECOMPLETO": "Fork End(SIN COLOR)"
                                },
                                {
                                    "NOMBRECOMPLETO": "Freewheel(Silver)"
                                },
                                {
                                    "NOMBRECOMPLETO": "Flat Washer 1(SIN COLOR)"
                                },
                                {
                                    "NOMBRECOMPLETO": "Flat Washer 6(SIN COLOR)"
                                },
                                {
                                    "NOMBRECOMPLETO": "Flat Washer 2(SIN COLOR)"
                                },
                                {
                                    "NOMBRECOMPLETO": "Flat Washer 9(SIN COLOR)"
                                },
                                {
                                    "NOMBRECOMPLETO": "Flat Washer 4(SIN COLOR)"
                                },
                                {
                                    "NOMBRECOMPLETO": "Flat Washer 3(SIN COLOR)"
                                },
                                {
                                    "NOMBRECOMPLETO": "Flat Washer 8(SIN COLOR)"
                                },
                                {
                                    "NOMBRECOMPLETO": "Flat Washer 5(SIN COLOR)"
                                },
                                {
                                    "NOMBRECOMPLETO": "Flat Washer 7(SIN COLOR)"
                                },
                                {
                                    "NOMBRECOMPLETO": "Fork Crown(SIN COLOR)"
                                },
                                {
                                    "NOMBRECOMPLETO": "Front Derailleur Cage(Silver)"
                                },
                                {
                                    "NOMBRECOMPLETO": "Front Derailleur Linkage(Silver)"
                                },
                                {
                                    "NOMBRECOMPLETO": "Guide Pulley(SIN COLOR)"
                                },
                                {
                                    "NOMBRECOMPLETO": "LL Grip Tape(SIN COLOR)"
                                },
                                {
                                    "NOMBRECOMPLETO": "ML Grip Tape(SIN COLOR)"
                                },
                                {
                                    "NOMBRECOMPLETO": "HL Grip Tape(SIN COLOR)"
                                },
                                {
                                    "NOMBRECOMPLETO": "Thin-Jam Hex Nut 9(SIN COLOR)"
                                },
                                {
                                    "NOMBRECOMPLETO": "Thin-Jam Hex Nut 10(SIN COLOR)"
                                },
                                {
                                    "NOMBRECOMPLETO": "Thin-Jam Hex Nut 1(SIN COLOR)"
                                },
                                {
                                    "NOMBRECOMPLETO": "Thin-Jam Hex Nut 2(SIN COLOR)"
                                },
                                {
                                    "NOMBRECOMPLETO": "Thin-Jam Hex Nut 15(SIN COLOR)"
                                },
                                {
                                    "NOMBRECOMPLETO": "Thin-Jam Hex Nut 16(SIN COLOR)"
                                },
                                {
                                    "NOMBRECOMPLETO": "Thin-Jam Hex Nut 5(SIN COLOR)"
                                },
                                {
                                    "NOMBRECOMPLETO": "Thin-Jam Hex Nut 6(SIN COLOR)"
                                },
                                {
                                    "NOMBRECOMPLETO": "Thin-Jam Hex Nut 3(SIN COLOR)"
                                },
                                {
                                    "NOMBRECOMPLETO": "Thin-Jam Hex Nut 4(SIN COLOR)"
                                },
                                {
                                    "NOMBRECOMPLETO": "Thin-Jam Hex Nut 13(SIN COLOR)"
                                },
                                {
                                    "NOMBRECOMPLETO": "Thin-Jam Hex Nut 14(SIN COLOR)"
                                },
                                {
                                    "NOMBRECOMPLETO": "Thin-Jam Hex Nut 7(SIN COLOR)"
                                },
                                {
                                    "NOMBRECOMPLETO": "Thin-Jam Hex Nut 8(SIN COLOR)"
                                },
                                {
                                    "NOMBRECOMPLETO": "Thin-Jam Hex Nut 12(SIN COLOR)"
                                },
                                {
                                    "NOMBRECOMPLETO": "Thin-Jam Hex Nut 11(SIN COLOR)"
                                },
                                {
                                    "NOMBRECOMPLETO": "Hex Nut 5(SIN COLOR)"
                                },
                                {
                                    "NOMBRECOMPLETO": "Hex Nut 6(SIN COLOR)"
                                },
                                {
                                    "NOMBRECOMPLETO": "Hex Nut 16(SIN COLOR)"
                                },
                                {
                                    "NOMBRECOMPLETO": "Hex Nut 17(SIN COLOR)"
                                },
                                {
                                    "NOMBRECOMPLETO": "Hex Nut 7(SIN COLOR)"
                                },
                                {
                                    "NOMBRECOMPLETO": "Hex Nut 8(SIN COLOR)"
                                },
                                {
                                    "NOMBRECOMPLETO": "Hex Nut 9(SIN COLOR)"
                                },
                                {
                                    "NOMBRECOMPLETO": "Hex Nut 22(SIN COLOR)"
                                },
                                {
                                    "NOMBRECOMPLETO": "Hex Nut 23(SIN COLOR)"
                                },
                                {
                                    "NOMBRECOMPLETO": "Hex Nut 12(SIN COLOR)"
                                },
                                {
                                    "NOMBRECOMPLETO": "Hex Nut 13(SIN COLOR)"
                                },
                                {
                                    "NOMBRECOMPLETO": "Hex Nut 1(SIN COLOR)"
                                },
                                {
                                    "NOMBRECOMPLETO": "Hex Nut 10(SIN COLOR)"
                                },
                                {
                                    "NOMBRECOMPLETO": "Hex Nut 11(SIN COLOR)"
                                },
                                {
                                    "NOMBRECOMPLETO": "Hex Nut 2(SIN COLOR)"
                                },
                                {
                                    "NOMBRECOMPLETO": "Hex Nut 20(SIN COLOR)"
                                },
                                {
                                    "NOMBRECOMPLETO": "Hex Nut 21(SIN COLOR)"
                                },
                                {
                                    "NOMBRECOMPLETO": "Hex Nut 3(SIN COLOR)"
                                },
                                {
                                    "NOMBRECOMPLETO": "Hex Nut 14(SIN COLOR)"
                                },
                                {
                                    "NOMBRECOMPLETO": "Hex Nut 15(SIN COLOR)"
                                },
                                {
                                    "NOMBRECOMPLETO": "Hex Nut 4(SIN COLOR)"
                                },
                                {
                                    "NOMBRECOMPLETO": "Hex Nut 18(SIN COLOR)"
                                },
                                {
                                    "NOMBRECOMPLETO": "Hex Nut 19(SIN COLOR)"
                                },
                                {
                                    "NOMBRECOMPLETO": "Handlebar Tube(SIN COLOR)"
                                },
                                {
                                    "NOMBRECOMPLETO": "Head Tube(SIN COLOR)"
                                },
                                {
                                    "NOMBRECOMPLETO": "LL Hub(SIN COLOR)"
                                },
                                {
                                    "NOMBRECOMPLETO": "HL Hub(SIN COLOR)"
                                },
                                {
                                    "NOMBRECOMPLETO": "Keyed Washer(SIN COLOR)"
                                },
                                {
                                    "NOMBRECOMPLETO": "External Lock Washer 3(SIN COLOR)"
                                },
                                {
                                    "NOMBRECOMPLETO": "External Lock Washer 4(SIN COLOR)"
                                },
                                {
                                    "NOMBRECOMPLETO": "External Lock Washer 9(SIN COLOR)"
                                },
                                {
                                    "NOMBRECOMPLETO": "External Lock Washer 5(SIN COLOR)"
                                },
                                {
                                    "NOMBRECOMPLETO": "External Lock Washer 7(SIN COLOR)"
                                },
                                {
                                    "NOMBRECOMPLETO": "External Lock Washer 6(SIN COLOR)"
                                },
                                {
                                    "NOMBRECOMPLETO": "External Lock Washer 1(SIN COLOR)"
                                },
                                {
                                    "NOMBRECOMPLETO": "External Lock Washer 8(SIN COLOR)"
                                },
                                {
                                    "NOMBRECOMPLETO": "External Lock Washer 2(SIN COLOR)"
                                },
                                {
                                    "NOMBRECOMPLETO": "Internal Lock Washer 3(SIN COLOR)"
                                },
                                {
                                    "NOMBRECOMPLETO": "Internal Lock Washer 4(SIN COLOR)"
                                },
                                {
                                    "NOMBRECOMPLETO": "Internal Lock Washer 9(SIN COLOR)"
                                },
                                {
                                    "NOMBRECOMPLETO": "Internal Lock Washer 5(SIN COLOR)"
                                },
                                {
                                    "NOMBRECOMPLETO": "Internal Lock Washer 7(SIN COLOR)"
                                },
                                {
                                    "NOMBRECOMPLETO": "Internal Lock Washer 6(SIN COLOR)"
                                },
                                {
                                    "NOMBRECOMPLETO": "Internal Lock Washer 10(SIN COLOR)"
                                },
                                {
                                    "NOMBRECOMPLETO": "Internal Lock Washer 1(SIN COLOR)"
                                },
                                {
                                    "NOMBRECOMPLETO": "Internal Lock Washer 8(SIN COLOR)"
                                },
                                {
                                    "NOMBRECOMPLETO": "Internal Lock Washer 2(SIN COLOR)"
                                },
                                {
                                    "NOMBRECOMPLETO": "Thin-Jam Lock Nut 9(SIN COLOR)"
                                },
                                {
                                    "NOMBRECOMPLETO": "Thin-Jam Lock Nut 10(SIN COLOR)"
                                },
                                {
                                    "NOMBRECOMPLETO": "Thin-Jam Lock Nut 1(SIN COLOR)"
                                },
                                {
                                    "NOMBRECOMPLETO": "Thin-Jam Lock Nut 2(SIN COLOR)"
                                },
                                {
                                    "NOMBRECOMPLETO": "Thin-Jam Lock Nut 15(SIN COLOR)"
                                },
                                {
                                    "NOMBRECOMPLETO": "Thin-Jam Lock Nut 16(SIN COLOR)"
                                },
                                {
                                    "NOMBRECOMPLETO": "Thin-Jam Lock Nut 5(SIN COLOR)"
                                },
                                {
                                    "NOMBRECOMPLETO": "Thin-Jam Lock Nut 6(SIN COLOR)"
                                },
                                {
                                    "NOMBRECOMPLETO": "Thin-Jam Lock Nut 3(SIN COLOR)"
                                },
                                {
                                    "NOMBRECOMPLETO": "Thin-Jam Lock Nut 4(SIN COLOR)"
                                },
                                {
                                    "NOMBRECOMPLETO": "Thin-Jam Lock Nut 13(SIN COLOR)"
                                },
                                {
                                    "NOMBRECOMPLETO": "Thin-Jam Lock Nut 14(SIN COLOR)"
                                },
                                {
                                    "NOMBRECOMPLETO": "Thin-Jam Lock Nut 7(SIN COLOR)"
                                },
                                {
                                    "NOMBRECOMPLETO": "Thin-Jam Lock Nut 8(SIN COLOR)"
                                },
                                {
                                    "NOMBRECOMPLETO": "Thin-Jam Lock Nut 12(SIN COLOR)"
                                },
                                {
                                    "NOMBRECOMPLETO": "Thin-Jam Lock Nut 11(SIN COLOR)"
                                },
                                {
                                    "NOMBRECOMPLETO": "Lock Nut 5(SIN COLOR)"
                                },
                                {
                                    "NOMBRECOMPLETO": "Lock Nut 6(SIN COLOR)"
                                },
                                {
                                    "NOMBRECOMPLETO": "Lock Nut 16(SIN COLOR)"
                                },
                                {
                                    "NOMBRECOMPLETO": "Lock Nut 17(SIN COLOR)"
                                },
                                {
                                    "NOMBRECOMPLETO": "Lock Nut 7(SIN COLOR)"
                                },
                                {
                                    "NOMBRECOMPLETO": "Lock Nut 8(SIN COLOR)"
                                },
                                {
                                    "NOMBRECOMPLETO": "Lock Nut 9(SIN COLOR)"
                                },
                                {
                                    "NOMBRECOMPLETO": "Lock Nut 22(SIN COLOR)"
                                },
                                {
                                    "NOMBRECOMPLETO": "Lock Nut 23(SIN COLOR)"
                                },
                                {
                                    "NOMBRECOMPLETO": "Lock Nut 12(SIN COLOR)"
                                },
                                {
                                    "NOMBRECOMPLETO": "Lock Nut 13(SIN COLOR)"
                                },
                                {
                                    "NOMBRECOMPLETO": "Lock Nut 1(SIN COLOR)"
                                },
                                {
                                    "NOMBRECOMPLETO": "Lock Nut 10(SIN COLOR)"
                                },
                                {
                                    "NOMBRECOMPLETO": "Lock Nut 11(SIN COLOR)"
                                },
                                {
                                    "NOMBRECOMPLETO": "Lock Nut 2(SIN COLOR)"
                                },
                                {
                                    "NOMBRECOMPLETO": "Lock Nut 20(SIN COLOR)"
                                },
                                {
                                    "NOMBRECOMPLETO": "Lock Nut 21(SIN COLOR)"
                                },
                                {
                                    "NOMBRECOMPLETO": "Lock Nut 3(SIN COLOR)"
                                },
                                {
                                    "NOMBRECOMPLETO": "Lock Nut 14(SIN COLOR)"
                                },
                                {
                                    "NOMBRECOMPLETO": "Lock Nut 15(SIN COLOR)"
                                },
                                {
                                    "NOMBRECOMPLETO": "Lock Nut 4(SIN COLOR)"
                                },
                                {
                                    "NOMBRECOMPLETO": "Lock Nut 19(SIN COLOR)"
                                },
                                {
                                    "NOMBRECOMPLETO": "Lock Nut 18(SIN COLOR)"
                                },
                                {
                                    "NOMBRECOMPLETO": "Lock Ring(Silver)"
                                },
                                {
                                    "NOMBRECOMPLETO": "Lower Head Race(SIN COLOR)"
                                },
                                {
                                    "NOMBRECOMPLETO": "Lock Washer 4(SIN COLOR)"
                                },
                                {
                                    "NOMBRECOMPLETO": "Lock Washer 5(SIN COLOR)"
                                },
                                {
                                    "NOMBRECOMPLETO": "Lock Washer 10(SIN COLOR)"
                                },
                                {
                                    "NOMBRECOMPLETO": "Lock Washer 6(SIN COLOR)"
                                },
                                {
                                    "NOMBRECOMPLETO": "Lock Washer 13(SIN COLOR)"
                                },
                                {
                                    "NOMBRECOMPLETO": "Lock Washer 8(SIN COLOR)"
                                },
                                {
                                    "NOMBRECOMPLETO": "Lock Washer 1(SIN COLOR)"
                                },
                                {
                                    "NOMBRECOMPLETO": "Lock Washer 7(SIN COLOR)"
                                },
                                {
                                    "NOMBRECOMPLETO": "Lock Washer 12(SIN COLOR)"
                                },
                                {
                                    "NOMBRECOMPLETO": "Lock Washer 2(SIN COLOR)"
                                },
                                {
                                    "NOMBRECOMPLETO": "Lock Washer 9(SIN COLOR)"
                                },
                                {
                                    "NOMBRECOMPLETO": "Lock Washer 3(SIN COLOR)"
                                },
                                {
                                    "NOMBRECOMPLETO": "Lock Washer 11(SIN COLOR)"
                                },
                                {
                                    "NOMBRECOMPLETO": "Metal Angle(SIN COLOR)"
                                },
                                {
                                    "NOMBRECOMPLETO": "Metal Bar 1(SIN COLOR)"
                                },
                                {
                                    "NOMBRECOMPLETO": "Metal Bar 2(SIN COLOR)"
                                },
                                {
                                    "NOMBRECOMPLETO": "Metal Plate 2(SIN COLOR)"
                                },
                                {
                                    "NOMBRECOMPLETO": "Metal Plate 1(SIN COLOR)"
                                },
                                {
                                    "NOMBRECOMPLETO": "Metal Plate 3(SIN COLOR)"
                                },
                                {
                                    "NOMBRECOMPLETO": "Metal Sheet 2(SIN COLOR)"
                                },
                                {
                                    "NOMBRECOMPLETO": "Metal Sheet 3(SIN COLOR)"
                                },
                                {
                                    "NOMBRECOMPLETO": "Metal Sheet 7(SIN COLOR)"
                                },
                                {
                                    "NOMBRECOMPLETO": "Metal Sheet 4(SIN COLOR)"
                                },
                                {
                                    "NOMBRECOMPLETO": "Metal Sheet 5(SIN COLOR)"
                                },
                                {
                                    "NOMBRECOMPLETO": "Metal Sheet 6(SIN COLOR)"
                                },
                                {
                                    "NOMBRECOMPLETO": "Metal Sheet 1(SIN COLOR)"
                                },
                                {
                                    "NOMBRECOMPLETO": "Metal Tread Plate(SIN COLOR)"
                                },
                                {
                                    "NOMBRECOMPLETO": "LL Nipple(SIN COLOR)"
                                },
                                {
                                    "NOMBRECOMPLETO": "HL Nipple(SIN COLOR)"
                                },
                                {
                                    "NOMBRECOMPLETO": "Paint - Black(SIN COLOR)"
                                },
                                {
                                    "NOMBRECOMPLETO": "Paint - Red(SIN COLOR)"
                                },
                                {
                                    "NOMBRECOMPLETO": "Paint - Silver(SIN COLOR)"
                                },
                                {
                                    "NOMBRECOMPLETO": "Paint - Blue(SIN COLOR)"
                                },
                                {
                                    "NOMBRECOMPLETO": "Paint - Yellow(SIN COLOR)"
                                },
                                {
                                    "NOMBRECOMPLETO": "Pinch Bolt(SIN COLOR)"
                                },
                                {
                                    "NOMBRECOMPLETO": "Cup-Shaped Race(SIN COLOR)"
                                },
                                {
                                    "NOMBRECOMPLETO": "Cone-Shaped Race(SIN COLOR)"
                                },
                                {
                                    "NOMBRECOMPLETO": "Reflector(SIN COLOR)"
                                },
                                {
                                    "NOMBRECOMPLETO": "LL Mountain Rim(SIN COLOR)"
                                },
                                {
                                    "NOMBRECOMPLETO": "ML Mountain Rim(SIN COLOR)"
                                },
                                {
                                    "NOMBRECOMPLETO": "HL Mountain Rim(SIN COLOR)"
                                },
                                {
                                    "NOMBRECOMPLETO": "LL Road Rim(SIN COLOR)"
                                },
                                {
                                    "NOMBRECOMPLETO": "ML Road Rim(SIN COLOR)"
                                },
                                {
                                    "NOMBRECOMPLETO": "HL Road Rim(SIN COLOR)"
                                },
                                {
                                    "NOMBRECOMPLETO": "Touring Rim(SIN COLOR)"
                                },
                                {
                                    "NOMBRECOMPLETO": "LL Mountain Seat Assembly(SIN COLOR)"
                                },
                                {
                                    "NOMBRECOMPLETO": "ML Mountain Seat Assembly(SIN COLOR)"
                                },
                                {
                                    "NOMBRECOMPLETO": "HL Mountain Seat Assembly(SIN COLOR)"
                                },
                                {
                                    "NOMBRECOMPLETO": "LL Road Seat Assembly(SIN COLOR)"
                                },
                                {
                                    "NOMBRECOMPLETO": "ML Road Seat Assembly(SIN COLOR)"
                                },
                                {
                                    "NOMBRECOMPLETO": "HL Road Seat Assembly(SIN COLOR)"
                                },
                                {
                                    "NOMBRECOMPLETO": "LL Touring Seat Assembly(SIN COLOR)"
                                },
                                {
                                    "NOMBRECOMPLETO": "ML Touring Seat Assembly(SIN COLOR)"
                                },
                                {
                                    "NOMBRECOMPLETO": "HL Touring Seat Assembly(SIN COLOR)"
                                },
                                {
                                    "NOMBRECOMPLETO": "LL Spindle/Axle(SIN COLOR)"
                                },
                                {
                                    "NOMBRECOMPLETO": "HL Spindle/Axle(SIN COLOR)"
                                },
                                {
                                    "NOMBRECOMPLETO": "LL Shell(SIN COLOR)"
                                },
                                {
                                    "NOMBRECOMPLETO": "HL Shell(SIN COLOR)"
                                },
                                {
                                    "NOMBRECOMPLETO": "Spokes(SIN COLOR)"
                                },
                                {
                                    "NOMBRECOMPLETO": "Seat Lug(SIN COLOR)"
                                },
                                {
                                    "NOMBRECOMPLETO": "Stem(SIN COLOR)"
                                },
                                {
                                    "NOMBRECOMPLETO": "Seat Post(SIN COLOR)"
                                },
                                {
                                    "NOMBRECOMPLETO": "Steerer(SIN COLOR)"
                                },
                                {
                                    "NOMBRECOMPLETO": "Seat Stays(SIN COLOR)"
                                },
                                {
                                    "NOMBRECOMPLETO": "Seat Tube(SIN COLOR)"
                                },
                                {
                                    "NOMBRECOMPLETO": "Top Tube(SIN COLOR)"
                                },
                                {
                                    "NOMBRECOMPLETO": "Tension Pulley(SIN COLOR)"
                                },
                                {
                                    "NOMBRECOMPLETO": "Rear Derailleur Cage(Silver)"
                                },
                                {
                                    "NOMBRECOMPLETO": "HL Road Frame - Black, 58(Black)"
                                },
                                {
                                    "NOMBRECOMPLETO": "HL Road Frame - Red, 58(Red)"
                                },
                                {
                                    "NOMBRECOMPLETO": "Sport-100 Helmet, Red(Red)"
                                },
                                {
                                    "NOMBRECOMPLETO": "Sport-100 Helmet, Black(Black)"
                                },
                                {
                                    "NOMBRECOMPLETO": "Mountain Bike Socks, M(White)"
                                },
                                {
                                    "NOMBRECOMPLETO": "Mountain Bike Socks, L(White)"
                                },
                                {
                                    "NOMBRECOMPLETO": "Sport-100 Helmet, Blue(Blue)"
                                },
                                {
                                    "NOMBRECOMPLETO": "AWC Logo Cap(Multi)"
                                },
                                {
                                    "NOMBRECOMPLETO": "Long-Sleeve Logo Jersey, S(Multi)"
                                },
                                {
                                    "NOMBRECOMPLETO": "Long-Sleeve Logo Jersey, M(Multi)"
                                },
                                {
                                    "NOMBRECOMPLETO": "Long-Sleeve Logo Jersey, L(Multi)"
                                },
                                {
                                    "NOMBRECOMPLETO": "Long-Sleeve Logo Jersey, XL(Multi)"
                                },
                                {
                                    "NOMBRECOMPLETO": "HL Road Frame - Red, 62(Red)"
                                },
                                {
                                    "NOMBRECOMPLETO": "HL Road Frame - Red, 44(Red)"
                                },
                                {
                                    "NOMBRECOMPLETO": "HL Road Frame - Red, 48(Red)"
                                },
                                {
                                    "NOMBRECOMPLETO": "HL Road Frame - Red, 52(Red)"
                                },
                                {
                                    "NOMBRECOMPLETO": "HL Road Frame - Red, 56(Red)"
                                },
                                {
                                    "NOMBRECOMPLETO": "LL Road Frame - Black, 58(Black)"
                                },
                                {
                                    "NOMBRECOMPLETO": "LL Road Frame - Black, 60(Black)"
                                },
                                {
                                    "NOMBRECOMPLETO": "LL Road Frame - Black, 62(Black)"
                                },
                                {
                                    "NOMBRECOMPLETO": "LL Road Frame - Red, 44(Red)"
                                },
                                {
                                    "NOMBRECOMPLETO": "LL Road Frame - Red, 48(Red)"
                                },
                                {
                                    "NOMBRECOMPLETO": "LL Road Frame - Red, 52(Red)"
                                },
                                {
                                    "NOMBRECOMPLETO": "LL Road Frame - Red, 58(Red)"
                                },
                                {
                                    "NOMBRECOMPLETO": "LL Road Frame - Red, 60(Red)"
                                },
                                {
                                    "NOMBRECOMPLETO": "LL Road Frame - Red, 62(Red)"
                                },
                                {
                                    "NOMBRECOMPLETO": "ML Road Frame - Red, 44(Red)"
                                },
                                {
                                    "NOMBRECOMPLETO": "ML Road Frame - Red, 48(Red)"
                                },
                                {
                                    "NOMBRECOMPLETO": "ML Road Frame - Red, 52(Red)"
                                },
                                {
                                    "NOMBRECOMPLETO": "ML Road Frame - Red, 58(Red)"
                                },
                                {
                                    "NOMBRECOMPLETO": "ML Road Frame - Red, 60(Red)"
                                },
                                {
                                    "NOMBRECOMPLETO": "LL Road Frame - Black, 44(Black)"
                                },
                                {
                                    "NOMBRECOMPLETO": "LL Road Frame - Black, 48(Black)"
                                },
                                {
                                    "NOMBRECOMPLETO": "LL Road Frame - Black, 52(Black)"
                                },
                                {
                                    "NOMBRECOMPLETO": "HL Mountain Frame - Silver, 42(Silver)"
                                },
                                {
                                    "NOMBRECOMPLETO": "HL Mountain Frame - Silver, 44(Silver)"
                                },
                                {
                                    "NOMBRECOMPLETO": "HL Mountain Frame - Silver, 48(Silver)"
                                },
                                {
                                    "NOMBRECOMPLETO": "HL Mountain Frame - Silver, 46(Silver)"
                                },
                                {
                                    "NOMBRECOMPLETO": "HL Mountain Frame - Black, 42(Black)"
                                },
                                {
                                    "NOMBRECOMPLETO": "HL Mountain Frame - Black, 44(Black)"
                                },
                                {
                                    "NOMBRECOMPLETO": "HL Mountain Frame - Black, 48(Black)"
                                },
                                {
                                    "NOMBRECOMPLETO": "HL Mountain Frame - Black, 46(Black)"
                                },
                                {
                                    "NOMBRECOMPLETO": "HL Mountain Frame - Black, 38(Black)"
                                },
                                {
                                    "NOMBRECOMPLETO": "HL Mountain Frame - Silver, 38(Silver)"
                                },
                                {
                                    "NOMBRECOMPLETO": "Road-150 Red, 62(Red)"
                                },
                                {
                                    "NOMBRECOMPLETO": "Road-150 Red, 44(Red)"
                                },
                                {
                                    "NOMBRECOMPLETO": "Road-150 Red, 48(Red)"
                                },
                                {
                                    "NOMBRECOMPLETO": "Road-150 Red, 52(Red)"
                                },
                                {
                                    "NOMBRECOMPLETO": "Road-150 Red, 56(Red)"
                                },
                                {
                                    "NOMBRECOMPLETO": "Road-450 Red, 58(Red)"
                                },
                                {
                                    "NOMBRECOMPLETO": "Road-450 Red, 60(Red)"
                                },
                                {
                                    "NOMBRECOMPLETO": "Road-450 Red, 44(Red)"
                                },
                                {
                                    "NOMBRECOMPLETO": "Road-450 Red, 48(Red)"
                                },
                                {
                                    "NOMBRECOMPLETO": "Road-450 Red, 52(Red)"
                                },
                                {
                                    "NOMBRECOMPLETO": "Road-650 Red, 58(Red)"
                                },
                                {
                                    "NOMBRECOMPLETO": "Road-650 Red, 60(Red)"
                                },
                                {
                                    "NOMBRECOMPLETO": "Road-650 Red, 62(Red)"
                                },
                                {
                                    "NOMBRECOMPLETO": "Road-650 Red, 44(Red)"
                                },
                                {
                                    "NOMBRECOMPLETO": "Road-650 Red, 48(Red)"
                                },
                                {
                                    "NOMBRECOMPLETO": "Road-650 Red, 52(Red)"
                                },
                                {
                                    "NOMBRECOMPLETO": "Road-650 Black, 58(Black)"
                                },
                                {
                                    "NOMBRECOMPLETO": "Road-650 Black, 60(Black)"
                                },
                                {
                                    "NOMBRECOMPLETO": "Road-650 Black, 62(Black)"
                                },
                                {
                                    "NOMBRECOMPLETO": "Road-650 Black, 44(Black)"
                                },
                                {
                                    "NOMBRECOMPLETO": "Road-650 Black, 48(Black)"
                                },
                                {
                                    "NOMBRECOMPLETO": "Road-650 Black, 52(Black)"
                                },
                                {
                                    "NOMBRECOMPLETO": "Mountain-100 Silver, 38(Silver)"
                                },
                                {
                                    "NOMBRECOMPLETO": "Mountain-100 Silver, 42(Silver)"
                                },
                                {
                                    "NOMBRECOMPLETO": "Mountain-100 Silver, 44(Silver)"
                                },
                                {
                                    "NOMBRECOMPLETO": "Mountain-100 Silver, 48(Silver)"
                                },
                                {
                                    "NOMBRECOMPLETO": "Mountain-100 Black, 38(Black)"
                                },
                                {
                                    "NOMBRECOMPLETO": "Mountain-100 Black, 42(Black)"
                                },
                                {
                                    "NOMBRECOMPLETO": "Mountain-100 Black, 44(Black)"
                                },
                                {
                                    "NOMBRECOMPLETO": "Mountain-100 Black, 48(Black)"
                                },
                                {
                                    "NOMBRECOMPLETO": "Mountain-200 Silver, 38(Silver)"
                                },
                                {
                                    "NOMBRECOMPLETO": "Mountain-200 Silver, 42(Silver)"
                                },
                                {
                                    "NOMBRECOMPLETO": "Mountain-200 Silver, 46(Silver)"
                                },
                                {
                                    "NOMBRECOMPLETO": "Mountain-200 Black, 38(Black)"
                                },
                                {
                                    "NOMBRECOMPLETO": "Mountain-200 Black, 42(Black)"
                                },
                                {
                                    "NOMBRECOMPLETO": "Mountain-200 Black, 46(Black)"
                                },
                                {
                                    "NOMBRECOMPLETO": "Mountain-300 Black, 38(Black)"
                                },
                                {
                                    "NOMBRECOMPLETO": "Mountain-300 Black, 40(Black)"
                                },
                                {
                                    "NOMBRECOMPLETO": "Mountain-300 Black, 44(Black)"
                                },
                                {
                                    "NOMBRECOMPLETO": "Mountain-300 Black, 48(Black)"
                                },
                                {
                                    "NOMBRECOMPLETO": "Road-250 Red, 44(Red)"
                                },
                                {
                                    "NOMBRECOMPLETO": "Road-250 Red, 48(Red)"
                                },
                                {
                                    "NOMBRECOMPLETO": "Road-250 Red, 52(Red)"
                                },
                                {
                                    "NOMBRECOMPLETO": "Road-250 Red, 58(Red)"
                                },
                                {
                                    "NOMBRECOMPLETO": "Road-250 Black, 44(Black)"
                                },
                                {
                                    "NOMBRECOMPLETO": "Road-250 Black, 48(Black)"
                                },
                                {
                                    "NOMBRECOMPLETO": "Road-250 Black, 52(Black)"
                                },
                                {
                                    "NOMBRECOMPLETO": "Road-250 Black, 58(Black)"
                                },
                                {
                                    "NOMBRECOMPLETO": "Road-550-W Yellow, 38(Yellow)"
                                },
                                {
                                    "NOMBRECOMPLETO": "Road-550-W Yellow, 40(Yellow)"
                                },
                                {
                                    "NOMBRECOMPLETO": "Road-550-W Yellow, 42(Yellow)"
                                },
                                {
                                    "NOMBRECOMPLETO": "Road-550-W Yellow, 44(Yellow)"
                                },
                                {
                                    "NOMBRECOMPLETO": "Road-550-W Yellow, 48(Yellow)"
                                },
                                {
                                    "NOMBRECOMPLETO": "LL Fork(SIN COLOR)"
                                },
                                {
                                    "NOMBRECOMPLETO": "ML Fork(SIN COLOR)"
                                },
                                {
                                    "NOMBRECOMPLETO": "HL Fork(SIN COLOR)"
                                },
                                {
                                    "NOMBRECOMPLETO": "LL Headset(SIN COLOR)"
                                },
                                {
                                    "NOMBRECOMPLETO": "ML Headset(SIN COLOR)"
                                },
                                {
                                    "NOMBRECOMPLETO": "HL Headset(SIN COLOR)"
                                },
                                {
                                    "NOMBRECOMPLETO": "LL Mountain Handlebars(SIN COLOR)"
                                },
                                {
                                    "NOMBRECOMPLETO": "ML Mountain Handlebars(SIN COLOR)"
                                },
                                {
                                    "NOMBRECOMPLETO": "HL Mountain Handlebars(SIN COLOR)"
                                },
                                {
                                    "NOMBRECOMPLETO": "LL Road Handlebars(SIN COLOR)"
                                },
                                {
                                    "NOMBRECOMPLETO": "ML Road Handlebars(SIN COLOR)"
                                },
                                {
                                    "NOMBRECOMPLETO": "HL Road Handlebars(SIN COLOR)"
                                },
                                {
                                    "NOMBRECOMPLETO": "ML Mountain Frame - Black, 38(Black)"
                                },
                                {
                                    "NOMBRECOMPLETO": "LL Mountain Front Wheel(Black)"
                                },
                                {
                                    "NOMBRECOMPLETO": "ML Mountain Front Wheel(Black)"
                                },
                                {
                                    "NOMBRECOMPLETO": "HL Mountain Front Wheel(Black)"
                                },
                                {
                                    "NOMBRECOMPLETO": "LL Road Front Wheel(Black)"
                                },
                                {
                                    "NOMBRECOMPLETO": "ML Road Front Wheel(Black)"
                                },
                                {
                                    "NOMBRECOMPLETO": "HL Road Front Wheel(Black)"
                                },
                                {
                                    "NOMBRECOMPLETO": "Touring Front Wheel(Black)"
                                },
                                {
                                    "NOMBRECOMPLETO": "ML Road Frame-W - Yellow, 38(Yellow)"
                                },
                                {
                                    "NOMBRECOMPLETO": "LL Mountain Rear Wheel(Black)"
                                },
                                {
                                    "NOMBRECOMPLETO": "ML Mountain Rear Wheel(Black)"
                                },
                                {
                                    "NOMBRECOMPLETO": "HL Mountain Rear Wheel(Black)"
                                },
                                {
                                    "NOMBRECOMPLETO": "LL Road Rear Wheel(Black)"
                                },
                                {
                                    "NOMBRECOMPLETO": "ML Road Rear Wheel(Black)"
                                },
                                {
                                    "NOMBRECOMPLETO": "HL Road Rear Wheel(Black)"
                                },
                                {
                                    "NOMBRECOMPLETO": "Touring Rear Wheel(Black)"
                                },
                                {
                                    "NOMBRECOMPLETO": "ML Mountain Frame - Black, 40(Black)"
                                },
                                {
                                    "NOMBRECOMPLETO": "ML Mountain Frame - Black, 44(Black)"
                                },
                                {
                                    "NOMBRECOMPLETO": "ML Mountain Frame - Black, 48(Black)"
                                },
                                {
                                    "NOMBRECOMPLETO": "ML Road Frame-W - Yellow, 40(Yellow)"
                                },
                                {
                                    "NOMBRECOMPLETO": "ML Road Frame-W - Yellow, 42(Yellow)"
                                },
                                {
                                    "NOMBRECOMPLETO": "ML Road Frame-W - Yellow, 44(Yellow)"
                                },
                                {
                                    "NOMBRECOMPLETO": "ML Road Frame-W - Yellow, 48(Yellow)"
                                },
                                {
                                    "NOMBRECOMPLETO": "HL Road Frame - Black, 62(Black)"
                                },
                                {
                                    "NOMBRECOMPLETO": "HL Road Frame - Black, 44(Black)"
                                },
                                {
                                    "NOMBRECOMPLETO": "HL Road Frame - Black, 48(Black)"
                                },
                                {
                                    "NOMBRECOMPLETO": "HL Road Frame - Black, 52(Black)"
                                },
                                {
                                    "NOMBRECOMPLETO": "Men's Sports Shorts, S(Black)"
                                },
                                {
                                    "NOMBRECOMPLETO": "Touring-Panniers, Large(Grey)"
                                },
                                {
                                    "NOMBRECOMPLETO": "Cable Lock(SIN COLOR)"
                                },
                                {
                                    "NOMBRECOMPLETO": "Minipump(SIN COLOR)"
                                },
                                {
                                    "NOMBRECOMPLETO": "Mountain Pump(SIN COLOR)"
                                },
                                {
                                    "NOMBRECOMPLETO": "Taillights - Battery-Powered(SIN COLOR)"
                                },
                                {
                                    "NOMBRECOMPLETO": "Headlights - Dual-Beam(SIN COLOR)"
                                },
                                {
                                    "NOMBRECOMPLETO": "Headlights - Weatherproof(SIN COLOR)"
                                },
                                {
                                    "NOMBRECOMPLETO": "Men's Sports Shorts, M(Black)"
                                },
                                {
                                    "NOMBRECOMPLETO": "Men's Sports Shorts, L(Black)"
                                },
                                {
                                    "NOMBRECOMPLETO": "Men's Sports Shorts, XL(Black)"
                                },
                                {
                                    "NOMBRECOMPLETO": "Women's Tights, S(Black)"
                                },
                                {
                                    "NOMBRECOMPLETO": "Women's Tights, M(Black)"
                                },
                                {
                                    "NOMBRECOMPLETO": "Women's Tights, L(Black)"
                                },
                                {
                                    "NOMBRECOMPLETO": "Men's Bib-Shorts, S(Multi)"
                                },
                                {
                                    "NOMBRECOMPLETO": "Men's Bib-Shorts, M(Multi)"
                                },
                                {
                                    "NOMBRECOMPLETO": "Men's Bib-Shorts, L(Multi)"
                                },
                                {
                                    "NOMBRECOMPLETO": "Half-Finger Gloves, S(Black)"
                                },
                                {
                                    "NOMBRECOMPLETO": "Half-Finger Gloves, M(Black)"
                                },
                                {
                                    "NOMBRECOMPLETO": "Half-Finger Gloves, L(Black)"
                                },
                                {
                                    "NOMBRECOMPLETO": "Full-Finger Gloves, S(Black)"
                                },
                                {
                                    "NOMBRECOMPLETO": "Full-Finger Gloves, M(Black)"
                                },
                                {
                                    "NOMBRECOMPLETO": "Full-Finger Gloves, L(Black)"
                                },
                                {
                                    "NOMBRECOMPLETO": "Classic Vest, S(Blue)"
                                },
                                {
                                    "NOMBRECOMPLETO": "Classic Vest, M(Blue)"
                                },
                                {
                                    "NOMBRECOMPLETO": "Classic Vest, L(Blue)"
                                },
                                {
                                    "NOMBRECOMPLETO": "Women's Mountain Shorts, S(Black)"
                                },
                                {
                                    "NOMBRECOMPLETO": "Women's Mountain Shorts, M(Black)"
                                },
                                {
                                    "NOMBRECOMPLETO": "Women's Mountain Shorts, L(Black)"
                                },
                                {
                                    "NOMBRECOMPLETO": "Water Bottle - 30 oz.(SIN COLOR)"
                                },
                                {
                                    "NOMBRECOMPLETO": "Mountain Bottle Cage(SIN COLOR)"
                                },
                                {
                                    "NOMBRECOMPLETO": "Road Bottle Cage(SIN COLOR)"
                                },
                                {
                                    "NOMBRECOMPLETO": "Patch Kit/8 Patches(SIN COLOR)"
                                },
                                {
                                    "NOMBRECOMPLETO": "Racing Socks, M(White)"
                                },
                                {
                                    "NOMBRECOMPLETO": "Racing Socks, L(White)"
                                },
                                {
                                    "NOMBRECOMPLETO": "Hitch Rack - 4-Bike(SIN COLOR)"
                                },
                                {
                                    "NOMBRECOMPLETO": "Bike Wash - Dissolver(SIN COLOR)"
                                },
                                {
                                    "NOMBRECOMPLETO": "Fender Set - Mountain(SIN COLOR)"
                                },
                                {
                                    "NOMBRECOMPLETO": "All-Purpose Bike Stand(SIN COLOR)"
                                },
                                {
                                    "NOMBRECOMPLETO": "Hydration Pack - 70 oz.(Silver)"
                                },
                                {
                                    "NOMBRECOMPLETO": "Short-Sleeve Classic Jersey, S(Yellow)"
                                },
                                {
                                    "NOMBRECOMPLETO": "Short-Sleeve Classic Jersey, M(Yellow)"
                                },
                                {
                                    "NOMBRECOMPLETO": "Short-Sleeve Classic Jersey, L(Yellow)"
                                },
                                {
                                    "NOMBRECOMPLETO": "Short-Sleeve Classic Jersey, XL(Yellow)"
                                },
                                {
                                    "NOMBRECOMPLETO": "HL Touring Frame - Yellow, 60(Yellow)"
                                },
                                {
                                    "NOMBRECOMPLETO": "LL Touring Frame - Yellow, 62(Yellow)"
                                },
                                {
                                    "NOMBRECOMPLETO": "HL Touring Frame - Yellow, 46(Yellow)"
                                },
                                {
                                    "NOMBRECOMPLETO": "HL Touring Frame - Yellow, 50(Yellow)"
                                },
                                {
                                    "NOMBRECOMPLETO": "HL Touring Frame - Yellow, 54(Yellow)"
                                },
                                {
                                    "NOMBRECOMPLETO": "HL Touring Frame - Blue, 46(Blue)"
                                },
                                {
                                    "NOMBRECOMPLETO": "HL Touring Frame - Blue, 50(Blue)"
                                },
                                {
                                    "NOMBRECOMPLETO": "HL Touring Frame - Blue, 54(Blue)"
                                },
                                {
                                    "NOMBRECOMPLETO": "HL Touring Frame - Blue, 60(Blue)"
                                },
                                {
                                    "NOMBRECOMPLETO": "Rear Derailleur(Silver)"
                                },
                                {
                                    "NOMBRECOMPLETO": "LL Touring Frame - Blue, 50(Blue)"
                                },
                                {
                                    "NOMBRECOMPLETO": "LL Touring Frame - Blue, 54(Blue)"
                                },
                                {
                                    "NOMBRECOMPLETO": "LL Touring Frame - Blue, 58(Blue)"
                                },
                                {
                                    "NOMBRECOMPLETO": "LL Touring Frame - Blue, 62(Blue)"
                                },
                                {
                                    "NOMBRECOMPLETO": "LL Touring Frame - Yellow, 44(Yellow)"
                                },
                                {
                                    "NOMBRECOMPLETO": "LL Touring Frame - Yellow, 50(Yellow)"
                                },
                                {
                                    "NOMBRECOMPLETO": "LL Touring Frame - Yellow, 54(Yellow)"
                                },
                                {
                                    "NOMBRECOMPLETO": "LL Touring Frame - Yellow, 58(Yellow)"
                                },
                                {
                                    "NOMBRECOMPLETO": "LL Touring Frame - Blue, 44(Blue)"
                                },
                                {
                                    "NOMBRECOMPLETO": "ML Mountain Frame-W - Silver, 40(Silver)"
                                },
                                {
                                    "NOMBRECOMPLETO": "ML Mountain Frame-W - Silver, 42(Silver)"
                                },
                                {
                                    "NOMBRECOMPLETO": "ML Mountain Frame-W - Silver, 46(Silver)"
                                },
                                {
                                    "NOMBRECOMPLETO": "Rear Brakes(Silver)"
                                },
                                {
                                    "NOMBRECOMPLETO": "LL Mountain Seat/Saddle(SIN COLOR)"
                                },
                                {
                                    "NOMBRECOMPLETO": "ML Mountain Seat/Saddle(SIN COLOR)"
                                },
                                {
                                    "NOMBRECOMPLETO": "HL Mountain Seat/Saddle(SIN COLOR)"
                                },
                                {
                                    "NOMBRECOMPLETO": "LL Road Seat/Saddle(SIN COLOR)"
                                },
                                {
                                    "NOMBRECOMPLETO": "ML Road Seat/Saddle(SIN COLOR)"
                                },
                                {
                                    "NOMBRECOMPLETO": "HL Road Seat/Saddle(SIN COLOR)"
                                },
                                {
                                    "NOMBRECOMPLETO": "LL Touring Seat/Saddle(SIN COLOR)"
                                },
                                {
                                    "NOMBRECOMPLETO": "ML Touring Seat/Saddle(SIN COLOR)"
                                },
                                {
                                    "NOMBRECOMPLETO": "HL Touring Seat/Saddle(SIN COLOR)"
                                },
                                {
                                    "NOMBRECOMPLETO": "LL Mountain Frame - Silver, 42(Silver)"
                                },
                                {
                                    "NOMBRECOMPLETO": "LL Mountain Frame - Silver, 44(Silver)"
                                },
                                {
                                    "NOMBRECOMPLETO": "LL Mountain Frame - Silver, 48(Silver)"
                                },
                                {
                                    "NOMBRECOMPLETO": "LL Mountain Frame - Silver, 52(Silver)"
                                },
                                {
                                    "NOMBRECOMPLETO": "Mountain Tire Tube(SIN COLOR)"
                                },
                                {
                                    "NOMBRECOMPLETO": "Road Tire Tube(SIN COLOR)"
                                },
                                {
                                    "NOMBRECOMPLETO": "Touring Tire Tube(SIN COLOR)"
                                },
                                {
                                    "NOMBRECOMPLETO": "LL Mountain Frame - Black, 42(Black)"
                                },
                                {
                                    "NOMBRECOMPLETO": "LL Mountain Frame - Black, 44(Black)"
                                },
                                {
                                    "NOMBRECOMPLETO": "LL Mountain Frame - Black, 48(Black)"
                                },
                                {
                                    "NOMBRECOMPLETO": "LL Mountain Frame - Black, 52(Black)"
                                },
                                {
                                    "NOMBRECOMPLETO": "LL Mountain Tire(SIN COLOR)"
                                },
                                {
                                    "NOMBRECOMPLETO": "ML Mountain Tire(SIN COLOR)"
                                },
                                {
                                    "NOMBRECOMPLETO": "HL Mountain Tire(SIN COLOR)"
                                },
                                {
                                    "NOMBRECOMPLETO": "LL Road Tire(SIN COLOR)"
                                },
                                {
                                    "NOMBRECOMPLETO": "ML Road Tire(SIN COLOR)"
                                },
                                {
                                    "NOMBRECOMPLETO": "HL Road Tire(SIN COLOR)"
                                },
                                {
                                    "NOMBRECOMPLETO": "Touring Tire(SIN COLOR)"
                                },
                                {
                                    "NOMBRECOMPLETO": "LL Mountain Pedal(Silver/Black)"
                                },
                                {
                                    "NOMBRECOMPLETO": "ML Mountain Pedal(Silver/Black)"
                                },
                                {
                                    "NOMBRECOMPLETO": "HL Mountain Pedal(Silver/Black)"
                                },
                                {
                                    "NOMBRECOMPLETO": "LL Road Pedal(Silver/Black)"
                                },
                                {
                                    "NOMBRECOMPLETO": "ML Road Pedal(Silver/Black)"
                                },
                                {
                                    "NOMBRECOMPLETO": "HL Road Pedal(Silver/Black)"
                                },
                                {
                                    "NOMBRECOMPLETO": "Touring Pedal(Silver/Black)"
                                },
                                {
                                    "NOMBRECOMPLETO": "ML Mountain Frame-W - Silver, 38(Silver)"
                                },
                                {
                                    "NOMBRECOMPLETO": "LL Mountain Frame - Black, 40(Black)"
                                },
                                {
                                    "NOMBRECOMPLETO": "LL Mountain Frame - Silver, 40(Silver)"
                                },
                                {
                                    "NOMBRECOMPLETO": "Front Derailleur(Silver)"
                                },
                                {
                                    "NOMBRECOMPLETO": "LL Touring Handlebars(SIN COLOR)"
                                },
                                {
                                    "NOMBRECOMPLETO": "HL Touring Handlebars(SIN COLOR)"
                                },
                                {
                                    "NOMBRECOMPLETO": "Front Brakes(Silver)"
                                },
                                {
                                    "NOMBRECOMPLETO": "LL Crankset(Black)"
                                },
                                {
                                    "NOMBRECOMPLETO": "ML Crankset(Black)"
                                },
                                {
                                    "NOMBRECOMPLETO": "HL Crankset(Black)"
                                },
                                {
                                    "NOMBRECOMPLETO": "Chain(Silver)"
                                },
                                {
                                    "NOMBRECOMPLETO": "Touring-2000 Blue, 60(Blue)"
                                },
                                {
                                    "NOMBRECOMPLETO": "Touring-1000 Yellow, 46(Yellow)"
                                },
                                {
                                    "NOMBRECOMPLETO": "Touring-1000 Yellow, 50(Yellow)"
                                },
                                {
                                    "NOMBRECOMPLETO": "Touring-1000 Yellow, 54(Yellow)"
                                },
                                {
                                    "NOMBRECOMPLETO": "Touring-1000 Yellow, 60(Yellow)"
                                },
                                {
                                    "NOMBRECOMPLETO": "Touring-3000 Blue, 54(Blue)"
                                },
                                {
                                    "NOMBRECOMPLETO": "Touring-3000 Blue, 58(Blue)"
                                },
                                {
                                    "NOMBRECOMPLETO": "Touring-3000 Blue, 62(Blue)"
                                },
                                {
                                    "NOMBRECOMPLETO": "Touring-3000 Yellow, 44(Yellow)"
                                },
                                {
                                    "NOMBRECOMPLETO": "Touring-3000 Yellow, 50(Yellow)"
                                },
                                {
                                    "NOMBRECOMPLETO": "Touring-3000 Yellow, 54(Yellow)"
                                },
                                {
                                    "NOMBRECOMPLETO": "Touring-3000 Yellow, 58(Yellow)"
                                },
                                {
                                    "NOMBRECOMPLETO": "Touring-3000 Yellow, 62(Yellow)"
                                },
                                {
                                    "NOMBRECOMPLETO": "Touring-1000 Blue, 46(Blue)"
                                },
                                {
                                    "NOMBRECOMPLETO": "Touring-1000 Blue, 50(Blue)"
                                },
                                {
                                    "NOMBRECOMPLETO": "Touring-1000 Blue, 54(Blue)"
                                },
                                {
                                    "NOMBRECOMPLETO": "Touring-1000 Blue, 60(Blue)"
                                },
                                {
                                    "NOMBRECOMPLETO": "Touring-2000 Blue, 46(Blue)"
                                },
                                {
                                    "NOMBRECOMPLETO": "Touring-2000 Blue, 50(Blue)"
                                },
                                {
                                    "NOMBRECOMPLETO": "Touring-2000 Blue, 54(Blue)"
                                },
                                {
                                    "NOMBRECOMPLETO": "Road-350-W Yellow, 40(Yellow)"
                                },
                                {
                                    "NOMBRECOMPLETO": "Road-350-W Yellow, 42(Yellow)"
                                },
                                {
                                    "NOMBRECOMPLETO": "Road-350-W Yellow, 44(Yellow)"
                                },
                                {
                                    "NOMBRECOMPLETO": "Road-350-W Yellow, 48(Yellow)"
                                },
                                {
                                    "NOMBRECOMPLETO": "Road-750 Black, 58(Black)"
                                },
                                {
                                    "NOMBRECOMPLETO": "Touring-3000 Blue, 44(Blue)"
                                },
                                {
                                    "NOMBRECOMPLETO": "Touring-3000 Blue, 50(Blue)"
                                },
                                {
                                    "NOMBRECOMPLETO": "Mountain-400-W Silver, 38(Silver)"
                                },
                                {
                                    "NOMBRECOMPLETO": "Mountain-400-W Silver, 40(Silver)"
                                },
                                {
                                    "NOMBRECOMPLETO": "Mountain-400-W Silver, 42(Silver)"
                                },
                                {
                                    "NOMBRECOMPLETO": "Mountain-400-W Silver, 46(Silver)"
                                },
                                {
                                    "NOMBRECOMPLETO": "Mountain-500 Silver, 40(Silver)"
                                },
                                {
                                    "NOMBRECOMPLETO": "Mountain-500 Silver, 42(Silver)"
                                },
                                {
                                    "NOMBRECOMPLETO": "Mountain-500 Silver, 44(Silver)"
                                },
                                {
                                    "NOMBRECOMPLETO": "Mountain-500 Silver, 48(Silver)"
                                },
                                {
                                    "NOMBRECOMPLETO": "Mountain-500 Silver, 52(Silver)"
                                },
                                {
                                    "NOMBRECOMPLETO": "Mountain-500 Black, 40(Black)"
                                },
                                {
                                    "NOMBRECOMPLETO": "Mountain-500 Black, 42(Black)"
                                },
                                {
                                    "NOMBRECOMPLETO": "Mountain-500 Black, 44(Black)"
                                },
                                {
                                    "NOMBRECOMPLETO": "Mountain-500 Black, 48(Black)"
                                },
                                {
                                    "NOMBRECOMPLETO": "Mountain-500 Black, 52(Black)"
                                },
                                {
                                    "NOMBRECOMPLETO": "LL Bottom Bracket(SIN COLOR)"
                                },
                                {
                                    "NOMBRECOMPLETO": "ML Bottom Bracket(SIN COLOR)"
                                },
                                {
                                    "NOMBRECOMPLETO": "HL Bottom Bracket(SIN COLOR)"
                                },
                                {
                                    "NOMBRECOMPLETO": "Road-750 Black, 44(Black)"
                                },
                                {
                                    "NOMBRECOMPLETO": "Road-750 Black, 48(Black)"
                                },
                                {
                                    "NOMBRECOMPLETO": "Road-750 Black, 52(Black)"
                                }
                            ]
                        },
                        "text/html": "<table><tr><th>NOMBRECOMPLETO</th></tr><tr><td>Adjustable Race(SIN COLOR)</td></tr><tr><td>Bearing Ball(SIN COLOR)</td></tr><tr><td>BB Ball Bearing(SIN COLOR)</td></tr><tr><td>Headset Ball Bearings(SIN COLOR)</td></tr><tr><td>Blade(SIN COLOR)</td></tr><tr><td>LL Crankarm(Black)</td></tr><tr><td>ML Crankarm(Black)</td></tr><tr><td>HL Crankarm(Black)</td></tr><tr><td>Chainring Bolts(Silver)</td></tr><tr><td>Chainring Nut(Silver)</td></tr><tr><td>Chainring(Black)</td></tr><tr><td>Crown Race(SIN COLOR)</td></tr><tr><td>Chain Stays(SIN COLOR)</td></tr><tr><td>Decal 1(SIN COLOR)</td></tr><tr><td>Decal 2(SIN COLOR)</td></tr><tr><td>Down Tube(SIN COLOR)</td></tr><tr><td>Mountain End Caps(SIN COLOR)</td></tr><tr><td>Road End Caps(SIN COLOR)</td></tr><tr><td>Touring End Caps(SIN COLOR)</td></tr><tr><td>Fork End(SIN COLOR)</td></tr><tr><td>Freewheel(Silver)</td></tr><tr><td>Flat Washer 1(SIN COLOR)</td></tr><tr><td>Flat Washer 6(SIN COLOR)</td></tr><tr><td>Flat Washer 2(SIN COLOR)</td></tr><tr><td>Flat Washer 9(SIN COLOR)</td></tr><tr><td>Flat Washer 4(SIN COLOR)</td></tr><tr><td>Flat Washer 3(SIN COLOR)</td></tr><tr><td>Flat Washer 8(SIN COLOR)</td></tr><tr><td>Flat Washer 5(SIN COLOR)</td></tr><tr><td>Flat Washer 7(SIN COLOR)</td></tr><tr><td>Fork Crown(SIN COLOR)</td></tr><tr><td>Front Derailleur Cage(Silver)</td></tr><tr><td>Front Derailleur Linkage(Silver)</td></tr><tr><td>Guide Pulley(SIN COLOR)</td></tr><tr><td>LL Grip Tape(SIN COLOR)</td></tr><tr><td>ML Grip Tape(SIN COLOR)</td></tr><tr><td>HL Grip Tape(SIN COLOR)</td></tr><tr><td>Thin-Jam Hex Nut 9(SIN COLOR)</td></tr><tr><td>Thin-Jam Hex Nut 10(SIN COLOR)</td></tr><tr><td>Thin-Jam Hex Nut 1(SIN COLOR)</td></tr><tr><td>Thin-Jam Hex Nut 2(SIN COLOR)</td></tr><tr><td>Thin-Jam Hex Nut 15(SIN COLOR)</td></tr><tr><td>Thin-Jam Hex Nut 16(SIN COLOR)</td></tr><tr><td>Thin-Jam Hex Nut 5(SIN COLOR)</td></tr><tr><td>Thin-Jam Hex Nut 6(SIN COLOR)</td></tr><tr><td>Thin-Jam Hex Nut 3(SIN COLOR)</td></tr><tr><td>Thin-Jam Hex Nut 4(SIN COLOR)</td></tr><tr><td>Thin-Jam Hex Nut 13(SIN COLOR)</td></tr><tr><td>Thin-Jam Hex Nut 14(SIN COLOR)</td></tr><tr><td>Thin-Jam Hex Nut 7(SIN COLOR)</td></tr><tr><td>Thin-Jam Hex Nut 8(SIN COLOR)</td></tr><tr><td>Thin-Jam Hex Nut 12(SIN COLOR)</td></tr><tr><td>Thin-Jam Hex Nut 11(SIN COLOR)</td></tr><tr><td>Hex Nut 5(SIN COLOR)</td></tr><tr><td>Hex Nut 6(SIN COLOR)</td></tr><tr><td>Hex Nut 16(SIN COLOR)</td></tr><tr><td>Hex Nut 17(SIN COLOR)</td></tr><tr><td>Hex Nut 7(SIN COLOR)</td></tr><tr><td>Hex Nut 8(SIN COLOR)</td></tr><tr><td>Hex Nut 9(SIN COLOR)</td></tr><tr><td>Hex Nut 22(SIN COLOR)</td></tr><tr><td>Hex Nut 23(SIN COLOR)</td></tr><tr><td>Hex Nut 12(SIN COLOR)</td></tr><tr><td>Hex Nut 13(SIN COLOR)</td></tr><tr><td>Hex Nut 1(SIN COLOR)</td></tr><tr><td>Hex Nut 10(SIN COLOR)</td></tr><tr><td>Hex Nut 11(SIN COLOR)</td></tr><tr><td>Hex Nut 2(SIN COLOR)</td></tr><tr><td>Hex Nut 20(SIN COLOR)</td></tr><tr><td>Hex Nut 21(SIN COLOR)</td></tr><tr><td>Hex Nut 3(SIN COLOR)</td></tr><tr><td>Hex Nut 14(SIN COLOR)</td></tr><tr><td>Hex Nut 15(SIN COLOR)</td></tr><tr><td>Hex Nut 4(SIN COLOR)</td></tr><tr><td>Hex Nut 18(SIN COLOR)</td></tr><tr><td>Hex Nut 19(SIN COLOR)</td></tr><tr><td>Handlebar Tube(SIN COLOR)</td></tr><tr><td>Head Tube(SIN COLOR)</td></tr><tr><td>LL Hub(SIN COLOR)</td></tr><tr><td>HL Hub(SIN COLOR)</td></tr><tr><td>Keyed Washer(SIN COLOR)</td></tr><tr><td>External Lock Washer 3(SIN COLOR)</td></tr><tr><td>External Lock Washer 4(SIN COLOR)</td></tr><tr><td>External Lock Washer 9(SIN COLOR)</td></tr><tr><td>External Lock Washer 5(SIN COLOR)</td></tr><tr><td>External Lock Washer 7(SIN COLOR)</td></tr><tr><td>External Lock Washer 6(SIN COLOR)</td></tr><tr><td>External Lock Washer 1(SIN COLOR)</td></tr><tr><td>External Lock Washer 8(SIN COLOR)</td></tr><tr><td>External Lock Washer 2(SIN COLOR)</td></tr><tr><td>Internal Lock Washer 3(SIN COLOR)</td></tr><tr><td>Internal Lock Washer 4(SIN COLOR)</td></tr><tr><td>Internal Lock Washer 9(SIN COLOR)</td></tr><tr><td>Internal Lock Washer 5(SIN COLOR)</td></tr><tr><td>Internal Lock Washer 7(SIN COLOR)</td></tr><tr><td>Internal Lock Washer 6(SIN COLOR)</td></tr><tr><td>Internal Lock Washer 10(SIN COLOR)</td></tr><tr><td>Internal Lock Washer 1(SIN COLOR)</td></tr><tr><td>Internal Lock Washer 8(SIN COLOR)</td></tr><tr><td>Internal Lock Washer 2(SIN COLOR)</td></tr><tr><td>Thin-Jam Lock Nut 9(SIN COLOR)</td></tr><tr><td>Thin-Jam Lock Nut 10(SIN COLOR)</td></tr><tr><td>Thin-Jam Lock Nut 1(SIN COLOR)</td></tr><tr><td>Thin-Jam Lock Nut 2(SIN COLOR)</td></tr><tr><td>Thin-Jam Lock Nut 15(SIN COLOR)</td></tr><tr><td>Thin-Jam Lock Nut 16(SIN COLOR)</td></tr><tr><td>Thin-Jam Lock Nut 5(SIN COLOR)</td></tr><tr><td>Thin-Jam Lock Nut 6(SIN COLOR)</td></tr><tr><td>Thin-Jam Lock Nut 3(SIN COLOR)</td></tr><tr><td>Thin-Jam Lock Nut 4(SIN COLOR)</td></tr><tr><td>Thin-Jam Lock Nut 13(SIN COLOR)</td></tr><tr><td>Thin-Jam Lock Nut 14(SIN COLOR)</td></tr><tr><td>Thin-Jam Lock Nut 7(SIN COLOR)</td></tr><tr><td>Thin-Jam Lock Nut 8(SIN COLOR)</td></tr><tr><td>Thin-Jam Lock Nut 12(SIN COLOR)</td></tr><tr><td>Thin-Jam Lock Nut 11(SIN COLOR)</td></tr><tr><td>Lock Nut 5(SIN COLOR)</td></tr><tr><td>Lock Nut 6(SIN COLOR)</td></tr><tr><td>Lock Nut 16(SIN COLOR)</td></tr><tr><td>Lock Nut 17(SIN COLOR)</td></tr><tr><td>Lock Nut 7(SIN COLOR)</td></tr><tr><td>Lock Nut 8(SIN COLOR)</td></tr><tr><td>Lock Nut 9(SIN COLOR)</td></tr><tr><td>Lock Nut 22(SIN COLOR)</td></tr><tr><td>Lock Nut 23(SIN COLOR)</td></tr><tr><td>Lock Nut 12(SIN COLOR)</td></tr><tr><td>Lock Nut 13(SIN COLOR)</td></tr><tr><td>Lock Nut 1(SIN COLOR)</td></tr><tr><td>Lock Nut 10(SIN COLOR)</td></tr><tr><td>Lock Nut 11(SIN COLOR)</td></tr><tr><td>Lock Nut 2(SIN COLOR)</td></tr><tr><td>Lock Nut 20(SIN COLOR)</td></tr><tr><td>Lock Nut 21(SIN COLOR)</td></tr><tr><td>Lock Nut 3(SIN COLOR)</td></tr><tr><td>Lock Nut 14(SIN COLOR)</td></tr><tr><td>Lock Nut 15(SIN COLOR)</td></tr><tr><td>Lock Nut 4(SIN COLOR)</td></tr><tr><td>Lock Nut 19(SIN COLOR)</td></tr><tr><td>Lock Nut 18(SIN COLOR)</td></tr><tr><td>Lock Ring(Silver)</td></tr><tr><td>Lower Head Race(SIN COLOR)</td></tr><tr><td>Lock Washer 4(SIN COLOR)</td></tr><tr><td>Lock Washer 5(SIN COLOR)</td></tr><tr><td>Lock Washer 10(SIN COLOR)</td></tr><tr><td>Lock Washer 6(SIN COLOR)</td></tr><tr><td>Lock Washer 13(SIN COLOR)</td></tr><tr><td>Lock Washer 8(SIN COLOR)</td></tr><tr><td>Lock Washer 1(SIN COLOR)</td></tr><tr><td>Lock Washer 7(SIN COLOR)</td></tr><tr><td>Lock Washer 12(SIN COLOR)</td></tr><tr><td>Lock Washer 2(SIN COLOR)</td></tr><tr><td>Lock Washer 9(SIN COLOR)</td></tr><tr><td>Lock Washer 3(SIN COLOR)</td></tr><tr><td>Lock Washer 11(SIN COLOR)</td></tr><tr><td>Metal Angle(SIN COLOR)</td></tr><tr><td>Metal Bar 1(SIN COLOR)</td></tr><tr><td>Metal Bar 2(SIN COLOR)</td></tr><tr><td>Metal Plate 2(SIN COLOR)</td></tr><tr><td>Metal Plate 1(SIN COLOR)</td></tr><tr><td>Metal Plate 3(SIN COLOR)</td></tr><tr><td>Metal Sheet 2(SIN COLOR)</td></tr><tr><td>Metal Sheet 3(SIN COLOR)</td></tr><tr><td>Metal Sheet 7(SIN COLOR)</td></tr><tr><td>Metal Sheet 4(SIN COLOR)</td></tr><tr><td>Metal Sheet 5(SIN COLOR)</td></tr><tr><td>Metal Sheet 6(SIN COLOR)</td></tr><tr><td>Metal Sheet 1(SIN COLOR)</td></tr><tr><td>Metal Tread Plate(SIN COLOR)</td></tr><tr><td>LL Nipple(SIN COLOR)</td></tr><tr><td>HL Nipple(SIN COLOR)</td></tr><tr><td>Paint - Black(SIN COLOR)</td></tr><tr><td>Paint - Red(SIN COLOR)</td></tr><tr><td>Paint - Silver(SIN COLOR)</td></tr><tr><td>Paint - Blue(SIN COLOR)</td></tr><tr><td>Paint - Yellow(SIN COLOR)</td></tr><tr><td>Pinch Bolt(SIN COLOR)</td></tr><tr><td>Cup-Shaped Race(SIN COLOR)</td></tr><tr><td>Cone-Shaped Race(SIN COLOR)</td></tr><tr><td>Reflector(SIN COLOR)</td></tr><tr><td>LL Mountain Rim(SIN COLOR)</td></tr><tr><td>ML Mountain Rim(SIN COLOR)</td></tr><tr><td>HL Mountain Rim(SIN COLOR)</td></tr><tr><td>LL Road Rim(SIN COLOR)</td></tr><tr><td>ML Road Rim(SIN COLOR)</td></tr><tr><td>HL Road Rim(SIN COLOR)</td></tr><tr><td>Touring Rim(SIN COLOR)</td></tr><tr><td>LL Mountain Seat Assembly(SIN COLOR)</td></tr><tr><td>ML Mountain Seat Assembly(SIN COLOR)</td></tr><tr><td>HL Mountain Seat Assembly(SIN COLOR)</td></tr><tr><td>LL Road Seat Assembly(SIN COLOR)</td></tr><tr><td>ML Road Seat Assembly(SIN COLOR)</td></tr><tr><td>HL Road Seat Assembly(SIN COLOR)</td></tr><tr><td>LL Touring Seat Assembly(SIN COLOR)</td></tr><tr><td>ML Touring Seat Assembly(SIN COLOR)</td></tr><tr><td>HL Touring Seat Assembly(SIN COLOR)</td></tr><tr><td>LL Spindle/Axle(SIN COLOR)</td></tr><tr><td>HL Spindle/Axle(SIN COLOR)</td></tr><tr><td>LL Shell(SIN COLOR)</td></tr><tr><td>HL Shell(SIN COLOR)</td></tr><tr><td>Spokes(SIN COLOR)</td></tr><tr><td>Seat Lug(SIN COLOR)</td></tr><tr><td>Stem(SIN COLOR)</td></tr><tr><td>Seat Post(SIN COLOR)</td></tr><tr><td>Steerer(SIN COLOR)</td></tr><tr><td>Seat Stays(SIN COLOR)</td></tr><tr><td>Seat Tube(SIN COLOR)</td></tr><tr><td>Top Tube(SIN COLOR)</td></tr><tr><td>Tension Pulley(SIN COLOR)</td></tr><tr><td>Rear Derailleur Cage(Silver)</td></tr><tr><td>HL Road Frame - Black, 58(Black)</td></tr><tr><td>HL Road Frame - Red, 58(Red)</td></tr><tr><td>Sport-100 Helmet, Red(Red)</td></tr><tr><td>Sport-100 Helmet, Black(Black)</td></tr><tr><td>Mountain Bike Socks, M(White)</td></tr><tr><td>Mountain Bike Socks, L(White)</td></tr><tr><td>Sport-100 Helmet, Blue(Blue)</td></tr><tr><td>AWC Logo Cap(Multi)</td></tr><tr><td>Long-Sleeve Logo Jersey, S(Multi)</td></tr><tr><td>Long-Sleeve Logo Jersey, M(Multi)</td></tr><tr><td>Long-Sleeve Logo Jersey, L(Multi)</td></tr><tr><td>Long-Sleeve Logo Jersey, XL(Multi)</td></tr><tr><td>HL Road Frame - Red, 62(Red)</td></tr><tr><td>HL Road Frame - Red, 44(Red)</td></tr><tr><td>HL Road Frame - Red, 48(Red)</td></tr><tr><td>HL Road Frame - Red, 52(Red)</td></tr><tr><td>HL Road Frame - Red, 56(Red)</td></tr><tr><td>LL Road Frame - Black, 58(Black)</td></tr><tr><td>LL Road Frame - Black, 60(Black)</td></tr><tr><td>LL Road Frame - Black, 62(Black)</td></tr><tr><td>LL Road Frame - Red, 44(Red)</td></tr><tr><td>LL Road Frame - Red, 48(Red)</td></tr><tr><td>LL Road Frame - Red, 52(Red)</td></tr><tr><td>LL Road Frame - Red, 58(Red)</td></tr><tr><td>LL Road Frame - Red, 60(Red)</td></tr><tr><td>LL Road Frame - Red, 62(Red)</td></tr><tr><td>ML Road Frame - Red, 44(Red)</td></tr><tr><td>ML Road Frame - Red, 48(Red)</td></tr><tr><td>ML Road Frame - Red, 52(Red)</td></tr><tr><td>ML Road Frame - Red, 58(Red)</td></tr><tr><td>ML Road Frame - Red, 60(Red)</td></tr><tr><td>LL Road Frame - Black, 44(Black)</td></tr><tr><td>LL Road Frame - Black, 48(Black)</td></tr><tr><td>LL Road Frame - Black, 52(Black)</td></tr><tr><td>HL Mountain Frame - Silver, 42(Silver)</td></tr><tr><td>HL Mountain Frame - Silver, 44(Silver)</td></tr><tr><td>HL Mountain Frame - Silver, 48(Silver)</td></tr><tr><td>HL Mountain Frame - Silver, 46(Silver)</td></tr><tr><td>HL Mountain Frame - Black, 42(Black)</td></tr><tr><td>HL Mountain Frame - Black, 44(Black)</td></tr><tr><td>HL Mountain Frame - Black, 48(Black)</td></tr><tr><td>HL Mountain Frame - Black, 46(Black)</td></tr><tr><td>HL Mountain Frame - Black, 38(Black)</td></tr><tr><td>HL Mountain Frame - Silver, 38(Silver)</td></tr><tr><td>Road-150 Red, 62(Red)</td></tr><tr><td>Road-150 Red, 44(Red)</td></tr><tr><td>Road-150 Red, 48(Red)</td></tr><tr><td>Road-150 Red, 52(Red)</td></tr><tr><td>Road-150 Red, 56(Red)</td></tr><tr><td>Road-450 Red, 58(Red)</td></tr><tr><td>Road-450 Red, 60(Red)</td></tr><tr><td>Road-450 Red, 44(Red)</td></tr><tr><td>Road-450 Red, 48(Red)</td></tr><tr><td>Road-450 Red, 52(Red)</td></tr><tr><td>Road-650 Red, 58(Red)</td></tr><tr><td>Road-650 Red, 60(Red)</td></tr><tr><td>Road-650 Red, 62(Red)</td></tr><tr><td>Road-650 Red, 44(Red)</td></tr><tr><td>Road-650 Red, 48(Red)</td></tr><tr><td>Road-650 Red, 52(Red)</td></tr><tr><td>Road-650 Black, 58(Black)</td></tr><tr><td>Road-650 Black, 60(Black)</td></tr><tr><td>Road-650 Black, 62(Black)</td></tr><tr><td>Road-650 Black, 44(Black)</td></tr><tr><td>Road-650 Black, 48(Black)</td></tr><tr><td>Road-650 Black, 52(Black)</td></tr><tr><td>Mountain-100 Silver, 38(Silver)</td></tr><tr><td>Mountain-100 Silver, 42(Silver)</td></tr><tr><td>Mountain-100 Silver, 44(Silver)</td></tr><tr><td>Mountain-100 Silver, 48(Silver)</td></tr><tr><td>Mountain-100 Black, 38(Black)</td></tr><tr><td>Mountain-100 Black, 42(Black)</td></tr><tr><td>Mountain-100 Black, 44(Black)</td></tr><tr><td>Mountain-100 Black, 48(Black)</td></tr><tr><td>Mountain-200 Silver, 38(Silver)</td></tr><tr><td>Mountain-200 Silver, 42(Silver)</td></tr><tr><td>Mountain-200 Silver, 46(Silver)</td></tr><tr><td>Mountain-200 Black, 38(Black)</td></tr><tr><td>Mountain-200 Black, 42(Black)</td></tr><tr><td>Mountain-200 Black, 46(Black)</td></tr><tr><td>Mountain-300 Black, 38(Black)</td></tr><tr><td>Mountain-300 Black, 40(Black)</td></tr><tr><td>Mountain-300 Black, 44(Black)</td></tr><tr><td>Mountain-300 Black, 48(Black)</td></tr><tr><td>Road-250 Red, 44(Red)</td></tr><tr><td>Road-250 Red, 48(Red)</td></tr><tr><td>Road-250 Red, 52(Red)</td></tr><tr><td>Road-250 Red, 58(Red)</td></tr><tr><td>Road-250 Black, 44(Black)</td></tr><tr><td>Road-250 Black, 48(Black)</td></tr><tr><td>Road-250 Black, 52(Black)</td></tr><tr><td>Road-250 Black, 58(Black)</td></tr><tr><td>Road-550-W Yellow, 38(Yellow)</td></tr><tr><td>Road-550-W Yellow, 40(Yellow)</td></tr><tr><td>Road-550-W Yellow, 42(Yellow)</td></tr><tr><td>Road-550-W Yellow, 44(Yellow)</td></tr><tr><td>Road-550-W Yellow, 48(Yellow)</td></tr><tr><td>LL Fork(SIN COLOR)</td></tr><tr><td>ML Fork(SIN COLOR)</td></tr><tr><td>HL Fork(SIN COLOR)</td></tr><tr><td>LL Headset(SIN COLOR)</td></tr><tr><td>ML Headset(SIN COLOR)</td></tr><tr><td>HL Headset(SIN COLOR)</td></tr><tr><td>LL Mountain Handlebars(SIN COLOR)</td></tr><tr><td>ML Mountain Handlebars(SIN COLOR)</td></tr><tr><td>HL Mountain Handlebars(SIN COLOR)</td></tr><tr><td>LL Road Handlebars(SIN COLOR)</td></tr><tr><td>ML Road Handlebars(SIN COLOR)</td></tr><tr><td>HL Road Handlebars(SIN COLOR)</td></tr><tr><td>ML Mountain Frame - Black, 38(Black)</td></tr><tr><td>LL Mountain Front Wheel(Black)</td></tr><tr><td>ML Mountain Front Wheel(Black)</td></tr><tr><td>HL Mountain Front Wheel(Black)</td></tr><tr><td>LL Road Front Wheel(Black)</td></tr><tr><td>ML Road Front Wheel(Black)</td></tr><tr><td>HL Road Front Wheel(Black)</td></tr><tr><td>Touring Front Wheel(Black)</td></tr><tr><td>ML Road Frame-W - Yellow, 38(Yellow)</td></tr><tr><td>LL Mountain Rear Wheel(Black)</td></tr><tr><td>ML Mountain Rear Wheel(Black)</td></tr><tr><td>HL Mountain Rear Wheel(Black)</td></tr><tr><td>LL Road Rear Wheel(Black)</td></tr><tr><td>ML Road Rear Wheel(Black)</td></tr><tr><td>HL Road Rear Wheel(Black)</td></tr><tr><td>Touring Rear Wheel(Black)</td></tr><tr><td>ML Mountain Frame - Black, 40(Black)</td></tr><tr><td>ML Mountain Frame - Black, 44(Black)</td></tr><tr><td>ML Mountain Frame - Black, 48(Black)</td></tr><tr><td>ML Road Frame-W - Yellow, 40(Yellow)</td></tr><tr><td>ML Road Frame-W - Yellow, 42(Yellow)</td></tr><tr><td>ML Road Frame-W - Yellow, 44(Yellow)</td></tr><tr><td>ML Road Frame-W - Yellow, 48(Yellow)</td></tr><tr><td>HL Road Frame - Black, 62(Black)</td></tr><tr><td>HL Road Frame - Black, 44(Black)</td></tr><tr><td>HL Road Frame - Black, 48(Black)</td></tr><tr><td>HL Road Frame - Black, 52(Black)</td></tr><tr><td>Men&#39;s Sports Shorts, S(Black)</td></tr><tr><td>Touring-Panniers, Large(Grey)</td></tr><tr><td>Cable Lock(SIN COLOR)</td></tr><tr><td>Minipump(SIN COLOR)</td></tr><tr><td>Mountain Pump(SIN COLOR)</td></tr><tr><td>Taillights - Battery-Powered(SIN COLOR)</td></tr><tr><td>Headlights - Dual-Beam(SIN COLOR)</td></tr><tr><td>Headlights - Weatherproof(SIN COLOR)</td></tr><tr><td>Men&#39;s Sports Shorts, M(Black)</td></tr><tr><td>Men&#39;s Sports Shorts, L(Black)</td></tr><tr><td>Men&#39;s Sports Shorts, XL(Black)</td></tr><tr><td>Women&#39;s Tights, S(Black)</td></tr><tr><td>Women&#39;s Tights, M(Black)</td></tr><tr><td>Women&#39;s Tights, L(Black)</td></tr><tr><td>Men&#39;s Bib-Shorts, S(Multi)</td></tr><tr><td>Men&#39;s Bib-Shorts, M(Multi)</td></tr><tr><td>Men&#39;s Bib-Shorts, L(Multi)</td></tr><tr><td>Half-Finger Gloves, S(Black)</td></tr><tr><td>Half-Finger Gloves, M(Black)</td></tr><tr><td>Half-Finger Gloves, L(Black)</td></tr><tr><td>Full-Finger Gloves, S(Black)</td></tr><tr><td>Full-Finger Gloves, M(Black)</td></tr><tr><td>Full-Finger Gloves, L(Black)</td></tr><tr><td>Classic Vest, S(Blue)</td></tr><tr><td>Classic Vest, M(Blue)</td></tr><tr><td>Classic Vest, L(Blue)</td></tr><tr><td>Women&#39;s Mountain Shorts, S(Black)</td></tr><tr><td>Women&#39;s Mountain Shorts, M(Black)</td></tr><tr><td>Women&#39;s Mountain Shorts, L(Black)</td></tr><tr><td>Water Bottle - 30 oz.(SIN COLOR)</td></tr><tr><td>Mountain Bottle Cage(SIN COLOR)</td></tr><tr><td>Road Bottle Cage(SIN COLOR)</td></tr><tr><td>Patch Kit/8 Patches(SIN COLOR)</td></tr><tr><td>Racing Socks, M(White)</td></tr><tr><td>Racing Socks, L(White)</td></tr><tr><td>Hitch Rack - 4-Bike(SIN COLOR)</td></tr><tr><td>Bike Wash - Dissolver(SIN COLOR)</td></tr><tr><td>Fender Set - Mountain(SIN COLOR)</td></tr><tr><td>All-Purpose Bike Stand(SIN COLOR)</td></tr><tr><td>Hydration Pack - 70 oz.(Silver)</td></tr><tr><td>Short-Sleeve Classic Jersey, S(Yellow)</td></tr><tr><td>Short-Sleeve Classic Jersey, M(Yellow)</td></tr><tr><td>Short-Sleeve Classic Jersey, L(Yellow)</td></tr><tr><td>Short-Sleeve Classic Jersey, XL(Yellow)</td></tr><tr><td>HL Touring Frame - Yellow, 60(Yellow)</td></tr><tr><td>LL Touring Frame - Yellow, 62(Yellow)</td></tr><tr><td>HL Touring Frame - Yellow, 46(Yellow)</td></tr><tr><td>HL Touring Frame - Yellow, 50(Yellow)</td></tr><tr><td>HL Touring Frame - Yellow, 54(Yellow)</td></tr><tr><td>HL Touring Frame - Blue, 46(Blue)</td></tr><tr><td>HL Touring Frame - Blue, 50(Blue)</td></tr><tr><td>HL Touring Frame - Blue, 54(Blue)</td></tr><tr><td>HL Touring Frame - Blue, 60(Blue)</td></tr><tr><td>Rear Derailleur(Silver)</td></tr><tr><td>LL Touring Frame - Blue, 50(Blue)</td></tr><tr><td>LL Touring Frame - Blue, 54(Blue)</td></tr><tr><td>LL Touring Frame - Blue, 58(Blue)</td></tr><tr><td>LL Touring Frame - Blue, 62(Blue)</td></tr><tr><td>LL Touring Frame - Yellow, 44(Yellow)</td></tr><tr><td>LL Touring Frame - Yellow, 50(Yellow)</td></tr><tr><td>LL Touring Frame - Yellow, 54(Yellow)</td></tr><tr><td>LL Touring Frame - Yellow, 58(Yellow)</td></tr><tr><td>LL Touring Frame - Blue, 44(Blue)</td></tr><tr><td>ML Mountain Frame-W - Silver, 40(Silver)</td></tr><tr><td>ML Mountain Frame-W - Silver, 42(Silver)</td></tr><tr><td>ML Mountain Frame-W - Silver, 46(Silver)</td></tr><tr><td>Rear Brakes(Silver)</td></tr><tr><td>LL Mountain Seat/Saddle(SIN COLOR)</td></tr><tr><td>ML Mountain Seat/Saddle(SIN COLOR)</td></tr><tr><td>HL Mountain Seat/Saddle(SIN COLOR)</td></tr><tr><td>LL Road Seat/Saddle(SIN COLOR)</td></tr><tr><td>ML Road Seat/Saddle(SIN COLOR)</td></tr><tr><td>HL Road Seat/Saddle(SIN COLOR)</td></tr><tr><td>LL Touring Seat/Saddle(SIN COLOR)</td></tr><tr><td>ML Touring Seat/Saddle(SIN COLOR)</td></tr><tr><td>HL Touring Seat/Saddle(SIN COLOR)</td></tr><tr><td>LL Mountain Frame - Silver, 42(Silver)</td></tr><tr><td>LL Mountain Frame - Silver, 44(Silver)</td></tr><tr><td>LL Mountain Frame - Silver, 48(Silver)</td></tr><tr><td>LL Mountain Frame - Silver, 52(Silver)</td></tr><tr><td>Mountain Tire Tube(SIN COLOR)</td></tr><tr><td>Road Tire Tube(SIN COLOR)</td></tr><tr><td>Touring Tire Tube(SIN COLOR)</td></tr><tr><td>LL Mountain Frame - Black, 42(Black)</td></tr><tr><td>LL Mountain Frame - Black, 44(Black)</td></tr><tr><td>LL Mountain Frame - Black, 48(Black)</td></tr><tr><td>LL Mountain Frame - Black, 52(Black)</td></tr><tr><td>LL Mountain Tire(SIN COLOR)</td></tr><tr><td>ML Mountain Tire(SIN COLOR)</td></tr><tr><td>HL Mountain Tire(SIN COLOR)</td></tr><tr><td>LL Road Tire(SIN COLOR)</td></tr><tr><td>ML Road Tire(SIN COLOR)</td></tr><tr><td>HL Road Tire(SIN COLOR)</td></tr><tr><td>Touring Tire(SIN COLOR)</td></tr><tr><td>LL Mountain Pedal(Silver/Black)</td></tr><tr><td>ML Mountain Pedal(Silver/Black)</td></tr><tr><td>HL Mountain Pedal(Silver/Black)</td></tr><tr><td>LL Road Pedal(Silver/Black)</td></tr><tr><td>ML Road Pedal(Silver/Black)</td></tr><tr><td>HL Road Pedal(Silver/Black)</td></tr><tr><td>Touring Pedal(Silver/Black)</td></tr><tr><td>ML Mountain Frame-W - Silver, 38(Silver)</td></tr><tr><td>LL Mountain Frame - Black, 40(Black)</td></tr><tr><td>LL Mountain Frame - Silver, 40(Silver)</td></tr><tr><td>Front Derailleur(Silver)</td></tr><tr><td>LL Touring Handlebars(SIN COLOR)</td></tr><tr><td>HL Touring Handlebars(SIN COLOR)</td></tr><tr><td>Front Brakes(Silver)</td></tr><tr><td>LL Crankset(Black)</td></tr><tr><td>ML Crankset(Black)</td></tr><tr><td>HL Crankset(Black)</td></tr><tr><td>Chain(Silver)</td></tr><tr><td>Touring-2000 Blue, 60(Blue)</td></tr><tr><td>Touring-1000 Yellow, 46(Yellow)</td></tr><tr><td>Touring-1000 Yellow, 50(Yellow)</td></tr><tr><td>Touring-1000 Yellow, 54(Yellow)</td></tr><tr><td>Touring-1000 Yellow, 60(Yellow)</td></tr><tr><td>Touring-3000 Blue, 54(Blue)</td></tr><tr><td>Touring-3000 Blue, 58(Blue)</td></tr><tr><td>Touring-3000 Blue, 62(Blue)</td></tr><tr><td>Touring-3000 Yellow, 44(Yellow)</td></tr><tr><td>Touring-3000 Yellow, 50(Yellow)</td></tr><tr><td>Touring-3000 Yellow, 54(Yellow)</td></tr><tr><td>Touring-3000 Yellow, 58(Yellow)</td></tr><tr><td>Touring-3000 Yellow, 62(Yellow)</td></tr><tr><td>Touring-1000 Blue, 46(Blue)</td></tr><tr><td>Touring-1000 Blue, 50(Blue)</td></tr><tr><td>Touring-1000 Blue, 54(Blue)</td></tr><tr><td>Touring-1000 Blue, 60(Blue)</td></tr><tr><td>Touring-2000 Blue, 46(Blue)</td></tr><tr><td>Touring-2000 Blue, 50(Blue)</td></tr><tr><td>Touring-2000 Blue, 54(Blue)</td></tr><tr><td>Road-350-W Yellow, 40(Yellow)</td></tr><tr><td>Road-350-W Yellow, 42(Yellow)</td></tr><tr><td>Road-350-W Yellow, 44(Yellow)</td></tr><tr><td>Road-350-W Yellow, 48(Yellow)</td></tr><tr><td>Road-750 Black, 58(Black)</td></tr><tr><td>Touring-3000 Blue, 44(Blue)</td></tr><tr><td>Touring-3000 Blue, 50(Blue)</td></tr><tr><td>Mountain-400-W Silver, 38(Silver)</td></tr><tr><td>Mountain-400-W Silver, 40(Silver)</td></tr><tr><td>Mountain-400-W Silver, 42(Silver)</td></tr><tr><td>Mountain-400-W Silver, 46(Silver)</td></tr><tr><td>Mountain-500 Silver, 40(Silver)</td></tr><tr><td>Mountain-500 Silver, 42(Silver)</td></tr><tr><td>Mountain-500 Silver, 44(Silver)</td></tr><tr><td>Mountain-500 Silver, 48(Silver)</td></tr><tr><td>Mountain-500 Silver, 52(Silver)</td></tr><tr><td>Mountain-500 Black, 40(Black)</td></tr><tr><td>Mountain-500 Black, 42(Black)</td></tr><tr><td>Mountain-500 Black, 44(Black)</td></tr><tr><td>Mountain-500 Black, 48(Black)</td></tr><tr><td>Mountain-500 Black, 52(Black)</td></tr><tr><td>LL Bottom Bracket(SIN COLOR)</td></tr><tr><td>ML Bottom Bracket(SIN COLOR)</td></tr><tr><td>HL Bottom Bracket(SIN COLOR)</td></tr><tr><td>Road-750 Black, 44(Black)</td></tr><tr><td>Road-750 Black, 48(Black)</td></tr><tr><td>Road-750 Black, 52(Black)</td></tr></table>"
                    },
                    "metadata": {}
                },
                {
                    "output_type": "execute_result",
                    "execution_count": 9,
                    "data": {
                        "application/vnd.dataresource+json": {
                            "schema": {
                                "fields": [
                                    {
                                        "name": "NOMBRECOMPLETO"
                                    }
                                ]
                            },
                            "data": [
                                {
                                    "NOMBRECOMPLETO": "Adjustable RaceAdjustable Race()"
                                },
                                {
                                    "NOMBRECOMPLETO": "Bearing BallBearing Ball()"
                                },
                                {
                                    "NOMBRECOMPLETO": "BB Ball BearingBB Ball Bearing()"
                                },
                                {
                                    "NOMBRECOMPLETO": "Headset Ball BearingsHeadset Ball Bearings()"
                                },
                                {
                                    "NOMBRECOMPLETO": "BladeBlade()"
                                },
                                {
                                    "NOMBRECOMPLETO": "LL CrankarmLL Crankarm(Black)"
                                },
                                {
                                    "NOMBRECOMPLETO": "ML CrankarmML Crankarm(Black)"
                                },
                                {
                                    "NOMBRECOMPLETO": "HL CrankarmHL Crankarm(Black)"
                                },
                                {
                                    "NOMBRECOMPLETO": "Chainring BoltsChainring Bolts(Silver)"
                                },
                                {
                                    "NOMBRECOMPLETO": "Chainring NutChainring Nut(Silver)"
                                },
                                {
                                    "NOMBRECOMPLETO": "ChainringChainring(Black)"
                                },
                                {
                                    "NOMBRECOMPLETO": "Crown RaceCrown Race()"
                                },
                                {
                                    "NOMBRECOMPLETO": "Chain StaysChain Stays()"
                                },
                                {
                                    "NOMBRECOMPLETO": "Decal 1Decal 1()"
                                },
                                {
                                    "NOMBRECOMPLETO": "Decal 2Decal 2()"
                                },
                                {
                                    "NOMBRECOMPLETO": "Down TubeDown Tube()"
                                },
                                {
                                    "NOMBRECOMPLETO": "Mountain End CapsMountain End Caps()"
                                },
                                {
                                    "NOMBRECOMPLETO": "Road End CapsRoad End Caps()"
                                },
                                {
                                    "NOMBRECOMPLETO": "Touring End CapsTouring End Caps()"
                                },
                                {
                                    "NOMBRECOMPLETO": "Fork EndFork End()"
                                },
                                {
                                    "NOMBRECOMPLETO": "FreewheelFreewheel(Silver)"
                                },
                                {
                                    "NOMBRECOMPLETO": "Flat Washer 1Flat Washer 1()"
                                },
                                {
                                    "NOMBRECOMPLETO": "Flat Washer 6Flat Washer 6()"
                                },
                                {
                                    "NOMBRECOMPLETO": "Flat Washer 2Flat Washer 2()"
                                },
                                {
                                    "NOMBRECOMPLETO": "Flat Washer 9Flat Washer 9()"
                                },
                                {
                                    "NOMBRECOMPLETO": "Flat Washer 4Flat Washer 4()"
                                },
                                {
                                    "NOMBRECOMPLETO": "Flat Washer 3Flat Washer 3()"
                                },
                                {
                                    "NOMBRECOMPLETO": "Flat Washer 8Flat Washer 8()"
                                },
                                {
                                    "NOMBRECOMPLETO": "Flat Washer 5Flat Washer 5()"
                                },
                                {
                                    "NOMBRECOMPLETO": "Flat Washer 7Flat Washer 7()"
                                },
                                {
                                    "NOMBRECOMPLETO": "Fork CrownFork Crown()"
                                },
                                {
                                    "NOMBRECOMPLETO": "Front Derailleur CageFront Derailleur Cage(Silver)"
                                },
                                {
                                    "NOMBRECOMPLETO": "Front Derailleur LinkageFront Derailleur Linkage(Silver)"
                                },
                                {
                                    "NOMBRECOMPLETO": "Guide PulleyGuide Pulley()"
                                },
                                {
                                    "NOMBRECOMPLETO": "LL Grip TapeLL Grip Tape()"
                                },
                                {
                                    "NOMBRECOMPLETO": "ML Grip TapeML Grip Tape()"
                                },
                                {
                                    "NOMBRECOMPLETO": "HL Grip TapeHL Grip Tape()"
                                },
                                {
                                    "NOMBRECOMPLETO": "Thin-Jam Hex Nut 9Thin-Jam Hex Nut 9()"
                                },
                                {
                                    "NOMBRECOMPLETO": "Thin-Jam Hex Nut 10Thin-Jam Hex Nut 10()"
                                },
                                {
                                    "NOMBRECOMPLETO": "Thin-Jam Hex Nut 1Thin-Jam Hex Nut 1()"
                                },
                                {
                                    "NOMBRECOMPLETO": "Thin-Jam Hex Nut 2Thin-Jam Hex Nut 2()"
                                },
                                {
                                    "NOMBRECOMPLETO": "Thin-Jam Hex Nut 15Thin-Jam Hex Nut 15()"
                                },
                                {
                                    "NOMBRECOMPLETO": "Thin-Jam Hex Nut 16Thin-Jam Hex Nut 16()"
                                },
                                {
                                    "NOMBRECOMPLETO": "Thin-Jam Hex Nut 5Thin-Jam Hex Nut 5()"
                                },
                                {
                                    "NOMBRECOMPLETO": "Thin-Jam Hex Nut 6Thin-Jam Hex Nut 6()"
                                },
                                {
                                    "NOMBRECOMPLETO": "Thin-Jam Hex Nut 3Thin-Jam Hex Nut 3()"
                                },
                                {
                                    "NOMBRECOMPLETO": "Thin-Jam Hex Nut 4Thin-Jam Hex Nut 4()"
                                },
                                {
                                    "NOMBRECOMPLETO": "Thin-Jam Hex Nut 13Thin-Jam Hex Nut 13()"
                                },
                                {
                                    "NOMBRECOMPLETO": "Thin-Jam Hex Nut 14Thin-Jam Hex Nut 14()"
                                },
                                {
                                    "NOMBRECOMPLETO": "Thin-Jam Hex Nut 7Thin-Jam Hex Nut 7()"
                                },
                                {
                                    "NOMBRECOMPLETO": "Thin-Jam Hex Nut 8Thin-Jam Hex Nut 8()"
                                },
                                {
                                    "NOMBRECOMPLETO": "Thin-Jam Hex Nut 12Thin-Jam Hex Nut 12()"
                                },
                                {
                                    "NOMBRECOMPLETO": "Thin-Jam Hex Nut 11Thin-Jam Hex Nut 11()"
                                },
                                {
                                    "NOMBRECOMPLETO": "Hex Nut 5Hex Nut 5()"
                                },
                                {
                                    "NOMBRECOMPLETO": "Hex Nut 6Hex Nut 6()"
                                },
                                {
                                    "NOMBRECOMPLETO": "Hex Nut 16Hex Nut 16()"
                                },
                                {
                                    "NOMBRECOMPLETO": "Hex Nut 17Hex Nut 17()"
                                },
                                {
                                    "NOMBRECOMPLETO": "Hex Nut 7Hex Nut 7()"
                                },
                                {
                                    "NOMBRECOMPLETO": "Hex Nut 8Hex Nut 8()"
                                },
                                {
                                    "NOMBRECOMPLETO": "Hex Nut 9Hex Nut 9()"
                                },
                                {
                                    "NOMBRECOMPLETO": "Hex Nut 22Hex Nut 22()"
                                },
                                {
                                    "NOMBRECOMPLETO": "Hex Nut 23Hex Nut 23()"
                                },
                                {
                                    "NOMBRECOMPLETO": "Hex Nut 12Hex Nut 12()"
                                },
                                {
                                    "NOMBRECOMPLETO": "Hex Nut 13Hex Nut 13()"
                                },
                                {
                                    "NOMBRECOMPLETO": "Hex Nut 1Hex Nut 1()"
                                },
                                {
                                    "NOMBRECOMPLETO": "Hex Nut 10Hex Nut 10()"
                                },
                                {
                                    "NOMBRECOMPLETO": "Hex Nut 11Hex Nut 11()"
                                },
                                {
                                    "NOMBRECOMPLETO": "Hex Nut 2Hex Nut 2()"
                                },
                                {
                                    "NOMBRECOMPLETO": "Hex Nut 20Hex Nut 20()"
                                },
                                {
                                    "NOMBRECOMPLETO": "Hex Nut 21Hex Nut 21()"
                                },
                                {
                                    "NOMBRECOMPLETO": "Hex Nut 3Hex Nut 3()"
                                },
                                {
                                    "NOMBRECOMPLETO": "Hex Nut 14Hex Nut 14()"
                                },
                                {
                                    "NOMBRECOMPLETO": "Hex Nut 15Hex Nut 15()"
                                },
                                {
                                    "NOMBRECOMPLETO": "Hex Nut 4Hex Nut 4()"
                                },
                                {
                                    "NOMBRECOMPLETO": "Hex Nut 18Hex Nut 18()"
                                },
                                {
                                    "NOMBRECOMPLETO": "Hex Nut 19Hex Nut 19()"
                                },
                                {
                                    "NOMBRECOMPLETO": "Handlebar TubeHandlebar Tube()"
                                },
                                {
                                    "NOMBRECOMPLETO": "Head TubeHead Tube()"
                                },
                                {
                                    "NOMBRECOMPLETO": "LL HubLL Hub()"
                                },
                                {
                                    "NOMBRECOMPLETO": "HL HubHL Hub()"
                                },
                                {
                                    "NOMBRECOMPLETO": "Keyed WasherKeyed Washer()"
                                },
                                {
                                    "NOMBRECOMPLETO": "External Lock Washer 3External Lock Washer 3()"
                                },
                                {
                                    "NOMBRECOMPLETO": "External Lock Washer 4External Lock Washer 4()"
                                },
                                {
                                    "NOMBRECOMPLETO": "External Lock Washer 9External Lock Washer 9()"
                                },
                                {
                                    "NOMBRECOMPLETO": "External Lock Washer 5External Lock Washer 5()"
                                },
                                {
                                    "NOMBRECOMPLETO": "External Lock Washer 7External Lock Washer 7()"
                                },
                                {
                                    "NOMBRECOMPLETO": "External Lock Washer 6External Lock Washer 6()"
                                },
                                {
                                    "NOMBRECOMPLETO": "External Lock Washer 1External Lock Washer 1()"
                                },
                                {
                                    "NOMBRECOMPLETO": "External Lock Washer 8External Lock Washer 8()"
                                },
                                {
                                    "NOMBRECOMPLETO": "External Lock Washer 2External Lock Washer 2()"
                                },
                                {
                                    "NOMBRECOMPLETO": "Internal Lock Washer 3Internal Lock Washer 3()"
                                },
                                {
                                    "NOMBRECOMPLETO": "Internal Lock Washer 4Internal Lock Washer 4()"
                                },
                                {
                                    "NOMBRECOMPLETO": "Internal Lock Washer 9Internal Lock Washer 9()"
                                },
                                {
                                    "NOMBRECOMPLETO": "Internal Lock Washer 5Internal Lock Washer 5()"
                                },
                                {
                                    "NOMBRECOMPLETO": "Internal Lock Washer 7Internal Lock Washer 7()"
                                },
                                {
                                    "NOMBRECOMPLETO": "Internal Lock Washer 6Internal Lock Washer 6()"
                                },
                                {
                                    "NOMBRECOMPLETO": "Internal Lock Washer 10Internal Lock Washer 10()"
                                },
                                {
                                    "NOMBRECOMPLETO": "Internal Lock Washer 1Internal Lock Washer 1()"
                                },
                                {
                                    "NOMBRECOMPLETO": "Internal Lock Washer 8Internal Lock Washer 8()"
                                },
                                {
                                    "NOMBRECOMPLETO": "Internal Lock Washer 2Internal Lock Washer 2()"
                                },
                                {
                                    "NOMBRECOMPLETO": "Thin-Jam Lock Nut 9Thin-Jam Lock Nut 9()"
                                },
                                {
                                    "NOMBRECOMPLETO": "Thin-Jam Lock Nut 10Thin-Jam Lock Nut 10()"
                                },
                                {
                                    "NOMBRECOMPLETO": "Thin-Jam Lock Nut 1Thin-Jam Lock Nut 1()"
                                },
                                {
                                    "NOMBRECOMPLETO": "Thin-Jam Lock Nut 2Thin-Jam Lock Nut 2()"
                                },
                                {
                                    "NOMBRECOMPLETO": "Thin-Jam Lock Nut 15Thin-Jam Lock Nut 15()"
                                },
                                {
                                    "NOMBRECOMPLETO": "Thin-Jam Lock Nut 16Thin-Jam Lock Nut 16()"
                                },
                                {
                                    "NOMBRECOMPLETO": "Thin-Jam Lock Nut 5Thin-Jam Lock Nut 5()"
                                },
                                {
                                    "NOMBRECOMPLETO": "Thin-Jam Lock Nut 6Thin-Jam Lock Nut 6()"
                                },
                                {
                                    "NOMBRECOMPLETO": "Thin-Jam Lock Nut 3Thin-Jam Lock Nut 3()"
                                },
                                {
                                    "NOMBRECOMPLETO": "Thin-Jam Lock Nut 4Thin-Jam Lock Nut 4()"
                                },
                                {
                                    "NOMBRECOMPLETO": "Thin-Jam Lock Nut 13Thin-Jam Lock Nut 13()"
                                },
                                {
                                    "NOMBRECOMPLETO": "Thin-Jam Lock Nut 14Thin-Jam Lock Nut 14()"
                                },
                                {
                                    "NOMBRECOMPLETO": "Thin-Jam Lock Nut 7Thin-Jam Lock Nut 7()"
                                },
                                {
                                    "NOMBRECOMPLETO": "Thin-Jam Lock Nut 8Thin-Jam Lock Nut 8()"
                                },
                                {
                                    "NOMBRECOMPLETO": "Thin-Jam Lock Nut 12Thin-Jam Lock Nut 12()"
                                },
                                {
                                    "NOMBRECOMPLETO": "Thin-Jam Lock Nut 11Thin-Jam Lock Nut 11()"
                                },
                                {
                                    "NOMBRECOMPLETO": "Lock Nut 5Lock Nut 5()"
                                },
                                {
                                    "NOMBRECOMPLETO": "Lock Nut 6Lock Nut 6()"
                                },
                                {
                                    "NOMBRECOMPLETO": "Lock Nut 16Lock Nut 16()"
                                },
                                {
                                    "NOMBRECOMPLETO": "Lock Nut 17Lock Nut 17()"
                                },
                                {
                                    "NOMBRECOMPLETO": "Lock Nut 7Lock Nut 7()"
                                },
                                {
                                    "NOMBRECOMPLETO": "Lock Nut 8Lock Nut 8()"
                                },
                                {
                                    "NOMBRECOMPLETO": "Lock Nut 9Lock Nut 9()"
                                },
                                {
                                    "NOMBRECOMPLETO": "Lock Nut 22Lock Nut 22()"
                                },
                                {
                                    "NOMBRECOMPLETO": "Lock Nut 23Lock Nut 23()"
                                },
                                {
                                    "NOMBRECOMPLETO": "Lock Nut 12Lock Nut 12()"
                                },
                                {
                                    "NOMBRECOMPLETO": "Lock Nut 13Lock Nut 13()"
                                },
                                {
                                    "NOMBRECOMPLETO": "Lock Nut 1Lock Nut 1()"
                                },
                                {
                                    "NOMBRECOMPLETO": "Lock Nut 10Lock Nut 10()"
                                },
                                {
                                    "NOMBRECOMPLETO": "Lock Nut 11Lock Nut 11()"
                                },
                                {
                                    "NOMBRECOMPLETO": "Lock Nut 2Lock Nut 2()"
                                },
                                {
                                    "NOMBRECOMPLETO": "Lock Nut 20Lock Nut 20()"
                                },
                                {
                                    "NOMBRECOMPLETO": "Lock Nut 21Lock Nut 21()"
                                },
                                {
                                    "NOMBRECOMPLETO": "Lock Nut 3Lock Nut 3()"
                                },
                                {
                                    "NOMBRECOMPLETO": "Lock Nut 14Lock Nut 14()"
                                },
                                {
                                    "NOMBRECOMPLETO": "Lock Nut 15Lock Nut 15()"
                                },
                                {
                                    "NOMBRECOMPLETO": "Lock Nut 4Lock Nut 4()"
                                },
                                {
                                    "NOMBRECOMPLETO": "Lock Nut 19Lock Nut 19()"
                                },
                                {
                                    "NOMBRECOMPLETO": "Lock Nut 18Lock Nut 18()"
                                },
                                {
                                    "NOMBRECOMPLETO": "Lock RingLock Ring(Silver)"
                                },
                                {
                                    "NOMBRECOMPLETO": "Lower Head RaceLower Head Race()"
                                },
                                {
                                    "NOMBRECOMPLETO": "Lock Washer 4Lock Washer 4()"
                                },
                                {
                                    "NOMBRECOMPLETO": "Lock Washer 5Lock Washer 5()"
                                },
                                {
                                    "NOMBRECOMPLETO": "Lock Washer 10Lock Washer 10()"
                                },
                                {
                                    "NOMBRECOMPLETO": "Lock Washer 6Lock Washer 6()"
                                },
                                {
                                    "NOMBRECOMPLETO": "Lock Washer 13Lock Washer 13()"
                                },
                                {
                                    "NOMBRECOMPLETO": "Lock Washer 8Lock Washer 8()"
                                },
                                {
                                    "NOMBRECOMPLETO": "Lock Washer 1Lock Washer 1()"
                                },
                                {
                                    "NOMBRECOMPLETO": "Lock Washer 7Lock Washer 7()"
                                },
                                {
                                    "NOMBRECOMPLETO": "Lock Washer 12Lock Washer 12()"
                                },
                                {
                                    "NOMBRECOMPLETO": "Lock Washer 2Lock Washer 2()"
                                },
                                {
                                    "NOMBRECOMPLETO": "Lock Washer 9Lock Washer 9()"
                                },
                                {
                                    "NOMBRECOMPLETO": "Lock Washer 3Lock Washer 3()"
                                },
                                {
                                    "NOMBRECOMPLETO": "Lock Washer 11Lock Washer 11()"
                                },
                                {
                                    "NOMBRECOMPLETO": "Metal AngleMetal Angle()"
                                },
                                {
                                    "NOMBRECOMPLETO": "Metal Bar 1Metal Bar 1()"
                                },
                                {
                                    "NOMBRECOMPLETO": "Metal Bar 2Metal Bar 2()"
                                },
                                {
                                    "NOMBRECOMPLETO": "Metal Plate 2Metal Plate 2()"
                                },
                                {
                                    "NOMBRECOMPLETO": "Metal Plate 1Metal Plate 1()"
                                },
                                {
                                    "NOMBRECOMPLETO": "Metal Plate 3Metal Plate 3()"
                                },
                                {
                                    "NOMBRECOMPLETO": "Metal Sheet 2Metal Sheet 2()"
                                },
                                {
                                    "NOMBRECOMPLETO": "Metal Sheet 3Metal Sheet 3()"
                                },
                                {
                                    "NOMBRECOMPLETO": "Metal Sheet 7Metal Sheet 7()"
                                },
                                {
                                    "NOMBRECOMPLETO": "Metal Sheet 4Metal Sheet 4()"
                                },
                                {
                                    "NOMBRECOMPLETO": "Metal Sheet 5Metal Sheet 5()"
                                },
                                {
                                    "NOMBRECOMPLETO": "Metal Sheet 6Metal Sheet 6()"
                                },
                                {
                                    "NOMBRECOMPLETO": "Metal Sheet 1Metal Sheet 1()"
                                },
                                {
                                    "NOMBRECOMPLETO": "Metal Tread PlateMetal Tread Plate()"
                                },
                                {
                                    "NOMBRECOMPLETO": "LL NippleLL Nipple()"
                                },
                                {
                                    "NOMBRECOMPLETO": "HL NippleHL Nipple()"
                                },
                                {
                                    "NOMBRECOMPLETO": "Paint - BlackPaint - Black()"
                                },
                                {
                                    "NOMBRECOMPLETO": "Paint - RedPaint - Red()"
                                },
                                {
                                    "NOMBRECOMPLETO": "Paint - SilverPaint - Silver()"
                                },
                                {
                                    "NOMBRECOMPLETO": "Paint - BluePaint - Blue()"
                                },
                                {
                                    "NOMBRECOMPLETO": "Paint - YellowPaint - Yellow()"
                                },
                                {
                                    "NOMBRECOMPLETO": "Pinch BoltPinch Bolt()"
                                },
                                {
                                    "NOMBRECOMPLETO": "Cup-Shaped RaceCup-Shaped Race()"
                                },
                                {
                                    "NOMBRECOMPLETO": "Cone-Shaped RaceCone-Shaped Race()"
                                },
                                {
                                    "NOMBRECOMPLETO": "ReflectorReflector()"
                                },
                                {
                                    "NOMBRECOMPLETO": "LL Mountain RimLL Mountain Rim()"
                                },
                                {
                                    "NOMBRECOMPLETO": "ML Mountain RimML Mountain Rim()"
                                },
                                {
                                    "NOMBRECOMPLETO": "HL Mountain RimHL Mountain Rim()"
                                },
                                {
                                    "NOMBRECOMPLETO": "LL Road RimLL Road Rim()"
                                },
                                {
                                    "NOMBRECOMPLETO": "ML Road RimML Road Rim()"
                                },
                                {
                                    "NOMBRECOMPLETO": "HL Road RimHL Road Rim()"
                                },
                                {
                                    "NOMBRECOMPLETO": "Touring RimTouring Rim()"
                                },
                                {
                                    "NOMBRECOMPLETO": "LL Mountain Seat AssemblyLL Mountain Seat Assembly()"
                                },
                                {
                                    "NOMBRECOMPLETO": "ML Mountain Seat AssemblyML Mountain Seat Assembly()"
                                },
                                {
                                    "NOMBRECOMPLETO": "HL Mountain Seat AssemblyHL Mountain Seat Assembly()"
                                },
                                {
                                    "NOMBRECOMPLETO": "LL Road Seat AssemblyLL Road Seat Assembly()"
                                },
                                {
                                    "NOMBRECOMPLETO": "ML Road Seat AssemblyML Road Seat Assembly()"
                                },
                                {
                                    "NOMBRECOMPLETO": "HL Road Seat AssemblyHL Road Seat Assembly()"
                                },
                                {
                                    "NOMBRECOMPLETO": "LL Touring Seat AssemblyLL Touring Seat Assembly()"
                                },
                                {
                                    "NOMBRECOMPLETO": "ML Touring Seat AssemblyML Touring Seat Assembly()"
                                },
                                {
                                    "NOMBRECOMPLETO": "HL Touring Seat AssemblyHL Touring Seat Assembly()"
                                },
                                {
                                    "NOMBRECOMPLETO": "LL Spindle/AxleLL Spindle/Axle()"
                                },
                                {
                                    "NOMBRECOMPLETO": "HL Spindle/AxleHL Spindle/Axle()"
                                },
                                {
                                    "NOMBRECOMPLETO": "LL ShellLL Shell()"
                                },
                                {
                                    "NOMBRECOMPLETO": "HL ShellHL Shell()"
                                },
                                {
                                    "NOMBRECOMPLETO": "SpokesSpokes()"
                                },
                                {
                                    "NOMBRECOMPLETO": "Seat LugSeat Lug()"
                                },
                                {
                                    "NOMBRECOMPLETO": "StemStem()"
                                },
                                {
                                    "NOMBRECOMPLETO": "Seat PostSeat Post()"
                                },
                                {
                                    "NOMBRECOMPLETO": "SteererSteerer()"
                                },
                                {
                                    "NOMBRECOMPLETO": "Seat StaysSeat Stays()"
                                },
                                {
                                    "NOMBRECOMPLETO": "Seat TubeSeat Tube()"
                                },
                                {
                                    "NOMBRECOMPLETO": "Top TubeTop Tube()"
                                },
                                {
                                    "NOMBRECOMPLETO": "Tension PulleyTension Pulley()"
                                },
                                {
                                    "NOMBRECOMPLETO": "Rear Derailleur CageRear Derailleur Cage(Silver)"
                                },
                                {
                                    "NOMBRECOMPLETO": "HL Road Frame - Black, 58HL Road Frame - Black, 58(Black)"
                                },
                                {
                                    "NOMBRECOMPLETO": "HL Road Frame - Red, 58HL Road Frame - Red, 58(Red)"
                                },
                                {
                                    "NOMBRECOMPLETO": "Sport-100 Helmet, RedSport-100 Helmet, Red(Red)"
                                },
                                {
                                    "NOMBRECOMPLETO": "Sport-100 Helmet, BlackSport-100 Helmet, Black(Black)"
                                },
                                {
                                    "NOMBRECOMPLETO": "Mountain Bike Socks, MMountain Bike Socks, M(White)"
                                },
                                {
                                    "NOMBRECOMPLETO": "Mountain Bike Socks, LMountain Bike Socks, L(White)"
                                },
                                {
                                    "NOMBRECOMPLETO": "Sport-100 Helmet, BlueSport-100 Helmet, Blue(Blue)"
                                },
                                {
                                    "NOMBRECOMPLETO": "AWC Logo CapAWC Logo Cap(Multi)"
                                },
                                {
                                    "NOMBRECOMPLETO": "Long-Sleeve Logo Jersey, SLong-Sleeve Logo Jersey, S(Multi)"
                                },
                                {
                                    "NOMBRECOMPLETO": "Long-Sleeve Logo Jersey, MLong-Sleeve Logo Jersey, M(Multi)"
                                },
                                {
                                    "NOMBRECOMPLETO": "Long-Sleeve Logo Jersey, LLong-Sleeve Logo Jersey, L(Multi)"
                                },
                                {
                                    "NOMBRECOMPLETO": "Long-Sleeve Logo Jersey, XLLong-Sleeve Logo Jersey, XL(Multi)"
                                },
                                {
                                    "NOMBRECOMPLETO": "HL Road Frame - Red, 62HL Road Frame - Red, 62(Red)"
                                },
                                {
                                    "NOMBRECOMPLETO": "HL Road Frame - Red, 44HL Road Frame - Red, 44(Red)"
                                },
                                {
                                    "NOMBRECOMPLETO": "HL Road Frame - Red, 48HL Road Frame - Red, 48(Red)"
                                },
                                {
                                    "NOMBRECOMPLETO": "HL Road Frame - Red, 52HL Road Frame - Red, 52(Red)"
                                },
                                {
                                    "NOMBRECOMPLETO": "HL Road Frame - Red, 56HL Road Frame - Red, 56(Red)"
                                },
                                {
                                    "NOMBRECOMPLETO": "LL Road Frame - Black, 58LL Road Frame - Black, 58(Black)"
                                },
                                {
                                    "NOMBRECOMPLETO": "LL Road Frame - Black, 60LL Road Frame - Black, 60(Black)"
                                },
                                {
                                    "NOMBRECOMPLETO": "LL Road Frame - Black, 62LL Road Frame - Black, 62(Black)"
                                },
                                {
                                    "NOMBRECOMPLETO": "LL Road Frame - Red, 44LL Road Frame - Red, 44(Red)"
                                },
                                {
                                    "NOMBRECOMPLETO": "LL Road Frame - Red, 48LL Road Frame - Red, 48(Red)"
                                },
                                {
                                    "NOMBRECOMPLETO": "LL Road Frame - Red, 52LL Road Frame - Red, 52(Red)"
                                },
                                {
                                    "NOMBRECOMPLETO": "LL Road Frame - Red, 58LL Road Frame - Red, 58(Red)"
                                },
                                {
                                    "NOMBRECOMPLETO": "LL Road Frame - Red, 60LL Road Frame - Red, 60(Red)"
                                },
                                {
                                    "NOMBRECOMPLETO": "LL Road Frame - Red, 62LL Road Frame - Red, 62(Red)"
                                },
                                {
                                    "NOMBRECOMPLETO": "ML Road Frame - Red, 44ML Road Frame - Red, 44(Red)"
                                },
                                {
                                    "NOMBRECOMPLETO": "ML Road Frame - Red, 48ML Road Frame - Red, 48(Red)"
                                },
                                {
                                    "NOMBRECOMPLETO": "ML Road Frame - Red, 52ML Road Frame - Red, 52(Red)"
                                },
                                {
                                    "NOMBRECOMPLETO": "ML Road Frame - Red, 58ML Road Frame - Red, 58(Red)"
                                },
                                {
                                    "NOMBRECOMPLETO": "ML Road Frame - Red, 60ML Road Frame - Red, 60(Red)"
                                },
                                {
                                    "NOMBRECOMPLETO": "LL Road Frame - Black, 44LL Road Frame - Black, 44(Black)"
                                },
                                {
                                    "NOMBRECOMPLETO": "LL Road Frame - Black, 48LL Road Frame - Black, 48(Black)"
                                },
                                {
                                    "NOMBRECOMPLETO": "LL Road Frame - Black, 52LL Road Frame - Black, 52(Black)"
                                },
                                {
                                    "NOMBRECOMPLETO": "HL Mountain Frame - Silver, 42HL Mountain Frame - Silver, 42(Silver)"
                                },
                                {
                                    "NOMBRECOMPLETO": "HL Mountain Frame - Silver, 44HL Mountain Frame - Silver, 44(Silver)"
                                },
                                {
                                    "NOMBRECOMPLETO": "HL Mountain Frame - Silver, 48HL Mountain Frame - Silver, 48(Silver)"
                                },
                                {
                                    "NOMBRECOMPLETO": "HL Mountain Frame - Silver, 46HL Mountain Frame - Silver, 46(Silver)"
                                },
                                {
                                    "NOMBRECOMPLETO": "HL Mountain Frame - Black, 42HL Mountain Frame - Black, 42(Black)"
                                },
                                {
                                    "NOMBRECOMPLETO": "HL Mountain Frame - Black, 44HL Mountain Frame - Black, 44(Black)"
                                },
                                {
                                    "NOMBRECOMPLETO": "HL Mountain Frame - Black, 48HL Mountain Frame - Black, 48(Black)"
                                },
                                {
                                    "NOMBRECOMPLETO": "HL Mountain Frame - Black, 46HL Mountain Frame - Black, 46(Black)"
                                },
                                {
                                    "NOMBRECOMPLETO": "HL Mountain Frame - Black, 38HL Mountain Frame - Black, 38(Black)"
                                },
                                {
                                    "NOMBRECOMPLETO": "HL Mountain Frame - Silver, 38HL Mountain Frame - Silver, 38(Silver)"
                                },
                                {
                                    "NOMBRECOMPLETO": "Road-150 Red, 62Road-150 Red, 62(Red)"
                                },
                                {
                                    "NOMBRECOMPLETO": "Road-150 Red, 44Road-150 Red, 44(Red)"
                                },
                                {
                                    "NOMBRECOMPLETO": "Road-150 Red, 48Road-150 Red, 48(Red)"
                                },
                                {
                                    "NOMBRECOMPLETO": "Road-150 Red, 52Road-150 Red, 52(Red)"
                                },
                                {
                                    "NOMBRECOMPLETO": "Road-150 Red, 56Road-150 Red, 56(Red)"
                                },
                                {
                                    "NOMBRECOMPLETO": "Road-450 Red, 58Road-450 Red, 58(Red)"
                                },
                                {
                                    "NOMBRECOMPLETO": "Road-450 Red, 60Road-450 Red, 60(Red)"
                                },
                                {
                                    "NOMBRECOMPLETO": "Road-450 Red, 44Road-450 Red, 44(Red)"
                                },
                                {
                                    "NOMBRECOMPLETO": "Road-450 Red, 48Road-450 Red, 48(Red)"
                                },
                                {
                                    "NOMBRECOMPLETO": "Road-450 Red, 52Road-450 Red, 52(Red)"
                                },
                                {
                                    "NOMBRECOMPLETO": "Road-650 Red, 58Road-650 Red, 58(Red)"
                                },
                                {
                                    "NOMBRECOMPLETO": "Road-650 Red, 60Road-650 Red, 60(Red)"
                                },
                                {
                                    "NOMBRECOMPLETO": "Road-650 Red, 62Road-650 Red, 62(Red)"
                                },
                                {
                                    "NOMBRECOMPLETO": "Road-650 Red, 44Road-650 Red, 44(Red)"
                                },
                                {
                                    "NOMBRECOMPLETO": "Road-650 Red, 48Road-650 Red, 48(Red)"
                                },
                                {
                                    "NOMBRECOMPLETO": "Road-650 Red, 52Road-650 Red, 52(Red)"
                                },
                                {
                                    "NOMBRECOMPLETO": "Road-650 Black, 58Road-650 Black, 58(Black)"
                                },
                                {
                                    "NOMBRECOMPLETO": "Road-650 Black, 60Road-650 Black, 60(Black)"
                                },
                                {
                                    "NOMBRECOMPLETO": "Road-650 Black, 62Road-650 Black, 62(Black)"
                                },
                                {
                                    "NOMBRECOMPLETO": "Road-650 Black, 44Road-650 Black, 44(Black)"
                                },
                                {
                                    "NOMBRECOMPLETO": "Road-650 Black, 48Road-650 Black, 48(Black)"
                                },
                                {
                                    "NOMBRECOMPLETO": "Road-650 Black, 52Road-650 Black, 52(Black)"
                                },
                                {
                                    "NOMBRECOMPLETO": "Mountain-100 Silver, 38Mountain-100 Silver, 38(Silver)"
                                },
                                {
                                    "NOMBRECOMPLETO": "Mountain-100 Silver, 42Mountain-100 Silver, 42(Silver)"
                                },
                                {
                                    "NOMBRECOMPLETO": "Mountain-100 Silver, 44Mountain-100 Silver, 44(Silver)"
                                },
                                {
                                    "NOMBRECOMPLETO": "Mountain-100 Silver, 48Mountain-100 Silver, 48(Silver)"
                                },
                                {
                                    "NOMBRECOMPLETO": "Mountain-100 Black, 38Mountain-100 Black, 38(Black)"
                                },
                                {
                                    "NOMBRECOMPLETO": "Mountain-100 Black, 42Mountain-100 Black, 42(Black)"
                                },
                                {
                                    "NOMBRECOMPLETO": "Mountain-100 Black, 44Mountain-100 Black, 44(Black)"
                                },
                                {
                                    "NOMBRECOMPLETO": "Mountain-100 Black, 48Mountain-100 Black, 48(Black)"
                                },
                                {
                                    "NOMBRECOMPLETO": "Mountain-200 Silver, 38Mountain-200 Silver, 38(Silver)"
                                },
                                {
                                    "NOMBRECOMPLETO": "Mountain-200 Silver, 42Mountain-200 Silver, 42(Silver)"
                                },
                                {
                                    "NOMBRECOMPLETO": "Mountain-200 Silver, 46Mountain-200 Silver, 46(Silver)"
                                },
                                {
                                    "NOMBRECOMPLETO": "Mountain-200 Black, 38Mountain-200 Black, 38(Black)"
                                },
                                {
                                    "NOMBRECOMPLETO": "Mountain-200 Black, 42Mountain-200 Black, 42(Black)"
                                },
                                {
                                    "NOMBRECOMPLETO": "Mountain-200 Black, 46Mountain-200 Black, 46(Black)"
                                },
                                {
                                    "NOMBRECOMPLETO": "Mountain-300 Black, 38Mountain-300 Black, 38(Black)"
                                },
                                {
                                    "NOMBRECOMPLETO": "Mountain-300 Black, 40Mountain-300 Black, 40(Black)"
                                },
                                {
                                    "NOMBRECOMPLETO": "Mountain-300 Black, 44Mountain-300 Black, 44(Black)"
                                },
                                {
                                    "NOMBRECOMPLETO": "Mountain-300 Black, 48Mountain-300 Black, 48(Black)"
                                },
                                {
                                    "NOMBRECOMPLETO": "Road-250 Red, 44Road-250 Red, 44(Red)"
                                },
                                {
                                    "NOMBRECOMPLETO": "Road-250 Red, 48Road-250 Red, 48(Red)"
                                },
                                {
                                    "NOMBRECOMPLETO": "Road-250 Red, 52Road-250 Red, 52(Red)"
                                },
                                {
                                    "NOMBRECOMPLETO": "Road-250 Red, 58Road-250 Red, 58(Red)"
                                },
                                {
                                    "NOMBRECOMPLETO": "Road-250 Black, 44Road-250 Black, 44(Black)"
                                },
                                {
                                    "NOMBRECOMPLETO": "Road-250 Black, 48Road-250 Black, 48(Black)"
                                },
                                {
                                    "NOMBRECOMPLETO": "Road-250 Black, 52Road-250 Black, 52(Black)"
                                },
                                {
                                    "NOMBRECOMPLETO": "Road-250 Black, 58Road-250 Black, 58(Black)"
                                },
                                {
                                    "NOMBRECOMPLETO": "Road-550-W Yellow, 38Road-550-W Yellow, 38(Yellow)"
                                },
                                {
                                    "NOMBRECOMPLETO": "Road-550-W Yellow, 40Road-550-W Yellow, 40(Yellow)"
                                },
                                {
                                    "NOMBRECOMPLETO": "Road-550-W Yellow, 42Road-550-W Yellow, 42(Yellow)"
                                },
                                {
                                    "NOMBRECOMPLETO": "Road-550-W Yellow, 44Road-550-W Yellow, 44(Yellow)"
                                },
                                {
                                    "NOMBRECOMPLETO": "Road-550-W Yellow, 48Road-550-W Yellow, 48(Yellow)"
                                },
                                {
                                    "NOMBRECOMPLETO": "LL ForkLL Fork()"
                                },
                                {
                                    "NOMBRECOMPLETO": "ML ForkML Fork()"
                                },
                                {
                                    "NOMBRECOMPLETO": "HL ForkHL Fork()"
                                },
                                {
                                    "NOMBRECOMPLETO": "LL HeadsetLL Headset()"
                                },
                                {
                                    "NOMBRECOMPLETO": "ML HeadsetML Headset()"
                                },
                                {
                                    "NOMBRECOMPLETO": "HL HeadsetHL Headset()"
                                },
                                {
                                    "NOMBRECOMPLETO": "LL Mountain HandlebarsLL Mountain Handlebars()"
                                },
                                {
                                    "NOMBRECOMPLETO": "ML Mountain HandlebarsML Mountain Handlebars()"
                                },
                                {
                                    "NOMBRECOMPLETO": "HL Mountain HandlebarsHL Mountain Handlebars()"
                                },
                                {
                                    "NOMBRECOMPLETO": "LL Road HandlebarsLL Road Handlebars()"
                                },
                                {
                                    "NOMBRECOMPLETO": "ML Road HandlebarsML Road Handlebars()"
                                },
                                {
                                    "NOMBRECOMPLETO": "HL Road HandlebarsHL Road Handlebars()"
                                },
                                {
                                    "NOMBRECOMPLETO": "ML Mountain Frame - Black, 38ML Mountain Frame - Black, 38(Black)"
                                },
                                {
                                    "NOMBRECOMPLETO": "LL Mountain Front WheelLL Mountain Front Wheel(Black)"
                                },
                                {
                                    "NOMBRECOMPLETO": "ML Mountain Front WheelML Mountain Front Wheel(Black)"
                                },
                                {
                                    "NOMBRECOMPLETO": "HL Mountain Front WheelHL Mountain Front Wheel(Black)"
                                },
                                {
                                    "NOMBRECOMPLETO": "LL Road Front WheelLL Road Front Wheel(Black)"
                                },
                                {
                                    "NOMBRECOMPLETO": "ML Road Front WheelML Road Front Wheel(Black)"
                                },
                                {
                                    "NOMBRECOMPLETO": "HL Road Front WheelHL Road Front Wheel(Black)"
                                },
                                {
                                    "NOMBRECOMPLETO": "Touring Front WheelTouring Front Wheel(Black)"
                                },
                                {
                                    "NOMBRECOMPLETO": "ML Road Frame-W - Yellow, 38ML Road Frame-W - Yellow, 38(Yellow)"
                                },
                                {
                                    "NOMBRECOMPLETO": "LL Mountain Rear WheelLL Mountain Rear Wheel(Black)"
                                },
                                {
                                    "NOMBRECOMPLETO": "ML Mountain Rear WheelML Mountain Rear Wheel(Black)"
                                },
                                {
                                    "NOMBRECOMPLETO": "HL Mountain Rear WheelHL Mountain Rear Wheel(Black)"
                                },
                                {
                                    "NOMBRECOMPLETO": "LL Road Rear WheelLL Road Rear Wheel(Black)"
                                },
                                {
                                    "NOMBRECOMPLETO": "ML Road Rear WheelML Road Rear Wheel(Black)"
                                },
                                {
                                    "NOMBRECOMPLETO": "HL Road Rear WheelHL Road Rear Wheel(Black)"
                                },
                                {
                                    "NOMBRECOMPLETO": "Touring Rear WheelTouring Rear Wheel(Black)"
                                },
                                {
                                    "NOMBRECOMPLETO": "ML Mountain Frame - Black, 40ML Mountain Frame - Black, 40(Black)"
                                },
                                {
                                    "NOMBRECOMPLETO": "ML Mountain Frame - Black, 44ML Mountain Frame - Black, 44(Black)"
                                },
                                {
                                    "NOMBRECOMPLETO": "ML Mountain Frame - Black, 48ML Mountain Frame - Black, 48(Black)"
                                },
                                {
                                    "NOMBRECOMPLETO": "ML Road Frame-W - Yellow, 40ML Road Frame-W - Yellow, 40(Yellow)"
                                },
                                {
                                    "NOMBRECOMPLETO": "ML Road Frame-W - Yellow, 42ML Road Frame-W - Yellow, 42(Yellow)"
                                },
                                {
                                    "NOMBRECOMPLETO": "ML Road Frame-W - Yellow, 44ML Road Frame-W - Yellow, 44(Yellow)"
                                },
                                {
                                    "NOMBRECOMPLETO": "ML Road Frame-W - Yellow, 48ML Road Frame-W - Yellow, 48(Yellow)"
                                },
                                {
                                    "NOMBRECOMPLETO": "HL Road Frame - Black, 62HL Road Frame - Black, 62(Black)"
                                },
                                {
                                    "NOMBRECOMPLETO": "HL Road Frame - Black, 44HL Road Frame - Black, 44(Black)"
                                },
                                {
                                    "NOMBRECOMPLETO": "HL Road Frame - Black, 48HL Road Frame - Black, 48(Black)"
                                },
                                {
                                    "NOMBRECOMPLETO": "HL Road Frame - Black, 52HL Road Frame - Black, 52(Black)"
                                },
                                {
                                    "NOMBRECOMPLETO": "Men's Sports Shorts, SMen's Sports Shorts, S(Black)"
                                },
                                {
                                    "NOMBRECOMPLETO": "Touring-Panniers, LargeTouring-Panniers, Large(Grey)"
                                },
                                {
                                    "NOMBRECOMPLETO": "Cable LockCable Lock()"
                                },
                                {
                                    "NOMBRECOMPLETO": "MinipumpMinipump()"
                                },
                                {
                                    "NOMBRECOMPLETO": "Mountain PumpMountain Pump()"
                                },
                                {
                                    "NOMBRECOMPLETO": "Taillights - Battery-PoweredTaillights - Battery-Powered()"
                                },
                                {
                                    "NOMBRECOMPLETO": "Headlights - Dual-BeamHeadlights - Dual-Beam()"
                                },
                                {
                                    "NOMBRECOMPLETO": "Headlights - WeatherproofHeadlights - Weatherproof()"
                                },
                                {
                                    "NOMBRECOMPLETO": "Men's Sports Shorts, MMen's Sports Shorts, M(Black)"
                                },
                                {
                                    "NOMBRECOMPLETO": "Men's Sports Shorts, LMen's Sports Shorts, L(Black)"
                                },
                                {
                                    "NOMBRECOMPLETO": "Men's Sports Shorts, XLMen's Sports Shorts, XL(Black)"
                                },
                                {
                                    "NOMBRECOMPLETO": "Women's Tights, SWomen's Tights, S(Black)"
                                },
                                {
                                    "NOMBRECOMPLETO": "Women's Tights, MWomen's Tights, M(Black)"
                                },
                                {
                                    "NOMBRECOMPLETO": "Women's Tights, LWomen's Tights, L(Black)"
                                },
                                {
                                    "NOMBRECOMPLETO": "Men's Bib-Shorts, SMen's Bib-Shorts, S(Multi)"
                                },
                                {
                                    "NOMBRECOMPLETO": "Men's Bib-Shorts, MMen's Bib-Shorts, M(Multi)"
                                },
                                {
                                    "NOMBRECOMPLETO": "Men's Bib-Shorts, LMen's Bib-Shorts, L(Multi)"
                                },
                                {
                                    "NOMBRECOMPLETO": "Half-Finger Gloves, SHalf-Finger Gloves, S(Black)"
                                },
                                {
                                    "NOMBRECOMPLETO": "Half-Finger Gloves, MHalf-Finger Gloves, M(Black)"
                                },
                                {
                                    "NOMBRECOMPLETO": "Half-Finger Gloves, LHalf-Finger Gloves, L(Black)"
                                },
                                {
                                    "NOMBRECOMPLETO": "Full-Finger Gloves, SFull-Finger Gloves, S(Black)"
                                },
                                {
                                    "NOMBRECOMPLETO": "Full-Finger Gloves, MFull-Finger Gloves, M(Black)"
                                },
                                {
                                    "NOMBRECOMPLETO": "Full-Finger Gloves, LFull-Finger Gloves, L(Black)"
                                },
                                {
                                    "NOMBRECOMPLETO": "Classic Vest, SClassic Vest, S(Blue)"
                                },
                                {
                                    "NOMBRECOMPLETO": "Classic Vest, MClassic Vest, M(Blue)"
                                },
                                {
                                    "NOMBRECOMPLETO": "Classic Vest, LClassic Vest, L(Blue)"
                                },
                                {
                                    "NOMBRECOMPLETO": "Women's Mountain Shorts, SWomen's Mountain Shorts, S(Black)"
                                },
                                {
                                    "NOMBRECOMPLETO": "Women's Mountain Shorts, MWomen's Mountain Shorts, M(Black)"
                                },
                                {
                                    "NOMBRECOMPLETO": "Women's Mountain Shorts, LWomen's Mountain Shorts, L(Black)"
                                },
                                {
                                    "NOMBRECOMPLETO": "Water Bottle - 30 oz.Water Bottle - 30 oz.()"
                                },
                                {
                                    "NOMBRECOMPLETO": "Mountain Bottle CageMountain Bottle Cage()"
                                },
                                {
                                    "NOMBRECOMPLETO": "Road Bottle CageRoad Bottle Cage()"
                                },
                                {
                                    "NOMBRECOMPLETO": "Patch Kit/8 PatchesPatch Kit/8 Patches()"
                                },
                                {
                                    "NOMBRECOMPLETO": "Racing Socks, MRacing Socks, M(White)"
                                },
                                {
                                    "NOMBRECOMPLETO": "Racing Socks, LRacing Socks, L(White)"
                                },
                                {
                                    "NOMBRECOMPLETO": "Hitch Rack - 4-BikeHitch Rack - 4-Bike()"
                                },
                                {
                                    "NOMBRECOMPLETO": "Bike Wash - DissolverBike Wash - Dissolver()"
                                },
                                {
                                    "NOMBRECOMPLETO": "Fender Set - MountainFender Set - Mountain()"
                                },
                                {
                                    "NOMBRECOMPLETO": "All-Purpose Bike StandAll-Purpose Bike Stand()"
                                },
                                {
                                    "NOMBRECOMPLETO": "Hydration Pack - 70 oz.Hydration Pack - 70 oz.(Silver)"
                                },
                                {
                                    "NOMBRECOMPLETO": "Short-Sleeve Classic Jersey, SShort-Sleeve Classic Jersey, S(Yellow)"
                                },
                                {
                                    "NOMBRECOMPLETO": "Short-Sleeve Classic Jersey, MShort-Sleeve Classic Jersey, M(Yellow)"
                                },
                                {
                                    "NOMBRECOMPLETO": "Short-Sleeve Classic Jersey, LShort-Sleeve Classic Jersey, L(Yellow)"
                                },
                                {
                                    "NOMBRECOMPLETO": "Short-Sleeve Classic Jersey, XLShort-Sleeve Classic Jersey, XL(Yellow)"
                                },
                                {
                                    "NOMBRECOMPLETO": "HL Touring Frame - Yellow, 60HL Touring Frame - Yellow, 60(Yellow)"
                                },
                                {
                                    "NOMBRECOMPLETO": "LL Touring Frame - Yellow, 62LL Touring Frame - Yellow, 62(Yellow)"
                                },
                                {
                                    "NOMBRECOMPLETO": "HL Touring Frame - Yellow, 46HL Touring Frame - Yellow, 46(Yellow)"
                                },
                                {
                                    "NOMBRECOMPLETO": "HL Touring Frame - Yellow, 50HL Touring Frame - Yellow, 50(Yellow)"
                                },
                                {
                                    "NOMBRECOMPLETO": "HL Touring Frame - Yellow, 54HL Touring Frame - Yellow, 54(Yellow)"
                                },
                                {
                                    "NOMBRECOMPLETO": "HL Touring Frame - Blue, 46HL Touring Frame - Blue, 46(Blue)"
                                },
                                {
                                    "NOMBRECOMPLETO": "HL Touring Frame - Blue, 50HL Touring Frame - Blue, 50(Blue)"
                                },
                                {
                                    "NOMBRECOMPLETO": "HL Touring Frame - Blue, 54HL Touring Frame - Blue, 54(Blue)"
                                },
                                {
                                    "NOMBRECOMPLETO": "HL Touring Frame - Blue, 60HL Touring Frame - Blue, 60(Blue)"
                                },
                                {
                                    "NOMBRECOMPLETO": "Rear DerailleurRear Derailleur(Silver)"
                                },
                                {
                                    "NOMBRECOMPLETO": "LL Touring Frame - Blue, 50LL Touring Frame - Blue, 50(Blue)"
                                },
                                {
                                    "NOMBRECOMPLETO": "LL Touring Frame - Blue, 54LL Touring Frame - Blue, 54(Blue)"
                                },
                                {
                                    "NOMBRECOMPLETO": "LL Touring Frame - Blue, 58LL Touring Frame - Blue, 58(Blue)"
                                },
                                {
                                    "NOMBRECOMPLETO": "LL Touring Frame - Blue, 62LL Touring Frame - Blue, 62(Blue)"
                                },
                                {
                                    "NOMBRECOMPLETO": "LL Touring Frame - Yellow, 44LL Touring Frame - Yellow, 44(Yellow)"
                                },
                                {
                                    "NOMBRECOMPLETO": "LL Touring Frame - Yellow, 50LL Touring Frame - Yellow, 50(Yellow)"
                                },
                                {
                                    "NOMBRECOMPLETO": "LL Touring Frame - Yellow, 54LL Touring Frame - Yellow, 54(Yellow)"
                                },
                                {
                                    "NOMBRECOMPLETO": "LL Touring Frame - Yellow, 58LL Touring Frame - Yellow, 58(Yellow)"
                                },
                                {
                                    "NOMBRECOMPLETO": "LL Touring Frame - Blue, 44LL Touring Frame - Blue, 44(Blue)"
                                },
                                {
                                    "NOMBRECOMPLETO": "ML Mountain Frame-W - Silver, 40ML Mountain Frame-W - Silver, 40(Silver)"
                                },
                                {
                                    "NOMBRECOMPLETO": "ML Mountain Frame-W - Silver, 42ML Mountain Frame-W - Silver, 42(Silver)"
                                },
                                {
                                    "NOMBRECOMPLETO": "ML Mountain Frame-W - Silver, 46ML Mountain Frame-W - Silver, 46(Silver)"
                                },
                                {
                                    "NOMBRECOMPLETO": "Rear BrakesRear Brakes(Silver)"
                                },
                                {
                                    "NOMBRECOMPLETO": "LL Mountain Seat/SaddleLL Mountain Seat/Saddle()"
                                },
                                {
                                    "NOMBRECOMPLETO": "ML Mountain Seat/SaddleML Mountain Seat/Saddle()"
                                },
                                {
                                    "NOMBRECOMPLETO": "HL Mountain Seat/SaddleHL Mountain Seat/Saddle()"
                                },
                                {
                                    "NOMBRECOMPLETO": "LL Road Seat/SaddleLL Road Seat/Saddle()"
                                },
                                {
                                    "NOMBRECOMPLETO": "ML Road Seat/SaddleML Road Seat/Saddle()"
                                },
                                {
                                    "NOMBRECOMPLETO": "HL Road Seat/SaddleHL Road Seat/Saddle()"
                                },
                                {
                                    "NOMBRECOMPLETO": "LL Touring Seat/SaddleLL Touring Seat/Saddle()"
                                },
                                {
                                    "NOMBRECOMPLETO": "ML Touring Seat/SaddleML Touring Seat/Saddle()"
                                },
                                {
                                    "NOMBRECOMPLETO": "HL Touring Seat/SaddleHL Touring Seat/Saddle()"
                                },
                                {
                                    "NOMBRECOMPLETO": "LL Mountain Frame - Silver, 42LL Mountain Frame - Silver, 42(Silver)"
                                },
                                {
                                    "NOMBRECOMPLETO": "LL Mountain Frame - Silver, 44LL Mountain Frame - Silver, 44(Silver)"
                                },
                                {
                                    "NOMBRECOMPLETO": "LL Mountain Frame - Silver, 48LL Mountain Frame - Silver, 48(Silver)"
                                },
                                {
                                    "NOMBRECOMPLETO": "LL Mountain Frame - Silver, 52LL Mountain Frame - Silver, 52(Silver)"
                                },
                                {
                                    "NOMBRECOMPLETO": "Mountain Tire TubeMountain Tire Tube()"
                                },
                                {
                                    "NOMBRECOMPLETO": "Road Tire TubeRoad Tire Tube()"
                                },
                                {
                                    "NOMBRECOMPLETO": "Touring Tire TubeTouring Tire Tube()"
                                },
                                {
                                    "NOMBRECOMPLETO": "LL Mountain Frame - Black, 42LL Mountain Frame - Black, 42(Black)"
                                },
                                {
                                    "NOMBRECOMPLETO": "LL Mountain Frame - Black, 44LL Mountain Frame - Black, 44(Black)"
                                },
                                {
                                    "NOMBRECOMPLETO": "LL Mountain Frame - Black, 48LL Mountain Frame - Black, 48(Black)"
                                },
                                {
                                    "NOMBRECOMPLETO": "LL Mountain Frame - Black, 52LL Mountain Frame - Black, 52(Black)"
                                },
                                {
                                    "NOMBRECOMPLETO": "LL Mountain TireLL Mountain Tire()"
                                },
                                {
                                    "NOMBRECOMPLETO": "ML Mountain TireML Mountain Tire()"
                                },
                                {
                                    "NOMBRECOMPLETO": "HL Mountain TireHL Mountain Tire()"
                                },
                                {
                                    "NOMBRECOMPLETO": "LL Road TireLL Road Tire()"
                                },
                                {
                                    "NOMBRECOMPLETO": "ML Road TireML Road Tire()"
                                },
                                {
                                    "NOMBRECOMPLETO": "HL Road TireHL Road Tire()"
                                },
                                {
                                    "NOMBRECOMPLETO": "Touring TireTouring Tire()"
                                },
                                {
                                    "NOMBRECOMPLETO": "LL Mountain PedalLL Mountain Pedal(Silver/Black)"
                                },
                                {
                                    "NOMBRECOMPLETO": "ML Mountain PedalML Mountain Pedal(Silver/Black)"
                                },
                                {
                                    "NOMBRECOMPLETO": "HL Mountain PedalHL Mountain Pedal(Silver/Black)"
                                },
                                {
                                    "NOMBRECOMPLETO": "LL Road PedalLL Road Pedal(Silver/Black)"
                                },
                                {
                                    "NOMBRECOMPLETO": "ML Road PedalML Road Pedal(Silver/Black)"
                                },
                                {
                                    "NOMBRECOMPLETO": "HL Road PedalHL Road Pedal(Silver/Black)"
                                },
                                {
                                    "NOMBRECOMPLETO": "Touring PedalTouring Pedal(Silver/Black)"
                                },
                                {
                                    "NOMBRECOMPLETO": "ML Mountain Frame-W - Silver, 38ML Mountain Frame-W - Silver, 38(Silver)"
                                },
                                {
                                    "NOMBRECOMPLETO": "LL Mountain Frame - Black, 40LL Mountain Frame - Black, 40(Black)"
                                },
                                {
                                    "NOMBRECOMPLETO": "LL Mountain Frame - Silver, 40LL Mountain Frame - Silver, 40(Silver)"
                                },
                                {
                                    "NOMBRECOMPLETO": "Front DerailleurFront Derailleur(Silver)"
                                },
                                {
                                    "NOMBRECOMPLETO": "LL Touring HandlebarsLL Touring Handlebars()"
                                },
                                {
                                    "NOMBRECOMPLETO": "HL Touring HandlebarsHL Touring Handlebars()"
                                },
                                {
                                    "NOMBRECOMPLETO": "Front BrakesFront Brakes(Silver)"
                                },
                                {
                                    "NOMBRECOMPLETO": "LL CranksetLL Crankset(Black)"
                                },
                                {
                                    "NOMBRECOMPLETO": "ML CranksetML Crankset(Black)"
                                },
                                {
                                    "NOMBRECOMPLETO": "HL CranksetHL Crankset(Black)"
                                },
                                {
                                    "NOMBRECOMPLETO": "ChainChain(Silver)"
                                },
                                {
                                    "NOMBRECOMPLETO": "Touring-2000 Blue, 60Touring-2000 Blue, 60(Blue)"
                                },
                                {
                                    "NOMBRECOMPLETO": "Touring-1000 Yellow, 46Touring-1000 Yellow, 46(Yellow)"
                                },
                                {
                                    "NOMBRECOMPLETO": "Touring-1000 Yellow, 50Touring-1000 Yellow, 50(Yellow)"
                                },
                                {
                                    "NOMBRECOMPLETO": "Touring-1000 Yellow, 54Touring-1000 Yellow, 54(Yellow)"
                                },
                                {
                                    "NOMBRECOMPLETO": "Touring-1000 Yellow, 60Touring-1000 Yellow, 60(Yellow)"
                                },
                                {
                                    "NOMBRECOMPLETO": "Touring-3000 Blue, 54Touring-3000 Blue, 54(Blue)"
                                },
                                {
                                    "NOMBRECOMPLETO": "Touring-3000 Blue, 58Touring-3000 Blue, 58(Blue)"
                                },
                                {
                                    "NOMBRECOMPLETO": "Touring-3000 Blue, 62Touring-3000 Blue, 62(Blue)"
                                },
                                {
                                    "NOMBRECOMPLETO": "Touring-3000 Yellow, 44Touring-3000 Yellow, 44(Yellow)"
                                },
                                {
                                    "NOMBRECOMPLETO": "Touring-3000 Yellow, 50Touring-3000 Yellow, 50(Yellow)"
                                },
                                {
                                    "NOMBRECOMPLETO": "Touring-3000 Yellow, 54Touring-3000 Yellow, 54(Yellow)"
                                },
                                {
                                    "NOMBRECOMPLETO": "Touring-3000 Yellow, 58Touring-3000 Yellow, 58(Yellow)"
                                },
                                {
                                    "NOMBRECOMPLETO": "Touring-3000 Yellow, 62Touring-3000 Yellow, 62(Yellow)"
                                },
                                {
                                    "NOMBRECOMPLETO": "Touring-1000 Blue, 46Touring-1000 Blue, 46(Blue)"
                                },
                                {
                                    "NOMBRECOMPLETO": "Touring-1000 Blue, 50Touring-1000 Blue, 50(Blue)"
                                },
                                {
                                    "NOMBRECOMPLETO": "Touring-1000 Blue, 54Touring-1000 Blue, 54(Blue)"
                                },
                                {
                                    "NOMBRECOMPLETO": "Touring-1000 Blue, 60Touring-1000 Blue, 60(Blue)"
                                },
                                {
                                    "NOMBRECOMPLETO": "Touring-2000 Blue, 46Touring-2000 Blue, 46(Blue)"
                                },
                                {
                                    "NOMBRECOMPLETO": "Touring-2000 Blue, 50Touring-2000 Blue, 50(Blue)"
                                },
                                {
                                    "NOMBRECOMPLETO": "Touring-2000 Blue, 54Touring-2000 Blue, 54(Blue)"
                                },
                                {
                                    "NOMBRECOMPLETO": "Road-350-W Yellow, 40Road-350-W Yellow, 40(Yellow)"
                                },
                                {
                                    "NOMBRECOMPLETO": "Road-350-W Yellow, 42Road-350-W Yellow, 42(Yellow)"
                                },
                                {
                                    "NOMBRECOMPLETO": "Road-350-W Yellow, 44Road-350-W Yellow, 44(Yellow)"
                                },
                                {
                                    "NOMBRECOMPLETO": "Road-350-W Yellow, 48Road-350-W Yellow, 48(Yellow)"
                                },
                                {
                                    "NOMBRECOMPLETO": "Road-750 Black, 58Road-750 Black, 58(Black)"
                                },
                                {
                                    "NOMBRECOMPLETO": "Touring-3000 Blue, 44Touring-3000 Blue, 44(Blue)"
                                },
                                {
                                    "NOMBRECOMPLETO": "Touring-3000 Blue, 50Touring-3000 Blue, 50(Blue)"
                                },
                                {
                                    "NOMBRECOMPLETO": "Mountain-400-W Silver, 38Mountain-400-W Silver, 38(Silver)"
                                },
                                {
                                    "NOMBRECOMPLETO": "Mountain-400-W Silver, 40Mountain-400-W Silver, 40(Silver)"
                                },
                                {
                                    "NOMBRECOMPLETO": "Mountain-400-W Silver, 42Mountain-400-W Silver, 42(Silver)"
                                },
                                {
                                    "NOMBRECOMPLETO": "Mountain-400-W Silver, 46Mountain-400-W Silver, 46(Silver)"
                                },
                                {
                                    "NOMBRECOMPLETO": "Mountain-500 Silver, 40Mountain-500 Silver, 40(Silver)"
                                },
                                {
                                    "NOMBRECOMPLETO": "Mountain-500 Silver, 42Mountain-500 Silver, 42(Silver)"
                                },
                                {
                                    "NOMBRECOMPLETO": "Mountain-500 Silver, 44Mountain-500 Silver, 44(Silver)"
                                },
                                {
                                    "NOMBRECOMPLETO": "Mountain-500 Silver, 48Mountain-500 Silver, 48(Silver)"
                                },
                                {
                                    "NOMBRECOMPLETO": "Mountain-500 Silver, 52Mountain-500 Silver, 52(Silver)"
                                },
                                {
                                    "NOMBRECOMPLETO": "Mountain-500 Black, 40Mountain-500 Black, 40(Black)"
                                },
                                {
                                    "NOMBRECOMPLETO": "Mountain-500 Black, 42Mountain-500 Black, 42(Black)"
                                },
                                {
                                    "NOMBRECOMPLETO": "Mountain-500 Black, 44Mountain-500 Black, 44(Black)"
                                },
                                {
                                    "NOMBRECOMPLETO": "Mountain-500 Black, 48Mountain-500 Black, 48(Black)"
                                },
                                {
                                    "NOMBRECOMPLETO": "Mountain-500 Black, 52Mountain-500 Black, 52(Black)"
                                },
                                {
                                    "NOMBRECOMPLETO": "LL Bottom BracketLL Bottom Bracket()"
                                },
                                {
                                    "NOMBRECOMPLETO": "ML Bottom BracketML Bottom Bracket()"
                                },
                                {
                                    "NOMBRECOMPLETO": "HL Bottom BracketHL Bottom Bracket()"
                                },
                                {
                                    "NOMBRECOMPLETO": "Road-750 Black, 44Road-750 Black, 44(Black)"
                                },
                                {
                                    "NOMBRECOMPLETO": "Road-750 Black, 48Road-750 Black, 48(Black)"
                                },
                                {
                                    "NOMBRECOMPLETO": "Road-750 Black, 52Road-750 Black, 52(Black)"
                                }
                            ]
                        },
                        "text/html": "<table><tr><th>NOMBRECOMPLETO</th></tr><tr><td>Adjustable RaceAdjustable Race()</td></tr><tr><td>Bearing BallBearing Ball()</td></tr><tr><td>BB Ball BearingBB Ball Bearing()</td></tr><tr><td>Headset Ball BearingsHeadset Ball Bearings()</td></tr><tr><td>BladeBlade()</td></tr><tr><td>LL CrankarmLL Crankarm(Black)</td></tr><tr><td>ML CrankarmML Crankarm(Black)</td></tr><tr><td>HL CrankarmHL Crankarm(Black)</td></tr><tr><td>Chainring BoltsChainring Bolts(Silver)</td></tr><tr><td>Chainring NutChainring Nut(Silver)</td></tr><tr><td>ChainringChainring(Black)</td></tr><tr><td>Crown RaceCrown Race()</td></tr><tr><td>Chain StaysChain Stays()</td></tr><tr><td>Decal 1Decal 1()</td></tr><tr><td>Decal 2Decal 2()</td></tr><tr><td>Down TubeDown Tube()</td></tr><tr><td>Mountain End CapsMountain End Caps()</td></tr><tr><td>Road End CapsRoad End Caps()</td></tr><tr><td>Touring End CapsTouring End Caps()</td></tr><tr><td>Fork EndFork End()</td></tr><tr><td>FreewheelFreewheel(Silver)</td></tr><tr><td>Flat Washer 1Flat Washer 1()</td></tr><tr><td>Flat Washer 6Flat Washer 6()</td></tr><tr><td>Flat Washer 2Flat Washer 2()</td></tr><tr><td>Flat Washer 9Flat Washer 9()</td></tr><tr><td>Flat Washer 4Flat Washer 4()</td></tr><tr><td>Flat Washer 3Flat Washer 3()</td></tr><tr><td>Flat Washer 8Flat Washer 8()</td></tr><tr><td>Flat Washer 5Flat Washer 5()</td></tr><tr><td>Flat Washer 7Flat Washer 7()</td></tr><tr><td>Fork CrownFork Crown()</td></tr><tr><td>Front Derailleur CageFront Derailleur Cage(Silver)</td></tr><tr><td>Front Derailleur LinkageFront Derailleur Linkage(Silver)</td></tr><tr><td>Guide PulleyGuide Pulley()</td></tr><tr><td>LL Grip TapeLL Grip Tape()</td></tr><tr><td>ML Grip TapeML Grip Tape()</td></tr><tr><td>HL Grip TapeHL Grip Tape()</td></tr><tr><td>Thin-Jam Hex Nut 9Thin-Jam Hex Nut 9()</td></tr><tr><td>Thin-Jam Hex Nut 10Thin-Jam Hex Nut 10()</td></tr><tr><td>Thin-Jam Hex Nut 1Thin-Jam Hex Nut 1()</td></tr><tr><td>Thin-Jam Hex Nut 2Thin-Jam Hex Nut 2()</td></tr><tr><td>Thin-Jam Hex Nut 15Thin-Jam Hex Nut 15()</td></tr><tr><td>Thin-Jam Hex Nut 16Thin-Jam Hex Nut 16()</td></tr><tr><td>Thin-Jam Hex Nut 5Thin-Jam Hex Nut 5()</td></tr><tr><td>Thin-Jam Hex Nut 6Thin-Jam Hex Nut 6()</td></tr><tr><td>Thin-Jam Hex Nut 3Thin-Jam Hex Nut 3()</td></tr><tr><td>Thin-Jam Hex Nut 4Thin-Jam Hex Nut 4()</td></tr><tr><td>Thin-Jam Hex Nut 13Thin-Jam Hex Nut 13()</td></tr><tr><td>Thin-Jam Hex Nut 14Thin-Jam Hex Nut 14()</td></tr><tr><td>Thin-Jam Hex Nut 7Thin-Jam Hex Nut 7()</td></tr><tr><td>Thin-Jam Hex Nut 8Thin-Jam Hex Nut 8()</td></tr><tr><td>Thin-Jam Hex Nut 12Thin-Jam Hex Nut 12()</td></tr><tr><td>Thin-Jam Hex Nut 11Thin-Jam Hex Nut 11()</td></tr><tr><td>Hex Nut 5Hex Nut 5()</td></tr><tr><td>Hex Nut 6Hex Nut 6()</td></tr><tr><td>Hex Nut 16Hex Nut 16()</td></tr><tr><td>Hex Nut 17Hex Nut 17()</td></tr><tr><td>Hex Nut 7Hex Nut 7()</td></tr><tr><td>Hex Nut 8Hex Nut 8()</td></tr><tr><td>Hex Nut 9Hex Nut 9()</td></tr><tr><td>Hex Nut 22Hex Nut 22()</td></tr><tr><td>Hex Nut 23Hex Nut 23()</td></tr><tr><td>Hex Nut 12Hex Nut 12()</td></tr><tr><td>Hex Nut 13Hex Nut 13()</td></tr><tr><td>Hex Nut 1Hex Nut 1()</td></tr><tr><td>Hex Nut 10Hex Nut 10()</td></tr><tr><td>Hex Nut 11Hex Nut 11()</td></tr><tr><td>Hex Nut 2Hex Nut 2()</td></tr><tr><td>Hex Nut 20Hex Nut 20()</td></tr><tr><td>Hex Nut 21Hex Nut 21()</td></tr><tr><td>Hex Nut 3Hex Nut 3()</td></tr><tr><td>Hex Nut 14Hex Nut 14()</td></tr><tr><td>Hex Nut 15Hex Nut 15()</td></tr><tr><td>Hex Nut 4Hex Nut 4()</td></tr><tr><td>Hex Nut 18Hex Nut 18()</td></tr><tr><td>Hex Nut 19Hex Nut 19()</td></tr><tr><td>Handlebar TubeHandlebar Tube()</td></tr><tr><td>Head TubeHead Tube()</td></tr><tr><td>LL HubLL Hub()</td></tr><tr><td>HL HubHL Hub()</td></tr><tr><td>Keyed WasherKeyed Washer()</td></tr><tr><td>External Lock Washer 3External Lock Washer 3()</td></tr><tr><td>External Lock Washer 4External Lock Washer 4()</td></tr><tr><td>External Lock Washer 9External Lock Washer 9()</td></tr><tr><td>External Lock Washer 5External Lock Washer 5()</td></tr><tr><td>External Lock Washer 7External Lock Washer 7()</td></tr><tr><td>External Lock Washer 6External Lock Washer 6()</td></tr><tr><td>External Lock Washer 1External Lock Washer 1()</td></tr><tr><td>External Lock Washer 8External Lock Washer 8()</td></tr><tr><td>External Lock Washer 2External Lock Washer 2()</td></tr><tr><td>Internal Lock Washer 3Internal Lock Washer 3()</td></tr><tr><td>Internal Lock Washer 4Internal Lock Washer 4()</td></tr><tr><td>Internal Lock Washer 9Internal Lock Washer 9()</td></tr><tr><td>Internal Lock Washer 5Internal Lock Washer 5()</td></tr><tr><td>Internal Lock Washer 7Internal Lock Washer 7()</td></tr><tr><td>Internal Lock Washer 6Internal Lock Washer 6()</td></tr><tr><td>Internal Lock Washer 10Internal Lock Washer 10()</td></tr><tr><td>Internal Lock Washer 1Internal Lock Washer 1()</td></tr><tr><td>Internal Lock Washer 8Internal Lock Washer 8()</td></tr><tr><td>Internal Lock Washer 2Internal Lock Washer 2()</td></tr><tr><td>Thin-Jam Lock Nut 9Thin-Jam Lock Nut 9()</td></tr><tr><td>Thin-Jam Lock Nut 10Thin-Jam Lock Nut 10()</td></tr><tr><td>Thin-Jam Lock Nut 1Thin-Jam Lock Nut 1()</td></tr><tr><td>Thin-Jam Lock Nut 2Thin-Jam Lock Nut 2()</td></tr><tr><td>Thin-Jam Lock Nut 15Thin-Jam Lock Nut 15()</td></tr><tr><td>Thin-Jam Lock Nut 16Thin-Jam Lock Nut 16()</td></tr><tr><td>Thin-Jam Lock Nut 5Thin-Jam Lock Nut 5()</td></tr><tr><td>Thin-Jam Lock Nut 6Thin-Jam Lock Nut 6()</td></tr><tr><td>Thin-Jam Lock Nut 3Thin-Jam Lock Nut 3()</td></tr><tr><td>Thin-Jam Lock Nut 4Thin-Jam Lock Nut 4()</td></tr><tr><td>Thin-Jam Lock Nut 13Thin-Jam Lock Nut 13()</td></tr><tr><td>Thin-Jam Lock Nut 14Thin-Jam Lock Nut 14()</td></tr><tr><td>Thin-Jam Lock Nut 7Thin-Jam Lock Nut 7()</td></tr><tr><td>Thin-Jam Lock Nut 8Thin-Jam Lock Nut 8()</td></tr><tr><td>Thin-Jam Lock Nut 12Thin-Jam Lock Nut 12()</td></tr><tr><td>Thin-Jam Lock Nut 11Thin-Jam Lock Nut 11()</td></tr><tr><td>Lock Nut 5Lock Nut 5()</td></tr><tr><td>Lock Nut 6Lock Nut 6()</td></tr><tr><td>Lock Nut 16Lock Nut 16()</td></tr><tr><td>Lock Nut 17Lock Nut 17()</td></tr><tr><td>Lock Nut 7Lock Nut 7()</td></tr><tr><td>Lock Nut 8Lock Nut 8()</td></tr><tr><td>Lock Nut 9Lock Nut 9()</td></tr><tr><td>Lock Nut 22Lock Nut 22()</td></tr><tr><td>Lock Nut 23Lock Nut 23()</td></tr><tr><td>Lock Nut 12Lock Nut 12()</td></tr><tr><td>Lock Nut 13Lock Nut 13()</td></tr><tr><td>Lock Nut 1Lock Nut 1()</td></tr><tr><td>Lock Nut 10Lock Nut 10()</td></tr><tr><td>Lock Nut 11Lock Nut 11()</td></tr><tr><td>Lock Nut 2Lock Nut 2()</td></tr><tr><td>Lock Nut 20Lock Nut 20()</td></tr><tr><td>Lock Nut 21Lock Nut 21()</td></tr><tr><td>Lock Nut 3Lock Nut 3()</td></tr><tr><td>Lock Nut 14Lock Nut 14()</td></tr><tr><td>Lock Nut 15Lock Nut 15()</td></tr><tr><td>Lock Nut 4Lock Nut 4()</td></tr><tr><td>Lock Nut 19Lock Nut 19()</td></tr><tr><td>Lock Nut 18Lock Nut 18()</td></tr><tr><td>Lock RingLock Ring(Silver)</td></tr><tr><td>Lower Head RaceLower Head Race()</td></tr><tr><td>Lock Washer 4Lock Washer 4()</td></tr><tr><td>Lock Washer 5Lock Washer 5()</td></tr><tr><td>Lock Washer 10Lock Washer 10()</td></tr><tr><td>Lock Washer 6Lock Washer 6()</td></tr><tr><td>Lock Washer 13Lock Washer 13()</td></tr><tr><td>Lock Washer 8Lock Washer 8()</td></tr><tr><td>Lock Washer 1Lock Washer 1()</td></tr><tr><td>Lock Washer 7Lock Washer 7()</td></tr><tr><td>Lock Washer 12Lock Washer 12()</td></tr><tr><td>Lock Washer 2Lock Washer 2()</td></tr><tr><td>Lock Washer 9Lock Washer 9()</td></tr><tr><td>Lock Washer 3Lock Washer 3()</td></tr><tr><td>Lock Washer 11Lock Washer 11()</td></tr><tr><td>Metal AngleMetal Angle()</td></tr><tr><td>Metal Bar 1Metal Bar 1()</td></tr><tr><td>Metal Bar 2Metal Bar 2()</td></tr><tr><td>Metal Plate 2Metal Plate 2()</td></tr><tr><td>Metal Plate 1Metal Plate 1()</td></tr><tr><td>Metal Plate 3Metal Plate 3()</td></tr><tr><td>Metal Sheet 2Metal Sheet 2()</td></tr><tr><td>Metal Sheet 3Metal Sheet 3()</td></tr><tr><td>Metal Sheet 7Metal Sheet 7()</td></tr><tr><td>Metal Sheet 4Metal Sheet 4()</td></tr><tr><td>Metal Sheet 5Metal Sheet 5()</td></tr><tr><td>Metal Sheet 6Metal Sheet 6()</td></tr><tr><td>Metal Sheet 1Metal Sheet 1()</td></tr><tr><td>Metal Tread PlateMetal Tread Plate()</td></tr><tr><td>LL NippleLL Nipple()</td></tr><tr><td>HL NippleHL Nipple()</td></tr><tr><td>Paint - BlackPaint - Black()</td></tr><tr><td>Paint - RedPaint - Red()</td></tr><tr><td>Paint - SilverPaint - Silver()</td></tr><tr><td>Paint - BluePaint - Blue()</td></tr><tr><td>Paint - YellowPaint - Yellow()</td></tr><tr><td>Pinch BoltPinch Bolt()</td></tr><tr><td>Cup-Shaped RaceCup-Shaped Race()</td></tr><tr><td>Cone-Shaped RaceCone-Shaped Race()</td></tr><tr><td>ReflectorReflector()</td></tr><tr><td>LL Mountain RimLL Mountain Rim()</td></tr><tr><td>ML Mountain RimML Mountain Rim()</td></tr><tr><td>HL Mountain RimHL Mountain Rim()</td></tr><tr><td>LL Road RimLL Road Rim()</td></tr><tr><td>ML Road RimML Road Rim()</td></tr><tr><td>HL Road RimHL Road Rim()</td></tr><tr><td>Touring RimTouring Rim()</td></tr><tr><td>LL Mountain Seat AssemblyLL Mountain Seat Assembly()</td></tr><tr><td>ML Mountain Seat AssemblyML Mountain Seat Assembly()</td></tr><tr><td>HL Mountain Seat AssemblyHL Mountain Seat Assembly()</td></tr><tr><td>LL Road Seat AssemblyLL Road Seat Assembly()</td></tr><tr><td>ML Road Seat AssemblyML Road Seat Assembly()</td></tr><tr><td>HL Road Seat AssemblyHL Road Seat Assembly()</td></tr><tr><td>LL Touring Seat AssemblyLL Touring Seat Assembly()</td></tr><tr><td>ML Touring Seat AssemblyML Touring Seat Assembly()</td></tr><tr><td>HL Touring Seat AssemblyHL Touring Seat Assembly()</td></tr><tr><td>LL Spindle/AxleLL Spindle/Axle()</td></tr><tr><td>HL Spindle/AxleHL Spindle/Axle()</td></tr><tr><td>LL ShellLL Shell()</td></tr><tr><td>HL ShellHL Shell()</td></tr><tr><td>SpokesSpokes()</td></tr><tr><td>Seat LugSeat Lug()</td></tr><tr><td>StemStem()</td></tr><tr><td>Seat PostSeat Post()</td></tr><tr><td>SteererSteerer()</td></tr><tr><td>Seat StaysSeat Stays()</td></tr><tr><td>Seat TubeSeat Tube()</td></tr><tr><td>Top TubeTop Tube()</td></tr><tr><td>Tension PulleyTension Pulley()</td></tr><tr><td>Rear Derailleur CageRear Derailleur Cage(Silver)</td></tr><tr><td>HL Road Frame - Black, 58HL Road Frame - Black, 58(Black)</td></tr><tr><td>HL Road Frame - Red, 58HL Road Frame - Red, 58(Red)</td></tr><tr><td>Sport-100 Helmet, RedSport-100 Helmet, Red(Red)</td></tr><tr><td>Sport-100 Helmet, BlackSport-100 Helmet, Black(Black)</td></tr><tr><td>Mountain Bike Socks, MMountain Bike Socks, M(White)</td></tr><tr><td>Mountain Bike Socks, LMountain Bike Socks, L(White)</td></tr><tr><td>Sport-100 Helmet, BlueSport-100 Helmet, Blue(Blue)</td></tr><tr><td>AWC Logo CapAWC Logo Cap(Multi)</td></tr><tr><td>Long-Sleeve Logo Jersey, SLong-Sleeve Logo Jersey, S(Multi)</td></tr><tr><td>Long-Sleeve Logo Jersey, MLong-Sleeve Logo Jersey, M(Multi)</td></tr><tr><td>Long-Sleeve Logo Jersey, LLong-Sleeve Logo Jersey, L(Multi)</td></tr><tr><td>Long-Sleeve Logo Jersey, XLLong-Sleeve Logo Jersey, XL(Multi)</td></tr><tr><td>HL Road Frame - Red, 62HL Road Frame - Red, 62(Red)</td></tr><tr><td>HL Road Frame - Red, 44HL Road Frame - Red, 44(Red)</td></tr><tr><td>HL Road Frame - Red, 48HL Road Frame - Red, 48(Red)</td></tr><tr><td>HL Road Frame - Red, 52HL Road Frame - Red, 52(Red)</td></tr><tr><td>HL Road Frame - Red, 56HL Road Frame - Red, 56(Red)</td></tr><tr><td>LL Road Frame - Black, 58LL Road Frame - Black, 58(Black)</td></tr><tr><td>LL Road Frame - Black, 60LL Road Frame - Black, 60(Black)</td></tr><tr><td>LL Road Frame - Black, 62LL Road Frame - Black, 62(Black)</td></tr><tr><td>LL Road Frame - Red, 44LL Road Frame - Red, 44(Red)</td></tr><tr><td>LL Road Frame - Red, 48LL Road Frame - Red, 48(Red)</td></tr><tr><td>LL Road Frame - Red, 52LL Road Frame - Red, 52(Red)</td></tr><tr><td>LL Road Frame - Red, 58LL Road Frame - Red, 58(Red)</td></tr><tr><td>LL Road Frame - Red, 60LL Road Frame - Red, 60(Red)</td></tr><tr><td>LL Road Frame - Red, 62LL Road Frame - Red, 62(Red)</td></tr><tr><td>ML Road Frame - Red, 44ML Road Frame - Red, 44(Red)</td></tr><tr><td>ML Road Frame - Red, 48ML Road Frame - Red, 48(Red)</td></tr><tr><td>ML Road Frame - Red, 52ML Road Frame - Red, 52(Red)</td></tr><tr><td>ML Road Frame - Red, 58ML Road Frame - Red, 58(Red)</td></tr><tr><td>ML Road Frame - Red, 60ML Road Frame - Red, 60(Red)</td></tr><tr><td>LL Road Frame - Black, 44LL Road Frame - Black, 44(Black)</td></tr><tr><td>LL Road Frame - Black, 48LL Road Frame - Black, 48(Black)</td></tr><tr><td>LL Road Frame - Black, 52LL Road Frame - Black, 52(Black)</td></tr><tr><td>HL Mountain Frame - Silver, 42HL Mountain Frame - Silver, 42(Silver)</td></tr><tr><td>HL Mountain Frame - Silver, 44HL Mountain Frame - Silver, 44(Silver)</td></tr><tr><td>HL Mountain Frame - Silver, 48HL Mountain Frame - Silver, 48(Silver)</td></tr><tr><td>HL Mountain Frame - Silver, 46HL Mountain Frame - Silver, 46(Silver)</td></tr><tr><td>HL Mountain Frame - Black, 42HL Mountain Frame - Black, 42(Black)</td></tr><tr><td>HL Mountain Frame - Black, 44HL Mountain Frame - Black, 44(Black)</td></tr><tr><td>HL Mountain Frame - Black, 48HL Mountain Frame - Black, 48(Black)</td></tr><tr><td>HL Mountain Frame - Black, 46HL Mountain Frame - Black, 46(Black)</td></tr><tr><td>HL Mountain Frame - Black, 38HL Mountain Frame - Black, 38(Black)</td></tr><tr><td>HL Mountain Frame - Silver, 38HL Mountain Frame - Silver, 38(Silver)</td></tr><tr><td>Road-150 Red, 62Road-150 Red, 62(Red)</td></tr><tr><td>Road-150 Red, 44Road-150 Red, 44(Red)</td></tr><tr><td>Road-150 Red, 48Road-150 Red, 48(Red)</td></tr><tr><td>Road-150 Red, 52Road-150 Red, 52(Red)</td></tr><tr><td>Road-150 Red, 56Road-150 Red, 56(Red)</td></tr><tr><td>Road-450 Red, 58Road-450 Red, 58(Red)</td></tr><tr><td>Road-450 Red, 60Road-450 Red, 60(Red)</td></tr><tr><td>Road-450 Red, 44Road-450 Red, 44(Red)</td></tr><tr><td>Road-450 Red, 48Road-450 Red, 48(Red)</td></tr><tr><td>Road-450 Red, 52Road-450 Red, 52(Red)</td></tr><tr><td>Road-650 Red, 58Road-650 Red, 58(Red)</td></tr><tr><td>Road-650 Red, 60Road-650 Red, 60(Red)</td></tr><tr><td>Road-650 Red, 62Road-650 Red, 62(Red)</td></tr><tr><td>Road-650 Red, 44Road-650 Red, 44(Red)</td></tr><tr><td>Road-650 Red, 48Road-650 Red, 48(Red)</td></tr><tr><td>Road-650 Red, 52Road-650 Red, 52(Red)</td></tr><tr><td>Road-650 Black, 58Road-650 Black, 58(Black)</td></tr><tr><td>Road-650 Black, 60Road-650 Black, 60(Black)</td></tr><tr><td>Road-650 Black, 62Road-650 Black, 62(Black)</td></tr><tr><td>Road-650 Black, 44Road-650 Black, 44(Black)</td></tr><tr><td>Road-650 Black, 48Road-650 Black, 48(Black)</td></tr><tr><td>Road-650 Black, 52Road-650 Black, 52(Black)</td></tr><tr><td>Mountain-100 Silver, 38Mountain-100 Silver, 38(Silver)</td></tr><tr><td>Mountain-100 Silver, 42Mountain-100 Silver, 42(Silver)</td></tr><tr><td>Mountain-100 Silver, 44Mountain-100 Silver, 44(Silver)</td></tr><tr><td>Mountain-100 Silver, 48Mountain-100 Silver, 48(Silver)</td></tr><tr><td>Mountain-100 Black, 38Mountain-100 Black, 38(Black)</td></tr><tr><td>Mountain-100 Black, 42Mountain-100 Black, 42(Black)</td></tr><tr><td>Mountain-100 Black, 44Mountain-100 Black, 44(Black)</td></tr><tr><td>Mountain-100 Black, 48Mountain-100 Black, 48(Black)</td></tr><tr><td>Mountain-200 Silver, 38Mountain-200 Silver, 38(Silver)</td></tr><tr><td>Mountain-200 Silver, 42Mountain-200 Silver, 42(Silver)</td></tr><tr><td>Mountain-200 Silver, 46Mountain-200 Silver, 46(Silver)</td></tr><tr><td>Mountain-200 Black, 38Mountain-200 Black, 38(Black)</td></tr><tr><td>Mountain-200 Black, 42Mountain-200 Black, 42(Black)</td></tr><tr><td>Mountain-200 Black, 46Mountain-200 Black, 46(Black)</td></tr><tr><td>Mountain-300 Black, 38Mountain-300 Black, 38(Black)</td></tr><tr><td>Mountain-300 Black, 40Mountain-300 Black, 40(Black)</td></tr><tr><td>Mountain-300 Black, 44Mountain-300 Black, 44(Black)</td></tr><tr><td>Mountain-300 Black, 48Mountain-300 Black, 48(Black)</td></tr><tr><td>Road-250 Red, 44Road-250 Red, 44(Red)</td></tr><tr><td>Road-250 Red, 48Road-250 Red, 48(Red)</td></tr><tr><td>Road-250 Red, 52Road-250 Red, 52(Red)</td></tr><tr><td>Road-250 Red, 58Road-250 Red, 58(Red)</td></tr><tr><td>Road-250 Black, 44Road-250 Black, 44(Black)</td></tr><tr><td>Road-250 Black, 48Road-250 Black, 48(Black)</td></tr><tr><td>Road-250 Black, 52Road-250 Black, 52(Black)</td></tr><tr><td>Road-250 Black, 58Road-250 Black, 58(Black)</td></tr><tr><td>Road-550-W Yellow, 38Road-550-W Yellow, 38(Yellow)</td></tr><tr><td>Road-550-W Yellow, 40Road-550-W Yellow, 40(Yellow)</td></tr><tr><td>Road-550-W Yellow, 42Road-550-W Yellow, 42(Yellow)</td></tr><tr><td>Road-550-W Yellow, 44Road-550-W Yellow, 44(Yellow)</td></tr><tr><td>Road-550-W Yellow, 48Road-550-W Yellow, 48(Yellow)</td></tr><tr><td>LL ForkLL Fork()</td></tr><tr><td>ML ForkML Fork()</td></tr><tr><td>HL ForkHL Fork()</td></tr><tr><td>LL HeadsetLL Headset()</td></tr><tr><td>ML HeadsetML Headset()</td></tr><tr><td>HL HeadsetHL Headset()</td></tr><tr><td>LL Mountain HandlebarsLL Mountain Handlebars()</td></tr><tr><td>ML Mountain HandlebarsML Mountain Handlebars()</td></tr><tr><td>HL Mountain HandlebarsHL Mountain Handlebars()</td></tr><tr><td>LL Road HandlebarsLL Road Handlebars()</td></tr><tr><td>ML Road HandlebarsML Road Handlebars()</td></tr><tr><td>HL Road HandlebarsHL Road Handlebars()</td></tr><tr><td>ML Mountain Frame - Black, 38ML Mountain Frame - Black, 38(Black)</td></tr><tr><td>LL Mountain Front WheelLL Mountain Front Wheel(Black)</td></tr><tr><td>ML Mountain Front WheelML Mountain Front Wheel(Black)</td></tr><tr><td>HL Mountain Front WheelHL Mountain Front Wheel(Black)</td></tr><tr><td>LL Road Front WheelLL Road Front Wheel(Black)</td></tr><tr><td>ML Road Front WheelML Road Front Wheel(Black)</td></tr><tr><td>HL Road Front WheelHL Road Front Wheel(Black)</td></tr><tr><td>Touring Front WheelTouring Front Wheel(Black)</td></tr><tr><td>ML Road Frame-W - Yellow, 38ML Road Frame-W - Yellow, 38(Yellow)</td></tr><tr><td>LL Mountain Rear WheelLL Mountain Rear Wheel(Black)</td></tr><tr><td>ML Mountain Rear WheelML Mountain Rear Wheel(Black)</td></tr><tr><td>HL Mountain Rear WheelHL Mountain Rear Wheel(Black)</td></tr><tr><td>LL Road Rear WheelLL Road Rear Wheel(Black)</td></tr><tr><td>ML Road Rear WheelML Road Rear Wheel(Black)</td></tr><tr><td>HL Road Rear WheelHL Road Rear Wheel(Black)</td></tr><tr><td>Touring Rear WheelTouring Rear Wheel(Black)</td></tr><tr><td>ML Mountain Frame - Black, 40ML Mountain Frame - Black, 40(Black)</td></tr><tr><td>ML Mountain Frame - Black, 44ML Mountain Frame - Black, 44(Black)</td></tr><tr><td>ML Mountain Frame - Black, 48ML Mountain Frame - Black, 48(Black)</td></tr><tr><td>ML Road Frame-W - Yellow, 40ML Road Frame-W - Yellow, 40(Yellow)</td></tr><tr><td>ML Road Frame-W - Yellow, 42ML Road Frame-W - Yellow, 42(Yellow)</td></tr><tr><td>ML Road Frame-W - Yellow, 44ML Road Frame-W - Yellow, 44(Yellow)</td></tr><tr><td>ML Road Frame-W - Yellow, 48ML Road Frame-W - Yellow, 48(Yellow)</td></tr><tr><td>HL Road Frame - Black, 62HL Road Frame - Black, 62(Black)</td></tr><tr><td>HL Road Frame - Black, 44HL Road Frame - Black, 44(Black)</td></tr><tr><td>HL Road Frame - Black, 48HL Road Frame - Black, 48(Black)</td></tr><tr><td>HL Road Frame - Black, 52HL Road Frame - Black, 52(Black)</td></tr><tr><td>Men&#39;s Sports Shorts, SMen&#39;s Sports Shorts, S(Black)</td></tr><tr><td>Touring-Panniers, LargeTouring-Panniers, Large(Grey)</td></tr><tr><td>Cable LockCable Lock()</td></tr><tr><td>MinipumpMinipump()</td></tr><tr><td>Mountain PumpMountain Pump()</td></tr><tr><td>Taillights - Battery-PoweredTaillights - Battery-Powered()</td></tr><tr><td>Headlights - Dual-BeamHeadlights - Dual-Beam()</td></tr><tr><td>Headlights - WeatherproofHeadlights - Weatherproof()</td></tr><tr><td>Men&#39;s Sports Shorts, MMen&#39;s Sports Shorts, M(Black)</td></tr><tr><td>Men&#39;s Sports Shorts, LMen&#39;s Sports Shorts, L(Black)</td></tr><tr><td>Men&#39;s Sports Shorts, XLMen&#39;s Sports Shorts, XL(Black)</td></tr><tr><td>Women&#39;s Tights, SWomen&#39;s Tights, S(Black)</td></tr><tr><td>Women&#39;s Tights, MWomen&#39;s Tights, M(Black)</td></tr><tr><td>Women&#39;s Tights, LWomen&#39;s Tights, L(Black)</td></tr><tr><td>Men&#39;s Bib-Shorts, SMen&#39;s Bib-Shorts, S(Multi)</td></tr><tr><td>Men&#39;s Bib-Shorts, MMen&#39;s Bib-Shorts, M(Multi)</td></tr><tr><td>Men&#39;s Bib-Shorts, LMen&#39;s Bib-Shorts, L(Multi)</td></tr><tr><td>Half-Finger Gloves, SHalf-Finger Gloves, S(Black)</td></tr><tr><td>Half-Finger Gloves, MHalf-Finger Gloves, M(Black)</td></tr><tr><td>Half-Finger Gloves, LHalf-Finger Gloves, L(Black)</td></tr><tr><td>Full-Finger Gloves, SFull-Finger Gloves, S(Black)</td></tr><tr><td>Full-Finger Gloves, MFull-Finger Gloves, M(Black)</td></tr><tr><td>Full-Finger Gloves, LFull-Finger Gloves, L(Black)</td></tr><tr><td>Classic Vest, SClassic Vest, S(Blue)</td></tr><tr><td>Classic Vest, MClassic Vest, M(Blue)</td></tr><tr><td>Classic Vest, LClassic Vest, L(Blue)</td></tr><tr><td>Women&#39;s Mountain Shorts, SWomen&#39;s Mountain Shorts, S(Black)</td></tr><tr><td>Women&#39;s Mountain Shorts, MWomen&#39;s Mountain Shorts, M(Black)</td></tr><tr><td>Women&#39;s Mountain Shorts, LWomen&#39;s Mountain Shorts, L(Black)</td></tr><tr><td>Water Bottle - 30 oz.Water Bottle - 30 oz.()</td></tr><tr><td>Mountain Bottle CageMountain Bottle Cage()</td></tr><tr><td>Road Bottle CageRoad Bottle Cage()</td></tr><tr><td>Patch Kit/8 PatchesPatch Kit/8 Patches()</td></tr><tr><td>Racing Socks, MRacing Socks, M(White)</td></tr><tr><td>Racing Socks, LRacing Socks, L(White)</td></tr><tr><td>Hitch Rack - 4-BikeHitch Rack - 4-Bike()</td></tr><tr><td>Bike Wash - DissolverBike Wash - Dissolver()</td></tr><tr><td>Fender Set - MountainFender Set - Mountain()</td></tr><tr><td>All-Purpose Bike StandAll-Purpose Bike Stand()</td></tr><tr><td>Hydration Pack - 70 oz.Hydration Pack - 70 oz.(Silver)</td></tr><tr><td>Short-Sleeve Classic Jersey, SShort-Sleeve Classic Jersey, S(Yellow)</td></tr><tr><td>Short-Sleeve Classic Jersey, MShort-Sleeve Classic Jersey, M(Yellow)</td></tr><tr><td>Short-Sleeve Classic Jersey, LShort-Sleeve Classic Jersey, L(Yellow)</td></tr><tr><td>Short-Sleeve Classic Jersey, XLShort-Sleeve Classic Jersey, XL(Yellow)</td></tr><tr><td>HL Touring Frame - Yellow, 60HL Touring Frame - Yellow, 60(Yellow)</td></tr><tr><td>LL Touring Frame - Yellow, 62LL Touring Frame - Yellow, 62(Yellow)</td></tr><tr><td>HL Touring Frame - Yellow, 46HL Touring Frame - Yellow, 46(Yellow)</td></tr><tr><td>HL Touring Frame - Yellow, 50HL Touring Frame - Yellow, 50(Yellow)</td></tr><tr><td>HL Touring Frame - Yellow, 54HL Touring Frame - Yellow, 54(Yellow)</td></tr><tr><td>HL Touring Frame - Blue, 46HL Touring Frame - Blue, 46(Blue)</td></tr><tr><td>HL Touring Frame - Blue, 50HL Touring Frame - Blue, 50(Blue)</td></tr><tr><td>HL Touring Frame - Blue, 54HL Touring Frame - Blue, 54(Blue)</td></tr><tr><td>HL Touring Frame - Blue, 60HL Touring Frame - Blue, 60(Blue)</td></tr><tr><td>Rear DerailleurRear Derailleur(Silver)</td></tr><tr><td>LL Touring Frame - Blue, 50LL Touring Frame - Blue, 50(Blue)</td></tr><tr><td>LL Touring Frame - Blue, 54LL Touring Frame - Blue, 54(Blue)</td></tr><tr><td>LL Touring Frame - Blue, 58LL Touring Frame - Blue, 58(Blue)</td></tr><tr><td>LL Touring Frame - Blue, 62LL Touring Frame - Blue, 62(Blue)</td></tr><tr><td>LL Touring Frame - Yellow, 44LL Touring Frame - Yellow, 44(Yellow)</td></tr><tr><td>LL Touring Frame - Yellow, 50LL Touring Frame - Yellow, 50(Yellow)</td></tr><tr><td>LL Touring Frame - Yellow, 54LL Touring Frame - Yellow, 54(Yellow)</td></tr><tr><td>LL Touring Frame - Yellow, 58LL Touring Frame - Yellow, 58(Yellow)</td></tr><tr><td>LL Touring Frame - Blue, 44LL Touring Frame - Blue, 44(Blue)</td></tr><tr><td>ML Mountain Frame-W - Silver, 40ML Mountain Frame-W - Silver, 40(Silver)</td></tr><tr><td>ML Mountain Frame-W - Silver, 42ML Mountain Frame-W - Silver, 42(Silver)</td></tr><tr><td>ML Mountain Frame-W - Silver, 46ML Mountain Frame-W - Silver, 46(Silver)</td></tr><tr><td>Rear BrakesRear Brakes(Silver)</td></tr><tr><td>LL Mountain Seat/SaddleLL Mountain Seat/Saddle()</td></tr><tr><td>ML Mountain Seat/SaddleML Mountain Seat/Saddle()</td></tr><tr><td>HL Mountain Seat/SaddleHL Mountain Seat/Saddle()</td></tr><tr><td>LL Road Seat/SaddleLL Road Seat/Saddle()</td></tr><tr><td>ML Road Seat/SaddleML Road Seat/Saddle()</td></tr><tr><td>HL Road Seat/SaddleHL Road Seat/Saddle()</td></tr><tr><td>LL Touring Seat/SaddleLL Touring Seat/Saddle()</td></tr><tr><td>ML Touring Seat/SaddleML Touring Seat/Saddle()</td></tr><tr><td>HL Touring Seat/SaddleHL Touring Seat/Saddle()</td></tr><tr><td>LL Mountain Frame - Silver, 42LL Mountain Frame - Silver, 42(Silver)</td></tr><tr><td>LL Mountain Frame - Silver, 44LL Mountain Frame - Silver, 44(Silver)</td></tr><tr><td>LL Mountain Frame - Silver, 48LL Mountain Frame - Silver, 48(Silver)</td></tr><tr><td>LL Mountain Frame - Silver, 52LL Mountain Frame - Silver, 52(Silver)</td></tr><tr><td>Mountain Tire TubeMountain Tire Tube()</td></tr><tr><td>Road Tire TubeRoad Tire Tube()</td></tr><tr><td>Touring Tire TubeTouring Tire Tube()</td></tr><tr><td>LL Mountain Frame - Black, 42LL Mountain Frame - Black, 42(Black)</td></tr><tr><td>LL Mountain Frame - Black, 44LL Mountain Frame - Black, 44(Black)</td></tr><tr><td>LL Mountain Frame - Black, 48LL Mountain Frame - Black, 48(Black)</td></tr><tr><td>LL Mountain Frame - Black, 52LL Mountain Frame - Black, 52(Black)</td></tr><tr><td>LL Mountain TireLL Mountain Tire()</td></tr><tr><td>ML Mountain TireML Mountain Tire()</td></tr><tr><td>HL Mountain TireHL Mountain Tire()</td></tr><tr><td>LL Road TireLL Road Tire()</td></tr><tr><td>ML Road TireML Road Tire()</td></tr><tr><td>HL Road TireHL Road Tire()</td></tr><tr><td>Touring TireTouring Tire()</td></tr><tr><td>LL Mountain PedalLL Mountain Pedal(Silver/Black)</td></tr><tr><td>ML Mountain PedalML Mountain Pedal(Silver/Black)</td></tr><tr><td>HL Mountain PedalHL Mountain Pedal(Silver/Black)</td></tr><tr><td>LL Road PedalLL Road Pedal(Silver/Black)</td></tr><tr><td>ML Road PedalML Road Pedal(Silver/Black)</td></tr><tr><td>HL Road PedalHL Road Pedal(Silver/Black)</td></tr><tr><td>Touring PedalTouring Pedal(Silver/Black)</td></tr><tr><td>ML Mountain Frame-W - Silver, 38ML Mountain Frame-W - Silver, 38(Silver)</td></tr><tr><td>LL Mountain Frame - Black, 40LL Mountain Frame - Black, 40(Black)</td></tr><tr><td>LL Mountain Frame - Silver, 40LL Mountain Frame - Silver, 40(Silver)</td></tr><tr><td>Front DerailleurFront Derailleur(Silver)</td></tr><tr><td>LL Touring HandlebarsLL Touring Handlebars()</td></tr><tr><td>HL Touring HandlebarsHL Touring Handlebars()</td></tr><tr><td>Front BrakesFront Brakes(Silver)</td></tr><tr><td>LL CranksetLL Crankset(Black)</td></tr><tr><td>ML CranksetML Crankset(Black)</td></tr><tr><td>HL CranksetHL Crankset(Black)</td></tr><tr><td>ChainChain(Silver)</td></tr><tr><td>Touring-2000 Blue, 60Touring-2000 Blue, 60(Blue)</td></tr><tr><td>Touring-1000 Yellow, 46Touring-1000 Yellow, 46(Yellow)</td></tr><tr><td>Touring-1000 Yellow, 50Touring-1000 Yellow, 50(Yellow)</td></tr><tr><td>Touring-1000 Yellow, 54Touring-1000 Yellow, 54(Yellow)</td></tr><tr><td>Touring-1000 Yellow, 60Touring-1000 Yellow, 60(Yellow)</td></tr><tr><td>Touring-3000 Blue, 54Touring-3000 Blue, 54(Blue)</td></tr><tr><td>Touring-3000 Blue, 58Touring-3000 Blue, 58(Blue)</td></tr><tr><td>Touring-3000 Blue, 62Touring-3000 Blue, 62(Blue)</td></tr><tr><td>Touring-3000 Yellow, 44Touring-3000 Yellow, 44(Yellow)</td></tr><tr><td>Touring-3000 Yellow, 50Touring-3000 Yellow, 50(Yellow)</td></tr><tr><td>Touring-3000 Yellow, 54Touring-3000 Yellow, 54(Yellow)</td></tr><tr><td>Touring-3000 Yellow, 58Touring-3000 Yellow, 58(Yellow)</td></tr><tr><td>Touring-3000 Yellow, 62Touring-3000 Yellow, 62(Yellow)</td></tr><tr><td>Touring-1000 Blue, 46Touring-1000 Blue, 46(Blue)</td></tr><tr><td>Touring-1000 Blue, 50Touring-1000 Blue, 50(Blue)</td></tr><tr><td>Touring-1000 Blue, 54Touring-1000 Blue, 54(Blue)</td></tr><tr><td>Touring-1000 Blue, 60Touring-1000 Blue, 60(Blue)</td></tr><tr><td>Touring-2000 Blue, 46Touring-2000 Blue, 46(Blue)</td></tr><tr><td>Touring-2000 Blue, 50Touring-2000 Blue, 50(Blue)</td></tr><tr><td>Touring-2000 Blue, 54Touring-2000 Blue, 54(Blue)</td></tr><tr><td>Road-350-W Yellow, 40Road-350-W Yellow, 40(Yellow)</td></tr><tr><td>Road-350-W Yellow, 42Road-350-W Yellow, 42(Yellow)</td></tr><tr><td>Road-350-W Yellow, 44Road-350-W Yellow, 44(Yellow)</td></tr><tr><td>Road-350-W Yellow, 48Road-350-W Yellow, 48(Yellow)</td></tr><tr><td>Road-750 Black, 58Road-750 Black, 58(Black)</td></tr><tr><td>Touring-3000 Blue, 44Touring-3000 Blue, 44(Blue)</td></tr><tr><td>Touring-3000 Blue, 50Touring-3000 Blue, 50(Blue)</td></tr><tr><td>Mountain-400-W Silver, 38Mountain-400-W Silver, 38(Silver)</td></tr><tr><td>Mountain-400-W Silver, 40Mountain-400-W Silver, 40(Silver)</td></tr><tr><td>Mountain-400-W Silver, 42Mountain-400-W Silver, 42(Silver)</td></tr><tr><td>Mountain-400-W Silver, 46Mountain-400-W Silver, 46(Silver)</td></tr><tr><td>Mountain-500 Silver, 40Mountain-500 Silver, 40(Silver)</td></tr><tr><td>Mountain-500 Silver, 42Mountain-500 Silver, 42(Silver)</td></tr><tr><td>Mountain-500 Silver, 44Mountain-500 Silver, 44(Silver)</td></tr><tr><td>Mountain-500 Silver, 48Mountain-500 Silver, 48(Silver)</td></tr><tr><td>Mountain-500 Silver, 52Mountain-500 Silver, 52(Silver)</td></tr><tr><td>Mountain-500 Black, 40Mountain-500 Black, 40(Black)</td></tr><tr><td>Mountain-500 Black, 42Mountain-500 Black, 42(Black)</td></tr><tr><td>Mountain-500 Black, 44Mountain-500 Black, 44(Black)</td></tr><tr><td>Mountain-500 Black, 48Mountain-500 Black, 48(Black)</td></tr><tr><td>Mountain-500 Black, 52Mountain-500 Black, 52(Black)</td></tr><tr><td>LL Bottom BracketLL Bottom Bracket()</td></tr><tr><td>ML Bottom BracketML Bottom Bracket()</td></tr><tr><td>HL Bottom BracketHL Bottom Bracket()</td></tr><tr><td>Road-750 Black, 44Road-750 Black, 44(Black)</td></tr><tr><td>Road-750 Black, 48Road-750 Black, 48(Black)</td></tr><tr><td>Road-750 Black, 52Road-750 Black, 52(Black)</td></tr></table>"
                    },
                    "metadata": {}
                }
            ],
            "execution_count": 9
        },
        {
            "cell_type": "markdown",
            "source": [
                "7)  Calcular cual es la media de los productos de color rojo, verde y azul, recordar que los colores están en inglés (red,green,blue). Quiero una media por color, por ejemplo de red, la media del precio es 100, de green 120 y también quiero la media de los productos que sean de uno de los tres colores."
            ],
            "metadata": {
                "azdata_cell_guid": "024adc8e-e2ae-4739-83ec-e80de25b0e37"
            },
            "attachments": {}
        },
        {
            "cell_type": "code",
            "source": [
                "SELECT COLOR, MAX(LISTPRICE) AS MAXPRECIO FROM Production.Product WHERE COLOR IN ('GREEN', 'RED', 'BLUE') GROUP BY COLOR\r\n",
                "\r\n",
                "SELECT AVG(ListPrice) as Media\r\n",
                "FROM Production.Product \r\n",
                "WHERE Color IN ('red','green','blue')"
            ],
            "metadata": {
                "azdata_cell_guid": "cf60a94a-ef27-40f7-b744-72041bdaac75",
                "language": "sql"
            },
            "outputs": [
                {
                    "output_type": "display_data",
                    "data": {
                        "text/html": "(2 rows affected)"
                    },
                    "metadata": {}
                },
                {
                    "output_type": "display_data",
                    "data": {
                        "text/html": "(1 row affected)"
                    },
                    "metadata": {}
                },
                {
                    "output_type": "display_data",
                    "data": {
                        "text/html": "Total execution time: 00:00:00.011"
                    },
                    "metadata": {}
                },
                {
                    "output_type": "execute_result",
                    "execution_count": 18,
                    "data": {
                        "application/vnd.dataresource+json": {
                            "schema": {
                                "fields": [
                                    {
                                        "name": "COLOR"
                                    },
                                    {
                                        "name": "MAXPRECIO"
                                    }
                                ]
                            },
                            "data": [
                                {
                                    "COLOR": "Blue",
                                    "MAXPRECIO": "2384,07"
                                },
                                {
                                    "COLOR": "Red",
                                    "MAXPRECIO": "3578,27"
                                }
                            ]
                        },
                        "text/html": "<table><tr><th>COLOR</th><th>MAXPRECIO</th></tr><tr><td>Blue</td><td>2384,07</td></tr><tr><td>Red</td><td>3578,27</td></tr></table>"
                    },
                    "metadata": {}
                },
                {
                    "output_type": "execute_result",
                    "execution_count": 18,
                    "data": {
                        "application/vnd.dataresource+json": {
                            "schema": {
                                "fields": [
                                    {
                                        "name": "Media"
                                    }
                                ]
                            },
                            "data": [
                                {
                                    "Media": "1207,6525"
                                }
                            ]
                        },
                        "text/html": "<table><tr><th>Media</th></tr><tr><td>1207,6525</td></tr></table>"
                    },
                    "metadata": {}
                }
            ],
            "execution_count": 18
        },
        {
            "cell_type": "markdown",
            "source": [
                "8) Mostrar aquellos colores cuya cantidad de productos sea mayor que cincuenta"
            ],
            "metadata": {
                "azdata_cell_guid": "b30e014c-157a-4f05-8952-cb4e2410c97f"
            },
            "attachments": {}
        },
        {
            "cell_type": "code",
            "source": [
                "SELECT COLOR , COUNT(*) AS CANTPRODUCT FROM Production.Product GROUP BY COLOR HAVING COUNT(*) > 50"
            ],
            "metadata": {
                "azdata_cell_guid": "ba5bcd48-9644-4c4e-9cdc-3b9168fc8cf5",
                "language": "sql"
            },
            "outputs": [
                {
                    "output_type": "display_data",
                    "data": {
                        "text/html": "(2 rows affected)"
                    },
                    "metadata": {}
                },
                {
                    "output_type": "display_data",
                    "data": {
                        "text/html": "Total execution time: 00:00:00.004"
                    },
                    "metadata": {}
                },
                {
                    "output_type": "execute_result",
                    "execution_count": 16,
                    "data": {
                        "application/vnd.dataresource+json": {
                            "schema": {
                                "fields": [
                                    {
                                        "name": "COLOR"
                                    },
                                    {
                                        "name": "CANTPRODUCT"
                                    }
                                ]
                            },
                            "data": [
                                {
                                    "COLOR": "NULL",
                                    "CANTPRODUCT": "248"
                                },
                                {
                                    "COLOR": "Black",
                                    "CANTPRODUCT": "93"
                                }
                            ]
                        },
                        "text/html": "<table><tr><th>COLOR</th><th>CANTPRODUCT</th></tr><tr><td>NULL</td><td>248</td></tr><tr><td>Black</td><td>93</td></tr></table>"
                    },
                    "metadata": {}
                }
            ],
            "execution_count": 16
        },
        {
            "cell_type": "markdown",
            "source": [
                "Calcular el stock mínimo, SafetyStockLevel mínimo para cada color y talla"
            ],
            "metadata": {
                "azdata_cell_guid": "6764f1f4-d6e0-4b94-a210-345d6608e705"
            },
            "attachments": {}
        },
        {
            "cell_type": "code",
            "source": [
                "select min(safetystocklevel) as stockminimo, Color, Size \r\n",
                "FROM Production.Product\r\n",
                "GROUP BY Color,Size"
            ],
            "metadata": {
                "azdata_cell_guid": "3930d9c5-941e-40cf-9270-b3ad1a06659e",
                "language": "sql",
                "tags": []
            },
            "outputs": [
                {
                    "output_type": "display_data",
                    "data": {
                        "text/html": "(68 rows affected)"
                    },
                    "metadata": {}
                },
                {
                    "output_type": "display_data",
                    "data": {
                        "text/html": "Total execution time: 00:00:00.025"
                    },
                    "metadata": {}
                },
                {
                    "output_type": "execute_result",
                    "execution_count": 4,
                    "data": {
                        "application/vnd.dataresource+json": {
                            "schema": {
                                "fields": [
                                    {
                                        "name": "stockminimo"
                                    },
                                    {
                                        "name": "Color"
                                    },
                                    {
                                        "name": "Size"
                                    }
                                ]
                            },
                            "data": [
                                {
                                    "stockminimo": "4",
                                    "Color": "NULL",
                                    "Size": "NULL"
                                },
                                {
                                    "stockminimo": "4",
                                    "Color": "Black",
                                    "Size": "NULL"
                                },
                                {
                                    "stockminimo": "4",
                                    "Color": "Blue",
                                    "Size": "NULL"
                                },
                                {
                                    "stockminimo": "4",
                                    "Color": "Grey",
                                    "Size": "NULL"
                                },
                                {
                                    "stockminimo": "4",
                                    "Color": "Multi",
                                    "Size": "NULL"
                                },
                                {
                                    "stockminimo": "4",
                                    "Color": "Red",
                                    "Size": "NULL"
                                },
                                {
                                    "stockminimo": "500",
                                    "Color": "Silver",
                                    "Size": "NULL"
                                },
                                {
                                    "stockminimo": "500",
                                    "Color": "Silver/Black",
                                    "Size": "NULL"
                                },
                                {
                                    "stockminimo": "100",
                                    "Color": "Black",
                                    "Size": "38"
                                },
                                {
                                    "stockminimo": "100",
                                    "Color": "Silver",
                                    "Size": "38"
                                },
                                {
                                    "stockminimo": "100",
                                    "Color": "Yellow",
                                    "Size": "38"
                                },
                                {
                                    "stockminimo": "100",
                                    "Color": "Black",
                                    "Size": "40"
                                },
                                {
                                    "stockminimo": "100",
                                    "Color": "Silver",
                                    "Size": "40"
                                },
                                {
                                    "stockminimo": "100",
                                    "Color": "Yellow",
                                    "Size": "40"
                                },
                                {
                                    "stockminimo": "100",
                                    "Color": "Black",
                                    "Size": "42"
                                },
                                {
                                    "stockminimo": "100",
                                    "Color": "Silver",
                                    "Size": "42"
                                },
                                {
                                    "stockminimo": "100",
                                    "Color": "Yellow",
                                    "Size": "42"
                                },
                                {
                                    "stockminimo": "100",
                                    "Color": "Black",
                                    "Size": "44"
                                },
                                {
                                    "stockminimo": "100",
                                    "Color": "Blue",
                                    "Size": "44"
                                },
                                {
                                    "stockminimo": "100",
                                    "Color": "Red",
                                    "Size": "44"
                                },
                                {
                                    "stockminimo": "100",
                                    "Color": "Silver",
                                    "Size": "44"
                                },
                                {
                                    "stockminimo": "100",
                                    "Color": "Yellow",
                                    "Size": "44"
                                },
                                {
                                    "stockminimo": "100",
                                    "Color": "Black",
                                    "Size": "46"
                                },
                                {
                                    "stockminimo": "100",
                                    "Color": "Blue",
                                    "Size": "46"
                                },
                                {
                                    "stockminimo": "100",
                                    "Color": "Silver",
                                    "Size": "46"
                                },
                                {
                                    "stockminimo": "100",
                                    "Color": "Yellow",
                                    "Size": "46"
                                },
                                {
                                    "stockminimo": "100",
                                    "Color": "Black",
                                    "Size": "48"
                                },
                                {
                                    "stockminimo": "100",
                                    "Color": "Red",
                                    "Size": "48"
                                },
                                {
                                    "stockminimo": "100",
                                    "Color": "Silver",
                                    "Size": "48"
                                },
                                {
                                    "stockminimo": "100",
                                    "Color": "Yellow",
                                    "Size": "48"
                                },
                                {
                                    "stockminimo": "100",
                                    "Color": "Blue",
                                    "Size": "50"
                                },
                                {
                                    "stockminimo": "100",
                                    "Color": "Yellow",
                                    "Size": "50"
                                },
                                {
                                    "stockminimo": "100",
                                    "Color": "Black",
                                    "Size": "52"
                                },
                                {
                                    "stockminimo": "100",
                                    "Color": "Red",
                                    "Size": "52"
                                },
                                {
                                    "stockminimo": "100",
                                    "Color": "Silver",
                                    "Size": "52"
                                },
                                {
                                    "stockminimo": "100",
                                    "Color": "Blue",
                                    "Size": "54"
                                },
                                {
                                    "stockminimo": "100",
                                    "Color": "Yellow",
                                    "Size": "54"
                                },
                                {
                                    "stockminimo": "100",
                                    "Color": "Red",
                                    "Size": "56"
                                },
                                {
                                    "stockminimo": "100",
                                    "Color": "Black",
                                    "Size": "58"
                                },
                                {
                                    "stockminimo": "100",
                                    "Color": "Blue",
                                    "Size": "58"
                                },
                                {
                                    "stockminimo": "100",
                                    "Color": "Red",
                                    "Size": "58"
                                },
                                {
                                    "stockminimo": "100",
                                    "Color": "Yellow",
                                    "Size": "58"
                                },
                                {
                                    "stockminimo": "100",
                                    "Color": "Black",
                                    "Size": "60"
                                },
                                {
                                    "stockminimo": "100",
                                    "Color": "Blue",
                                    "Size": "60"
                                },
                                {
                                    "stockminimo": "100",
                                    "Color": "Red",
                                    "Size": "60"
                                },
                                {
                                    "stockminimo": "100",
                                    "Color": "Yellow",
                                    "Size": "60"
                                },
                                {
                                    "stockminimo": "100",
                                    "Color": "Black",
                                    "Size": "62"
                                },
                                {
                                    "stockminimo": "100",
                                    "Color": "Blue",
                                    "Size": "62"
                                },
                                {
                                    "stockminimo": "100",
                                    "Color": "Red",
                                    "Size": "62"
                                },
                                {
                                    "stockminimo": "100",
                                    "Color": "Yellow",
                                    "Size": "62"
                                },
                                {
                                    "stockminimo": "4",
                                    "Color": "Silver",
                                    "Size": "70"
                                },
                                {
                                    "stockminimo": "4",
                                    "Color": "Black",
                                    "Size": "L"
                                },
                                {
                                    "stockminimo": "4",
                                    "Color": "Blue",
                                    "Size": "L"
                                },
                                {
                                    "stockminimo": "4",
                                    "Color": "Multi",
                                    "Size": "L"
                                },
                                {
                                    "stockminimo": "4",
                                    "Color": "White",
                                    "Size": "L"
                                },
                                {
                                    "stockminimo": "4",
                                    "Color": "Yellow",
                                    "Size": "L"
                                },
                                {
                                    "stockminimo": "4",
                                    "Color": "Black",
                                    "Size": "M"
                                },
                                {
                                    "stockminimo": "4",
                                    "Color": "Blue",
                                    "Size": "M"
                                },
                                {
                                    "stockminimo": "4",
                                    "Color": "Multi",
                                    "Size": "M"
                                },
                                {
                                    "stockminimo": "4",
                                    "Color": "White",
                                    "Size": "M"
                                },
                                {
                                    "stockminimo": "4",
                                    "Color": "Yellow",
                                    "Size": "M"
                                },
                                {
                                    "stockminimo": "4",
                                    "Color": "Black",
                                    "Size": "S"
                                },
                                {
                                    "stockminimo": "4",
                                    "Color": "Blue",
                                    "Size": "S"
                                },
                                {
                                    "stockminimo": "4",
                                    "Color": "Multi",
                                    "Size": "S"
                                },
                                {
                                    "stockminimo": "4",
                                    "Color": "Yellow",
                                    "Size": "S"
                                },
                                {
                                    "stockminimo": "4",
                                    "Color": "Black",
                                    "Size": "XL"
                                },
                                {
                                    "stockminimo": "4",
                                    "Color": "Multi",
                                    "Size": "XL"
                                },
                                {
                                    "stockminimo": "4",
                                    "Color": "Yellow",
                                    "Size": "XL"
                                }
                            ]
                        },
                        "text/html": "<table><tr><th>stockminimo</th><th>Color</th><th>Size</th></tr><tr><td>4</td><td>NULL</td><td>NULL</td></tr><tr><td>4</td><td>Black</td><td>NULL</td></tr><tr><td>4</td><td>Blue</td><td>NULL</td></tr><tr><td>4</td><td>Grey</td><td>NULL</td></tr><tr><td>4</td><td>Multi</td><td>NULL</td></tr><tr><td>4</td><td>Red</td><td>NULL</td></tr><tr><td>500</td><td>Silver</td><td>NULL</td></tr><tr><td>500</td><td>Silver/Black</td><td>NULL</td></tr><tr><td>100</td><td>Black</td><td>38</td></tr><tr><td>100</td><td>Silver</td><td>38</td></tr><tr><td>100</td><td>Yellow</td><td>38</td></tr><tr><td>100</td><td>Black</td><td>40</td></tr><tr><td>100</td><td>Silver</td><td>40</td></tr><tr><td>100</td><td>Yellow</td><td>40</td></tr><tr><td>100</td><td>Black</td><td>42</td></tr><tr><td>100</td><td>Silver</td><td>42</td></tr><tr><td>100</td><td>Yellow</td><td>42</td></tr><tr><td>100</td><td>Black</td><td>44</td></tr><tr><td>100</td><td>Blue</td><td>44</td></tr><tr><td>100</td><td>Red</td><td>44</td></tr><tr><td>100</td><td>Silver</td><td>44</td></tr><tr><td>100</td><td>Yellow</td><td>44</td></tr><tr><td>100</td><td>Black</td><td>46</td></tr><tr><td>100</td><td>Blue</td><td>46</td></tr><tr><td>100</td><td>Silver</td><td>46</td></tr><tr><td>100</td><td>Yellow</td><td>46</td></tr><tr><td>100</td><td>Black</td><td>48</td></tr><tr><td>100</td><td>Red</td><td>48</td></tr><tr><td>100</td><td>Silver</td><td>48</td></tr><tr><td>100</td><td>Yellow</td><td>48</td></tr><tr><td>100</td><td>Blue</td><td>50</td></tr><tr><td>100</td><td>Yellow</td><td>50</td></tr><tr><td>100</td><td>Black</td><td>52</td></tr><tr><td>100</td><td>Red</td><td>52</td></tr><tr><td>100</td><td>Silver</td><td>52</td></tr><tr><td>100</td><td>Blue</td><td>54</td></tr><tr><td>100</td><td>Yellow</td><td>54</td></tr><tr><td>100</td><td>Red</td><td>56</td></tr><tr><td>100</td><td>Black</td><td>58</td></tr><tr><td>100</td><td>Blue</td><td>58</td></tr><tr><td>100</td><td>Red</td><td>58</td></tr><tr><td>100</td><td>Yellow</td><td>58</td></tr><tr><td>100</td><td>Black</td><td>60</td></tr><tr><td>100</td><td>Blue</td><td>60</td></tr><tr><td>100</td><td>Red</td><td>60</td></tr><tr><td>100</td><td>Yellow</td><td>60</td></tr><tr><td>100</td><td>Black</td><td>62</td></tr><tr><td>100</td><td>Blue</td><td>62</td></tr><tr><td>100</td><td>Red</td><td>62</td></tr><tr><td>100</td><td>Yellow</td><td>62</td></tr><tr><td>4</td><td>Silver</td><td>70</td></tr><tr><td>4</td><td>Black</td><td>L</td></tr><tr><td>4</td><td>Blue</td><td>L</td></tr><tr><td>4</td><td>Multi</td><td>L</td></tr><tr><td>4</td><td>White</td><td>L</td></tr><tr><td>4</td><td>Yellow</td><td>L</td></tr><tr><td>4</td><td>Black</td><td>M</td></tr><tr><td>4</td><td>Blue</td><td>M</td></tr><tr><td>4</td><td>Multi</td><td>M</td></tr><tr><td>4</td><td>White</td><td>M</td></tr><tr><td>4</td><td>Yellow</td><td>M</td></tr><tr><td>4</td><td>Black</td><td>S</td></tr><tr><td>4</td><td>Blue</td><td>S</td></tr><tr><td>4</td><td>Multi</td><td>S</td></tr><tr><td>4</td><td>Yellow</td><td>S</td></tr><tr><td>4</td><td>Black</td><td>XL</td></tr><tr><td>4</td><td>Multi</td><td>XL</td></tr><tr><td>4</td><td>Yellow</td><td>XL</td></tr></table>"
                    },
                    "metadata": {}
                }
            ],
            "execution_count": 4
        },
        {
            "cell_type": "markdown",
            "source": [
                "Lo mismo pero para los productos que estén en fabricación, makeflag = 1"
            ],
            "metadata": {
                "azdata_cell_guid": "51277a43-521c-44a9-ac8b-cc466dc46329"
            },
            "attachments": {}
        },
        {
            "cell_type": "code",
            "source": [
                "select min(safetystocklevel) as stockminimo, Color, Size \r\n",
                "FROM Production.Product\r\n",
                "WHERE MakeFlag = 1\r\n",
                "GROUP BY Color,Size"
            ],
            "metadata": {
                "azdata_cell_guid": "e5a5edd2-44cf-4bdb-bf80-506998f10a2f",
                "language": "sql"
            },
            "outputs": [
                {
                    "output_type": "display_data",
                    "data": {
                        "text/html": "(45 rows affected)"
                    },
                    "metadata": {}
                },
                {
                    "output_type": "display_data",
                    "data": {
                        "text/html": "Total execution time: 00:00:00.021"
                    },
                    "metadata": {}
                },
                {
                    "output_type": "execute_result",
                    "execution_count": 5,
                    "data": {
                        "application/vnd.dataresource+json": {
                            "schema": {
                                "fields": [
                                    {
                                        "name": "stockminimo"
                                    },
                                    {
                                        "name": "Color"
                                    },
                                    {
                                        "name": "Size"
                                    }
                                ]
                            },
                            "data": [
                                {
                                    "stockminimo": "500",
                                    "Color": "NULL",
                                    "Size": "NULL"
                                },
                                {
                                    "stockminimo": "500",
                                    "Color": "Black",
                                    "Size": "NULL"
                                },
                                {
                                    "stockminimo": "500",
                                    "Color": "Silver",
                                    "Size": "NULL"
                                },
                                {
                                    "stockminimo": "100",
                                    "Color": "Black",
                                    "Size": "38"
                                },
                                {
                                    "stockminimo": "100",
                                    "Color": "Silver",
                                    "Size": "38"
                                },
                                {
                                    "stockminimo": "100",
                                    "Color": "Yellow",
                                    "Size": "38"
                                },
                                {
                                    "stockminimo": "100",
                                    "Color": "Black",
                                    "Size": "40"
                                },
                                {
                                    "stockminimo": "100",
                                    "Color": "Silver",
                                    "Size": "40"
                                },
                                {
                                    "stockminimo": "100",
                                    "Color": "Yellow",
                                    "Size": "40"
                                },
                                {
                                    "stockminimo": "100",
                                    "Color": "Black",
                                    "Size": "42"
                                },
                                {
                                    "stockminimo": "100",
                                    "Color": "Silver",
                                    "Size": "42"
                                },
                                {
                                    "stockminimo": "100",
                                    "Color": "Yellow",
                                    "Size": "42"
                                },
                                {
                                    "stockminimo": "100",
                                    "Color": "Black",
                                    "Size": "44"
                                },
                                {
                                    "stockminimo": "100",
                                    "Color": "Blue",
                                    "Size": "44"
                                },
                                {
                                    "stockminimo": "100",
                                    "Color": "Red",
                                    "Size": "44"
                                },
                                {
                                    "stockminimo": "100",
                                    "Color": "Silver",
                                    "Size": "44"
                                },
                                {
                                    "stockminimo": "100",
                                    "Color": "Yellow",
                                    "Size": "44"
                                },
                                {
                                    "stockminimo": "100",
                                    "Color": "Black",
                                    "Size": "46"
                                },
                                {
                                    "stockminimo": "100",
                                    "Color": "Blue",
                                    "Size": "46"
                                },
                                {
                                    "stockminimo": "100",
                                    "Color": "Silver",
                                    "Size": "46"
                                },
                                {
                                    "stockminimo": "100",
                                    "Color": "Yellow",
                                    "Size": "46"
                                },
                                {
                                    "stockminimo": "100",
                                    "Color": "Black",
                                    "Size": "48"
                                },
                                {
                                    "stockminimo": "100",
                                    "Color": "Red",
                                    "Size": "48"
                                },
                                {
                                    "stockminimo": "100",
                                    "Color": "Silver",
                                    "Size": "48"
                                },
                                {
                                    "stockminimo": "100",
                                    "Color": "Yellow",
                                    "Size": "48"
                                },
                                {
                                    "stockminimo": "100",
                                    "Color": "Blue",
                                    "Size": "50"
                                },
                                {
                                    "stockminimo": "100",
                                    "Color": "Yellow",
                                    "Size": "50"
                                },
                                {
                                    "stockminimo": "100",
                                    "Color": "Black",
                                    "Size": "52"
                                },
                                {
                                    "stockminimo": "100",
                                    "Color": "Red",
                                    "Size": "52"
                                },
                                {
                                    "stockminimo": "100",
                                    "Color": "Silver",
                                    "Size": "52"
                                },
                                {
                                    "stockminimo": "100",
                                    "Color": "Blue",
                                    "Size": "54"
                                },
                                {
                                    "stockminimo": "100",
                                    "Color": "Yellow",
                                    "Size": "54"
                                },
                                {
                                    "stockminimo": "100",
                                    "Color": "Red",
                                    "Size": "56"
                                },
                                {
                                    "stockminimo": "100",
                                    "Color": "Black",
                                    "Size": "58"
                                },
                                {
                                    "stockminimo": "100",
                                    "Color": "Blue",
                                    "Size": "58"
                                },
                                {
                                    "stockminimo": "100",
                                    "Color": "Red",
                                    "Size": "58"
                                },
                                {
                                    "stockminimo": "100",
                                    "Color": "Yellow",
                                    "Size": "58"
                                },
                                {
                                    "stockminimo": "100",
                                    "Color": "Black",
                                    "Size": "60"
                                },
                                {
                                    "stockminimo": "100",
                                    "Color": "Blue",
                                    "Size": "60"
                                },
                                {
                                    "stockminimo": "100",
                                    "Color": "Red",
                                    "Size": "60"
                                },
                                {
                                    "stockminimo": "100",
                                    "Color": "Yellow",
                                    "Size": "60"
                                },
                                {
                                    "stockminimo": "100",
                                    "Color": "Black",
                                    "Size": "62"
                                },
                                {
                                    "stockminimo": "100",
                                    "Color": "Blue",
                                    "Size": "62"
                                },
                                {
                                    "stockminimo": "100",
                                    "Color": "Red",
                                    "Size": "62"
                                },
                                {
                                    "stockminimo": "100",
                                    "Color": "Yellow",
                                    "Size": "62"
                                }
                            ]
                        },
                        "text/html": "<table><tr><th>stockminimo</th><th>Color</th><th>Size</th></tr><tr><td>500</td><td>NULL</td><td>NULL</td></tr><tr><td>500</td><td>Black</td><td>NULL</td></tr><tr><td>500</td><td>Silver</td><td>NULL</td></tr><tr><td>100</td><td>Black</td><td>38</td></tr><tr><td>100</td><td>Silver</td><td>38</td></tr><tr><td>100</td><td>Yellow</td><td>38</td></tr><tr><td>100</td><td>Black</td><td>40</td></tr><tr><td>100</td><td>Silver</td><td>40</td></tr><tr><td>100</td><td>Yellow</td><td>40</td></tr><tr><td>100</td><td>Black</td><td>42</td></tr><tr><td>100</td><td>Silver</td><td>42</td></tr><tr><td>100</td><td>Yellow</td><td>42</td></tr><tr><td>100</td><td>Black</td><td>44</td></tr><tr><td>100</td><td>Blue</td><td>44</td></tr><tr><td>100</td><td>Red</td><td>44</td></tr><tr><td>100</td><td>Silver</td><td>44</td></tr><tr><td>100</td><td>Yellow</td><td>44</td></tr><tr><td>100</td><td>Black</td><td>46</td></tr><tr><td>100</td><td>Blue</td><td>46</td></tr><tr><td>100</td><td>Silver</td><td>46</td></tr><tr><td>100</td><td>Yellow</td><td>46</td></tr><tr><td>100</td><td>Black</td><td>48</td></tr><tr><td>100</td><td>Red</td><td>48</td></tr><tr><td>100</td><td>Silver</td><td>48</td></tr><tr><td>100</td><td>Yellow</td><td>48</td></tr><tr><td>100</td><td>Blue</td><td>50</td></tr><tr><td>100</td><td>Yellow</td><td>50</td></tr><tr><td>100</td><td>Black</td><td>52</td></tr><tr><td>100</td><td>Red</td><td>52</td></tr><tr><td>100</td><td>Silver</td><td>52</td></tr><tr><td>100</td><td>Blue</td><td>54</td></tr><tr><td>100</td><td>Yellow</td><td>54</td></tr><tr><td>100</td><td>Red</td><td>56</td></tr><tr><td>100</td><td>Black</td><td>58</td></tr><tr><td>100</td><td>Blue</td><td>58</td></tr><tr><td>100</td><td>Red</td><td>58</td></tr><tr><td>100</td><td>Yellow</td><td>58</td></tr><tr><td>100</td><td>Black</td><td>60</td></tr><tr><td>100</td><td>Blue</td><td>60</td></tr><tr><td>100</td><td>Red</td><td>60</td></tr><tr><td>100</td><td>Yellow</td><td>60</td></tr><tr><td>100</td><td>Black</td><td>62</td></tr><tr><td>100</td><td>Blue</td><td>62</td></tr><tr><td>100</td><td>Red</td><td>62</td></tr><tr><td>100</td><td>Yellow</td><td>62</td></tr></table>"
                    },
                    "metadata": {}
                }
            ],
            "execution_count": 5
        },
        {
            "cell_type": "markdown",
            "source": [
                "### Calcular cual es el porcentaje de productos de color rojo, con respecto al total."
            ],
            "metadata": {
                "azdata_cell_guid": "1238c368-0b22-450c-a602-f06d996c7063"
            },
            "attachments": {}
        },
        {
            "cell_type": "code",
            "source": [
                ""
            ],
            "metadata": {
                "azdata_cell_guid": "bf3bc1ac-09e9-487b-9a61-ccfd33fb7b5f",
                "language": "sql"
            },
            "outputs": [],
            "execution_count": null
        },
        {
            "cell_type": "markdown",
            "source": [
                "QUIERO UN CAMPO PARA MOSTRAR EL PRODUCTO Y ENTRE PARÉNTESIS SU TALLA(SIZE). Mostar el contenido de los productos cuyo color sea rojo o azul y esten sus fabricaciones en makeflag = 1. Quiero sacar los 5 productos más baratos con empates(listPrice), cuyo listPrice sea mayor que cero."
            ],
            "metadata": {
                "azdata_cell_guid": "665f7fe4-62a2-4bdd-9141-76574e353b0b"
            },
            "attachments": {}
        },
        {
            "cell_type": "code",
            "source": [
                "SELECT TOP(5) WITH TIES LISTPRICE, CONCAT(NAME, '(', COALESCE(SIZE, 'ES NULL'), ')') FROM Production.Product WHERE MAKEFLAG = 1 AND COLOR IN ('BLUE', 'RED') AND LISTPRICE > 0 ORDER BY LISTPRICE"
            ],
            "metadata": {
                "azdata_cell_guid": "4458a931-7c64-4b9f-aaf1-29f02d2e4118",
                "language": "sql"
            },
            "outputs": [
                {
                    "output_type": "display_data",
                    "data": {
                        "text/html": "(5 rows affected)"
                    },
                    "metadata": {}
                },
                {
                    "output_type": "display_data",
                    "data": {
                        "text/html": "Total execution time: 00:00:00.004"
                    },
                    "metadata": {}
                },
                {
                    "output_type": "execute_result",
                    "metadata": {},
                    "execution_count": 7,
                    "data": {
                        "application/vnd.dataresource+json": {
                            "schema": {
                                "fields": [
                                    {
                                        "name": "LISTPRICE"
                                    },
                                    {
                                        "name": "(No column name)"
                                    }
                                ]
                            },
                            "data": [
                                {
                                    "LISTPRICE": "333,42",
                                    "(No column name)": "LL Touring Frame - Blue, 50(50)"
                                },
                                {
                                    "LISTPRICE": "333,42",
                                    "(No column name)": "LL Touring Frame - Blue, 54(54)"
                                },
                                {
                                    "LISTPRICE": "333,42",
                                    "(No column name)": "LL Touring Frame - Blue, 58(58)"
                                },
                                {
                                    "LISTPRICE": "333,42",
                                    "(No column name)": "LL Touring Frame - Blue, 62(62)"
                                },
                                {
                                    "LISTPRICE": "333,42",
                                    "(No column name)": "LL Touring Frame - Blue, 44(44)"
                                }
                            ]
                        },
                        "text/html": [
                            "<table>",
                            "<tr><th>LISTPRICE</th><th>(No column name)</th></tr>",
                            "<tr><td>333,42</td><td>LL Touring Frame - Blue, 50(50)</td></tr>",
                            "<tr><td>333,42</td><td>LL Touring Frame - Blue, 54(54)</td></tr>",
                            "<tr><td>333,42</td><td>LL Touring Frame - Blue, 58(58)</td></tr>",
                            "<tr><td>333,42</td><td>LL Touring Frame - Blue, 62(62)</td></tr>",
                            "<tr><td>333,42</td><td>LL Touring Frame - Blue, 44(44)</td></tr>",
                            "</table>"
                        ]
                    }
                }
            ],
            "execution_count": 7
        },
        {
            "cell_type": "markdown",
            "source": [
                "Sacar la cantidad de producto que hay por color y talla y si estan en fabricación"
            ],
            "metadata": {
                "azdata_cell_guid": "0ef93dd0-b8c0-4fe9-8c6c-0e8df91488e1"
            },
            "attachments": {}
        },
        {
            "cell_type": "code",
            "source": [
                "SELECT COLOR, SIZE, MAKEFLAG, COUNT(*) AS CANTIDAD  FROM Production.Product  GROUP BY COLOR, SIZE, MakeFlag "
            ],
            "metadata": {
                "azdata_cell_guid": "718dc59c-0414-4eca-a422-80375972deba",
                "language": "sql"
            },
            "outputs": [
                {
                    "output_type": "display_data",
                    "data": {
                        "text/html": "(71 rows affected)"
                    },
                    "metadata": {}
                },
                {
                    "output_type": "display_data",
                    "data": {
                        "text/html": "Total execution time: 00:00:00.025"
                    },
                    "metadata": {}
                },
                {
                    "output_type": "execute_result",
                    "metadata": {},
                    "execution_count": 9,
                    "data": {
                        "application/vnd.dataresource+json": {
                            "schema": {
                                "fields": [
                                    {
                                        "name": "COLOR"
                                    },
                                    {
                                        "name": "SIZE"
                                    },
                                    {
                                        "name": "MAKEFLAG"
                                    },
                                    {
                                        "name": "CANTIDAD"
                                    }
                                ]
                            },
                            "data": [
                                {
                                    "COLOR": "NULL",
                                    "SIZE": "NULL",
                                    "MAKEFLAG": "0",
                                    "CANTIDAD": "204"
                                },
                                {
                                    "COLOR": "NULL",
                                    "SIZE": "NULL",
                                    "MAKEFLAG": "1",
                                    "CANTIDAD": "44"
                                },
                                {
                                    "COLOR": "Black",
                                    "SIZE": "NULL",
                                    "MAKEFLAG": "0",
                                    "CANTIDAD": "5"
                                },
                                {
                                    "COLOR": "Black",
                                    "SIZE": "NULL",
                                    "MAKEFLAG": "1",
                                    "CANTIDAD": "17"
                                },
                                {
                                    "COLOR": "Black",
                                    "SIZE": "38",
                                    "MAKEFLAG": "1",
                                    "CANTIDAD": "5"
                                },
                                {
                                    "COLOR": "Black",
                                    "SIZE": "40",
                                    "MAKEFLAG": "1",
                                    "CANTIDAD": "4"
                                },
                                {
                                    "COLOR": "Black",
                                    "SIZE": "42",
                                    "MAKEFLAG": "1",
                                    "CANTIDAD": "5"
                                },
                                {
                                    "COLOR": "Black",
                                    "SIZE": "44",
                                    "MAKEFLAG": "1",
                                    "CANTIDAD": "11"
                                },
                                {
                                    "COLOR": "Black",
                                    "SIZE": "46",
                                    "MAKEFLAG": "1",
                                    "CANTIDAD": "2"
                                },
                                {
                                    "COLOR": "Black",
                                    "SIZE": "48",
                                    "MAKEFLAG": "1",
                                    "CANTIDAD": "11"
                                },
                                {
                                    "COLOR": "Black",
                                    "SIZE": "52",
                                    "MAKEFLAG": "1",
                                    "CANTIDAD": "7"
                                },
                                {
                                    "COLOR": "Black",
                                    "SIZE": "58",
                                    "MAKEFLAG": "1",
                                    "CANTIDAD": "5"
                                },
                                {
                                    "COLOR": "Black",
                                    "SIZE": "60",
                                    "MAKEFLAG": "1",
                                    "CANTIDAD": "2"
                                },
                                {
                                    "COLOR": "Black",
                                    "SIZE": "62",
                                    "MAKEFLAG": "1",
                                    "CANTIDAD": "3"
                                },
                                {
                                    "COLOR": "Black",
                                    "SIZE": "L",
                                    "MAKEFLAG": "0",
                                    "CANTIDAD": "5"
                                },
                                {
                                    "COLOR": "Black",
                                    "SIZE": "M",
                                    "MAKEFLAG": "0",
                                    "CANTIDAD": "5"
                                },
                                {
                                    "COLOR": "Black",
                                    "SIZE": "S",
                                    "MAKEFLAG": "0",
                                    "CANTIDAD": "5"
                                },
                                {
                                    "COLOR": "Black",
                                    "SIZE": "XL",
                                    "MAKEFLAG": "0",
                                    "CANTIDAD": "1"
                                },
                                {
                                    "COLOR": "Blue",
                                    "SIZE": "NULL",
                                    "MAKEFLAG": "0",
                                    "CANTIDAD": "1"
                                },
                                {
                                    "COLOR": "Blue",
                                    "SIZE": "44",
                                    "MAKEFLAG": "1",
                                    "CANTIDAD": "2"
                                },
                                {
                                    "COLOR": "Blue",
                                    "SIZE": "46",
                                    "MAKEFLAG": "1",
                                    "CANTIDAD": "3"
                                },
                                {
                                    "COLOR": "Blue",
                                    "SIZE": "50",
                                    "MAKEFLAG": "1",
                                    "CANTIDAD": "5"
                                },
                                {
                                    "COLOR": "Blue",
                                    "SIZE": "54",
                                    "MAKEFLAG": "1",
                                    "CANTIDAD": "5"
                                },
                                {
                                    "COLOR": "Blue",
                                    "SIZE": "58",
                                    "MAKEFLAG": "1",
                                    "CANTIDAD": "2"
                                },
                                {
                                    "COLOR": "Blue",
                                    "SIZE": "60",
                                    "MAKEFLAG": "1",
                                    "CANTIDAD": "3"
                                },
                                {
                                    "COLOR": "Blue",
                                    "SIZE": "62",
                                    "MAKEFLAG": "1",
                                    "CANTIDAD": "2"
                                },
                                {
                                    "COLOR": "Blue",
                                    "SIZE": "L",
                                    "MAKEFLAG": "0",
                                    "CANTIDAD": "1"
                                },
                                {
                                    "COLOR": "Blue",
                                    "SIZE": "M",
                                    "MAKEFLAG": "0",
                                    "CANTIDAD": "1"
                                },
                                {
                                    "COLOR": "Blue",
                                    "SIZE": "S",
                                    "MAKEFLAG": "0",
                                    "CANTIDAD": "1"
                                },
                                {
                                    "COLOR": "Grey",
                                    "SIZE": "NULL",
                                    "MAKEFLAG": "0",
                                    "CANTIDAD": "1"
                                },
                                {
                                    "COLOR": "Multi",
                                    "SIZE": "NULL",
                                    "MAKEFLAG": "0",
                                    "CANTIDAD": "1"
                                },
                                {
                                    "COLOR": "Multi",
                                    "SIZE": "L",
                                    "MAKEFLAG": "0",
                                    "CANTIDAD": "2"
                                },
                                {
                                    "COLOR": "Multi",
                                    "SIZE": "M",
                                    "MAKEFLAG": "0",
                                    "CANTIDAD": "2"
                                },
                                {
                                    "COLOR": "Multi",
                                    "SIZE": "S",
                                    "MAKEFLAG": "0",
                                    "CANTIDAD": "2"
                                },
                                {
                                    "COLOR": "Multi",
                                    "SIZE": "XL",
                                    "MAKEFLAG": "0",
                                    "CANTIDAD": "1"
                                },
                                {
                                    "COLOR": "Red",
                                    "SIZE": "NULL",
                                    "MAKEFLAG": "0",
                                    "CANTIDAD": "1"
                                },
                                {
                                    "COLOR": "Red",
                                    "SIZE": "44",
                                    "MAKEFLAG": "1",
                                    "CANTIDAD": "7"
                                },
                                {
                                    "COLOR": "Red",
                                    "SIZE": "48",
                                    "MAKEFLAG": "1",
                                    "CANTIDAD": "7"
                                },
                                {
                                    "COLOR": "Red",
                                    "SIZE": "52",
                                    "MAKEFLAG": "1",
                                    "CANTIDAD": "7"
                                },
                                {
                                    "COLOR": "Red",
                                    "SIZE": "56",
                                    "MAKEFLAG": "1",
                                    "CANTIDAD": "2"
                                },
                                {
                                    "COLOR": "Red",
                                    "SIZE": "58",
                                    "MAKEFLAG": "1",
                                    "CANTIDAD": "6"
                                },
                                {
                                    "COLOR": "Red",
                                    "SIZE": "60",
                                    "MAKEFLAG": "1",
                                    "CANTIDAD": "4"
                                },
                                {
                                    "COLOR": "Red",
                                    "SIZE": "62",
                                    "MAKEFLAG": "1",
                                    "CANTIDAD": "4"
                                },
                                {
                                    "COLOR": "Silver",
                                    "SIZE": "NULL",
                                    "MAKEFLAG": "0",
                                    "CANTIDAD": "10"
                                },
                                {
                                    "COLOR": "Silver",
                                    "SIZE": "NULL",
                                    "MAKEFLAG": "1",
                                    "CANTIDAD": "2"
                                },
                                {
                                    "COLOR": "Silver",
                                    "SIZE": "38",
                                    "MAKEFLAG": "1",
                                    "CANTIDAD": "5"
                                },
                                {
                                    "COLOR": "Silver",
                                    "SIZE": "40",
                                    "MAKEFLAG": "1",
                                    "CANTIDAD": "4"
                                },
                                {
                                    "COLOR": "Silver",
                                    "SIZE": "42",
                                    "MAKEFLAG": "1",
                                    "CANTIDAD": "7"
                                },
                                {
                                    "COLOR": "Silver",
                                    "SIZE": "44",
                                    "MAKEFLAG": "1",
                                    "CANTIDAD": "4"
                                },
                                {
                                    "COLOR": "Silver",
                                    "SIZE": "46",
                                    "MAKEFLAG": "1",
                                    "CANTIDAD": "4"
                                },
                                {
                                    "COLOR": "Silver",
                                    "SIZE": "48",
                                    "MAKEFLAG": "1",
                                    "CANTIDAD": "4"
                                },
                                {
                                    "COLOR": "Silver",
                                    "SIZE": "52",
                                    "MAKEFLAG": "1",
                                    "CANTIDAD": "2"
                                },
                                {
                                    "COLOR": "Silver",
                                    "SIZE": "70",
                                    "MAKEFLAG": "0",
                                    "CANTIDAD": "1"
                                },
                                {
                                    "COLOR": "Silver/Black",
                                    "SIZE": "NULL",
                                    "MAKEFLAG": "0",
                                    "CANTIDAD": "7"
                                },
                                {
                                    "COLOR": "White",
                                    "SIZE": "L",
                                    "MAKEFLAG": "0",
                                    "CANTIDAD": "2"
                                },
                                {
                                    "COLOR": "White",
                                    "SIZE": "M",
                                    "MAKEFLAG": "0",
                                    "CANTIDAD": "2"
                                },
                                {
                                    "COLOR": "Yellow",
                                    "SIZE": "38",
                                    "MAKEFLAG": "1",
                                    "CANTIDAD": "2"
                                },
                                {
                                    "COLOR": "Yellow",
                                    "SIZE": "40",
                                    "MAKEFLAG": "1",
                                    "CANTIDAD": "3"
                                },
                                {
                                    "COLOR": "Yellow",
                                    "SIZE": "42",
                                    "MAKEFLAG": "1",
                                    "CANTIDAD": "3"
                                },
                                {
                                    "COLOR": "Yellow",
                                    "SIZE": "44",
                                    "MAKEFLAG": "1",
                                    "CANTIDAD": "5"
                                },
                                {
                                    "COLOR": "Yellow",
                                    "SIZE": "46",
                                    "MAKEFLAG": "1",
                                    "CANTIDAD": "2"
                                },
                                {
                                    "COLOR": "Yellow",
                                    "SIZE": "48",
                                    "MAKEFLAG": "1",
                                    "CANTIDAD": "3"
                                },
                                {
                                    "COLOR": "Yellow",
                                    "SIZE": "50",
                                    "MAKEFLAG": "1",
                                    "CANTIDAD": "4"
                                },
                                {
                                    "COLOR": "Yellow",
                                    "SIZE": "54",
                                    "MAKEFLAG": "1",
                                    "CANTIDAD": "4"
                                },
                                {
                                    "COLOR": "Yellow",
                                    "SIZE": "58",
                                    "MAKEFLAG": "1",
                                    "CANTIDAD": "2"
                                },
                                {
                                    "COLOR": "Yellow",
                                    "SIZE": "60",
                                    "MAKEFLAG": "1",
                                    "CANTIDAD": "2"
                                },
                                {
                                    "COLOR": "Yellow",
                                    "SIZE": "62",
                                    "MAKEFLAG": "1",
                                    "CANTIDAD": "2"
                                },
                                {
                                    "COLOR": "Yellow",
                                    "SIZE": "L",
                                    "MAKEFLAG": "0",
                                    "CANTIDAD": "1"
                                },
                                {
                                    "COLOR": "Yellow",
                                    "SIZE": "M",
                                    "MAKEFLAG": "0",
                                    "CANTIDAD": "1"
                                },
                                {
                                    "COLOR": "Yellow",
                                    "SIZE": "S",
                                    "MAKEFLAG": "0",
                                    "CANTIDAD": "1"
                                },
                                {
                                    "COLOR": "Yellow",
                                    "SIZE": "XL",
                                    "MAKEFLAG": "0",
                                    "CANTIDAD": "1"
                                }
                            ]
                        },
                        "text/html": [
                            "<table>",
                            "<tr><th>COLOR</th><th>SIZE</th><th>MAKEFLAG</th><th>CANTIDAD</th></tr>",
                            "<tr><td>NULL</td><td>NULL</td><td>0</td><td>204</td></tr>",
                            "<tr><td>NULL</td><td>NULL</td><td>1</td><td>44</td></tr>",
                            "<tr><td>Black</td><td>NULL</td><td>0</td><td>5</td></tr>",
                            "<tr><td>Black</td><td>NULL</td><td>1</td><td>17</td></tr>",
                            "<tr><td>Black</td><td>38</td><td>1</td><td>5</td></tr>",
                            "<tr><td>Black</td><td>40</td><td>1</td><td>4</td></tr>",
                            "<tr><td>Black</td><td>42</td><td>1</td><td>5</td></tr>",
                            "<tr><td>Black</td><td>44</td><td>1</td><td>11</td></tr>",
                            "<tr><td>Black</td><td>46</td><td>1</td><td>2</td></tr>",
                            "<tr><td>Black</td><td>48</td><td>1</td><td>11</td></tr>",
                            "<tr><td>Black</td><td>52</td><td>1</td><td>7</td></tr>",
                            "<tr><td>Black</td><td>58</td><td>1</td><td>5</td></tr>",
                            "<tr><td>Black</td><td>60</td><td>1</td><td>2</td></tr>",
                            "<tr><td>Black</td><td>62</td><td>1</td><td>3</td></tr>",
                            "<tr><td>Black</td><td>L</td><td>0</td><td>5</td></tr>",
                            "<tr><td>Black</td><td>M</td><td>0</td><td>5</td></tr>",
                            "<tr><td>Black</td><td>S</td><td>0</td><td>5</td></tr>",
                            "<tr><td>Black</td><td>XL</td><td>0</td><td>1</td></tr>",
                            "<tr><td>Blue</td><td>NULL</td><td>0</td><td>1</td></tr>",
                            "<tr><td>Blue</td><td>44</td><td>1</td><td>2</td></tr>",
                            "<tr><td>Blue</td><td>46</td><td>1</td><td>3</td></tr>",
                            "<tr><td>Blue</td><td>50</td><td>1</td><td>5</td></tr>",
                            "<tr><td>Blue</td><td>54</td><td>1</td><td>5</td></tr>",
                            "<tr><td>Blue</td><td>58</td><td>1</td><td>2</td></tr>",
                            "<tr><td>Blue</td><td>60</td><td>1</td><td>3</td></tr>",
                            "<tr><td>Blue</td><td>62</td><td>1</td><td>2</td></tr>",
                            "<tr><td>Blue</td><td>L</td><td>0</td><td>1</td></tr>",
                            "<tr><td>Blue</td><td>M</td><td>0</td><td>1</td></tr>",
                            "<tr><td>Blue</td><td>S</td><td>0</td><td>1</td></tr>",
                            "<tr><td>Grey</td><td>NULL</td><td>0</td><td>1</td></tr>",
                            "<tr><td>Multi</td><td>NULL</td><td>0</td><td>1</td></tr>",
                            "<tr><td>Multi</td><td>L</td><td>0</td><td>2</td></tr>",
                            "<tr><td>Multi</td><td>M</td><td>0</td><td>2</td></tr>",
                            "<tr><td>Multi</td><td>S</td><td>0</td><td>2</td></tr>",
                            "<tr><td>Multi</td><td>XL</td><td>0</td><td>1</td></tr>",
                            "<tr><td>Red</td><td>NULL</td><td>0</td><td>1</td></tr>",
                            "<tr><td>Red</td><td>44</td><td>1</td><td>7</td></tr>",
                            "<tr><td>Red</td><td>48</td><td>1</td><td>7</td></tr>",
                            "<tr><td>Red</td><td>52</td><td>1</td><td>7</td></tr>",
                            "<tr><td>Red</td><td>56</td><td>1</td><td>2</td></tr>",
                            "<tr><td>Red</td><td>58</td><td>1</td><td>6</td></tr>",
                            "<tr><td>Red</td><td>60</td><td>1</td><td>4</td></tr>",
                            "<tr><td>Red</td><td>62</td><td>1</td><td>4</td></tr>",
                            "<tr><td>Silver</td><td>NULL</td><td>0</td><td>10</td></tr>",
                            "<tr><td>Silver</td><td>NULL</td><td>1</td><td>2</td></tr>",
                            "<tr><td>Silver</td><td>38</td><td>1</td><td>5</td></tr>",
                            "<tr><td>Silver</td><td>40</td><td>1</td><td>4</td></tr>",
                            "<tr><td>Silver</td><td>42</td><td>1</td><td>7</td></tr>",
                            "<tr><td>Silver</td><td>44</td><td>1</td><td>4</td></tr>",
                            "<tr><td>Silver</td><td>46</td><td>1</td><td>4</td></tr>",
                            "<tr><td>Silver</td><td>48</td><td>1</td><td>4</td></tr>",
                            "<tr><td>Silver</td><td>52</td><td>1</td><td>2</td></tr>",
                            "<tr><td>Silver</td><td>70</td><td>0</td><td>1</td></tr>",
                            "<tr><td>Silver/Black</td><td>NULL</td><td>0</td><td>7</td></tr>",
                            "<tr><td>White</td><td>L</td><td>0</td><td>2</td></tr>",
                            "<tr><td>White</td><td>M</td><td>0</td><td>2</td></tr>",
                            "<tr><td>Yellow</td><td>38</td><td>1</td><td>2</td></tr>",
                            "<tr><td>Yellow</td><td>40</td><td>1</td><td>3</td></tr>",
                            "<tr><td>Yellow</td><td>42</td><td>1</td><td>3</td></tr>",
                            "<tr><td>Yellow</td><td>44</td><td>1</td><td>5</td></tr>",
                            "<tr><td>Yellow</td><td>46</td><td>1</td><td>2</td></tr>",
                            "<tr><td>Yellow</td><td>48</td><td>1</td><td>3</td></tr>",
                            "<tr><td>Yellow</td><td>50</td><td>1</td><td>4</td></tr>",
                            "<tr><td>Yellow</td><td>54</td><td>1</td><td>4</td></tr>",
                            "<tr><td>Yellow</td><td>58</td><td>1</td><td>2</td></tr>",
                            "<tr><td>Yellow</td><td>60</td><td>1</td><td>2</td></tr>",
                            "<tr><td>Yellow</td><td>62</td><td>1</td><td>2</td></tr>",
                            "<tr><td>Yellow</td><td>L</td><td>0</td><td>1</td></tr>",
                            "<tr><td>Yellow</td><td>M</td><td>0</td><td>1</td></tr>",
                            "<tr><td>Yellow</td><td>S</td><td>0</td><td>1</td></tr>",
                            "<tr><td>Yellow</td><td>XL</td><td>0</td><td>1</td></tr>",
                            "</table>"
                        ]
                    }
                }
            ],
            "execution_count": 9
        }
    ]
}