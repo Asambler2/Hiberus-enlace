{
    "metadata": {
        "kernelspec": {
            "name": "SQL",
            "display_name": "SQL",
            "language": "sql"
        },
        "language_info": {
            "name": "sql",
            "version": ""
        }
    },
    "nbformat_minor": 2,
    "nbformat": 4,
    "cells": [
        {
            "cell_type": "markdown",
            "source": [
                "1\\. Mostrar todos los ingredientes ordenados por precio gramo de forma descendente."
            ],
            "metadata": {
                "azdata_cell_guid": "3b530284-13ef-48d6-bb6f-355b2456aea6"
            },
            "attachments": {}
        },
        {
            "cell_type": "code",
            "source": [
                "SELECT * FROM INGREDIENTES ORDER BY PRECIO_GRAMO DESC"
            ],
            "metadata": {
                "azdata_cell_guid": "120be9e5-a929-4dcc-a5cb-5f1f33639166",
                "language": "sql"
            },
            "outputs": [
                {
                    "output_type": "display_data",
                    "data": {
                        "text/html": "(6 rows affected)"
                    },
                    "metadata": {}
                },
                {
                    "output_type": "display_data",
                    "data": {
                        "text/html": "Total execution time: 00:00:00.005"
                    },
                    "metadata": {}
                },
                {
                    "output_type": "execute_result",
                    "metadata": {},
                    "execution_count": 3,
                    "data": {
                        "application/vnd.dataresource+json": {
                            "schema": {
                                "fields": [
                                    {
                                        "name": "ID_INGREDIENTE"
                                    },
                                    {
                                        "name": "NOMBRE_INGREDIENTE"
                                    },
                                    {
                                        "name": "PRECIO_GRAMO"
                                    },
                                    {
                                        "name": "ID_TIPO_INGREDIENTE"
                                    },
                                    {
                                        "name": "ID_PAIS"
                                    }
                                ]
                            },
                            "data": [
                                {
                                    "ID_INGREDIENTE": "2",
                                    "NOMBRE_INGREDIENTE": "TERNERA",
                                    "PRECIO_GRAMO": "100,00",
                                    "ID_TIPO_INGREDIENTE": "1",
                                    "ID_PAIS": "1 "
                                },
                                {
                                    "ID_INGREDIENTE": "3",
                                    "NOMBRE_INGREDIENTE": "CHOCOLATE",
                                    "PRECIO_GRAMO": "30,00",
                                    "ID_TIPO_INGREDIENTE": "6",
                                    "ID_PAIS": "2 "
                                },
                                {
                                    "ID_INGREDIENTE": "1",
                                    "NOMBRE_INGREDIENTE": "LECHUGA",
                                    "PRECIO_GRAMO": "10,00",
                                    "ID_TIPO_INGREDIENTE": "5",
                                    "ID_PAIS": "1 "
                                },
                                {
                                    "ID_INGREDIENTE": "4",
                                    "NOMBRE_INGREDIENTE": "HARINA",
                                    "PRECIO_GRAMO": "5,00",
                                    "ID_TIPO_INGREDIENTE": "7",
                                    "ID_PAIS": "1 "
                                },
                                {
                                    "ID_INGREDIENTE": "5",
                                    "NOMBRE_INGREDIENTE": "TOMATE",
                                    "PRECIO_GRAMO": "3,00",
                                    "ID_TIPO_INGREDIENTE": "5",
                                    "ID_PAIS": "2 "
                                },
                                {
                                    "ID_INGREDIENTE": "6",
                                    "NOMBRE_INGREDIENTE": "PAN DE BARRA",
                                    "PRECIO_GRAMO": "1,00",
                                    "ID_TIPO_INGREDIENTE": "9",
                                    "ID_PAIS": "1 "
                                }
                            ]
                        },
                        "text/html": [
                            "<table>",
                            "<tr><th>ID_INGREDIENTE</th><th>NOMBRE_INGREDIENTE</th><th>PRECIO_GRAMO</th><th>ID_TIPO_INGREDIENTE</th><th>ID_PAIS</th></tr>",
                            "<tr><td>2</td><td>TERNERA</td><td>100,00</td><td>1</td><td>1 </td></tr>",
                            "<tr><td>3</td><td>CHOCOLATE</td><td>30,00</td><td>6</td><td>2 </td></tr>",
                            "<tr><td>1</td><td>LECHUGA</td><td>10,00</td><td>5</td><td>1 </td></tr>",
                            "<tr><td>4</td><td>HARINA</td><td>5,00</td><td>7</td><td>1 </td></tr>",
                            "<tr><td>5</td><td>TOMATE</td><td>3,00</td><td>5</td><td>2 </td></tr>",
                            "<tr><td>6</td><td>PAN DE BARRA</td><td>1,00</td><td>9</td><td>1 </td></tr>",
                            "</table>"
                        ]
                    }
                }
            ],
            "execution_count": 3
        },
        {
            "cell_type": "markdown",
            "source": [
                "2\\. Mostrar todos los ingredientes que comiencen por A,B o C"
            ],
            "metadata": {
                "azdata_cell_guid": "2ec62adf-d031-496e-82be-3f6b51eae3b2"
            },
            "attachments": {}
        },
        {
            "cell_type": "code",
            "source": [
                "SELECT * FROM INGREDIENTES WHERE NOMBRE_INGREDIENTE LIKE '[A,B,C]%'"
            ],
            "metadata": {
                "azdata_cell_guid": "1a590cec-93da-4fc9-9045-62709812c2eb",
                "language": "sql"
            },
            "outputs": [
                {
                    "output_type": "display_data",
                    "data": {
                        "text/html": "(1 row affected)"
                    },
                    "metadata": {}
                },
                {
                    "output_type": "display_data",
                    "data": {
                        "text/html": "Total execution time: 00:00:00.005"
                    },
                    "metadata": {}
                },
                {
                    "output_type": "execute_result",
                    "metadata": {},
                    "execution_count": 4,
                    "data": {
                        "application/vnd.dataresource+json": {
                            "schema": {
                                "fields": [
                                    {
                                        "name": "ID_INGREDIENTE"
                                    },
                                    {
                                        "name": "NOMBRE_INGREDIENTE"
                                    },
                                    {
                                        "name": "PRECIO_GRAMO"
                                    },
                                    {
                                        "name": "ID_TIPO_INGREDIENTE"
                                    },
                                    {
                                        "name": "ID_PAIS"
                                    }
                                ]
                            },
                            "data": [
                                {
                                    "ID_INGREDIENTE": "3",
                                    "NOMBRE_INGREDIENTE": "CHOCOLATE",
                                    "PRECIO_GRAMO": "30,00",
                                    "ID_TIPO_INGREDIENTE": "6",
                                    "ID_PAIS": "2 "
                                }
                            ]
                        },
                        "text/html": [
                            "<table>",
                            "<tr><th>ID_INGREDIENTE</th><th>NOMBRE_INGREDIENTE</th><th>PRECIO_GRAMO</th><th>ID_TIPO_INGREDIENTE</th><th>ID_PAIS</th></tr>",
                            "<tr><td>3</td><td>CHOCOLATE</td><td>30,00</td><td>6</td><td>2 </td></tr>",
                            "</table>"
                        ]
                    }
                }
            ],
            "execution_count": 4
        },
        {
            "cell_type": "markdown",
            "source": [
                "3\\. Mostrar todos los ingredientes cuyo pais sea NULL."
            ],
            "metadata": {
                "azdata_cell_guid": "cb282855-67c6-464c-bdf4-d2b4351512c5"
            },
            "attachments": {}
        },
        {
            "cell_type": "code",
            "source": [
                "SELECT * FROM INGREDIENTES WHERE ID_PAIS = NULL"
            ],
            "metadata": {
                "azdata_cell_guid": "8d5ad007-4cbc-49fc-bd66-9266e45bfb14",
                "language": "sql"
            },
            "outputs": [
                {
                    "output_type": "display_data",
                    "data": {
                        "text/html": "(0 rows affected)"
                    },
                    "metadata": {}
                },
                {
                    "output_type": "display_data",
                    "data": {
                        "text/html": "Total execution time: 00:00:00.003"
                    },
                    "metadata": {}
                },
                {
                    "output_type": "execute_result",
                    "metadata": {},
                    "execution_count": 5,
                    "data": {
                        "application/vnd.dataresource+json": {
                            "schema": {
                                "fields": [
                                    {
                                        "name": "ID_INGREDIENTE"
                                    },
                                    {
                                        "name": "NOMBRE_INGREDIENTE"
                                    },
                                    {
                                        "name": "PRECIO_GRAMO"
                                    },
                                    {
                                        "name": "ID_TIPO_INGREDIENTE"
                                    },
                                    {
                                        "name": "ID_PAIS"
                                    }
                                ]
                            },
                            "data": []
                        },
                        "text/html": [
                            "<table>",
                            "<tr><th>ID_INGREDIENTE</th><th>NOMBRE_INGREDIENTE</th><th>PRECIO_GRAMO</th><th>ID_TIPO_INGREDIENTE</th><th>ID_PAIS</th></tr>",
                            "</table>"
                        ]
                    }
                }
            ],
            "execution_count": 5
        },
        {
            "cell_type": "markdown",
            "source": [
                "4\\. Mostrar todos los ingredientes ordenados por nombre de aquellos cuyo precio esté entre 10 y 40"
            ],
            "metadata": {
                "azdata_cell_guid": "2af0d1be-598c-44ca-8c2e-69800ec9cd0a"
            },
            "attachments": {}
        },
        {
            "cell_type": "code",
            "source": [
                "SELECT * FROM INGREDIENTES WHERE PRECIO_GRAMO BETWEEN 10 AND 40 ORDER BY NOMBRE_INGREDIENTE"
            ],
            "metadata": {
                "azdata_cell_guid": "cd65efde-79e6-4d20-a6e5-6dbd29e3bd8b",
                "language": "sql"
            },
            "outputs": [
                {
                    "output_type": "display_data",
                    "data": {
                        "text/html": "(2 rows affected)"
                    },
                    "metadata": {}
                },
                {
                    "output_type": "display_data",
                    "data": {
                        "text/html": "Total execution time: 00:00:00.006"
                    },
                    "metadata": {}
                },
                {
                    "output_type": "execute_result",
                    "metadata": {},
                    "execution_count": 6,
                    "data": {
                        "application/vnd.dataresource+json": {
                            "schema": {
                                "fields": [
                                    {
                                        "name": "ID_INGREDIENTE"
                                    },
                                    {
                                        "name": "NOMBRE_INGREDIENTE"
                                    },
                                    {
                                        "name": "PRECIO_GRAMO"
                                    },
                                    {
                                        "name": "ID_TIPO_INGREDIENTE"
                                    },
                                    {
                                        "name": "ID_PAIS"
                                    }
                                ]
                            },
                            "data": [
                                {
                                    "ID_INGREDIENTE": "3",
                                    "NOMBRE_INGREDIENTE": "CHOCOLATE",
                                    "PRECIO_GRAMO": "30,00",
                                    "ID_TIPO_INGREDIENTE": "6",
                                    "ID_PAIS": "2 "
                                },
                                {
                                    "ID_INGREDIENTE": "1",
                                    "NOMBRE_INGREDIENTE": "LECHUGA",
                                    "PRECIO_GRAMO": "10,00",
                                    "ID_TIPO_INGREDIENTE": "5",
                                    "ID_PAIS": "1 "
                                }
                            ]
                        },
                        "text/html": [
                            "<table>",
                            "<tr><th>ID_INGREDIENTE</th><th>NOMBRE_INGREDIENTE</th><th>PRECIO_GRAMO</th><th>ID_TIPO_INGREDIENTE</th><th>ID_PAIS</th></tr>",
                            "<tr><td>3</td><td>CHOCOLATE</td><td>30,00</td><td>6</td><td>2 </td></tr>",
                            "<tr><td>1</td><td>LECHUGA</td><td>10,00</td><td>5</td><td>1 </td></tr>",
                            "</table>"
                        ]
                    }
                }
            ],
            "execution_count": 6
        },
        {
            "cell_type": "markdown",
            "source": [
                "5\\. Mostrar todas las recetas, cuyo año de la fecha de creación sea inferior a 2016."
            ],
            "metadata": {
                "azdata_cell_guid": "5df5fbac-6eb0-4bff-8f23-31411bed64f3"
            },
            "attachments": {}
        },
        {
            "cell_type": "code",
            "source": [
                "SELECT * FROM RECETAS WHERE YEAR(FECHA_CREACION) < 2016"
            ],
            "metadata": {
                "azdata_cell_guid": "b4b48332-d527-499f-87f7-aa2fe4caa682",
                "language": "sql"
            },
            "outputs": [
                {
                    "output_type": "display_data",
                    "data": {
                        "text/html": "(2 rows affected)"
                    },
                    "metadata": {}
                },
                {
                    "output_type": "display_data",
                    "data": {
                        "text/html": "Total execution time: 00:00:00.008"
                    },
                    "metadata": {}
                },
                {
                    "output_type": "execute_result",
                    "metadata": {},
                    "execution_count": 7,
                    "data": {
                        "application/vnd.dataresource+json": {
                            "schema": {
                                "fields": [
                                    {
                                        "name": "ID_RECETA"
                                    },
                                    {
                                        "name": "NOMBRE_RECETA"
                                    },
                                    {
                                        "name": "ID_PAIS"
                                    },
                                    {
                                        "name": "FECHA_CREACION"
                                    },
                                    {
                                        "name": "DESCRIPCION"
                                    }
                                ]
                            },
                            "data": [
                                {
                                    "ID_RECETA": "2",
                                    "NOMBRE_RECETA": "PEPITO TERNERA",
                                    "ID_PAIS": "1 ",
                                    "FECHA_CREACION": "2015-01-01 00:00:00.000",
                                    "DESCRIPCION": "BOCADILLO DE TERNERA"
                                },
                                {
                                    "ID_RECETA": "3",
                                    "NOMBRE_RECETA": "COULANT",
                                    "ID_PAIS": "2 ",
                                    "FECHA_CREACION": "2012-03-01 00:00:00.000",
                                    "DESCRIPCION": "POSTRE DE CHOCOLATE"
                                }
                            ]
                        },
                        "text/html": [
                            "<table>",
                            "<tr><th>ID_RECETA</th><th>NOMBRE_RECETA</th><th>ID_PAIS</th><th>FECHA_CREACION</th><th>DESCRIPCION</th></tr>",
                            "<tr><td>2</td><td>PEPITO TERNERA</td><td>1 </td><td>2015-01-01 00:00:00.000</td><td>BOCADILLO DE TERNERA</td></tr>",
                            "<tr><td>3</td><td>COULANT</td><td>2 </td><td>2012-03-01 00:00:00.000</td><td>POSTRE DE CHOCOLATE</td></tr>",
                            "</table>"
                        ]
                    }
                }
            ],
            "execution_count": 7
        },
        {
            "cell_type": "markdown",
            "source": [
                "6\\. Mostrar todas las recetas, cuyo año de la fecha de creación esté entre 2010 y 2016."
            ],
            "metadata": {
                "azdata_cell_guid": "f987a25d-11f7-4509-a109-0205e941c131"
            },
            "attachments": {}
        },
        {
            "cell_type": "code",
            "source": [
                "SELECT * FROM RECETAS WHERE YEAR(FECHA_CREACION) BETWEEN 2010 AND 2016"
            ],
            "metadata": {
                "azdata_cell_guid": "e96727ac-3643-4b54-ac9b-95b5571acf71",
                "language": "sql"
            },
            "outputs": [
                {
                    "output_type": "display_data",
                    "data": {
                        "text/html": "(2 rows affected)"
                    },
                    "metadata": {}
                },
                {
                    "output_type": "display_data",
                    "data": {
                        "text/html": "Total execution time: 00:00:00.005"
                    },
                    "metadata": {}
                },
                {
                    "output_type": "execute_result",
                    "metadata": {},
                    "execution_count": 8,
                    "data": {
                        "application/vnd.dataresource+json": {
                            "schema": {
                                "fields": [
                                    {
                                        "name": "ID_RECETA"
                                    },
                                    {
                                        "name": "NOMBRE_RECETA"
                                    },
                                    {
                                        "name": "ID_PAIS"
                                    },
                                    {
                                        "name": "FECHA_CREACION"
                                    },
                                    {
                                        "name": "DESCRIPCION"
                                    }
                                ]
                            },
                            "data": [
                                {
                                    "ID_RECETA": "2",
                                    "NOMBRE_RECETA": "PEPITO TERNERA",
                                    "ID_PAIS": "1 ",
                                    "FECHA_CREACION": "2015-01-01 00:00:00.000",
                                    "DESCRIPCION": "BOCADILLO DE TERNERA"
                                },
                                {
                                    "ID_RECETA": "3",
                                    "NOMBRE_RECETA": "COULANT",
                                    "ID_PAIS": "2 ",
                                    "FECHA_CREACION": "2012-03-01 00:00:00.000",
                                    "DESCRIPCION": "POSTRE DE CHOCOLATE"
                                }
                            ]
                        },
                        "text/html": [
                            "<table>",
                            "<tr><th>ID_RECETA</th><th>NOMBRE_RECETA</th><th>ID_PAIS</th><th>FECHA_CREACION</th><th>DESCRIPCION</th></tr>",
                            "<tr><td>2</td><td>PEPITO TERNERA</td><td>1 </td><td>2015-01-01 00:00:00.000</td><td>BOCADILLO DE TERNERA</td></tr>",
                            "<tr><td>3</td><td>COULANT</td><td>2 </td><td>2012-03-01 00:00:00.000</td><td>POSTRE DE CHOCOLATE</td></tr>",
                            "</table>"
                        ]
                    }
                }
            ],
            "execution_count": 8
        },
        {
            "cell_type": "markdown",
            "source": [
                "7\\. Mostrar todas las recetas, ordenadas por nombre, cuyo año de creación esté entre 2010 y 2016."
            ],
            "metadata": {
                "azdata_cell_guid": "27ec21b4-7939-4c2a-9a4a-c155ce8d1160"
            },
            "attachments": {}
        },
        {
            "cell_type": "code",
            "source": [
                "SELECT * FROM RECETAS WHERE YEAR(FECHA_CREACION) BETWEEN 2010 AND 2016 ORDER BY NOMBRE_RECETA"
            ],
            "metadata": {
                "azdata_cell_guid": "3997a52e-be95-4d7d-92ae-4b18631f7f65",
                "language": "sql"
            },
            "outputs": [
                {
                    "output_type": "display_data",
                    "data": {
                        "text/html": "(2 rows affected)"
                    },
                    "metadata": {}
                },
                {
                    "output_type": "display_data",
                    "data": {
                        "text/html": "Total execution time: 00:00:00.004"
                    },
                    "metadata": {}
                },
                {
                    "output_type": "execute_result",
                    "metadata": {},
                    "execution_count": 9,
                    "data": {
                        "application/vnd.dataresource+json": {
                            "schema": {
                                "fields": [
                                    {
                                        "name": "ID_RECETA"
                                    },
                                    {
                                        "name": "NOMBRE_RECETA"
                                    },
                                    {
                                        "name": "ID_PAIS"
                                    },
                                    {
                                        "name": "FECHA_CREACION"
                                    },
                                    {
                                        "name": "DESCRIPCION"
                                    }
                                ]
                            },
                            "data": [
                                {
                                    "ID_RECETA": "3",
                                    "NOMBRE_RECETA": "COULANT",
                                    "ID_PAIS": "2 ",
                                    "FECHA_CREACION": "2012-03-01 00:00:00.000",
                                    "DESCRIPCION": "POSTRE DE CHOCOLATE"
                                },
                                {
                                    "ID_RECETA": "2",
                                    "NOMBRE_RECETA": "PEPITO TERNERA",
                                    "ID_PAIS": "1 ",
                                    "FECHA_CREACION": "2015-01-01 00:00:00.000",
                                    "DESCRIPCION": "BOCADILLO DE TERNERA"
                                }
                            ]
                        },
                        "text/html": [
                            "<table>",
                            "<tr><th>ID_RECETA</th><th>NOMBRE_RECETA</th><th>ID_PAIS</th><th>FECHA_CREACION</th><th>DESCRIPCION</th></tr>",
                            "<tr><td>3</td><td>COULANT</td><td>2 </td><td>2012-03-01 00:00:00.000</td><td>POSTRE DE CHOCOLATE</td></tr>",
                            "<tr><td>2</td><td>PEPITO TERNERA</td><td>1 </td><td>2015-01-01 00:00:00.000</td><td>BOCADILLO DE TERNERA</td></tr>",
                            "</table>"
                        ]
                    }
                }
            ],
            "execution_count": 9
        },
        {
            "cell_type": "markdown",
            "source": [
                "8\\. Mostrar todas las recetas que sean de un determinado pais, ordenado primero por nombre de pais y luego por nombre de receta."
            ],
            "metadata": {
                "azdata_cell_guid": "71394a80-a3b9-4977-b653-87bd76b0ddb8"
            },
            "attachments": {}
        },
        {
            "cell_type": "code",
            "source": [
                "SELECT * FROM RECETAS ORDER BY ID_PAIS NOMBRE_RECETA"
            ],
            "metadata": {
                "azdata_cell_guid": "c3fcaac2-e105-49a3-ac10-92cc09265ea9",
                "language": "sql"
            },
            "outputs": [
                {
                    "output_type": "error",
                    "evalue": "Msg 102, Level 15, State 1, Line 1\r\nIncorrect syntax near 'NOMBRE_RECETA'.",
                    "ename": "",
                    "traceback": []
                },
                {
                    "output_type": "display_data",
                    "data": {
                        "text/html": "Total execution time: 00:00:00"
                    },
                    "metadata": {}
                }
            ],
            "execution_count": 11
        },
        {
            "cell_type": "markdown",
            "source": [
                "9\\. Determinar para cada pais que cantidad de recetas tenemos."
            ],
            "metadata": {
                "azdata_cell_guid": "1ec52a1d-e867-444c-afa0-f9671b944798"
            },
            "attachments": {}
        },
        {
            "cell_type": "code",
            "source": [
                "SELECT ID_PAIS, COUNT(*) FROM RECETAS GROUP BY ID_PAIS"
            ],
            "metadata": {
                "azdata_cell_guid": "76847829-943f-4cb4-8b8e-ed1c90bad10b",
                "language": "sql"
            },
            "outputs": [
                {
                    "output_type": "display_data",
                    "data": {
                        "text/html": "(2 rows affected)"
                    },
                    "metadata": {}
                },
                {
                    "output_type": "display_data",
                    "data": {
                        "text/html": "Total execution time: 00:00:00.004"
                    },
                    "metadata": {}
                },
                {
                    "output_type": "execute_result",
                    "metadata": {},
                    "execution_count": 13,
                    "data": {
                        "application/vnd.dataresource+json": {
                            "schema": {
                                "fields": [
                                    {
                                        "name": "ID_PAIS"
                                    },
                                    {
                                        "name": "(No column name)"
                                    }
                                ]
                            },
                            "data": [
                                {
                                    "ID_PAIS": "1 ",
                                    "(No column name)": "2"
                                },
                                {
                                    "ID_PAIS": "2 ",
                                    "(No column name)": "1"
                                }
                            ]
                        },
                        "text/html": [
                            "<table>",
                            "<tr><th>ID_PAIS</th><th>(No column name)</th></tr>",
                            "<tr><td>1 </td><td>2</td></tr>",
                            "<tr><td>2 </td><td>1</td></tr>",
                            "</table>"
                        ]
                    }
                }
            ],
            "execution_count": 13
        },
        {
            "cell_type": "markdown",
            "source": [
                "10\\. Calcular de que pais hay más recetas."
            ],
            "metadata": {
                "azdata_cell_guid": "44baf80e-07b2-49d8-90be-16376e5b6fe1"
            },
            "attachments": {}
        },
        {
            "cell_type": "code",
            "source": [
                "SELECT TOP(1) ID_PAIS, COUNT(*) AS NUMRECETAS FROM RECETAS GROUP BY ID_PAIS ORDER BY COUNT(*) DESC"
            ],
            "metadata": {
                "azdata_cell_guid": "30d87760-88f8-4f02-9641-da2908bd12c9",
                "language": "sql"
            },
            "outputs": [
                {
                    "output_type": "display_data",
                    "data": {
                        "text/html": "(1 row affected)"
                    },
                    "metadata": {}
                },
                {
                    "output_type": "display_data",
                    "data": {
                        "text/html": "Total execution time: 00:00:00.003"
                    },
                    "metadata": {}
                },
                {
                    "output_type": "execute_result",
                    "metadata": {},
                    "execution_count": 16,
                    "data": {
                        "application/vnd.dataresource+json": {
                            "schema": {
                                "fields": [
                                    {
                                        "name": "ID_PAIS"
                                    },
                                    {
                                        "name": "NUMRECETAS"
                                    }
                                ]
                            },
                            "data": [
                                {
                                    "ID_PAIS": "1 ",
                                    "NUMRECETAS": "2"
                                }
                            ]
                        },
                        "text/html": [
                            "<table>",
                            "<tr><th>ID_PAIS</th><th>NUMRECETAS</th></tr>",
                            "<tr><td>1 </td><td>2</td></tr>",
                            "</table>"
                        ]
                    }
                }
            ],
            "execution_count": 16
        },
        {
            "cell_type": "markdown",
            "source": [
                "11\\. Calcular de que pais hay menos recetas."
            ],
            "metadata": {
                "azdata_cell_guid": "bb1adac2-1d79-45d4-8d32-88eac10fc4c4"
            },
            "attachments": {}
        },
        {
            "cell_type": "code",
            "source": [
                "SELECT TOP(1) ID_PAIS, COUNT(*) AS NUMRECETAS FROM RECETAS GROUP BY ID_PAIS ORDER BY COUNT(*) "
            ],
            "metadata": {
                "azdata_cell_guid": "193f7575-0940-4ea9-a4fb-5a2ff74710f4",
                "language": "sql"
            },
            "outputs": [
                {
                    "output_type": "display_data",
                    "data": {
                        "text/html": "(1 row affected)"
                    },
                    "metadata": {}
                },
                {
                    "output_type": "display_data",
                    "data": {
                        "text/html": "Total execution time: 00:00:00.004"
                    },
                    "metadata": {}
                },
                {
                    "output_type": "execute_result",
                    "metadata": {},
                    "execution_count": 17,
                    "data": {
                        "application/vnd.dataresource+json": {
                            "schema": {
                                "fields": [
                                    {
                                        "name": "ID_PAIS"
                                    },
                                    {
                                        "name": "NUMRECETAS"
                                    }
                                ]
                            },
                            "data": [
                                {
                                    "ID_PAIS": "2 ",
                                    "NUMRECETAS": "1"
                                }
                            ]
                        },
                        "text/html": [
                            "<table>",
                            "<tr><th>ID_PAIS</th><th>NUMRECETAS</th></tr>",
                            "<tr><td>2 </td><td>1</td></tr>",
                            "</table>"
                        ]
                    }
                }
            ],
            "execution_count": 17
        },
        {
            "cell_type": "markdown",
            "source": [
                "12\\. Calcular la media de recetas por pais."
            ],
            "metadata": {
                "azdata_cell_guid": "d58cc883-16e9-4d64-a9ac-4829fe3e788d"
            },
            "attachments": {}
        },
        {
            "cell_type": "code",
            "source": [
                ""
            ],
            "metadata": {
                "azdata_cell_guid": "5ac7fd48-09d4-4ef7-972b-71575684f566",
                "language": "sql"
            },
            "outputs": [
                {
                    "output_type": "error",
                    "evalue": "Msg 130, Level 15, State 1, Line 1\r\nCannot perform an aggregate function on an expression containing an aggregate or a subquery.",
                    "ename": "",
                    "traceback": []
                },
                {
                    "output_type": "display_data",
                    "data": {
                        "text/html": "Total execution time: 00:00:00"
                    },
                    "metadata": {}
                }
            ],
            "execution_count": 27
        },
        {
            "cell_type": "markdown",
            "source": [
                "13\\. Mostrar todos los ingredientes de cada receta, ordenando primero por nombre de receta y luego por cantidad."
            ],
            "metadata": {
                "azdata_cell_guid": "48ba8388-f2aa-4b9a-b7b9-36ddb7b508a1"
            },
            "attachments": {}
        },
        {
            "cell_type": "markdown",
            "source": [
                "14\\. Mostrar todos los ingredientes de cada receta, ordenando primero por nombre de receta y luego por orden."
            ],
            "metadata": {
                "azdata_cell_guid": "e62c3e8b-3eb7-49b8-9f2d-2d8370843b1e"
            },
            "attachments": {}
        },
        {
            "cell_type": "markdown",
            "source": [
                "15\\. Calcular cual es el coste de cada una de las recetas calculandolo por el precio del gramo y la cantidad."
            ],
            "metadata": {
                "azdata_cell_guid": "bfa38f23-a20b-41aa-a236-2685f63b4c74"
            },
            "attachments": {}
        },
        {
            "cell_type": "markdown",
            "source": [
                "16\\. Mirar a ver cuantos ingredientes hay de un pais."
            ],
            "metadata": {
                "azdata_cell_guid": "b422f442-6726-477a-aef8-15adc2afb216"
            },
            "attachments": {}
        },
        {
            "cell_type": "markdown",
            "source": [
                "17\\. Determinar cual es pais para el cual hay más ingredientes."
            ],
            "metadata": {
                "azdata_cell_guid": "4c5c16b9-0cd7-40fa-8034-fe56478f8045"
            },
            "attachments": {}
        },
        {
            "cell_type": "markdown",
            "source": [
                "18\\. Determinar cual es la receta más cara por pais."
            ],
            "metadata": {
                "azdata_cell_guid": "209c5a86-3d21-4f11-982a-d0c6f004f5cc"
            },
            "attachments": {}
        },
        {
            "cell_type": "markdown",
            "source": [
                "19\\. Determinar cual es la receta más barata por pais."
            ],
            "metadata": {
                "azdata_cell_guid": "5a3a639a-f442-47e8-9535-2e8641ab045a"
            },
            "attachments": {}
        },
        {
            "cell_type": "markdown",
            "source": [
                "20\\. Determinar para cada ingrediente, en que receta se ha utilizado, en que cantidad y en que orden."
            ],
            "metadata": {
                "azdata_cell_guid": "c49807da-d830-4013-bd3b-1e94ea7cc27f"
            },
            "attachments": {}
        },
        {
            "cell_type": "markdown",
            "source": [
                "Mostrar cual es el precio de una recete sumando el precio y multiplicándolo por la cantidad."
            ],
            "metadata": {
                "azdata_cell_guid": "20991ee5-da63-4912-b3a1-2e4074898d93"
            },
            "attachments": {}
        }
    ]
}