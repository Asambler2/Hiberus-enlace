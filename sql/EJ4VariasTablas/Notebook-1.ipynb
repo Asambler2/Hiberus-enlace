{
    "metadata": {
        "kernelspec": {
            "name": "SQL",
            "display_name": "SQL",
            "language": "sql"
        },
        "language_info": {
            "name": "sql",
            "version": ""
        }
    },
    "nbformat_minor": 2,
    "nbformat": 4,
    "cells": [
        {
            "cell_type": "markdown",
            "source": [
                "1 Queremos saber cuantos productos hay para cada categoria, el total de productos debe ser 504"
            ],
            "metadata": {
                "azdata_cell_guid": "358bf0c2-b791-48c6-a90f-7bd179ffd480"
            },
            "attachments": {}
        },
        {
            "cell_type": "code",
            "source": [
                "SELECT C.NAME, COUNT(*) AS CANTIDAD FROM Production.Product AS P LEFT JOIN Production.ProductCategory AS C ON P.ProductSubcategoryID = C.ProductCategoryID GROUP BY C.Name"
            ],
            "metadata": {
                "azdata_cell_guid": "560af776-3a29-4552-a42f-e8426775bba2",
                "language": "sql"
            },
            "outputs": [
                {
                    "output_type": "display_data",
                    "data": {
                        "text/html": "(5 rows affected)"
                    },
                    "metadata": {}
                },
                {
                    "output_type": "display_data",
                    "data": {
                        "text/html": "Total execution time: 00:00:00.011"
                    },
                    "metadata": {}
                },
                {
                    "output_type": "execute_result",
                    "metadata": {},
                    "execution_count": 4,
                    "data": {
                        "application/vnd.dataresource+json": {
                            "schema": {
                                "fields": [
                                    {
                                        "name": "NAME"
                                    },
                                    {
                                        "name": "CANTIDAD"
                                    }
                                ]
                            },
                            "data": [
                                {
                                    "NAME": "NULL",
                                    "CANTIDAD": "399"
                                },
                                {
                                    "NAME": "Accessories",
                                    "CANTIDAD": "8"
                                },
                                {
                                    "NAME": "Bikes",
                                    "CANTIDAD": "32"
                                },
                                {
                                    "NAME": "Clothing",
                                    "CANTIDAD": "22"
                                },
                                {
                                    "NAME": "Components",
                                    "CANTIDAD": "43"
                                }
                            ]
                        },
                        "text/html": [
                            "<table>",
                            "<tr><th>NAME</th><th>CANTIDAD</th></tr>",
                            "<tr><td>NULL</td><td>399</td></tr>",
                            "<tr><td>Accessories</td><td>8</td></tr>",
                            "<tr><td>Bikes</td><td>32</td></tr>",
                            "<tr><td>Clothing</td><td>22</td></tr>",
                            "<tr><td>Components</td><td>43</td></tr>",
                            "</table>"
                        ]
                    }
                }
            ],
            "execution_count": 4
        },
        {
            "cell_type": "markdown",
            "source": [
                "2 Queremos saber que cantidad de un producto se ha vendido en total (El campo quantity)"
            ],
            "metadata": {
                "azdata_cell_guid": "3a0a41e2-91a2-4b8a-b2c1-51760d7f98bf"
            },
            "attachments": {}
        },
        {
            "cell_type": "code",
            "source": [
                "SELECT P.Name, SUM(S.OrderQty) AS CANTIDAD FROM Production.Product AS P JOIN SALES.SalesOrderDetail AS S ON P.ProductID = S.ProductID GROUP BY P.Name"
            ],
            "metadata": {
                "azdata_cell_guid": "69d351a8-9bd5-494b-a32a-82c2b9bd2e0f",
                "language": "sql"
            },
            "outputs": [
                {
                    "output_type": "display_data",
                    "data": {
                        "text/html": "(266 rows affected)"
                    },
                    "metadata": {}
                },
                {
                    "output_type": "display_data",
                    "data": {
                        "text/html": "Total execution time: 00:00:00.077"
                    },
                    "metadata": {}
                },
                {
                    "output_type": "execute_result",
                    "metadata": {},
                    "execution_count": 6,
                    "data": {
                        "application/vnd.dataresource+json": {
                            "schema": {
                                "fields": [
                                    {
                                        "name": "Name"
                                    },
                                    {
                                        "name": "CANTIDAD"
                                    }
                                ]
                            },
                            "data": [
                                {
                                    "Name": "All-Purpose Bike Stand",
                                    "CANTIDAD": "249"
                                },
                                {
                                    "Name": "AWC Logo Cap",
                                    "CANTIDAD": "8311"
                                },
                                {
                                    "Name": "Bike Wash - Dissolver",
                                    "CANTIDAD": "3319"
                                },
                                {
                                    "Name": "Cable Lock",
                                    "CANTIDAD": "1087"
                                },
                                {
                                    "Name": "Chain",
                                    "CANTIDAD": "774"
                                },
                                {
                                    "Name": "Classic Vest, L",
                                    "CANTIDAD": "207"
                                },
                                {
                                    "Name": "Classic Vest, M",
                                    "CANTIDAD": "2284"
                                },
                                {
                                    "Name": "Classic Vest, S",
                                    "CANTIDAD": "4247"
                                },
                                {
                                    "Name": "Fender Set - Mountain",
                                    "CANTIDAD": "2121"
                                },
                                {
                                    "Name": "Front Brakes",
                                    "CANTIDAD": "789"
                                },
                                {
                                    "Name": "Front Derailleur",
                                    "CANTIDAD": "813"
                                },
                                {
                                    "Name": "Full-Finger Gloves, L",
                                    "CANTIDAD": "3378"
                                },
                                {
                                    "Name": "Full-Finger Gloves, M",
                                    "CANTIDAD": "2206"
                                },
                                {
                                    "Name": "Full-Finger Gloves, S",
                                    "CANTIDAD": "500"
                                },
                                {
                                    "Name": "Half-Finger Gloves, L",
                                    "CANTIDAD": "1276"
                                },
                                {
                                    "Name": "Half-Finger Gloves, M",
                                    "CANTIDAD": "3464"
                                },
                                {
                                    "Name": "Half-Finger Gloves, S",
                                    "CANTIDAD": "2188"
                                },
                                {
                                    "Name": "Hitch Rack - 4-Bike",
                                    "CANTIDAD": "3166"
                                },
                                {
                                    "Name": "HL Bottom Bracket",
                                    "CANTIDAD": "543"
                                },
                                {
                                    "Name": "HL Crankset",
                                    "CANTIDAD": "613"
                                },
                                {
                                    "Name": "HL Fork",
                                    "CANTIDAD": "444"
                                },
                                {
                                    "Name": "HL Headset",
                                    "CANTIDAD": "255"
                                },
                                {
                                    "Name": "HL Mountain Frame - Black, 38",
                                    "CANTIDAD": "659"
                                },
                                {
                                    "Name": "HL Mountain Frame - Black, 42",
                                    "CANTIDAD": "1181"
                                },
                                {
                                    "Name": "HL Mountain Frame - Black, 44",
                                    "CANTIDAD": "17"
                                },
                                {
                                    "Name": "HL Mountain Frame - Black, 48",
                                    "CANTIDAD": "131"
                                },
                                {
                                    "Name": "HL Mountain Frame - Silver, 38",
                                    "CANTIDAD": "1206"
                                },
                                {
                                    "Name": "HL Mountain Frame - Silver, 42",
                                    "CANTIDAD": "347"
                                },
                                {
                                    "Name": "HL Mountain Frame - Silver, 46",
                                    "CANTIDAD": "649"
                                },
                                {
                                    "Name": "HL Mountain Frame - Silver, 48",
                                    "CANTIDAD": "173"
                                },
                                {
                                    "Name": "HL Mountain Front Wheel",
                                    "CANTIDAD": "222"
                                },
                                {
                                    "Name": "HL Mountain Handlebars",
                                    "CANTIDAD": "500"
                                },
                                {
                                    "Name": "HL Mountain Pedal",
                                    "CANTIDAD": "785"
                                },
                                {
                                    "Name": "HL Mountain Rear Wheel",
                                    "CANTIDAD": "850"
                                },
                                {
                                    "Name": "HL Mountain Seat/Saddle",
                                    "CANTIDAD": "519"
                                },
                                {
                                    "Name": "HL Mountain Tire",
                                    "CANTIDAD": "1396"
                                },
                                {
                                    "Name": "HL Road Frame - Black, 44",
                                    "CANTIDAD": "459"
                                },
                                {
                                    "Name": "HL Road Frame - Black, 48",
                                    "CANTIDAD": "109"
                                },
                                {
                                    "Name": "HL Road Frame - Red, 44",
                                    "CANTIDAD": "486"
                                },
                                {
                                    "Name": "HL Road Frame - Red, 48",
                                    "CANTIDAD": "109"
                                },
                                {
                                    "Name": "HL Road Frame - Red, 62",
                                    "CANTIDAD": "485"
                                },
                                {
                                    "Name": "HL Road Front Wheel",
                                    "CANTIDAD": "567"
                                },
                                {
                                    "Name": "HL Road Handlebars",
                                    "CANTIDAD": "631"
                                },
                                {
                                    "Name": "HL Road Pedal",
                                    "CANTIDAD": "676"
                                },
                                {
                                    "Name": "HL Road Rear Wheel",
                                    "CANTIDAD": "94"
                                },
                                {
                                    "Name": "HL Road Seat/Saddle",
                                    "CANTIDAD": "134"
                                },
                                {
                                    "Name": "HL Road Tire",
                                    "CANTIDAD": "858"
                                },
                                {
                                    "Name": "HL Touring Frame - Blue, 46",
                                    "CANTIDAD": "114"
                                },
                                {
                                    "Name": "HL Touring Frame - Blue, 50",
                                    "CANTIDAD": "124"
                                },
                                {
                                    "Name": "HL Touring Frame - Blue, 54",
                                    "CANTIDAD": "542"
                                },
                                {
                                    "Name": "HL Touring Frame - Blue, 60",
                                    "CANTIDAD": "371"
                                },
                                {
                                    "Name": "HL Touring Frame - Yellow, 46",
                                    "CANTIDAD": "87"
                                },
                                {
                                    "Name": "HL Touring Frame - Yellow, 50",
                                    "CANTIDAD": "83"
                                },
                                {
                                    "Name": "HL Touring Frame - Yellow, 54",
                                    "CANTIDAD": "540"
                                },
                                {
                                    "Name": "HL Touring Frame - Yellow, 60",
                                    "CANTIDAD": "387"
                                },
                                {
                                    "Name": "HL Touring Handlebars",
                                    "CANTIDAD": "220"
                                },
                                {
                                    "Name": "HL Touring Seat/Saddle",
                                    "CANTIDAD": "426"
                                },
                                {
                                    "Name": "Hydration Pack - 70 oz.",
                                    "CANTIDAD": "2761"
                                },
                                {
                                    "Name": "LL Bottom Bracket",
                                    "CANTIDAD": "378"
                                },
                                {
                                    "Name": "LL Crankset",
                                    "CANTIDAD": "426"
                                },
                                {
                                    "Name": "LL Fork",
                                    "CANTIDAD": "190"
                                },
                                {
                                    "Name": "LL Headset",
                                    "CANTIDAD": "95"
                                },
                                {
                                    "Name": "LL Mountain Frame - Black, 40",
                                    "CANTIDAD": "8"
                                },
                                {
                                    "Name": "LL Mountain Frame - Black, 42",
                                    "CANTIDAD": "423"
                                },
                                {
                                    "Name": "LL Mountain Frame - Black, 44",
                                    "CANTIDAD": "625"
                                },
                                {
                                    "Name": "LL Mountain Frame - Black, 48",
                                    "CANTIDAD": "386"
                                },
                                {
                                    "Name": "LL Mountain Frame - Black, 52",
                                    "CANTIDAD": "15"
                                },
                                {
                                    "Name": "LL Mountain Frame - Silver, 40",
                                    "CANTIDAD": "442"
                                },
                                {
                                    "Name": "LL Mountain Frame - Silver, 42",
                                    "CANTIDAD": "638"
                                },
                                {
                                    "Name": "LL Mountain Frame - Silver, 44",
                                    "CANTIDAD": "371"
                                },
                                {
                                    "Name": "LL Mountain Frame - Silver, 48",
                                    "CANTIDAD": "44"
                                },
                                {
                                    "Name": "LL Mountain Frame - Silver, 52",
                                    "CANTIDAD": "425"
                                },
                                {
                                    "Name": "LL Mountain Front Wheel",
                                    "CANTIDAD": "617"
                                },
                                {
                                    "Name": "LL Mountain Handlebars",
                                    "CANTIDAD": "865"
                                },
                                {
                                    "Name": "LL Mountain Pedal",
                                    "CANTIDAD": "449"
                                },
                                {
                                    "Name": "LL Mountain Rear Wheel",
                                    "CANTIDAD": "342"
                                },
                                {
                                    "Name": "LL Mountain Seat/Saddle",
                                    "CANTIDAD": "347"
                                },
                                {
                                    "Name": "LL Mountain Tire",
                                    "CANTIDAD": "862"
                                },
                                {
                                    "Name": "LL Road Frame - Black, 44",
                                    "CANTIDAD": "238"
                                },
                                {
                                    "Name": "LL Road Frame - Black, 52",
                                    "CANTIDAD": "1581"
                                },
                                {
                                    "Name": "LL Road Frame - Black, 58",
                                    "CANTIDAD": "940"
                                },
                                {
                                    "Name": "LL Road Frame - Black, 60",
                                    "CANTIDAD": "129"
                                },
                                {
                                    "Name": "LL Road Frame - Red, 44",
                                    "CANTIDAD": "991"
                                },
                                {
                                    "Name": "LL Road Frame - Red, 48",
                                    "CANTIDAD": "671"
                                },
                                {
                                    "Name": "LL Road Frame - Red, 52",
                                    "CANTIDAD": "100"
                                },
                                {
                                    "Name": "LL Road Frame - Red, 60",
                                    "CANTIDAD": "996"
                                },
                                {
                                    "Name": "LL Road Frame - Red, 62",
                                    "CANTIDAD": "697"
                                },
                                {
                                    "Name": "LL Road Handlebars",
                                    "CANTIDAD": "213"
                                },
                                {
                                    "Name": "LL Road Pedal",
                                    "CANTIDAD": "868"
                                },
                                {
                                    "Name": "LL Road Rear Wheel",
                                    "CANTIDAD": "868"
                                },
                                {
                                    "Name": "LL Road Seat/Saddle",
                                    "CANTIDAD": "10"
                                },
                                {
                                    "Name": "LL Road Tire",
                                    "CANTIDAD": "1044"
                                },
                                {
                                    "Name": "LL Touring Frame - Blue, 44",
                                    "CANTIDAD": "25"
                                },
                                {
                                    "Name": "LL Touring Frame - Blue, 50",
                                    "CANTIDAD": "316"
                                },
                                {
                                    "Name": "LL Touring Frame - Blue, 54",
                                    "CANTIDAD": "211"
                                },
                                {
                                    "Name": "LL Touring Frame - Blue, 58",
                                    "CANTIDAD": "4"
                                },
                                {
                                    "Name": "LL Touring Frame - Blue, 62",
                                    "CANTIDAD": "15"
                                },
                                {
                                    "Name": "LL Touring Frame - Yellow, 44",
                                    "CANTIDAD": "294"
                                },
                                {
                                    "Name": "LL Touring Frame - Yellow, 50",
                                    "CANTIDAD": "228"
                                },
                                {
                                    "Name": "LL Touring Frame - Yellow, 58",
                                    "CANTIDAD": "36"
                                },
                                {
                                    "Name": "LL Touring Frame - Yellow, 62",
                                    "CANTIDAD": "348"
                                },
                                {
                                    "Name": "LL Touring Handlebars",
                                    "CANTIDAD": "56"
                                },
                                {
                                    "Name": "LL Touring Seat/Saddle",
                                    "CANTIDAD": "91"
                                },
                                {
                                    "Name": "Long-Sleeve Logo Jersey, L",
                                    "CANTIDAD": "6592"
                                },
                                {
                                    "Name": "Long-Sleeve Logo Jersey, M",
                                    "CANTIDAD": "3636"
                                },
                                {
                                    "Name": "Long-Sleeve Logo Jersey, S",
                                    "CANTIDAD": "429"
                                },
                                {
                                    "Name": "Long-Sleeve Logo Jersey, XL",
                                    "CANTIDAD": "2980"
                                },
                                {
                                    "Name": "Men's Bib-Shorts, L",
                                    "CANTIDAD": "633"
                                },
                                {
                                    "Name": "Men's Bib-Shorts, M",
                                    "CANTIDAD": "1616"
                                },
                                {
                                    "Name": "Men's Bib-Shorts, S",
                                    "CANTIDAD": "876"
                                },
                                {
                                    "Name": "Men's Sports Shorts, L",
                                    "CANTIDAD": "445"
                                },
                                {
                                    "Name": "Men's Sports Shorts, M",
                                    "CANTIDAD": "1276"
                                },
                                {
                                    "Name": "Men's Sports Shorts, S",
                                    "CANTIDAD": "567"
                                },
                                {
                                    "Name": "Minipump",
                                    "CANTIDAD": "1130"
                                },
                                {
                                    "Name": "ML Crankset",
                                    "CANTIDAD": "68"
                                },
                                {
                                    "Name": "ML Headset",
                                    "CANTIDAD": "659"
                                },
                                {
                                    "Name": "ML Mountain Frame - Black, 38",
                                    "CANTIDAD": "514"
                                },
                                {
                                    "Name": "ML Mountain Frame - Black, 40",
                                    "CANTIDAD": "68"
                                },
                                {
                                    "Name": "ML Mountain Frame - Black, 44",
                                    "CANTIDAD": "619"
                                },
                                {
                                    "Name": "ML Mountain Frame - Black, 48",
                                    "CANTIDAD": "959"
                                },
                                {
                                    "Name": "ML Mountain Frame-W - Silver, 38",
                                    "CANTIDAD": "7"
                                },
                                {
                                    "Name": "ML Mountain Frame-W - Silver, 40",
                                    "CANTIDAD": "899"
                                },
                                {
                                    "Name": "ML Mountain Frame-W - Silver, 42",
                                    "CANTIDAD": "627"
                                },
                                {
                                    "Name": "ML Mountain Frame-W - Silver, 46",
                                    "CANTIDAD": "188"
                                },
                                {
                                    "Name": "ML Mountain Front Wheel",
                                    "CANTIDAD": "266"
                                },
                                {
                                    "Name": "ML Mountain Handlebars",
                                    "CANTIDAD": "1465"
                                },
                                {
                                    "Name": "ML Mountain Pedal",
                                    "CANTIDAD": "345"
                                },
                                {
                                    "Name": "ML Mountain Rear Wheel",
                                    "CANTIDAD": "851"
                                },
                                {
                                    "Name": "ML Mountain Seat/Saddle",
                                    "CANTIDAD": "534"
                                },
                                {
                                    "Name": "ML Mountain Tire",
                                    "CANTIDAD": "1161"
                                },
                                {
                                    "Name": "ML Road Frame - Red, 48",
                                    "CANTIDAD": "250"
                                },
                                {
                                    "Name": "ML Road Frame - Red, 52",
                                    "CANTIDAD": "90"
                                },
                                {
                                    "Name": "ML Road Frame-W - Yellow, 38",
                                    "CANTIDAD": "895"
                                },
                                {
                                    "Name": "ML Road Frame-W - Yellow, 40",
                                    "CANTIDAD": "203"
                                },
                                {
                                    "Name": "ML Road Frame-W - Yellow, 44",
                                    "CANTIDAD": "1435"
                                },
                                {
                                    "Name": "ML Road Frame-W - Yellow, 48",
                                    "CANTIDAD": "889"
                                },
                                {
                                    "Name": "ML Road Front Wheel",
                                    "CANTIDAD": "532"
                                },
                                {
                                    "Name": "ML Road Pedal",
                                    "CANTIDAD": "661"
                                },
                                {
                                    "Name": "ML Road Rear Wheel",
                                    "CANTIDAD": "64"
                                },
                                {
                                    "Name": "ML Road Tire",
                                    "CANTIDAD": "926"
                                },
                                {
                                    "Name": "ML Touring Seat/Saddle",
                                    "CANTIDAD": "84"
                                },
                                {
                                    "Name": "Mountain Bike Socks, L",
                                    "CANTIDAD": "90"
                                },
                                {
                                    "Name": "Mountain Bike Socks, M",
                                    "CANTIDAD": "1107"
                                },
                                {
                                    "Name": "Mountain Bottle Cage",
                                    "CANTIDAD": "2025"
                                },
                                {
                                    "Name": "Mountain Tire Tube",
                                    "CANTIDAD": "3095"
                                },
                                {
                                    "Name": "Mountain-100 Black, 38",
                                    "CANTIDAD": "682"
                                },
                                {
                                    "Name": "Mountain-100 Black, 42",
                                    "CANTIDAD": "634"
                                },
                                {
                                    "Name": "Mountain-100 Black, 44",
                                    "CANTIDAD": "678"
                                },
                                {
                                    "Name": "Mountain-100 Black, 48",
                                    "CANTIDAD": "616"
                                },
                                {
                                    "Name": "Mountain-100 Silver, 38",
                                    "CANTIDAD": "642"
                                },
                                {
                                    "Name": "Mountain-100 Silver, 42",
                                    "CANTIDAD": "593"
                                },
                                {
                                    "Name": "Mountain-100 Silver, 44",
                                    "CANTIDAD": "601"
                                },
                                {
                                    "Name": "Mountain-100 Silver, 48",
                                    "CANTIDAD": "505"
                                },
                                {
                                    "Name": "Mountain-200 Black, 38",
                                    "CANTIDAD": "2977"
                                },
                                {
                                    "Name": "Mountain-200 Black, 42",
                                    "CANTIDAD": "2664"
                                },
                                {
                                    "Name": "Mountain-200 Black, 46",
                                    "CANTIDAD": "2111"
                                },
                                {
                                    "Name": "Mountain-200 Silver, 38",
                                    "CANTIDAD": "2394"
                                },
                                {
                                    "Name": "Mountain-200 Silver, 42",
                                    "CANTIDAD": "2234"
                                },
                                {
                                    "Name": "Mountain-200 Silver, 46",
                                    "CANTIDAD": "2216"
                                },
                                {
                                    "Name": "Mountain-300 Black, 38",
                                    "CANTIDAD": "684"
                                },
                                {
                                    "Name": "Mountain-300 Black, 40",
                                    "CANTIDAD": "776"
                                },
                                {
                                    "Name": "Mountain-300 Black, 44",
                                    "CANTIDAD": "747"
                                },
                                {
                                    "Name": "Mountain-300 Black, 48",
                                    "CANTIDAD": "740"
                                },
                                {
                                    "Name": "Mountain-400-W Silver, 38",
                                    "CANTIDAD": "425"
                                },
                                {
                                    "Name": "Mountain-400-W Silver, 40",
                                    "CANTIDAD": "617"
                                },
                                {
                                    "Name": "Mountain-400-W Silver, 42",
                                    "CANTIDAD": "385"
                                },
                                {
                                    "Name": "Mountain-400-W Silver, 46",
                                    "CANTIDAD": "401"
                                },
                                {
                                    "Name": "Mountain-500 Black, 40",
                                    "CANTIDAD": "282"
                                },
                                {
                                    "Name": "Mountain-500 Black, 42",
                                    "CANTIDAD": "388"
                                },
                                {
                                    "Name": "Mountain-500 Black, 44",
                                    "CANTIDAD": "350"
                                },
                                {
                                    "Name": "Mountain-500 Black, 48",
                                    "CANTIDAD": "449"
                                },
                                {
                                    "Name": "Mountain-500 Black, 52",
                                    "CANTIDAD": "272"
                                },
                                {
                                    "Name": "Mountain-500 Silver, 40",
                                    "CANTIDAD": "450"
                                },
                                {
                                    "Name": "Mountain-500 Silver, 42",
                                    "CANTIDAD": "455"
                                },
                                {
                                    "Name": "Mountain-500 Silver, 44",
                                    "CANTIDAD": "381"
                                },
                                {
                                    "Name": "Mountain-500 Silver, 48",
                                    "CANTIDAD": "457"
                                },
                                {
                                    "Name": "Mountain-500 Silver, 52",
                                    "CANTIDAD": "515"
                                },
                                {
                                    "Name": "Patch Kit/8 Patches",
                                    "CANTIDAD": "3865"
                                },
                                {
                                    "Name": "Racing Socks, L",
                                    "CANTIDAD": "2473"
                                },
                                {
                                    "Name": "Racing Socks, M",
                                    "CANTIDAD": "1547"
                                },
                                {
                                    "Name": "Rear Brakes",
                                    "CANTIDAD": "246"
                                },
                                {
                                    "Name": "Rear Derailleur",
                                    "CANTIDAD": "353"
                                },
                                {
                                    "Name": "Road Bottle Cage",
                                    "CANTIDAD": "1712"
                                },
                                {
                                    "Name": "Road Tire Tube",
                                    "CANTIDAD": "2376"
                                },
                                {
                                    "Name": "Road-150 Red, 44",
                                    "CANTIDAD": "437"
                                },
                                {
                                    "Name": "Road-150 Red, 48",
                                    "CANTIDAD": "493"
                                },
                                {
                                    "Name": "Road-150 Red, 52",
                                    "CANTIDAD": "458"
                                },
                                {
                                    "Name": "Road-150 Red, 56",
                                    "CANTIDAD": "664"
                                },
                                {
                                    "Name": "Road-150 Red, 62",
                                    "CANTIDAD": "600"
                                },
                                {
                                    "Name": "Road-250 Black, 44",
                                    "CANTIDAD": "1642"
                                },
                                {
                                    "Name": "Road-250 Black, 48",
                                    "CANTIDAD": "1498"
                                },
                                {
                                    "Name": "Road-250 Black, 52",
                                    "CANTIDAD": "1245"
                                },
                                {
                                    "Name": "Road-250 Black, 58",
                                    "CANTIDAD": "910"
                                },
                                {
                                    "Name": "Road-250 Red, 44",
                                    "CANTIDAD": "895"
                                },
                                {
                                    "Name": "Road-250 Red, 48",
                                    "CANTIDAD": "812"
                                },
                                {
                                    "Name": "Road-250 Red, 52",
                                    "CANTIDAD": "639"
                                },
                                {
                                    "Name": "Road-250 Red, 58",
                                    "CANTIDAD": "946"
                                },
                                {
                                    "Name": "Road-350-W Yellow, 40",
                                    "CANTIDAD": "1477"
                                },
                                {
                                    "Name": "Road-350-W Yellow, 42",
                                    "CANTIDAD": "944"
                                },
                                {
                                    "Name": "Road-350-W Yellow, 44",
                                    "CANTIDAD": "536"
                                },
                                {
                                    "Name": "Road-350-W Yellow, 48",
                                    "CANTIDAD": "1622"
                                },
                                {
                                    "Name": "Road-450 Red, 44",
                                    "CANTIDAD": "346"
                                },
                                {
                                    "Name": "Road-450 Red, 48",
                                    "CANTIDAD": "156"
                                },
                                {
                                    "Name": "Road-450 Red, 52",
                                    "CANTIDAD": "710"
                                },
                                {
                                    "Name": "Road-450 Red, 58",
                                    "CANTIDAD": "582"
                                },
                                {
                                    "Name": "Road-450 Red, 60",
                                    "CANTIDAD": "350"
                                },
                                {
                                    "Name": "Road-550-W Yellow, 38",
                                    "CANTIDAD": "1744"
                                },
                                {
                                    "Name": "Road-550-W Yellow, 40",
                                    "CANTIDAD": "1500"
                                },
                                {
                                    "Name": "Road-550-W Yellow, 42",
                                    "CANTIDAD": "1249"
                                },
                                {
                                    "Name": "Road-550-W Yellow, 44",
                                    "CANTIDAD": "927"
                                },
                                {
                                    "Name": "Road-550-W Yellow, 48",
                                    "CANTIDAD": "1763"
                                },
                                {
                                    "Name": "Road-650 Black, 44",
                                    "CANTIDAD": "1080"
                                },
                                {
                                    "Name": "Road-650 Black, 48",
                                    "CANTIDAD": "644"
                                },
                                {
                                    "Name": "Road-650 Black, 52",
                                    "CANTIDAD": "2270"
                                },
                                {
                                    "Name": "Road-650 Black, 58",
                                    "CANTIDAD": "1871"
                                },
                                {
                                    "Name": "Road-650 Black, 60",
                                    "CANTIDAD": "1100"
                                },
                                {
                                    "Name": "Road-650 Black, 62",
                                    "CANTIDAD": "644"
                                },
                                {
                                    "Name": "Road-650 Red, 44",
                                    "CANTIDAD": "2254"
                                },
                                {
                                    "Name": "Road-650 Red, 48",
                                    "CANTIDAD": "1888"
                                },
                                {
                                    "Name": "Road-650 Red, 52",
                                    "CANTIDAD": "1112"
                                },
                                {
                                    "Name": "Road-650 Red, 58",
                                    "CANTIDAD": "618"
                                },
                                {
                                    "Name": "Road-650 Red, 60",
                                    "CANTIDAD": "2232"
                                },
                                {
                                    "Name": "Road-650 Red, 62",
                                    "CANTIDAD": "1896"
                                },
                                {
                                    "Name": "Road-750 Black, 44",
                                    "CANTIDAD": "656"
                                },
                                {
                                    "Name": "Road-750 Black, 48",
                                    "CANTIDAD": "1556"
                                },
                                {
                                    "Name": "Road-750 Black, 52",
                                    "CANTIDAD": "1338"
                                },
                                {
                                    "Name": "Road-750 Black, 58",
                                    "CANTIDAD": "892"
                                },
                                {
                                    "Name": "Short-Sleeve Classic Jersey, L",
                                    "CANTIDAD": "2848"
                                },
                                {
                                    "Name": "Short-Sleeve Classic Jersey, M",
                                    "CANTIDAD": "407"
                                },
                                {
                                    "Name": "Short-Sleeve Classic Jersey, S",
                                    "CANTIDAD": "1955"
                                },
                                {
                                    "Name": "Short-Sleeve Classic Jersey, XL",
                                    "CANTIDAD": "3864"
                                },
                                {
                                    "Name": "Sport-100 Helmet, Black",
                                    "CANTIDAD": "6532"
                                },
                                {
                                    "Name": "Sport-100 Helmet, Blue",
                                    "CANTIDAD": "6743"
                                },
                                {
                                    "Name": "Sport-100 Helmet, Red",
                                    "CANTIDAD": "6266"
                                },
                                {
                                    "Name": "Touring Pedal",
                                    "CANTIDAD": "147"
                                },
                                {
                                    "Name": "Touring Tire",
                                    "CANTIDAD": "935"
                                },
                                {
                                    "Name": "Touring Tire Tube",
                                    "CANTIDAD": "1488"
                                },
                                {
                                    "Name": "Touring-1000 Blue, 46",
                                    "CANTIDAD": "1002"
                                },
                                {
                                    "Name": "Touring-1000 Blue, 50",
                                    "CANTIDAD": "649"
                                },
                                {
                                    "Name": "Touring-1000 Blue, 54",
                                    "CANTIDAD": "413"
                                },
                                {
                                    "Name": "Touring-1000 Blue, 60",
                                    "CANTIDAD": "1120"
                                },
                                {
                                    "Name": "Touring-1000 Yellow, 46",
                                    "CANTIDAD": "1005"
                                },
                                {
                                    "Name": "Touring-1000 Yellow, 50",
                                    "CANTIDAD": "652"
                                },
                                {
                                    "Name": "Touring-1000 Yellow, 54",
                                    "CANTIDAD": "397"
                                },
                                {
                                    "Name": "Touring-1000 Yellow, 60",
                                    "CANTIDAD": "1114"
                                },
                                {
                                    "Name": "Touring-2000 Blue, 46",
                                    "CANTIDAD": "538"
                                },
                                {
                                    "Name": "Touring-2000 Blue, 50",
                                    "CANTIDAD": "322"
                                },
                                {
                                    "Name": "Touring-2000 Blue, 54",
                                    "CANTIDAD": "1010"
                                },
                                {
                                    "Name": "Touring-2000 Blue, 60",
                                    "CANTIDAD": "820"
                                },
                                {
                                    "Name": "Touring-3000 Blue, 44",
                                    "CANTIDAD": "292"
                                },
                                {
                                    "Name": "Touring-3000 Blue, 50",
                                    "CANTIDAD": "841"
                                },
                                {
                                    "Name": "Touring-3000 Blue, 54",
                                    "CANTIDAD": "686"
                                },
                                {
                                    "Name": "Touring-3000 Blue, 58",
                                    "CANTIDAD": "482"
                                },
                                {
                                    "Name": "Touring-3000 Blue, 62",
                                    "CANTIDAD": "281"
                                },
                                {
                                    "Name": "Touring-3000 Yellow, 44",
                                    "CANTIDAD": "851"
                                },
                                {
                                    "Name": "Touring-3000 Yellow, 50",
                                    "CANTIDAD": "686"
                                },
                                {
                                    "Name": "Touring-3000 Yellow, 54",
                                    "CANTIDAD": "453"
                                },
                                {
                                    "Name": "Touring-3000 Yellow, 58",
                                    "CANTIDAD": "293"
                                },
                                {
                                    "Name": "Touring-3000 Yellow, 62",
                                    "CANTIDAD": "844"
                                },
                                {
                                    "Name": "Water Bottle - 30 oz.",
                                    "CANTIDAD": "6815"
                                },
                                {
                                    "Name": "Women's Mountain Shorts, L",
                                    "CANTIDAD": "3244"
                                },
                                {
                                    "Name": "Women's Mountain Shorts, M",
                                    "CANTIDAD": "1139"
                                },
                                {
                                    "Name": "Women's Mountain Shorts, S",
                                    "CANTIDAD": "3296"
                                },
                                {
                                    "Name": "Women's Tights, L",
                                    "CANTIDAD": "2123"
                                },
                                {
                                    "Name": "Women's Tights, M",
                                    "CANTIDAD": "394"
                                },
                                {
                                    "Name": "Women's Tights, S",
                                    "CANTIDAD": "2072"
                                }
                            ]
                        },
                        "text/html": [
                            "<table>",
                            "<tr><th>Name</th><th>CANTIDAD</th></tr>",
                            "<tr><td>All-Purpose Bike Stand</td><td>249</td></tr>",
                            "<tr><td>AWC Logo Cap</td><td>8311</td></tr>",
                            "<tr><td>Bike Wash - Dissolver</td><td>3319</td></tr>",
                            "<tr><td>Cable Lock</td><td>1087</td></tr>",
                            "<tr><td>Chain</td><td>774</td></tr>",
                            "<tr><td>Classic Vest, L</td><td>207</td></tr>",
                            "<tr><td>Classic Vest, M</td><td>2284</td></tr>",
                            "<tr><td>Classic Vest, S</td><td>4247</td></tr>",
                            "<tr><td>Fender Set - Mountain</td><td>2121</td></tr>",
                            "<tr><td>Front Brakes</td><td>789</td></tr>",
                            "<tr><td>Front Derailleur</td><td>813</td></tr>",
                            "<tr><td>Full-Finger Gloves, L</td><td>3378</td></tr>",
                            "<tr><td>Full-Finger Gloves, M</td><td>2206</td></tr>",
                            "<tr><td>Full-Finger Gloves, S</td><td>500</td></tr>",
                            "<tr><td>Half-Finger Gloves, L</td><td>1276</td></tr>",
                            "<tr><td>Half-Finger Gloves, M</td><td>3464</td></tr>",
                            "<tr><td>Half-Finger Gloves, S</td><td>2188</td></tr>",
                            "<tr><td>Hitch Rack - 4-Bike</td><td>3166</td></tr>",
                            "<tr><td>HL Bottom Bracket</td><td>543</td></tr>",
                            "<tr><td>HL Crankset</td><td>613</td></tr>",
                            "<tr><td>HL Fork</td><td>444</td></tr>",
                            "<tr><td>HL Headset</td><td>255</td></tr>",
                            "<tr><td>HL Mountain Frame - Black, 38</td><td>659</td></tr>",
                            "<tr><td>HL Mountain Frame - Black, 42</td><td>1181</td></tr>",
                            "<tr><td>HL Mountain Frame - Black, 44</td><td>17</td></tr>",
                            "<tr><td>HL Mountain Frame - Black, 48</td><td>131</td></tr>",
                            "<tr><td>HL Mountain Frame - Silver, 38</td><td>1206</td></tr>",
                            "<tr><td>HL Mountain Frame - Silver, 42</td><td>347</td></tr>",
                            "<tr><td>HL Mountain Frame - Silver, 46</td><td>649</td></tr>",
                            "<tr><td>HL Mountain Frame - Silver, 48</td><td>173</td></tr>",
                            "<tr><td>HL Mountain Front Wheel</td><td>222</td></tr>",
                            "<tr><td>HL Mountain Handlebars</td><td>500</td></tr>",
                            "<tr><td>HL Mountain Pedal</td><td>785</td></tr>",
                            "<tr><td>HL Mountain Rear Wheel</td><td>850</td></tr>",
                            "<tr><td>HL Mountain Seat/Saddle</td><td>519</td></tr>",
                            "<tr><td>HL Mountain Tire</td><td>1396</td></tr>",
                            "<tr><td>HL Road Frame - Black, 44</td><td>459</td></tr>",
                            "<tr><td>HL Road Frame - Black, 48</td><td>109</td></tr>",
                            "<tr><td>HL Road Frame - Red, 44</td><td>486</td></tr>",
                            "<tr><td>HL Road Frame - Red, 48</td><td>109</td></tr>",
                            "<tr><td>HL Road Frame - Red, 62</td><td>485</td></tr>",
                            "<tr><td>HL Road Front Wheel</td><td>567</td></tr>",
                            "<tr><td>HL Road Handlebars</td><td>631</td></tr>",
                            "<tr><td>HL Road Pedal</td><td>676</td></tr>",
                            "<tr><td>HL Road Rear Wheel</td><td>94</td></tr>",
                            "<tr><td>HL Road Seat/Saddle</td><td>134</td></tr>",
                            "<tr><td>HL Road Tire</td><td>858</td></tr>",
                            "<tr><td>HL Touring Frame - Blue, 46</td><td>114</td></tr>",
                            "<tr><td>HL Touring Frame - Blue, 50</td><td>124</td></tr>",
                            "<tr><td>HL Touring Frame - Blue, 54</td><td>542</td></tr>",
                            "<tr><td>HL Touring Frame - Blue, 60</td><td>371</td></tr>",
                            "<tr><td>HL Touring Frame - Yellow, 46</td><td>87</td></tr>",
                            "<tr><td>HL Touring Frame - Yellow, 50</td><td>83</td></tr>",
                            "<tr><td>HL Touring Frame - Yellow, 54</td><td>540</td></tr>",
                            "<tr><td>HL Touring Frame - Yellow, 60</td><td>387</td></tr>",
                            "<tr><td>HL Touring Handlebars</td><td>220</td></tr>",
                            "<tr><td>HL Touring Seat/Saddle</td><td>426</td></tr>",
                            "<tr><td>Hydration Pack - 70 oz.</td><td>2761</td></tr>",
                            "<tr><td>LL Bottom Bracket</td><td>378</td></tr>",
                            "<tr><td>LL Crankset</td><td>426</td></tr>",
                            "<tr><td>LL Fork</td><td>190</td></tr>",
                            "<tr><td>LL Headset</td><td>95</td></tr>",
                            "<tr><td>LL Mountain Frame - Black, 40</td><td>8</td></tr>",
                            "<tr><td>LL Mountain Frame - Black, 42</td><td>423</td></tr>",
                            "<tr><td>LL Mountain Frame - Black, 44</td><td>625</td></tr>",
                            "<tr><td>LL Mountain Frame - Black, 48</td><td>386</td></tr>",
                            "<tr><td>LL Mountain Frame - Black, 52</td><td>15</td></tr>",
                            "<tr><td>LL Mountain Frame - Silver, 40</td><td>442</td></tr>",
                            "<tr><td>LL Mountain Frame - Silver, 42</td><td>638</td></tr>",
                            "<tr><td>LL Mountain Frame - Silver, 44</td><td>371</td></tr>",
                            "<tr><td>LL Mountain Frame - Silver, 48</td><td>44</td></tr>",
                            "<tr><td>LL Mountain Frame - Silver, 52</td><td>425</td></tr>",
                            "<tr><td>LL Mountain Front Wheel</td><td>617</td></tr>",
                            "<tr><td>LL Mountain Handlebars</td><td>865</td></tr>",
                            "<tr><td>LL Mountain Pedal</td><td>449</td></tr>",
                            "<tr><td>LL Mountain Rear Wheel</td><td>342</td></tr>",
                            "<tr><td>LL Mountain Seat/Saddle</td><td>347</td></tr>",
                            "<tr><td>LL Mountain Tire</td><td>862</td></tr>",
                            "<tr><td>LL Road Frame - Black, 44</td><td>238</td></tr>",
                            "<tr><td>LL Road Frame - Black, 52</td><td>1581</td></tr>",
                            "<tr><td>LL Road Frame - Black, 58</td><td>940</td></tr>",
                            "<tr><td>LL Road Frame - Black, 60</td><td>129</td></tr>",
                            "<tr><td>LL Road Frame - Red, 44</td><td>991</td></tr>",
                            "<tr><td>LL Road Frame - Red, 48</td><td>671</td></tr>",
                            "<tr><td>LL Road Frame - Red, 52</td><td>100</td></tr>",
                            "<tr><td>LL Road Frame - Red, 60</td><td>996</td></tr>",
                            "<tr><td>LL Road Frame - Red, 62</td><td>697</td></tr>",
                            "<tr><td>LL Road Handlebars</td><td>213</td></tr>",
                            "<tr><td>LL Road Pedal</td><td>868</td></tr>",
                            "<tr><td>LL Road Rear Wheel</td><td>868</td></tr>",
                            "<tr><td>LL Road Seat/Saddle</td><td>10</td></tr>",
                            "<tr><td>LL Road Tire</td><td>1044</td></tr>",
                            "<tr><td>LL Touring Frame - Blue, 44</td><td>25</td></tr>",
                            "<tr><td>LL Touring Frame - Blue, 50</td><td>316</td></tr>",
                            "<tr><td>LL Touring Frame - Blue, 54</td><td>211</td></tr>",
                            "<tr><td>LL Touring Frame - Blue, 58</td><td>4</td></tr>",
                            "<tr><td>LL Touring Frame - Blue, 62</td><td>15</td></tr>",
                            "<tr><td>LL Touring Frame - Yellow, 44</td><td>294</td></tr>",
                            "<tr><td>LL Touring Frame - Yellow, 50</td><td>228</td></tr>",
                            "<tr><td>LL Touring Frame - Yellow, 58</td><td>36</td></tr>",
                            "<tr><td>LL Touring Frame - Yellow, 62</td><td>348</td></tr>",
                            "<tr><td>LL Touring Handlebars</td><td>56</td></tr>",
                            "<tr><td>LL Touring Seat/Saddle</td><td>91</td></tr>",
                            "<tr><td>Long-Sleeve Logo Jersey, L</td><td>6592</td></tr>",
                            "<tr><td>Long-Sleeve Logo Jersey, M</td><td>3636</td></tr>",
                            "<tr><td>Long-Sleeve Logo Jersey, S</td><td>429</td></tr>",
                            "<tr><td>Long-Sleeve Logo Jersey, XL</td><td>2980</td></tr>",
                            "<tr><td>Men&#39;s Bib-Shorts, L</td><td>633</td></tr>",
                            "<tr><td>Men&#39;s Bib-Shorts, M</td><td>1616</td></tr>",
                            "<tr><td>Men&#39;s Bib-Shorts, S</td><td>876</td></tr>",
                            "<tr><td>Men&#39;s Sports Shorts, L</td><td>445</td></tr>",
                            "<tr><td>Men&#39;s Sports Shorts, M</td><td>1276</td></tr>",
                            "<tr><td>Men&#39;s Sports Shorts, S</td><td>567</td></tr>",
                            "<tr><td>Minipump</td><td>1130</td></tr>",
                            "<tr><td>ML Crankset</td><td>68</td></tr>",
                            "<tr><td>ML Headset</td><td>659</td></tr>",
                            "<tr><td>ML Mountain Frame - Black, 38</td><td>514</td></tr>",
                            "<tr><td>ML Mountain Frame - Black, 40</td><td>68</td></tr>",
                            "<tr><td>ML Mountain Frame - Black, 44</td><td>619</td></tr>",
                            "<tr><td>ML Mountain Frame - Black, 48</td><td>959</td></tr>",
                            "<tr><td>ML Mountain Frame-W - Silver, 38</td><td>7</td></tr>",
                            "<tr><td>ML Mountain Frame-W - Silver, 40</td><td>899</td></tr>",
                            "<tr><td>ML Mountain Frame-W - Silver, 42</td><td>627</td></tr>",
                            "<tr><td>ML Mountain Frame-W - Silver, 46</td><td>188</td></tr>",
                            "<tr><td>ML Mountain Front Wheel</td><td>266</td></tr>",
                            "<tr><td>ML Mountain Handlebars</td><td>1465</td></tr>",
                            "<tr><td>ML Mountain Pedal</td><td>345</td></tr>",
                            "<tr><td>ML Mountain Rear Wheel</td><td>851</td></tr>",
                            "<tr><td>ML Mountain Seat/Saddle</td><td>534</td></tr>",
                            "<tr><td>ML Mountain Tire</td><td>1161</td></tr>",
                            "<tr><td>ML Road Frame - Red, 48</td><td>250</td></tr>",
                            "<tr><td>ML Road Frame - Red, 52</td><td>90</td></tr>",
                            "<tr><td>ML Road Frame-W - Yellow, 38</td><td>895</td></tr>",
                            "<tr><td>ML Road Frame-W - Yellow, 40</td><td>203</td></tr>",
                            "<tr><td>ML Road Frame-W - Yellow, 44</td><td>1435</td></tr>",
                            "<tr><td>ML Road Frame-W - Yellow, 48</td><td>889</td></tr>",
                            "<tr><td>ML Road Front Wheel</td><td>532</td></tr>",
                            "<tr><td>ML Road Pedal</td><td>661</td></tr>",
                            "<tr><td>ML Road Rear Wheel</td><td>64</td></tr>",
                            "<tr><td>ML Road Tire</td><td>926</td></tr>",
                            "<tr><td>ML Touring Seat/Saddle</td><td>84</td></tr>",
                            "<tr><td>Mountain Bike Socks, L</td><td>90</td></tr>",
                            "<tr><td>Mountain Bike Socks, M</td><td>1107</td></tr>",
                            "<tr><td>Mountain Bottle Cage</td><td>2025</td></tr>",
                            "<tr><td>Mountain Tire Tube</td><td>3095</td></tr>",
                            "<tr><td>Mountain-100 Black, 38</td><td>682</td></tr>",
                            "<tr><td>Mountain-100 Black, 42</td><td>634</td></tr>",
                            "<tr><td>Mountain-100 Black, 44</td><td>678</td></tr>",
                            "<tr><td>Mountain-100 Black, 48</td><td>616</td></tr>",
                            "<tr><td>Mountain-100 Silver, 38</td><td>642</td></tr>",
                            "<tr><td>Mountain-100 Silver, 42</td><td>593</td></tr>",
                            "<tr><td>Mountain-100 Silver, 44</td><td>601</td></tr>",
                            "<tr><td>Mountain-100 Silver, 48</td><td>505</td></tr>",
                            "<tr><td>Mountain-200 Black, 38</td><td>2977</td></tr>",
                            "<tr><td>Mountain-200 Black, 42</td><td>2664</td></tr>",
                            "<tr><td>Mountain-200 Black, 46</td><td>2111</td></tr>",
                            "<tr><td>Mountain-200 Silver, 38</td><td>2394</td></tr>",
                            "<tr><td>Mountain-200 Silver, 42</td><td>2234</td></tr>",
                            "<tr><td>Mountain-200 Silver, 46</td><td>2216</td></tr>",
                            "<tr><td>Mountain-300 Black, 38</td><td>684</td></tr>",
                            "<tr><td>Mountain-300 Black, 40</td><td>776</td></tr>",
                            "<tr><td>Mountain-300 Black, 44</td><td>747</td></tr>",
                            "<tr><td>Mountain-300 Black, 48</td><td>740</td></tr>",
                            "<tr><td>Mountain-400-W Silver, 38</td><td>425</td></tr>",
                            "<tr><td>Mountain-400-W Silver, 40</td><td>617</td></tr>",
                            "<tr><td>Mountain-400-W Silver, 42</td><td>385</td></tr>",
                            "<tr><td>Mountain-400-W Silver, 46</td><td>401</td></tr>",
                            "<tr><td>Mountain-500 Black, 40</td><td>282</td></tr>",
                            "<tr><td>Mountain-500 Black, 42</td><td>388</td></tr>",
                            "<tr><td>Mountain-500 Black, 44</td><td>350</td></tr>",
                            "<tr><td>Mountain-500 Black, 48</td><td>449</td></tr>",
                            "<tr><td>Mountain-500 Black, 52</td><td>272</td></tr>",
                            "<tr><td>Mountain-500 Silver, 40</td><td>450</td></tr>",
                            "<tr><td>Mountain-500 Silver, 42</td><td>455</td></tr>",
                            "<tr><td>Mountain-500 Silver, 44</td><td>381</td></tr>",
                            "<tr><td>Mountain-500 Silver, 48</td><td>457</td></tr>",
                            "<tr><td>Mountain-500 Silver, 52</td><td>515</td></tr>",
                            "<tr><td>Patch Kit/8 Patches</td><td>3865</td></tr>",
                            "<tr><td>Racing Socks, L</td><td>2473</td></tr>",
                            "<tr><td>Racing Socks, M</td><td>1547</td></tr>",
                            "<tr><td>Rear Brakes</td><td>246</td></tr>",
                            "<tr><td>Rear Derailleur</td><td>353</td></tr>",
                            "<tr><td>Road Bottle Cage</td><td>1712</td></tr>",
                            "<tr><td>Road Tire Tube</td><td>2376</td></tr>",
                            "<tr><td>Road-150 Red, 44</td><td>437</td></tr>",
                            "<tr><td>Road-150 Red, 48</td><td>493</td></tr>",
                            "<tr><td>Road-150 Red, 52</td><td>458</td></tr>",
                            "<tr><td>Road-150 Red, 56</td><td>664</td></tr>",
                            "<tr><td>Road-150 Red, 62</td><td>600</td></tr>",
                            "<tr><td>Road-250 Black, 44</td><td>1642</td></tr>",
                            "<tr><td>Road-250 Black, 48</td><td>1498</td></tr>",
                            "<tr><td>Road-250 Black, 52</td><td>1245</td></tr>",
                            "<tr><td>Road-250 Black, 58</td><td>910</td></tr>",
                            "<tr><td>Road-250 Red, 44</td><td>895</td></tr>",
                            "<tr><td>Road-250 Red, 48</td><td>812</td></tr>",
                            "<tr><td>Road-250 Red, 52</td><td>639</td></tr>",
                            "<tr><td>Road-250 Red, 58</td><td>946</td></tr>",
                            "<tr><td>Road-350-W Yellow, 40</td><td>1477</td></tr>",
                            "<tr><td>Road-350-W Yellow, 42</td><td>944</td></tr>",
                            "<tr><td>Road-350-W Yellow, 44</td><td>536</td></tr>",
                            "<tr><td>Road-350-W Yellow, 48</td><td>1622</td></tr>",
                            "<tr><td>Road-450 Red, 44</td><td>346</td></tr>",
                            "<tr><td>Road-450 Red, 48</td><td>156</td></tr>",
                            "<tr><td>Road-450 Red, 52</td><td>710</td></tr>",
                            "<tr><td>Road-450 Red, 58</td><td>582</td></tr>",
                            "<tr><td>Road-450 Red, 60</td><td>350</td></tr>",
                            "<tr><td>Road-550-W Yellow, 38</td><td>1744</td></tr>",
                            "<tr><td>Road-550-W Yellow, 40</td><td>1500</td></tr>",
                            "<tr><td>Road-550-W Yellow, 42</td><td>1249</td></tr>",
                            "<tr><td>Road-550-W Yellow, 44</td><td>927</td></tr>",
                            "<tr><td>Road-550-W Yellow, 48</td><td>1763</td></tr>",
                            "<tr><td>Road-650 Black, 44</td><td>1080</td></tr>",
                            "<tr><td>Road-650 Black, 48</td><td>644</td></tr>",
                            "<tr><td>Road-650 Black, 52</td><td>2270</td></tr>",
                            "<tr><td>Road-650 Black, 58</td><td>1871</td></tr>",
                            "<tr><td>Road-650 Black, 60</td><td>1100</td></tr>",
                            "<tr><td>Road-650 Black, 62</td><td>644</td></tr>",
                            "<tr><td>Road-650 Red, 44</td><td>2254</td></tr>",
                            "<tr><td>Road-650 Red, 48</td><td>1888</td></tr>",
                            "<tr><td>Road-650 Red, 52</td><td>1112</td></tr>",
                            "<tr><td>Road-650 Red, 58</td><td>618</td></tr>",
                            "<tr><td>Road-650 Red, 60</td><td>2232</td></tr>",
                            "<tr><td>Road-650 Red, 62</td><td>1896</td></tr>",
                            "<tr><td>Road-750 Black, 44</td><td>656</td></tr>",
                            "<tr><td>Road-750 Black, 48</td><td>1556</td></tr>",
                            "<tr><td>Road-750 Black, 52</td><td>1338</td></tr>",
                            "<tr><td>Road-750 Black, 58</td><td>892</td></tr>",
                            "<tr><td>Short-Sleeve Classic Jersey, L</td><td>2848</td></tr>",
                            "<tr><td>Short-Sleeve Classic Jersey, M</td><td>407</td></tr>",
                            "<tr><td>Short-Sleeve Classic Jersey, S</td><td>1955</td></tr>",
                            "<tr><td>Short-Sleeve Classic Jersey, XL</td><td>3864</td></tr>",
                            "<tr><td>Sport-100 Helmet, Black</td><td>6532</td></tr>",
                            "<tr><td>Sport-100 Helmet, Blue</td><td>6743</td></tr>",
                            "<tr><td>Sport-100 Helmet, Red</td><td>6266</td></tr>",
                            "<tr><td>Touring Pedal</td><td>147</td></tr>",
                            "<tr><td>Touring Tire</td><td>935</td></tr>",
                            "<tr><td>Touring Tire Tube</td><td>1488</td></tr>",
                            "<tr><td>Touring-1000 Blue, 46</td><td>1002</td></tr>",
                            "<tr><td>Touring-1000 Blue, 50</td><td>649</td></tr>",
                            "<tr><td>Touring-1000 Blue, 54</td><td>413</td></tr>",
                            "<tr><td>Touring-1000 Blue, 60</td><td>1120</td></tr>",
                            "<tr><td>Touring-1000 Yellow, 46</td><td>1005</td></tr>",
                            "<tr><td>Touring-1000 Yellow, 50</td><td>652</td></tr>",
                            "<tr><td>Touring-1000 Yellow, 54</td><td>397</td></tr>",
                            "<tr><td>Touring-1000 Yellow, 60</td><td>1114</td></tr>",
                            "<tr><td>Touring-2000 Blue, 46</td><td>538</td></tr>",
                            "<tr><td>Touring-2000 Blue, 50</td><td>322</td></tr>",
                            "<tr><td>Touring-2000 Blue, 54</td><td>1010</td></tr>",
                            "<tr><td>Touring-2000 Blue, 60</td><td>820</td></tr>",
                            "<tr><td>Touring-3000 Blue, 44</td><td>292</td></tr>",
                            "<tr><td>Touring-3000 Blue, 50</td><td>841</td></tr>",
                            "<tr><td>Touring-3000 Blue, 54</td><td>686</td></tr>",
                            "<tr><td>Touring-3000 Blue, 58</td><td>482</td></tr>",
                            "<tr><td>Touring-3000 Blue, 62</td><td>281</td></tr>",
                            "<tr><td>Touring-3000 Yellow, 44</td><td>851</td></tr>",
                            "<tr><td>Touring-3000 Yellow, 50</td><td>686</td></tr>",
                            "<tr><td>Touring-3000 Yellow, 54</td><td>453</td></tr>",
                            "<tr><td>Touring-3000 Yellow, 58</td><td>293</td></tr>",
                            "<tr><td>Touring-3000 Yellow, 62</td><td>844</td></tr>",
                            "<tr><td>Water Bottle - 30 oz.</td><td>6815</td></tr>",
                            "<tr><td>Women&#39;s Mountain Shorts, L</td><td>3244</td></tr>",
                            "<tr><td>Women&#39;s Mountain Shorts, M</td><td>1139</td></tr>",
                            "<tr><td>Women&#39;s Mountain Shorts, S</td><td>3296</td></tr>",
                            "<tr><td>Women&#39;s Tights, L</td><td>2123</td></tr>",
                            "<tr><td>Women&#39;s Tights, M</td><td>394</td></tr>",
                            "<tr><td>Women&#39;s Tights, S</td><td>2072</td></tr>",
                            "</table>"
                        ]
                    }
                }
            ],
            "execution_count": 6
        },
        {
            "cell_type": "markdown",
            "source": [
                "3 Queremos saber cual es el precio medio por el que se ha vendido cada producto."
            ],
            "metadata": {
                "azdata_cell_guid": "79e4b6df-a63d-410b-b87b-4f9f5867dc6f"
            },
            "attachments": {}
        },
        {
            "cell_type": "code",
            "source": [
                "SELECT P.Name, AVG(S.UnitPrice) AS PRECIOMEDIO FROM Production.Product AS P JOIN SALES.SalesOrderDetail AS S ON P.ProductID = S.ProductID GROUP BY P.Name"
            ],
            "metadata": {
                "azdata_cell_guid": "d932cd31-995b-4981-be7f-dd23fa5d6829",
                "language": "sql"
            },
            "outputs": [
                {
                    "output_type": "display_data",
                    "data": {
                        "text/html": "(266 rows affected)"
                    },
                    "metadata": {}
                },
                {
                    "output_type": "display_data",
                    "data": {
                        "text/html": "Total execution time: 00:00:00.075"
                    },
                    "metadata": {}
                },
                {
                    "output_type": "execute_result",
                    "metadata": {},
                    "execution_count": 8,
                    "data": {
                        "application/vnd.dataresource+json": {
                            "schema": {
                                "fields": [
                                    {
                                        "name": "Name"
                                    },
                                    {
                                        "name": "PRECIOMEDIO"
                                    }
                                ]
                            },
                            "data": [
                                {
                                    "Name": "All-Purpose Bike Stand",
                                    "PRECIOMEDIO": "159,00"
                                },
                                {
                                    "Name": "AWC Logo Cap",
                                    "PRECIOMEDIO": "7,6682"
                                },
                                {
                                    "Name": "Bike Wash - Dissolver",
                                    "PRECIOMEDIO": "6,9361"
                                },
                                {
                                    "Name": "Cable Lock",
                                    "PRECIOMEDIO": "14,9865"
                                },
                                {
                                    "Name": "Chain",
                                    "PRECIOMEDIO": "12,1391"
                                },
                                {
                                    "Name": "Classic Vest, L",
                                    "PRECIOMEDIO": "62,7417"
                                },
                                {
                                    "Name": "Classic Vest, M",
                                    "PRECIOMEDIO": "47,062"
                                },
                                {
                                    "Name": "Classic Vest, S",
                                    "PRECIOMEDIO": "43,8671"
                                },
                                {
                                    "Name": "Fender Set - Mountain",
                                    "PRECIOMEDIO": "21,98"
                                },
                                {
                                    "Name": "Front Brakes",
                                    "PRECIOMEDIO": "63,8759"
                                },
                                {
                                    "Name": "Front Derailleur",
                                    "PRECIOMEDIO": "54,8655"
                                },
                                {
                                    "Name": "Full-Finger Gloves, L",
                                    "PRECIOMEDIO": "22,2544"
                                },
                                {
                                    "Name": "Full-Finger Gloves, M",
                                    "PRECIOMEDIO": "22,6035"
                                },
                                {
                                    "Name": "Full-Finger Gloves, S",
                                    "PRECIOMEDIO": "22,8256"
                                },
                                {
                                    "Name": "Half-Finger Gloves, L",
                                    "PRECIOMEDIO": "21,06"
                                },
                                {
                                    "Name": "Half-Finger Gloves, M",
                                    "PRECIOMEDIO": "19,0351"
                                },
                                {
                                    "Name": "Half-Finger Gloves, S",
                                    "PRECIOMEDIO": "20,0045"
                                },
                                {
                                    "Name": "Hitch Rack - 4-Bike",
                                    "PRECIOMEDIO": "91,4638"
                                },
                                {
                                    "Name": "HL Bottom Bracket",
                                    "PRECIOMEDIO": "72,894"
                                },
                                {
                                    "Name": "HL Crankset",
                                    "PRECIOMEDIO": "242,92"
                                },
                                {
                                    "Name": "HL Fork",
                                    "PRECIOMEDIO": "137,6547"
                                },
                                {
                                    "Name": "HL Headset",
                                    "PRECIOMEDIO": "74,838"
                                },
                                {
                                    "Name": "HL Mountain Frame - Black, 38",
                                    "PRECIOMEDIO": "757,6236"
                                },
                                {
                                    "Name": "HL Mountain Frame - Black, 42",
                                    "PRECIOMEDIO": "760,0902"
                                },
                                {
                                    "Name": "HL Mountain Frame - Black, 44",
                                    "PRECIOMEDIO": "809,76"
                                },
                                {
                                    "Name": "HL Mountain Frame - Black, 48",
                                    "PRECIOMEDIO": "809,76"
                                },
                                {
                                    "Name": "HL Mountain Frame - Silver, 38",
                                    "PRECIOMEDIO": "768,5145"
                                },
                                {
                                    "Name": "HL Mountain Frame - Silver, 42",
                                    "PRECIOMEDIO": "775,751"
                                },
                                {
                                    "Name": "HL Mountain Frame - Silver, 46",
                                    "PRECIOMEDIO": "766,5803"
                                },
                                {
                                    "Name": "HL Mountain Frame - Silver, 48",
                                    "PRECIOMEDIO": "818,70"
                                },
                                {
                                    "Name": "HL Mountain Front Wheel",
                                    "PRECIOMEDIO": "180,129"
                                },
                                {
                                    "Name": "HL Mountain Handlebars",
                                    "PRECIOMEDIO": "68,8515"
                                },
                                {
                                    "Name": "HL Mountain Pedal",
                                    "PRECIOMEDIO": "48,5685"
                                },
                                {
                                    "Name": "HL Mountain Rear Wheel",
                                    "PRECIOMEDIO": "196,1641"
                                },
                                {
                                    "Name": "HL Mountain Seat/Saddle",
                                    "PRECIOMEDIO": "31,584"
                                },
                                {
                                    "Name": "HL Mountain Tire",
                                    "PRECIOMEDIO": "35,00"
                                },
                                {
                                    "Name": "HL Road Frame - Black, 44",
                                    "PRECIOMEDIO": "818,4994"
                                },
                                {
                                    "Name": "HL Road Frame - Black, 48",
                                    "PRECIOMEDIO": "824,0123"
                                },
                                {
                                    "Name": "HL Road Frame - Red, 44",
                                    "PRECIOMEDIO": "813,2804"
                                },
                                {
                                    "Name": "HL Road Frame - Red, 48",
                                    "PRECIOMEDIO": "821,6336"
                                },
                                {
                                    "Name": "HL Road Frame - Red, 62",
                                    "PRECIOMEDIO": "814,0413"
                                },
                                {
                                    "Name": "HL Road Front Wheel",
                                    "PRECIOMEDIO": "198,036"
                                },
                                {
                                    "Name": "HL Road Handlebars",
                                    "PRECIOMEDIO": "68,9304"
                                },
                                {
                                    "Name": "HL Road Pedal",
                                    "PRECIOMEDIO": "48,594"
                                },
                                {
                                    "Name": "HL Road Rear Wheel",
                                    "PRECIOMEDIO": "215,3227"
                                },
                                {
                                    "Name": "HL Road Seat/Saddle",
                                    "PRECIOMEDIO": "31,584"
                                },
                                {
                                    "Name": "HL Road Tire",
                                    "PRECIOMEDIO": "32,60"
                                },
                                {
                                    "Name": "HL Touring Frame - Blue, 46",
                                    "PRECIOMEDIO": "602,346"
                                },
                                {
                                    "Name": "HL Touring Frame - Blue, 50",
                                    "PRECIOMEDIO": "602,346"
                                },
                                {
                                    "Name": "HL Touring Frame - Blue, 54",
                                    "PRECIOMEDIO": "601,9301"
                                },
                                {
                                    "Name": "HL Touring Frame - Blue, 60",
                                    "PRECIOMEDIO": "601,844"
                                },
                                {
                                    "Name": "HL Touring Frame - Yellow, 46",
                                    "PRECIOMEDIO": "602,346"
                                },
                                {
                                    "Name": "HL Touring Frame - Yellow, 50",
                                    "PRECIOMEDIO": "602,346"
                                },
                                {
                                    "Name": "HL Touring Frame - Yellow, 54",
                                    "PRECIOMEDIO": "601,7224"
                                },
                                {
                                    "Name": "HL Touring Frame - Yellow, 60",
                                    "PRECIOMEDIO": "602,0485"
                                },
                                {
                                    "Name": "HL Touring Handlebars",
                                    "PRECIOMEDIO": "54,942"
                                },
                                {
                                    "Name": "HL Touring Seat/Saddle",
                                    "PRECIOMEDIO": "31,584"
                                },
                                {
                                    "Name": "Hydration Pack - 70 oz.",
                                    "PRECIOMEDIO": "47,9472"
                                },
                                {
                                    "Name": "LL Bottom Bracket",
                                    "PRECIOMEDIO": "32,394"
                                },
                                {
                                    "Name": "LL Crankset",
                                    "PRECIOMEDIO": "105,294"
                                },
                                {
                                    "Name": "LL Fork",
                                    "PRECIOMEDIO": "88,932"
                                },
                                {
                                    "Name": "LL Headset",
                                    "PRECIOMEDIO": "20,52"
                                },
                                {
                                    "Name": "LL Mountain Frame - Black, 40",
                                    "PRECIOMEDIO": "149,874"
                                },
                                {
                                    "Name": "LL Mountain Frame - Black, 42",
                                    "PRECIOMEDIO": "149,874"
                                },
                                {
                                    "Name": "LL Mountain Frame - Black, 44",
                                    "PRECIOMEDIO": "149,8519"
                                },
                                {
                                    "Name": "LL Mountain Frame - Black, 48",
                                    "PRECIOMEDIO": "149,874"
                                },
                                {
                                    "Name": "LL Mountain Frame - Black, 52",
                                    "PRECIOMEDIO": "149,874"
                                },
                                {
                                    "Name": "LL Mountain Frame - Silver, 40",
                                    "PRECIOMEDIO": "158,3977"
                                },
                                {
                                    "Name": "LL Mountain Frame - Silver, 42",
                                    "PRECIOMEDIO": "158,3121"
                                },
                                {
                                    "Name": "LL Mountain Frame - Silver, 44",
                                    "PRECIOMEDIO": "158,43"
                                },
                                {
                                    "Name": "LL Mountain Frame - Silver, 48",
                                    "PRECIOMEDIO": "158,43"
                                },
                                {
                                    "Name": "LL Mountain Frame - Silver, 52",
                                    "PRECIOMEDIO": "158,43"
                                },
                                {
                                    "Name": "LL Mountain Front Wheel",
                                    "PRECIOMEDIO": "36,4417"
                                },
                                {
                                    "Name": "LL Mountain Handlebars",
                                    "PRECIOMEDIO": "25,5726"
                                },
                                {
                                    "Name": "LL Mountain Pedal",
                                    "PRECIOMEDIO": "24,294"
                                },
                                {
                                    "Name": "LL Mountain Rear Wheel",
                                    "PRECIOMEDIO": "52,647"
                                },
                                {
                                    "Name": "LL Mountain Seat/Saddle",
                                    "PRECIOMEDIO": "16,2684"
                                },
                                {
                                    "Name": "LL Mountain Tire",
                                    "PRECIOMEDIO": "24,99"
                                },
                                {
                                    "Name": "LL Road Frame - Black, 44",
                                    "PRECIOMEDIO": "189,3459"
                                },
                                {
                                    "Name": "LL Road Frame - Black, 52",
                                    "PRECIOMEDIO": "189,1231"
                                },
                                {
                                    "Name": "LL Road Frame - Black, 58",
                                    "PRECIOMEDIO": "188,3567"
                                },
                                {
                                    "Name": "LL Road Frame - Black, 60",
                                    "PRECIOMEDIO": "193,032"
                                },
                                {
                                    "Name": "LL Road Frame - Red, 44",
                                    "PRECIOMEDIO": "194,5252"
                                },
                                {
                                    "Name": "LL Road Frame - Red, 48",
                                    "PRECIOMEDIO": "195,6344"
                                },
                                {
                                    "Name": "LL Road Frame - Red, 52",
                                    "PRECIOMEDIO": "200,0327"
                                },
                                {
                                    "Name": "LL Road Frame - Red, 60",
                                    "PRECIOMEDIO": "194,757"
                                },
                                {
                                    "Name": "LL Road Frame - Red, 62",
                                    "PRECIOMEDIO": "195,9303"
                                },
                                {
                                    "Name": "LL Road Handlebars",
                                    "PRECIOMEDIO": "25,6084"
                                },
                                {
                                    "Name": "LL Road Pedal",
                                    "PRECIOMEDIO": "24,294"
                                },
                                {
                                    "Name": "LL Road Rear Wheel",
                                    "PRECIOMEDIO": "67,6423"
                                },
                                {
                                    "Name": "LL Road Seat/Saddle",
                                    "PRECIOMEDIO": "16,272"
                                },
                                {
                                    "Name": "LL Road Tire",
                                    "PRECIOMEDIO": "21,49"
                                },
                                {
                                    "Name": "LL Touring Frame - Blue, 44",
                                    "PRECIOMEDIO": "200,052"
                                },
                                {
                                    "Name": "LL Touring Frame - Blue, 50",
                                    "PRECIOMEDIO": "200,052"
                                },
                                {
                                    "Name": "LL Touring Frame - Blue, 54",
                                    "PRECIOMEDIO": "200,052"
                                },
                                {
                                    "Name": "LL Touring Frame - Blue, 58",
                                    "PRECIOMEDIO": "200,052"
                                },
                                {
                                    "Name": "LL Touring Frame - Blue, 62",
                                    "PRECIOMEDIO": "200,052"
                                },
                                {
                                    "Name": "LL Touring Frame - Yellow, 44",
                                    "PRECIOMEDIO": "199,995"
                                },
                                {
                                    "Name": "LL Touring Frame - Yellow, 50",
                                    "PRECIOMEDIO": "200,052"
                                },
                                {
                                    "Name": "LL Touring Frame - Yellow, 58",
                                    "PRECIOMEDIO": "200,052"
                                },
                                {
                                    "Name": "LL Touring Frame - Yellow, 62",
                                    "PRECIOMEDIO": "199,9237"
                                },
                                {
                                    "Name": "LL Touring Handlebars",
                                    "PRECIOMEDIO": "27,654"
                                },
                                {
                                    "Name": "LL Touring Seat/Saddle",
                                    "PRECIOMEDIO": "16,272"
                                },
                                {
                                    "Name": "Long-Sleeve Logo Jersey, L",
                                    "PRECIOMEDIO": "34,901"
                                },
                                {
                                    "Name": "Long-Sleeve Logo Jersey, M",
                                    "PRECIOMEDIO": "36,7811"
                                },
                                {
                                    "Name": "Long-Sleeve Logo Jersey, S",
                                    "PRECIOMEDIO": "49,99"
                                },
                                {
                                    "Name": "Long-Sleeve Logo Jersey, XL",
                                    "PRECIOMEDIO": "37,165"
                                },
                                {
                                    "Name": "Men's Bib-Shorts, L",
                                    "PRECIOMEDIO": "53,994"
                                },
                                {
                                    "Name": "Men's Bib-Shorts, M",
                                    "PRECIOMEDIO": "53,9073"
                                },
                                {
                                    "Name": "Men's Bib-Shorts, S",
                                    "PRECIOMEDIO": "54,0095"
                                },
                                {
                                    "Name": "Men's Sports Shorts, L",
                                    "PRECIOMEDIO": "35,994"
                                },
                                {
                                    "Name": "Men's Sports Shorts, M",
                                    "PRECIOMEDIO": "35,9494"
                                },
                                {
                                    "Name": "Men's Sports Shorts, S",
                                    "PRECIOMEDIO": "35,979"
                                },
                                {
                                    "Name": "Minipump",
                                    "PRECIOMEDIO": "11,9865"
                                },
                                {
                                    "Name": "ML Crankset",
                                    "PRECIOMEDIO": "153,894"
                                },
                                {
                                    "Name": "ML Headset",
                                    "PRECIOMEDIO": "61,1508"
                                },
                                {
                                    "Name": "ML Mountain Frame - Black, 38",
                                    "PRECIOMEDIO": "209,256"
                                },
                                {
                                    "Name": "ML Mountain Frame - Black, 40",
                                    "PRECIOMEDIO": "209,256"
                                },
                                {
                                    "Name": "ML Mountain Frame - Black, 44",
                                    "PRECIOMEDIO": "209,256"
                                },
                                {
                                    "Name": "ML Mountain Frame - Black, 48",
                                    "PRECIOMEDIO": "209,3649"
                                },
                                {
                                    "Name": "ML Mountain Frame-W - Silver, 38",
                                    "PRECIOMEDIO": "218,454"
                                },
                                {
                                    "Name": "ML Mountain Frame-W - Silver, 40",
                                    "PRECIOMEDIO": "218,3388"
                                },
                                {
                                    "Name": "ML Mountain Frame-W - Silver, 42",
                                    "PRECIOMEDIO": "218,454"
                                },
                                {
                                    "Name": "ML Mountain Frame-W - Silver, 46",
                                    "PRECIOMEDIO": "218,454"
                                },
                                {
                                    "Name": "ML Mountain Front Wheel",
                                    "PRECIOMEDIO": "125,415"
                                },
                                {
                                    "Name": "ML Mountain Handlebars",
                                    "PRECIOMEDIO": "35,4439"
                                },
                                {
                                    "Name": "ML Mountain Pedal",
                                    "PRECIOMEDIO": "37,254"
                                },
                                {
                                    "Name": "ML Mountain Rear Wheel",
                                    "PRECIOMEDIO": "141,606"
                                },
                                {
                                    "Name": "ML Mountain Seat/Saddle",
                                    "PRECIOMEDIO": "23,4669"
                                },
                                {
                                    "Name": "ML Mountain Tire",
                                    "PRECIOMEDIO": "29,99"
                                },
                                {
                                    "Name": "ML Road Frame - Red, 48",
                                    "PRECIOMEDIO": "356,898"
                                },
                                {
                                    "Name": "ML Road Frame - Red, 52",
                                    "PRECIOMEDIO": "356,898"
                                },
                                {
                                    "Name": "ML Road Frame-W - Yellow, 38",
                                    "PRECIOMEDIO": "340,1285"
                                },
                                {
                                    "Name": "ML Road Frame-W - Yellow, 40",
                                    "PRECIOMEDIO": "335,8822"
                                },
                                {
                                    "Name": "ML Road Frame-W - Yellow, 44",
                                    "PRECIOMEDIO": "339,3649"
                                },
                                {
                                    "Name": "ML Road Frame-W - Yellow, 48",
                                    "PRECIOMEDIO": "339,7483"
                                },
                                {
                                    "Name": "ML Road Front Wheel",
                                    "PRECIOMEDIO": "149,2093"
                                },
                                {
                                    "Name": "ML Road Pedal",
                                    "PRECIOMEDIO": "37,254"
                                },
                                {
                                    "Name": "ML Road Rear Wheel",
                                    "PRECIOMEDIO": "165,231"
                                },
                                {
                                    "Name": "ML Road Tire",
                                    "PRECIOMEDIO": "24,99"
                                },
                                {
                                    "Name": "ML Touring Seat/Saddle",
                                    "PRECIOMEDIO": "23,484"
                                },
                                {
                                    "Name": "Mountain Bike Socks, L",
                                    "PRECIOMEDIO": "5,70"
                                },
                                {
                                    "Name": "Mountain Bike Socks, M",
                                    "PRECIOMEDIO": "5,656"
                                },
                                {
                                    "Name": "Mountain Bottle Cage",
                                    "PRECIOMEDIO": "9,99"
                                },
                                {
                                    "Name": "Mountain Tire Tube",
                                    "PRECIOMEDIO": "4,99"
                                },
                                {
                                    "Name": "Mountain-100 Black, 38",
                                    "PRECIOMEDIO": "2221,003"
                                },
                                {
                                    "Name": "Mountain-100 Black, 42",
                                    "PRECIOMEDIO": "2197,8882"
                                },
                                {
                                    "Name": "Mountain-100 Black, 44",
                                    "PRECIOMEDIO": "2290,8093"
                                },
                                {
                                    "Name": "Mountain-100 Black, 48",
                                    "PRECIOMEDIO": "2244,4377"
                                },
                                {
                                    "Name": "Mountain-100 Silver, 38",
                                    "PRECIOMEDIO": "2273,4787"
                                },
                                {
                                    "Name": "Mountain-100 Silver, 42",
                                    "PRECIOMEDIO": "2211,9934"
                                },
                                {
                                    "Name": "Mountain-100 Silver, 44",
                                    "PRECIOMEDIO": "2228,3797"
                                },
                                {
                                    "Name": "Mountain-100 Silver, 48",
                                    "PRECIOMEDIO": "2198,3268"
                                },
                                {
                                    "Name": "Mountain-200 Black, 38",
                                    "PRECIOMEDIO": "1730,1485"
                                },
                                {
                                    "Name": "Mountain-200 Black, 42",
                                    "PRECIOMEDIO": "1776,3198"
                                },
                                {
                                    "Name": "Mountain-200 Black, 46",
                                    "PRECIOMEDIO": "1836,2179"
                                },
                                {
                                    "Name": "Mountain-200 Silver, 38",
                                    "PRECIOMEDIO": "1819,6183"
                                },
                                {
                                    "Name": "Mountain-200 Silver, 42",
                                    "PRECIOMEDIO": "1812,0157"
                                },
                                {
                                    "Name": "Mountain-200 Silver, 46",
                                    "PRECIOMEDIO": "1821,1371"
                                },
                                {
                                    "Name": "Mountain-300 Black, 38",
                                    "PRECIOMEDIO": "647,7976"
                                },
                                {
                                    "Name": "Mountain-300 Black, 40",
                                    "PRECIOMEDIO": "647,7034"
                                },
                                {
                                    "Name": "Mountain-300 Black, 44",
                                    "PRECIOMEDIO": "647,994"
                                },
                                {
                                    "Name": "Mountain-300 Black, 48",
                                    "PRECIOMEDIO": "647,8971"
                                },
                                {
                                    "Name": "Mountain-400-W Silver, 38",
                                    "PRECIOMEDIO": "641,7485"
                                },
                                {
                                    "Name": "Mountain-400-W Silver, 40",
                                    "PRECIOMEDIO": "592,4817"
                                },
                                {
                                    "Name": "Mountain-400-W Silver, 42",
                                    "PRECIOMEDIO": "633,58"
                                },
                                {
                                    "Name": "Mountain-400-W Silver, 46",
                                    "PRECIOMEDIO": "639,3528"
                                },
                                {
                                    "Name": "Mountain-500 Black, 40",
                                    "PRECIOMEDIO": "393,1127"
                                },
                                {
                                    "Name": "Mountain-500 Black, 42",
                                    "PRECIOMEDIO": "378,2699"
                                },
                                {
                                    "Name": "Mountain-500 Black, 44",
                                    "PRECIOMEDIO": "388,9047"
                                },
                                {
                                    "Name": "Mountain-500 Black, 48",
                                    "PRECIOMEDIO": "376,1309"
                                },
                                {
                                    "Name": "Mountain-500 Black, 52",
                                    "PRECIOMEDIO": "384,6504"
                                },
                                {
                                    "Name": "Mountain-500 Silver, 40",
                                    "PRECIOMEDIO": "353,3104"
                                },
                                {
                                    "Name": "Mountain-500 Silver, 42",
                                    "PRECIOMEDIO": "347,1748"
                                },
                                {
                                    "Name": "Mountain-500 Silver, 44",
                                    "PRECIOMEDIO": "352,9014"
                                },
                                {
                                    "Name": "Mountain-500 Silver, 48",
                                    "PRECIOMEDIO": "352,8709"
                                },
                                {
                                    "Name": "Mountain-500 Silver, 52",
                                    "PRECIOMEDIO": "348,5701"
                                },
                                {
                                    "Name": "Patch Kit/8 Patches",
                                    "PRECIOMEDIO": "2,2454"
                                },
                                {
                                    "Name": "Racing Socks, L",
                                    "PRECIOMEDIO": "6,9697"
                                },
                                {
                                    "Name": "Racing Socks, M",
                                    "PRECIOMEDIO": "7,1986"
                                },
                                {
                                    "Name": "Rear Brakes",
                                    "PRECIOMEDIO": "63,90"
                                },
                                {
                                    "Name": "Rear Derailleur",
                                    "PRECIOMEDIO": "72,876"
                                },
                                {
                                    "Name": "Road Bottle Cage",
                                    "PRECIOMEDIO": "8,99"
                                },
                                {
                                    "Name": "Road Tire Tube",
                                    "PRECIOMEDIO": "3,99"
                                },
                                {
                                    "Name": "Road-150 Red, 44",
                                    "PRECIOMEDIO": "3270,4188"
                                },
                                {
                                    "Name": "Road-150 Red, 48",
                                    "PRECIOMEDIO": "3326,3037"
                                },
                                {
                                    "Name": "Road-150 Red, 52",
                                    "PRECIOMEDIO": "3290,4937"
                                },
                                {
                                    "Name": "Road-150 Red, 56",
                                    "PRECIOMEDIO": "3035,8796"
                                },
                                {
                                    "Name": "Road-150 Red, 62",
                                    "PRECIOMEDIO": "3170,1949"
                                },
                                {
                                    "Name": "Road-250 Black, 44",
                                    "PRECIOMEDIO": "1745,1386"
                                },
                                {
                                    "Name": "Road-250 Black, 48",
                                    "PRECIOMEDIO": "1776,7649"
                                },
                                {
                                    "Name": "Road-250 Black, 52",
                                    "PRECIOMEDIO": "1823,7731"
                                },
                                {
                                    "Name": "Road-250 Black, 58",
                                    "PRECIOMEDIO": "1896,8281"
                                },
                                {
                                    "Name": "Road-250 Red, 44",
                                    "PRECIOMEDIO": "1852,0458"
                                },
                                {
                                    "Name": "Road-250 Red, 48",
                                    "PRECIOMEDIO": "1886,6291"
                                },
                                {
                                    "Name": "Road-250 Red, 52",
                                    "PRECIOMEDIO": "1879,9788"
                                },
                                {
                                    "Name": "Road-250 Red, 58",
                                    "PRECIOMEDIO": "1915,528"
                                },
                                {
                                    "Name": "Road-350-W Yellow, 40",
                                    "PRECIOMEDIO": "1311,4246"
                                },
                                {
                                    "Name": "Road-350-W Yellow, 42",
                                    "PRECIOMEDIO": "1371,6708"
                                },
                                {
                                    "Name": "Road-350-W Yellow, 44",
                                    "PRECIOMEDIO": "1463,2612"
                                },
                                {
                                    "Name": "Road-350-W Yellow, 48",
                                    "PRECIOMEDIO": "1296,9597"
                                },
                                {
                                    "Name": "Road-450 Red, 44",
                                    "PRECIOMEDIO": "874,794"
                                },
                                {
                                    "Name": "Road-450 Red, 48",
                                    "PRECIOMEDIO": "874,794"
                                },
                                {
                                    "Name": "Road-450 Red, 52",
                                    "PRECIOMEDIO": "874,794"
                                },
                                {
                                    "Name": "Road-450 Red, 58",
                                    "PRECIOMEDIO": "874,5359"
                                },
                                {
                                    "Name": "Road-450 Red, 60",
                                    "PRECIOMEDIO": "874,794"
                                },
                                {
                                    "Name": "Road-550-W Yellow, 38",
                                    "PRECIOMEDIO": "805,1432"
                                },
                                {
                                    "Name": "Road-550-W Yellow, 40",
                                    "PRECIOMEDIO": "811,1285"
                                },
                                {
                                    "Name": "Road-550-W Yellow, 42",
                                    "PRECIOMEDIO": "851,4834"
                                },
                                {
                                    "Name": "Road-550-W Yellow, 44",
                                    "PRECIOMEDIO": "897,6208"
                                },
                                {
                                    "Name": "Road-550-W Yellow, 48",
                                    "PRECIOMEDIO": "800,6693"
                                },
                                {
                                    "Name": "Road-650 Black, 44",
                                    "PRECIOMEDIO": "492,472"
                                },
                                {
                                    "Name": "Road-650 Black, 48",
                                    "PRECIOMEDIO": "513,2344"
                                },
                                {
                                    "Name": "Road-650 Black, 52",
                                    "PRECIOMEDIO": "486,2644"
                                },
                                {
                                    "Name": "Road-650 Black, 58",
                                    "PRECIOMEDIO": "486,9364"
                                },
                                {
                                    "Name": "Road-650 Black, 60",
                                    "PRECIOMEDIO": "498,7816"
                                },
                                {
                                    "Name": "Road-650 Black, 62",
                                    "PRECIOMEDIO": "517,6857"
                                },
                                {
                                    "Name": "Road-650 Red, 44",
                                    "PRECIOMEDIO": "459,8016"
                                },
                                {
                                    "Name": "Road-650 Red, 48",
                                    "PRECIOMEDIO": "491,6515"
                                },
                                {
                                    "Name": "Road-650 Red, 52",
                                    "PRECIOMEDIO": "491,3262"
                                },
                                {
                                    "Name": "Road-650 Red, 58",
                                    "PRECIOMEDIO": "532,9409"
                                },
                                {
                                    "Name": "Road-650 Red, 60",
                                    "PRECIOMEDIO": "472,2638"
                                },
                                {
                                    "Name": "Road-650 Red, 62",
                                    "PRECIOMEDIO": "487,1246"
                                },
                                {
                                    "Name": "Road-750 Black, 44",
                                    "PRECIOMEDIO": "490,8578"
                                },
                                {
                                    "Name": "Road-750 Black, 48",
                                    "PRECIOMEDIO": "438,1959"
                                },
                                {
                                    "Name": "Road-750 Black, 52",
                                    "PRECIOMEDIO": "443,6917"
                                },
                                {
                                    "Name": "Road-750 Black, 58",
                                    "PRECIOMEDIO": "458,3378"
                                },
                                {
                                    "Name": "Short-Sleeve Classic Jersey, L",
                                    "PRECIOMEDIO": "42,3254"
                                },
                                {
                                    "Name": "Short-Sleeve Classic Jersey, M",
                                    "PRECIOMEDIO": "53,99"
                                },
                                {
                                    "Name": "Short-Sleeve Classic Jersey, S",
                                    "PRECIOMEDIO": "44,5895"
                                },
                                {
                                    "Name": "Short-Sleeve Classic Jersey, XL",
                                    "PRECIOMEDIO": "41,9533"
                                },
                                {
                                    "Name": "Sport-100 Helmet, Black",
                                    "PRECIOMEDIO": "30,4495"
                                },
                                {
                                    "Name": "Sport-100 Helmet, Blue",
                                    "PRECIOMEDIO": "30,365"
                                },
                                {
                                    "Name": "Sport-100 Helmet, Red",
                                    "PRECIOMEDIO": "30,8865"
                                },
                                {
                                    "Name": "Touring Pedal",
                                    "PRECIOMEDIO": "48,594"
                                },
                                {
                                    "Name": "Touring Tire",
                                    "PRECIOMEDIO": "28,99"
                                },
                                {
                                    "Name": "Touring Tire Tube",
                                    "PRECIOMEDIO": "4,99"
                                },
                                {
                                    "Name": "Touring-1000 Blue, 46",
                                    "PRECIOMEDIO": "1810,8683"
                                },
                                {
                                    "Name": "Touring-1000 Blue, 50",
                                    "PRECIOMEDIO": "1856,1687"
                                },
                                {
                                    "Name": "Touring-1000 Blue, 54",
                                    "PRECIOMEDIO": "1981,274"
                                },
                                {
                                    "Name": "Touring-1000 Blue, 60",
                                    "PRECIOMEDIO": "1747,7025"
                                },
                                {
                                    "Name": "Touring-1000 Yellow, 46",
                                    "PRECIOMEDIO": "1726,6085"
                                },
                                {
                                    "Name": "Touring-1000 Yellow, 50",
                                    "PRECIOMEDIO": "1780,3844"
                                },
                                {
                                    "Name": "Touring-1000 Yellow, 54",
                                    "PRECIOMEDIO": "1917,8127"
                                },
                                {
                                    "Name": "Touring-1000 Yellow, 60",
                                    "PRECIOMEDIO": "1659,3787"
                                },
                                {
                                    "Name": "Touring-2000 Blue, 46",
                                    "PRECIOMEDIO": "895,383"
                                },
                                {
                                    "Name": "Touring-2000 Blue, 50",
                                    "PRECIOMEDIO": "989,0596"
                                },
                                {
                                    "Name": "Touring-2000 Blue, 54",
                                    "PRECIOMEDIO": "840,6122"
                                },
                                {
                                    "Name": "Touring-2000 Blue, 60",
                                    "PRECIOMEDIO": "842,4598"
                                },
                                {
                                    "Name": "Touring-3000 Blue, 44",
                                    "PRECIOMEDIO": "522,2455"
                                },
                                {
                                    "Name": "Touring-3000 Blue, 50",
                                    "PRECIOMEDIO": "467,3166"
                                },
                                {
                                    "Name": "Touring-3000 Blue, 54",
                                    "PRECIOMEDIO": "480,5461"
                                },
                                {
                                    "Name": "Touring-3000 Blue, 58",
                                    "PRECIOMEDIO": "495,2623"
                                },
                                {
                                    "Name": "Touring-3000 Blue, 62",
                                    "PRECIOMEDIO": "550,1428"
                                },
                                {
                                    "Name": "Touring-3000 Yellow, 44",
                                    "PRECIOMEDIO": "476,5513"
                                },
                                {
                                    "Name": "Touring-3000 Yellow, 50",
                                    "PRECIOMEDIO": "484,9136"
                                },
                                {
                                    "Name": "Touring-3000 Yellow, 54",
                                    "PRECIOMEDIO": "486,1247"
                                },
                                {
                                    "Name": "Touring-3000 Yellow, 58",
                                    "PRECIOMEDIO": "506,5721"
                                },
                                {
                                    "Name": "Touring-3000 Yellow, 62",
                                    "PRECIOMEDIO": "467,727"
                                },
                                {
                                    "Name": "Water Bottle - 30 oz.",
                                    "PRECIOMEDIO": "4,799"
                                },
                                {
                                    "Name": "Women's Mountain Shorts, L",
                                    "PRECIOMEDIO": "55,9632"
                                },
                                {
                                    "Name": "Women's Mountain Shorts, M",
                                    "PRECIOMEDIO": "56,4647"
                                },
                                {
                                    "Name": "Women's Mountain Shorts, S",
                                    "PRECIOMEDIO": "54,6526"
                                },
                                {
                                    "Name": "Women's Tights, L",
                                    "PRECIOMEDIO": "44,8783"
                                },
                                {
                                    "Name": "Women's Tights, M",
                                    "PRECIOMEDIO": "44,994"
                                },
                                {
                                    "Name": "Women's Tights, S",
                                    "PRECIOMEDIO": "44,8411"
                                }
                            ]
                        },
                        "text/html": [
                            "<table>",
                            "<tr><th>Name</th><th>PRECIOMEDIO</th></tr>",
                            "<tr><td>All-Purpose Bike Stand</td><td>159,00</td></tr>",
                            "<tr><td>AWC Logo Cap</td><td>7,6682</td></tr>",
                            "<tr><td>Bike Wash - Dissolver</td><td>6,9361</td></tr>",
                            "<tr><td>Cable Lock</td><td>14,9865</td></tr>",
                            "<tr><td>Chain</td><td>12,1391</td></tr>",
                            "<tr><td>Classic Vest, L</td><td>62,7417</td></tr>",
                            "<tr><td>Classic Vest, M</td><td>47,062</td></tr>",
                            "<tr><td>Classic Vest, S</td><td>43,8671</td></tr>",
                            "<tr><td>Fender Set - Mountain</td><td>21,98</td></tr>",
                            "<tr><td>Front Brakes</td><td>63,8759</td></tr>",
                            "<tr><td>Front Derailleur</td><td>54,8655</td></tr>",
                            "<tr><td>Full-Finger Gloves, L</td><td>22,2544</td></tr>",
                            "<tr><td>Full-Finger Gloves, M</td><td>22,6035</td></tr>",
                            "<tr><td>Full-Finger Gloves, S</td><td>22,8256</td></tr>",
                            "<tr><td>Half-Finger Gloves, L</td><td>21,06</td></tr>",
                            "<tr><td>Half-Finger Gloves, M</td><td>19,0351</td></tr>",
                            "<tr><td>Half-Finger Gloves, S</td><td>20,0045</td></tr>",
                            "<tr><td>Hitch Rack - 4-Bike</td><td>91,4638</td></tr>",
                            "<tr><td>HL Bottom Bracket</td><td>72,894</td></tr>",
                            "<tr><td>HL Crankset</td><td>242,92</td></tr>",
                            "<tr><td>HL Fork</td><td>137,6547</td></tr>",
                            "<tr><td>HL Headset</td><td>74,838</td></tr>",
                            "<tr><td>HL Mountain Frame - Black, 38</td><td>757,6236</td></tr>",
                            "<tr><td>HL Mountain Frame - Black, 42</td><td>760,0902</td></tr>",
                            "<tr><td>HL Mountain Frame - Black, 44</td><td>809,76</td></tr>",
                            "<tr><td>HL Mountain Frame - Black, 48</td><td>809,76</td></tr>",
                            "<tr><td>HL Mountain Frame - Silver, 38</td><td>768,5145</td></tr>",
                            "<tr><td>HL Mountain Frame - Silver, 42</td><td>775,751</td></tr>",
                            "<tr><td>HL Mountain Frame - Silver, 46</td><td>766,5803</td></tr>",
                            "<tr><td>HL Mountain Frame - Silver, 48</td><td>818,70</td></tr>",
                            "<tr><td>HL Mountain Front Wheel</td><td>180,129</td></tr>",
                            "<tr><td>HL Mountain Handlebars</td><td>68,8515</td></tr>",
                            "<tr><td>HL Mountain Pedal</td><td>48,5685</td></tr>",
                            "<tr><td>HL Mountain Rear Wheel</td><td>196,1641</td></tr>",
                            "<tr><td>HL Mountain Seat/Saddle</td><td>31,584</td></tr>",
                            "<tr><td>HL Mountain Tire</td><td>35,00</td></tr>",
                            "<tr><td>HL Road Frame - Black, 44</td><td>818,4994</td></tr>",
                            "<tr><td>HL Road Frame - Black, 48</td><td>824,0123</td></tr>",
                            "<tr><td>HL Road Frame - Red, 44</td><td>813,2804</td></tr>",
                            "<tr><td>HL Road Frame - Red, 48</td><td>821,6336</td></tr>",
                            "<tr><td>HL Road Frame - Red, 62</td><td>814,0413</td></tr>",
                            "<tr><td>HL Road Front Wheel</td><td>198,036</td></tr>",
                            "<tr><td>HL Road Handlebars</td><td>68,9304</td></tr>",
                            "<tr><td>HL Road Pedal</td><td>48,594</td></tr>",
                            "<tr><td>HL Road Rear Wheel</td><td>215,3227</td></tr>",
                            "<tr><td>HL Road Seat/Saddle</td><td>31,584</td></tr>",
                            "<tr><td>HL Road Tire</td><td>32,60</td></tr>",
                            "<tr><td>HL Touring Frame - Blue, 46</td><td>602,346</td></tr>",
                            "<tr><td>HL Touring Frame - Blue, 50</td><td>602,346</td></tr>",
                            "<tr><td>HL Touring Frame - Blue, 54</td><td>601,9301</td></tr>",
                            "<tr><td>HL Touring Frame - Blue, 60</td><td>601,844</td></tr>",
                            "<tr><td>HL Touring Frame - Yellow, 46</td><td>602,346</td></tr>",
                            "<tr><td>HL Touring Frame - Yellow, 50</td><td>602,346</td></tr>",
                            "<tr><td>HL Touring Frame - Yellow, 54</td><td>601,7224</td></tr>",
                            "<tr><td>HL Touring Frame - Yellow, 60</td><td>602,0485</td></tr>",
                            "<tr><td>HL Touring Handlebars</td><td>54,942</td></tr>",
                            "<tr><td>HL Touring Seat/Saddle</td><td>31,584</td></tr>",
                            "<tr><td>Hydration Pack - 70 oz.</td><td>47,9472</td></tr>",
                            "<tr><td>LL Bottom Bracket</td><td>32,394</td></tr>",
                            "<tr><td>LL Crankset</td><td>105,294</td></tr>",
                            "<tr><td>LL Fork</td><td>88,932</td></tr>",
                            "<tr><td>LL Headset</td><td>20,52</td></tr>",
                            "<tr><td>LL Mountain Frame - Black, 40</td><td>149,874</td></tr>",
                            "<tr><td>LL Mountain Frame - Black, 42</td><td>149,874</td></tr>",
                            "<tr><td>LL Mountain Frame - Black, 44</td><td>149,8519</td></tr>",
                            "<tr><td>LL Mountain Frame - Black, 48</td><td>149,874</td></tr>",
                            "<tr><td>LL Mountain Frame - Black, 52</td><td>149,874</td></tr>",
                            "<tr><td>LL Mountain Frame - Silver, 40</td><td>158,3977</td></tr>",
                            "<tr><td>LL Mountain Frame - Silver, 42</td><td>158,3121</td></tr>",
                            "<tr><td>LL Mountain Frame - Silver, 44</td><td>158,43</td></tr>",
                            "<tr><td>LL Mountain Frame - Silver, 48</td><td>158,43</td></tr>",
                            "<tr><td>LL Mountain Frame - Silver, 52</td><td>158,43</td></tr>",
                            "<tr><td>LL Mountain Front Wheel</td><td>36,4417</td></tr>",
                            "<tr><td>LL Mountain Handlebars</td><td>25,5726</td></tr>",
                            "<tr><td>LL Mountain Pedal</td><td>24,294</td></tr>",
                            "<tr><td>LL Mountain Rear Wheel</td><td>52,647</td></tr>",
                            "<tr><td>LL Mountain Seat/Saddle</td><td>16,2684</td></tr>",
                            "<tr><td>LL Mountain Tire</td><td>24,99</td></tr>",
                            "<tr><td>LL Road Frame - Black, 44</td><td>189,3459</td></tr>",
                            "<tr><td>LL Road Frame - Black, 52</td><td>189,1231</td></tr>",
                            "<tr><td>LL Road Frame - Black, 58</td><td>188,3567</td></tr>",
                            "<tr><td>LL Road Frame - Black, 60</td><td>193,032</td></tr>",
                            "<tr><td>LL Road Frame - Red, 44</td><td>194,5252</td></tr>",
                            "<tr><td>LL Road Frame - Red, 48</td><td>195,6344</td></tr>",
                            "<tr><td>LL Road Frame - Red, 52</td><td>200,0327</td></tr>",
                            "<tr><td>LL Road Frame - Red, 60</td><td>194,757</td></tr>",
                            "<tr><td>LL Road Frame - Red, 62</td><td>195,9303</td></tr>",
                            "<tr><td>LL Road Handlebars</td><td>25,6084</td></tr>",
                            "<tr><td>LL Road Pedal</td><td>24,294</td></tr>",
                            "<tr><td>LL Road Rear Wheel</td><td>67,6423</td></tr>",
                            "<tr><td>LL Road Seat/Saddle</td><td>16,272</td></tr>",
                            "<tr><td>LL Road Tire</td><td>21,49</td></tr>",
                            "<tr><td>LL Touring Frame - Blue, 44</td><td>200,052</td></tr>",
                            "<tr><td>LL Touring Frame - Blue, 50</td><td>200,052</td></tr>",
                            "<tr><td>LL Touring Frame - Blue, 54</td><td>200,052</td></tr>",
                            "<tr><td>LL Touring Frame - Blue, 58</td><td>200,052</td></tr>",
                            "<tr><td>LL Touring Frame - Blue, 62</td><td>200,052</td></tr>",
                            "<tr><td>LL Touring Frame - Yellow, 44</td><td>199,995</td></tr>",
                            "<tr><td>LL Touring Frame - Yellow, 50</td><td>200,052</td></tr>",
                            "<tr><td>LL Touring Frame - Yellow, 58</td><td>200,052</td></tr>",
                            "<tr><td>LL Touring Frame - Yellow, 62</td><td>199,9237</td></tr>",
                            "<tr><td>LL Touring Handlebars</td><td>27,654</td></tr>",
                            "<tr><td>LL Touring Seat/Saddle</td><td>16,272</td></tr>",
                            "<tr><td>Long-Sleeve Logo Jersey, L</td><td>34,901</td></tr>",
                            "<tr><td>Long-Sleeve Logo Jersey, M</td><td>36,7811</td></tr>",
                            "<tr><td>Long-Sleeve Logo Jersey, S</td><td>49,99</td></tr>",
                            "<tr><td>Long-Sleeve Logo Jersey, XL</td><td>37,165</td></tr>",
                            "<tr><td>Men&#39;s Bib-Shorts, L</td><td>53,994</td></tr>",
                            "<tr><td>Men&#39;s Bib-Shorts, M</td><td>53,9073</td></tr>",
                            "<tr><td>Men&#39;s Bib-Shorts, S</td><td>54,0095</td></tr>",
                            "<tr><td>Men&#39;s Sports Shorts, L</td><td>35,994</td></tr>",
                            "<tr><td>Men&#39;s Sports Shorts, M</td><td>35,9494</td></tr>",
                            "<tr><td>Men&#39;s Sports Shorts, S</td><td>35,979</td></tr>",
                            "<tr><td>Minipump</td><td>11,9865</td></tr>",
                            "<tr><td>ML Crankset</td><td>153,894</td></tr>",
                            "<tr><td>ML Headset</td><td>61,1508</td></tr>",
                            "<tr><td>ML Mountain Frame - Black, 38</td><td>209,256</td></tr>",
                            "<tr><td>ML Mountain Frame - Black, 40</td><td>209,256</td></tr>",
                            "<tr><td>ML Mountain Frame - Black, 44</td><td>209,256</td></tr>",
                            "<tr><td>ML Mountain Frame - Black, 48</td><td>209,3649</td></tr>",
                            "<tr><td>ML Mountain Frame-W - Silver, 38</td><td>218,454</td></tr>",
                            "<tr><td>ML Mountain Frame-W - Silver, 40</td><td>218,3388</td></tr>",
                            "<tr><td>ML Mountain Frame-W - Silver, 42</td><td>218,454</td></tr>",
                            "<tr><td>ML Mountain Frame-W - Silver, 46</td><td>218,454</td></tr>",
                            "<tr><td>ML Mountain Front Wheel</td><td>125,415</td></tr>",
                            "<tr><td>ML Mountain Handlebars</td><td>35,4439</td></tr>",
                            "<tr><td>ML Mountain Pedal</td><td>37,254</td></tr>",
                            "<tr><td>ML Mountain Rear Wheel</td><td>141,606</td></tr>",
                            "<tr><td>ML Mountain Seat/Saddle</td><td>23,4669</td></tr>",
                            "<tr><td>ML Mountain Tire</td><td>29,99</td></tr>",
                            "<tr><td>ML Road Frame - Red, 48</td><td>356,898</td></tr>",
                            "<tr><td>ML Road Frame - Red, 52</td><td>356,898</td></tr>",
                            "<tr><td>ML Road Frame-W - Yellow, 38</td><td>340,1285</td></tr>",
                            "<tr><td>ML Road Frame-W - Yellow, 40</td><td>335,8822</td></tr>",
                            "<tr><td>ML Road Frame-W - Yellow, 44</td><td>339,3649</td></tr>",
                            "<tr><td>ML Road Frame-W - Yellow, 48</td><td>339,7483</td></tr>",
                            "<tr><td>ML Road Front Wheel</td><td>149,2093</td></tr>",
                            "<tr><td>ML Road Pedal</td><td>37,254</td></tr>",
                            "<tr><td>ML Road Rear Wheel</td><td>165,231</td></tr>",
                            "<tr><td>ML Road Tire</td><td>24,99</td></tr>",
                            "<tr><td>ML Touring Seat/Saddle</td><td>23,484</td></tr>",
                            "<tr><td>Mountain Bike Socks, L</td><td>5,70</td></tr>",
                            "<tr><td>Mountain Bike Socks, M</td><td>5,656</td></tr>",
                            "<tr><td>Mountain Bottle Cage</td><td>9,99</td></tr>",
                            "<tr><td>Mountain Tire Tube</td><td>4,99</td></tr>",
                            "<tr><td>Mountain-100 Black, 38</td><td>2221,003</td></tr>",
                            "<tr><td>Mountain-100 Black, 42</td><td>2197,8882</td></tr>",
                            "<tr><td>Mountain-100 Black, 44</td><td>2290,8093</td></tr>",
                            "<tr><td>Mountain-100 Black, 48</td><td>2244,4377</td></tr>",
                            "<tr><td>Mountain-100 Silver, 38</td><td>2273,4787</td></tr>",
                            "<tr><td>Mountain-100 Silver, 42</td><td>2211,9934</td></tr>",
                            "<tr><td>Mountain-100 Silver, 44</td><td>2228,3797</td></tr>",
                            "<tr><td>Mountain-100 Silver, 48</td><td>2198,3268</td></tr>",
                            "<tr><td>Mountain-200 Black, 38</td><td>1730,1485</td></tr>",
                            "<tr><td>Mountain-200 Black, 42</td><td>1776,3198</td></tr>",
                            "<tr><td>Mountain-200 Black, 46</td><td>1836,2179</td></tr>",
                            "<tr><td>Mountain-200 Silver, 38</td><td>1819,6183</td></tr>",
                            "<tr><td>Mountain-200 Silver, 42</td><td>1812,0157</td></tr>",
                            "<tr><td>Mountain-200 Silver, 46</td><td>1821,1371</td></tr>",
                            "<tr><td>Mountain-300 Black, 38</td><td>647,7976</td></tr>",
                            "<tr><td>Mountain-300 Black, 40</td><td>647,7034</td></tr>",
                            "<tr><td>Mountain-300 Black, 44</td><td>647,994</td></tr>",
                            "<tr><td>Mountain-300 Black, 48</td><td>647,8971</td></tr>",
                            "<tr><td>Mountain-400-W Silver, 38</td><td>641,7485</td></tr>",
                            "<tr><td>Mountain-400-W Silver, 40</td><td>592,4817</td></tr>",
                            "<tr><td>Mountain-400-W Silver, 42</td><td>633,58</td></tr>",
                            "<tr><td>Mountain-400-W Silver, 46</td><td>639,3528</td></tr>",
                            "<tr><td>Mountain-500 Black, 40</td><td>393,1127</td></tr>",
                            "<tr><td>Mountain-500 Black, 42</td><td>378,2699</td></tr>",
                            "<tr><td>Mountain-500 Black, 44</td><td>388,9047</td></tr>",
                            "<tr><td>Mountain-500 Black, 48</td><td>376,1309</td></tr>",
                            "<tr><td>Mountain-500 Black, 52</td><td>384,6504</td></tr>",
                            "<tr><td>Mountain-500 Silver, 40</td><td>353,3104</td></tr>",
                            "<tr><td>Mountain-500 Silver, 42</td><td>347,1748</td></tr>",
                            "<tr><td>Mountain-500 Silver, 44</td><td>352,9014</td></tr>",
                            "<tr><td>Mountain-500 Silver, 48</td><td>352,8709</td></tr>",
                            "<tr><td>Mountain-500 Silver, 52</td><td>348,5701</td></tr>",
                            "<tr><td>Patch Kit/8 Patches</td><td>2,2454</td></tr>",
                            "<tr><td>Racing Socks, L</td><td>6,9697</td></tr>",
                            "<tr><td>Racing Socks, M</td><td>7,1986</td></tr>",
                            "<tr><td>Rear Brakes</td><td>63,90</td></tr>",
                            "<tr><td>Rear Derailleur</td><td>72,876</td></tr>",
                            "<tr><td>Road Bottle Cage</td><td>8,99</td></tr>",
                            "<tr><td>Road Tire Tube</td><td>3,99</td></tr>",
                            "<tr><td>Road-150 Red, 44</td><td>3270,4188</td></tr>",
                            "<tr><td>Road-150 Red, 48</td><td>3326,3037</td></tr>",
                            "<tr><td>Road-150 Red, 52</td><td>3290,4937</td></tr>",
                            "<tr><td>Road-150 Red, 56</td><td>3035,8796</td></tr>",
                            "<tr><td>Road-150 Red, 62</td><td>3170,1949</td></tr>",
                            "<tr><td>Road-250 Black, 44</td><td>1745,1386</td></tr>",
                            "<tr><td>Road-250 Black, 48</td><td>1776,7649</td></tr>",
                            "<tr><td>Road-250 Black, 52</td><td>1823,7731</td></tr>",
                            "<tr><td>Road-250 Black, 58</td><td>1896,8281</td></tr>",
                            "<tr><td>Road-250 Red, 44</td><td>1852,0458</td></tr>",
                            "<tr><td>Road-250 Red, 48</td><td>1886,6291</td></tr>",
                            "<tr><td>Road-250 Red, 52</td><td>1879,9788</td></tr>",
                            "<tr><td>Road-250 Red, 58</td><td>1915,528</td></tr>",
                            "<tr><td>Road-350-W Yellow, 40</td><td>1311,4246</td></tr>",
                            "<tr><td>Road-350-W Yellow, 42</td><td>1371,6708</td></tr>",
                            "<tr><td>Road-350-W Yellow, 44</td><td>1463,2612</td></tr>",
                            "<tr><td>Road-350-W Yellow, 48</td><td>1296,9597</td></tr>",
                            "<tr><td>Road-450 Red, 44</td><td>874,794</td></tr>",
                            "<tr><td>Road-450 Red, 48</td><td>874,794</td></tr>",
                            "<tr><td>Road-450 Red, 52</td><td>874,794</td></tr>",
                            "<tr><td>Road-450 Red, 58</td><td>874,5359</td></tr>",
                            "<tr><td>Road-450 Red, 60</td><td>874,794</td></tr>",
                            "<tr><td>Road-550-W Yellow, 38</td><td>805,1432</td></tr>",
                            "<tr><td>Road-550-W Yellow, 40</td><td>811,1285</td></tr>",
                            "<tr><td>Road-550-W Yellow, 42</td><td>851,4834</td></tr>",
                            "<tr><td>Road-550-W Yellow, 44</td><td>897,6208</td></tr>",
                            "<tr><td>Road-550-W Yellow, 48</td><td>800,6693</td></tr>",
                            "<tr><td>Road-650 Black, 44</td><td>492,472</td></tr>",
                            "<tr><td>Road-650 Black, 48</td><td>513,2344</td></tr>",
                            "<tr><td>Road-650 Black, 52</td><td>486,2644</td></tr>",
                            "<tr><td>Road-650 Black, 58</td><td>486,9364</td></tr>",
                            "<tr><td>Road-650 Black, 60</td><td>498,7816</td></tr>",
                            "<tr><td>Road-650 Black, 62</td><td>517,6857</td></tr>",
                            "<tr><td>Road-650 Red, 44</td><td>459,8016</td></tr>",
                            "<tr><td>Road-650 Red, 48</td><td>491,6515</td></tr>",
                            "<tr><td>Road-650 Red, 52</td><td>491,3262</td></tr>",
                            "<tr><td>Road-650 Red, 58</td><td>532,9409</td></tr>",
                            "<tr><td>Road-650 Red, 60</td><td>472,2638</td></tr>",
                            "<tr><td>Road-650 Red, 62</td><td>487,1246</td></tr>",
                            "<tr><td>Road-750 Black, 44</td><td>490,8578</td></tr>",
                            "<tr><td>Road-750 Black, 48</td><td>438,1959</td></tr>",
                            "<tr><td>Road-750 Black, 52</td><td>443,6917</td></tr>",
                            "<tr><td>Road-750 Black, 58</td><td>458,3378</td></tr>",
                            "<tr><td>Short-Sleeve Classic Jersey, L</td><td>42,3254</td></tr>",
                            "<tr><td>Short-Sleeve Classic Jersey, M</td><td>53,99</td></tr>",
                            "<tr><td>Short-Sleeve Classic Jersey, S</td><td>44,5895</td></tr>",
                            "<tr><td>Short-Sleeve Classic Jersey, XL</td><td>41,9533</td></tr>",
                            "<tr><td>Sport-100 Helmet, Black</td><td>30,4495</td></tr>",
                            "<tr><td>Sport-100 Helmet, Blue</td><td>30,365</td></tr>",
                            "<tr><td>Sport-100 Helmet, Red</td><td>30,8865</td></tr>",
                            "<tr><td>Touring Pedal</td><td>48,594</td></tr>",
                            "<tr><td>Touring Tire</td><td>28,99</td></tr>",
                            "<tr><td>Touring Tire Tube</td><td>4,99</td></tr>",
                            "<tr><td>Touring-1000 Blue, 46</td><td>1810,8683</td></tr>",
                            "<tr><td>Touring-1000 Blue, 50</td><td>1856,1687</td></tr>",
                            "<tr><td>Touring-1000 Blue, 54</td><td>1981,274</td></tr>",
                            "<tr><td>Touring-1000 Blue, 60</td><td>1747,7025</td></tr>",
                            "<tr><td>Touring-1000 Yellow, 46</td><td>1726,6085</td></tr>",
                            "<tr><td>Touring-1000 Yellow, 50</td><td>1780,3844</td></tr>",
                            "<tr><td>Touring-1000 Yellow, 54</td><td>1917,8127</td></tr>",
                            "<tr><td>Touring-1000 Yellow, 60</td><td>1659,3787</td></tr>",
                            "<tr><td>Touring-2000 Blue, 46</td><td>895,383</td></tr>",
                            "<tr><td>Touring-2000 Blue, 50</td><td>989,0596</td></tr>",
                            "<tr><td>Touring-2000 Blue, 54</td><td>840,6122</td></tr>",
                            "<tr><td>Touring-2000 Blue, 60</td><td>842,4598</td></tr>",
                            "<tr><td>Touring-3000 Blue, 44</td><td>522,2455</td></tr>",
                            "<tr><td>Touring-3000 Blue, 50</td><td>467,3166</td></tr>",
                            "<tr><td>Touring-3000 Blue, 54</td><td>480,5461</td></tr>",
                            "<tr><td>Touring-3000 Blue, 58</td><td>495,2623</td></tr>",
                            "<tr><td>Touring-3000 Blue, 62</td><td>550,1428</td></tr>",
                            "<tr><td>Touring-3000 Yellow, 44</td><td>476,5513</td></tr>",
                            "<tr><td>Touring-3000 Yellow, 50</td><td>484,9136</td></tr>",
                            "<tr><td>Touring-3000 Yellow, 54</td><td>486,1247</td></tr>",
                            "<tr><td>Touring-3000 Yellow, 58</td><td>506,5721</td></tr>",
                            "<tr><td>Touring-3000 Yellow, 62</td><td>467,727</td></tr>",
                            "<tr><td>Water Bottle - 30 oz.</td><td>4,799</td></tr>",
                            "<tr><td>Women&#39;s Mountain Shorts, L</td><td>55,9632</td></tr>",
                            "<tr><td>Women&#39;s Mountain Shorts, M</td><td>56,4647</td></tr>",
                            "<tr><td>Women&#39;s Mountain Shorts, S</td><td>54,6526</td></tr>",
                            "<tr><td>Women&#39;s Tights, L</td><td>44,8783</td></tr>",
                            "<tr><td>Women&#39;s Tights, M</td><td>44,994</td></tr>",
                            "<tr><td>Women&#39;s Tights, S</td><td>44,8411</td></tr>",
                            "</table>"
                        ]
                    }
                }
            ],
            "execution_count": 8
        },
        {
            "cell_type": "markdown",
            "source": [
                "4 QUEREMOS SABER CUALES SON LOS PRODUCTOS MAS VENDIDOS Y LOS QUE MENOS"
            ],
            "metadata": {
                "azdata_cell_guid": "4d17c7a7-ef25-47b4-b040-9ef3b0efc26d"
            },
            "attachments": {}
        },
        {
            "cell_type": "code",
            "source": [
                "SELECT TOP (10) P.Name, SUM(S.OrderQty) AS CANTIDADMENOSVENDIDOS FROM Production.Product AS P JOIN SALES.SalesOrderDetail AS S ON P.ProductID = S.ProductID GROUP BY P.Name HAVING SUM(S.OrderQty) NOT IN (0) ORDER BY CANTIDADMENOSVENDIDOS \r\n",
                "\r\n",
                "SELECT TOP (10) P.Name, SUM(S.OrderQty) AS CANTIDADMASVENDIDOS FROM Production.Product AS P JOIN SALES.SalesOrderDetail AS S ON P.ProductID = S.ProductID GROUP BY P.Name ORDER BY CANTIDADMASVENDIDOS DESC"
            ],
            "metadata": {
                "azdata_cell_guid": "c9230818-df4c-434d-a6ce-e7177b48b5bf",
                "language": "sql"
            },
            "outputs": [
                {
                    "output_type": "display_data",
                    "data": {
                        "text/html": "(10 rows affected)"
                    },
                    "metadata": {}
                },
                {
                    "output_type": "display_data",
                    "data": {
                        "text/html": "(10 rows affected)"
                    },
                    "metadata": {}
                },
                {
                    "output_type": "display_data",
                    "data": {
                        "text/html": "Total execution time: 00:00:00.159"
                    },
                    "metadata": {}
                },
                {
                    "output_type": "execute_result",
                    "metadata": {},
                    "execution_count": 11,
                    "data": {
                        "application/vnd.dataresource+json": {
                            "schema": {
                                "fields": [
                                    {
                                        "name": "Name"
                                    },
                                    {
                                        "name": "CANTIDADMENOSVENDIDOS"
                                    }
                                ]
                            },
                            "data": [
                                {
                                    "Name": "LL Touring Frame - Blue, 58",
                                    "CANTIDADMENOSVENDIDOS": "4"
                                },
                                {
                                    "Name": "ML Mountain Frame-W - Silver, 38",
                                    "CANTIDADMENOSVENDIDOS": "7"
                                },
                                {
                                    "Name": "LL Mountain Frame - Black, 40",
                                    "CANTIDADMENOSVENDIDOS": "8"
                                },
                                {
                                    "Name": "LL Road Seat/Saddle",
                                    "CANTIDADMENOSVENDIDOS": "10"
                                },
                                {
                                    "Name": "LL Touring Frame - Blue, 62",
                                    "CANTIDADMENOSVENDIDOS": "15"
                                },
                                {
                                    "Name": "LL Mountain Frame - Black, 52",
                                    "CANTIDADMENOSVENDIDOS": "15"
                                },
                                {
                                    "Name": "HL Mountain Frame - Black, 44",
                                    "CANTIDADMENOSVENDIDOS": "17"
                                },
                                {
                                    "Name": "LL Touring Frame - Blue, 44",
                                    "CANTIDADMENOSVENDIDOS": "25"
                                },
                                {
                                    "Name": "LL Touring Frame - Yellow, 58",
                                    "CANTIDADMENOSVENDIDOS": "36"
                                },
                                {
                                    "Name": "LL Mountain Frame - Silver, 48",
                                    "CANTIDADMENOSVENDIDOS": "44"
                                }
                            ]
                        },
                        "text/html": [
                            "<table>",
                            "<tr><th>Name</th><th>CANTIDADMENOSVENDIDOS</th></tr>",
                            "<tr><td>LL Touring Frame - Blue, 58</td><td>4</td></tr>",
                            "<tr><td>ML Mountain Frame-W - Silver, 38</td><td>7</td></tr>",
                            "<tr><td>LL Mountain Frame - Black, 40</td><td>8</td></tr>",
                            "<tr><td>LL Road Seat/Saddle</td><td>10</td></tr>",
                            "<tr><td>LL Touring Frame - Blue, 62</td><td>15</td></tr>",
                            "<tr><td>LL Mountain Frame - Black, 52</td><td>15</td></tr>",
                            "<tr><td>HL Mountain Frame - Black, 44</td><td>17</td></tr>",
                            "<tr><td>LL Touring Frame - Blue, 44</td><td>25</td></tr>",
                            "<tr><td>LL Touring Frame - Yellow, 58</td><td>36</td></tr>",
                            "<tr><td>LL Mountain Frame - Silver, 48</td><td>44</td></tr>",
                            "</table>"
                        ]
                    }
                },
                {
                    "output_type": "execute_result",
                    "metadata": {},
                    "execution_count": 11,
                    "data": {
                        "application/vnd.dataresource+json": {
                            "schema": {
                                "fields": [
                                    {
                                        "name": "Name"
                                    },
                                    {
                                        "name": "CANTIDADMASVENDIDOS"
                                    }
                                ]
                            },
                            "data": [
                                {
                                    "Name": "AWC Logo Cap",
                                    "CANTIDADMASVENDIDOS": "8311"
                                },
                                {
                                    "Name": "Water Bottle - 30 oz.",
                                    "CANTIDADMASVENDIDOS": "6815"
                                },
                                {
                                    "Name": "Sport-100 Helmet, Blue",
                                    "CANTIDADMASVENDIDOS": "6743"
                                },
                                {
                                    "Name": "Long-Sleeve Logo Jersey, L",
                                    "CANTIDADMASVENDIDOS": "6592"
                                },
                                {
                                    "Name": "Sport-100 Helmet, Black",
                                    "CANTIDADMASVENDIDOS": "6532"
                                },
                                {
                                    "Name": "Sport-100 Helmet, Red",
                                    "CANTIDADMASVENDIDOS": "6266"
                                },
                                {
                                    "Name": "Classic Vest, S",
                                    "CANTIDADMASVENDIDOS": "4247"
                                },
                                {
                                    "Name": "Patch Kit/8 Patches",
                                    "CANTIDADMASVENDIDOS": "3865"
                                },
                                {
                                    "Name": "Short-Sleeve Classic Jersey, XL",
                                    "CANTIDADMASVENDIDOS": "3864"
                                },
                                {
                                    "Name": "Long-Sleeve Logo Jersey, M",
                                    "CANTIDADMASVENDIDOS": "3636"
                                }
                            ]
                        },
                        "text/html": [
                            "<table>",
                            "<tr><th>Name</th><th>CANTIDADMASVENDIDOS</th></tr>",
                            "<tr><td>AWC Logo Cap</td><td>8311</td></tr>",
                            "<tr><td>Water Bottle - 30 oz.</td><td>6815</td></tr>",
                            "<tr><td>Sport-100 Helmet, Blue</td><td>6743</td></tr>",
                            "<tr><td>Long-Sleeve Logo Jersey, L</td><td>6592</td></tr>",
                            "<tr><td>Sport-100 Helmet, Black</td><td>6532</td></tr>",
                            "<tr><td>Sport-100 Helmet, Red</td><td>6266</td></tr>",
                            "<tr><td>Classic Vest, S</td><td>4247</td></tr>",
                            "<tr><td>Patch Kit/8 Patches</td><td>3865</td></tr>",
                            "<tr><td>Short-Sleeve Classic Jersey, XL</td><td>3864</td></tr>",
                            "<tr><td>Long-Sleeve Logo Jersey, M</td><td>3636</td></tr>",
                            "</table>"
                        ]
                    }
                }
            ],
            "execution_count": 11
        },
        {
            "cell_type": "markdown",
            "source": [
                "5 Los productos pertenecen a una clase, campo class de product. Quiero saber cuantos productos a vendido de cada clase"
            ],
            "metadata": {
                "azdata_cell_guid": "34d3db33-7813-418a-afd7-4322055f60aa"
            },
            "attachments": {}
        },
        {
            "cell_type": "code",
            "source": [
                "SELECT P.Class, SUM(S.OrderQty) AS CANTIDADVENDIDA FROM Production.Product AS P JOIN SALES.SalesOrderDetail AS S ON P.ProductID = S.ProductID GROUP BY P.Class"
            ],
            "metadata": {
                "azdata_cell_guid": "8362a9ac-12c3-49b2-8655-e8cb2fd78106",
                "language": "sql"
            },
            "outputs": [
                {
                    "output_type": "display_data",
                    "data": {
                        "text/html": "(4 rows affected)"
                    },
                    "metadata": {}
                },
                {
                    "output_type": "display_data",
                    "data": {
                        "text/html": "Total execution time: 00:00:00.027"
                    },
                    "metadata": {}
                },
                {
                    "output_type": "execute_result",
                    "metadata": {},
                    "execution_count": 13,
                    "data": {
                        "application/vnd.dataresource+json": {
                            "schema": {
                                "fields": [
                                    {
                                        "name": "Class"
                                    },
                                    {
                                        "name": "CANTIDADVENDIDA"
                                    }
                                ]
                            },
                            "data": [
                                {
                                    "Class": "NULL",
                                    "CANTIDADVENDIDA": "132477"
                                },
                                {
                                    "Class": "H ",
                                    "CANTIDADVENDIDA": "55130"
                                },
                                {
                                    "Class": "L ",
                                    "CANTIDADVENDIDA": "50677"
                                },
                                {
                                    "Class": "M ",
                                    "CANTIDADVENDIDA": "36630"
                                }
                            ]
                        },
                        "text/html": [
                            "<table>",
                            "<tr><th>Class</th><th>CANTIDADVENDIDA</th></tr>",
                            "<tr><td>NULL</td><td>132477</td></tr>",
                            "<tr><td>H </td><td>55130</td></tr>",
                            "<tr><td>L </td><td>50677</td></tr>",
                            "<tr><td>M </td><td>36630</td></tr>",
                            "</table>"
                        ]
                    }
                }
            ],
            "execution_count": 13
        },
        {
            "cell_type": "markdown",
            "source": [
                "6 Como el 5 pero por cada color, ten en cuenta que los colores que son nulos se llaman trasparentes."
            ],
            "metadata": {
                "azdata_cell_guid": "5c5a85f1-5543-4bdb-bf9d-d1167d6a93c4"
            },
            "attachments": {}
        },
        {
            "cell_type": "code",
            "source": [
                "SELECT COALESCE(P.Color, 'Transparente'), SUM(S.OrderQty) AS CANTIDADVENDIDA FROM Production.Product AS P JOIN SALES.SalesOrderDetail AS S ON P.ProductID = S.ProductID GROUP BY P.Color"
            ],
            "metadata": {
                "azdata_cell_guid": "8d4a1585-999c-4030-86db-6defcc911982",
                "language": "sql"
            },
            "outputs": [
{
    "output_type": "display_data",
    "data": {
        "text/html": "(9 rows affected)"
    },
    "metadata": {}
}, {
    "output_type": "display_data",
    "data": {
        "text/html": "Total execution time: 00:00:00.057"
    },
    "metadata": {}
}, {
    "output_type": "execute_result",
    "metadata": {},
    "execution_count": 14,
    "data": {
        "application/vnd.dataresource+json": {
            "schema": {
                "fields": [
                    {
                        "name": "(No column name)"
                    },
                    {
                        "name": "CANTIDADVENDIDA"
                    }
                ]
            },
            "data": [
                {
                    "(No column name)": "Transparente",
                    "CANTIDADVENDIDA": "48289"
                },
                {
                    "(No column name)": "Black",
                    "CANTIDADVENDIDA": "81937"
                },
                {
                    "(No column name)": "Blue",
                    "CANTIDADVENDIDA": "23659"
                },
                {
                    "(No column name)": "Multi",
                    "CANTIDADVENDIDA": "25073"
                },
                {
                    "(No column name)": "Red",
                    "CANTIDADVENDIDA": "29229"
                },
                {
                    "(No column name)": "Silver",
                    "CANTIDADVENDIDA": "25023"
                },
                {
                    "(No column name)": "Silver/Black",
                    "CANTIDADVENDIDA": "3931"
                },
                {
                    "(No column name)": "White",
                    "CANTIDADVENDIDA": "5217"
                },
                {
                    "(No column name)": "Yellow",
                    "CANTIDADVENDIDA": "32556"
                }
            ]
        },
        "text/html": [
            "<table>",
            "<tr><th>(No column name)</th><th>CANTIDADVENDIDA</th></tr>",
            "<tr><td>Transparente</td><td>48289</td></tr>",
            "<tr><td>Black</td><td>81937</td></tr>",
            "<tr><td>Blue</td><td>23659</td></tr>",
            "<tr><td>Multi</td><td>25073</td></tr>",
            "<tr><td>Red</td><td>29229</td></tr>",
            "<tr><td>Silver</td><td>25023</td></tr>",
            "<tr><td>Silver/Black</td><td>3931</td></tr>",
            "<tr><td>White</td><td>5217</td></tr>",
            "<tr><td>Yellow</td><td>32556</td></tr>",
            "</table>"
        ]
    }
}
],
            "execution_count": 14
        }
    ]
}